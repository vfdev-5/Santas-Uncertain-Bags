{
 "cells": [
  {
   "cell_type": "markdown",
   "metadata": {},
   "source": [
    "# Statistical analysis and examples"
   ]
  },
  {
   "cell_type": "code",
   "execution_count": 1,
   "metadata": {
    "collapsed": false
   },
   "outputs": [],
   "source": [
    "import sys\n",
    "sys.path.append('../common')\n",
    "from utils import weight3 as weight_fn, weight_by_index\n",
    "from utils import bag_weight, score, mean_n_sigma, score_stats\n",
    "from utils import MAX_WEIGHT, AVAILABLE_GIFTS, GIFT_TYPES, N_TYPES, N_BAGS\n",
    "\n",
    "from copy import deepcopy\n",
    "from collections import defaultdict\n",
    "\n",
    "import numpy as np\n",
    "np.random.seed(2017)\n",
    "import matplotlib.pyplot as plt\n",
    "%matplotlib inline"
   ]
  },
  {
   "cell_type": "code",
   "execution_count": 2,
   "metadata": {
    "collapsed": true
   },
   "outputs": [],
   "source": [
    "N_TRIALS = 10000\n",
    "GIFT_WEIGHTS = np.zeros((N_TRIALS, N_TYPES))\n",
    "for index in range(N_TYPES):\n",
    "    GIFT_WEIGHTS[:, index] = [weight_by_index(index) for i in range(10000)]"
   ]
  },
  {
   "cell_type": "code",
   "execution_count": 3,
   "metadata": {
    "collapsed": false
   },
   "outputs": [
    {
     "name": "stdout",
     "output_type": "stream",
     "text": [
      "ball 0 20 37.6322158867\n",
      "bike 1 2 20.7807671664\n",
      "blocks 2 3 31.0021348597\n",
      "book 3 13 14.7958669438\n",
      "coal 4 1 23.2965570426\n",
      "doll 5 6 25.2286629621\n",
      "gloves 6 50 17.5340524804\n",
      "horse 7 6 27.3275000842\n",
      "train 8 3 25.2152724369\n"
     ]
    }
   ],
   "source": [
    "def find_n(weights):\n",
    "    best_mean_score = 0\n",
    "    best_n = 0\n",
    "    for n in range(1, 500):\n",
    "        mask = weights * n < MAX_WEIGHT\n",
    "        if not mask.any():\n",
    "            break\n",
    "        score = np.sum(weights[mask] * n) * 1.0 / len(weights)  \n",
    "        if score > best_mean_score:\n",
    "            best_mean_score = score\n",
    "            best_n = n\n",
    "            \n",
    "    return best_n, best_mean_score\n",
    "\n",
    "LIMIT_NB_GIFTS = np.zeros((N_TYPES), dtype=np.uint8)\n",
    "\n",
    "for index in range(N_TYPES):\n",
    "    n, s = find_n(GIFT_WEIGHTS[:,index])\n",
    "    print GIFT_TYPES[index], index, n, s\n",
    "    LIMIT_NB_GIFTS[index] = n + 1"
   ]
  },
  {
   "cell_type": "code",
   "execution_count": 4,
   "metadata": {
    "collapsed": false
   },
   "outputs": [
    {
     "data": {
      "text/plain": [
       "(array([21,  3,  4, 14,  2,  7, 51,  7,  4], dtype=uint8), 70531776)"
      ]
     },
     "execution_count": 4,
     "metadata": {},
     "output_type": "execute_result"
    }
   ],
   "source": [
    "LIMIT_NB_GIFTS, np.prod(LIMIT_NB_GIFTS)"
   ]
  },
  {
   "cell_type": "code",
   "execution_count": 5,
   "metadata": {
    "collapsed": false
   },
   "outputs": [
    {
     "data": {
      "text/plain": [
       "(19.958184702872448, 0.0016000000000000001)"
      ]
     },
     "execution_count": 5,
     "metadata": {},
     "output_type": "execute_result"
    }
   ],
   "source": [
    "def compute_score(state):\n",
    "    s = np.sum(GIFT_WEIGHTS * state, axis=1)\n",
    "    mask = s < MAX_WEIGHT\n",
    "    rejected = (N_TRIALS - np.sum(mask))*1.0 / N_TRIALS\n",
    "    score = np.sum(s[mask]) * 1.0 / N_TRIALS\n",
    "    return score, rejected\n",
    "\n",
    "state = np.zeros((N_TYPES), dtype=np.uint8)\n",
    "state[1] = 1\n",
    "compute_score(state)"
   ]
  },
  {
   "cell_type": "code",
   "execution_count": null,
   "metadata": {
    "collapsed": true
   },
   "outputs": [],
   "source": []
  },
  {
   "cell_type": "code",
   "execution_count": 6,
   "metadata": {
    "collapsed": false
   },
   "outputs": [
    {
     "name": "stdout",
     "output_type": "stream",
     "text": [
      "37.25\n"
     ]
    }
   ],
   "source": [
    "alpha = 0.745\n",
    "goal_weight = MAX_WEIGHT * alpha\n",
    "print goal_weight"
   ]
  },
  {
   "cell_type": "code",
   "execution_count": 7,
   "metadata": {
    "collapsed": false
   },
   "outputs": [
    {
     "data": {
      "text/plain": [
       "array([21,  3,  4, 14,  2,  7, 51,  7,  4], dtype=uint8)"
      ]
     },
     "execution_count": 7,
     "metadata": {},
     "output_type": "execute_result"
    }
   ],
   "source": [
    "LIMIT_NB_GIFTS"
   ]
  },
  {
   "cell_type": "code",
   "execution_count": 8,
   "metadata": {
    "collapsed": true
   },
   "outputs": [],
   "source": [
    "def huge_loop2(rejected_threshold):\n",
    "    scores = []\n",
    "    for n0 in range(LIMIT_NB_GIFTS[0]):\n",
    "        print \"n0: \", n0, \"/\", LIMIT_NB_GIFTS[0]\n",
    "        state = np.array([n0, 0, 0, 0, 0, 0, 0, 0, 0])\n",
    "        s, r = compute_score(state)\n",
    "        if r > rejected_threshold:\n",
    "            break\n",
    "        for n1 in range(LIMIT_NB_GIFTS[1]):\n",
    "            state = np.array([n0, n1, 0, 0, 0, 0, 0, 0, 0])\n",
    "            s, r = compute_score(state)\n",
    "            if r > rejected_threshold:\n",
    "                break\n",
    "            for n2 in range(LIMIT_NB_GIFTS[2]):\n",
    "                state = np.array([n0, n1, n2, 0, 0, 0, 0, 0, 0])\n",
    "                s, r = compute_score(state)\n",
    "                if r > rejected_threshold:\n",
    "                    break\n",
    "                for n3 in range(LIMIT_NB_GIFTS[3]):\n",
    "                    state = np.array([n0, n1, n2, n3, 0, 0, 0, 0, 0])\n",
    "                    s, r = compute_score(state)\n",
    "                    if r > rejected_threshold:\n",
    "                        break\n",
    "                    for n4 in range(LIMIT_NB_GIFTS[4]):\n",
    "                        state = np.array([n0, n1, n2, n3, n4, 0, 0, 0, 0])\n",
    "                        s, r = compute_score(state)\n",
    "                        if r > rejected_threshold:\n",
    "                            break                        \n",
    "                        for n5 in range(LIMIT_NB_GIFTS[5]):\n",
    "                            state = np.array([n0, n1, n2, n3, n4, n5, 0, 0, 0])\n",
    "                            s, r = compute_score(state)\n",
    "                            if r > rejected_threshold:\n",
    "                                break                        \n",
    "                            for n6 in range(LIMIT_NB_GIFTS[6]):\n",
    "                                state = np.array([n0, n1, n2, n3, n4, n5, n6, 0, 0])\n",
    "                                s, r = compute_score(state)\n",
    "                                if r > rejected_threshold:\n",
    "                                    break                        \n",
    "                                for n7 in range(LIMIT_NB_GIFTS[7]):\n",
    "                                    state = np.array([n0, n1, n2, n3, n4, n5, n6, n7, 0])\n",
    "                                    s, r = compute_score(state)\n",
    "                                    if r > rejected_threshold:\n",
    "                                        break                        \n",
    "                                    for n8 in range(LIMIT_NB_GIFTS[8]):\n",
    "                                        state = np.array([n0, n1, n2, n3, n4, n5, n6, n7, n8])\n",
    "                                        s, r = compute_score(state)\n",
    "                                        if r > rejected_threshold:\n",
    "                                            break                                    \n",
    "                                        scores.append((state, s, r))\n",
    "    return scores"
   ]
  },
  {
   "cell_type": "code",
   "execution_count": 9,
   "metadata": {
    "collapsed": false
   },
   "outputs": [],
   "source": [
    "import os\n",
    "filename = \"scores_r_075.npy\"\n",
    "if os.path.exists(filename):\n",
    "    scores = np.load(filename)\n",
    "else:\n",
    "    scores = huge_loop2(0.75)\n",
    "    scores = np.array(scores)\n",
    "    # Save result\n",
    "    np.save(\"scores_r_075.npy\", scores)"
   ]
  },
  {
   "cell_type": "code",
   "execution_count": 10,
   "metadata": {
    "collapsed": false
   },
   "outputs": [],
   "source": [
    "# alpha = 0.745\n",
    "# goal_weight = MAX_WEIGHT * alpha\n",
    "# print goal_weight\n",
    "# mask = scores[:, 1] > goal_weight\n",
    "# # len(scores[mask]), scores[mask][:10, :]"
   ]
  },
  {
   "cell_type": "code",
   "execution_count": 11,
   "metadata": {
    "collapsed": true
   },
   "outputs": [],
   "source": [
    "def has_min_nb_gifts(state):\n",
    "    return np.sum(state) >= 3 \n",
    "\n",
    "def is_available(state, available_gifts, gift_types=GIFT_TYPES):\n",
    "    for v, gift_type in zip(state, gift_types):\n",
    "        if available_gifts[gift_type] - v < 0:\n",
    "            return False\n",
    "    return True\n",
    "\n",
    "def update_available_gifts(available_gifts, state, gift_types=GIFT_TYPES):\n",
    "    for v, gift_type in zip(state, gift_types):\n",
    "        assert available_gifts[gift_type] - v >= 0, \"Found state is not available : {}, {}\".format(state, available_gifts)\n",
    "        available_gifts[gift_type] = available_gifts[gift_type] - v\n",
    "\n",
    "        \n",
    "def fill_bags3(sorted_scores, available_gifts):\n",
    "    filled_bags = np.zeros((N_BAGS, N_TYPES), dtype=np.uint8)    \n",
    "    last_score_computation = -1\n",
    "    good_bag_index = 0\n",
    "    bag_index = 0\n",
    "    \n",
    "    stop_loop = len(sorted_scores)\n",
    "    n_start = 0\n",
    "    next_group = False\n",
    "    \n",
    "    state = sorted_scores[good_bag_index, 0]\n",
    "    current_n = np.sum(state)\n",
    "    while bag_index < N_BAGS and stop_loop > 0:\n",
    "        \n",
    "#         good_bag_index = np.random.randint(len(sorted_scores))        \n",
    "        if is_available(state, available_gifts) and has_min_nb_gifts(state):\n",
    "#             print \"bag index : \", bag_index, stop_loop        \n",
    "            update_available_gifts(available_gifts, state, GIFT_TYPES)\n",
    "            filled_bags[bag_index, :] = state\n",
    "            bag_index += 1\n",
    "            stop_loop = len(sorted_scores)            \n",
    "        else:\n",
    "            stop_loop -= 1            \n",
    "        \n",
    "        good_bag_index += 1\n",
    "        state = sorted_scores[good_bag_index, 0]\n",
    "        n = np.sum(state)\n",
    "        if n < current_n:\n",
    "            good_bag_index = n_start\n",
    "        \n",
    "\n",
    "        if good_bag_index < len(sorted_scores)-1:\n",
    "            good_bag_index += 1\n",
    "        else:\n",
    "            good_bag_index = n_start\n",
    "                \n",
    "        if bag_index > 0 and (bag_index % 100) == 0 and last_score_computation < bag_index:\n",
    "            s, r = score(filled_bags, return_rejected=True)\n",
    "            print(bag_index, \">>> Current score: \", s, s * N_BAGS *1.0 / bag_index, \"rejected=\", r)\n",
    "            last_score_computation = bag_index\n",
    "\n",
    "        if bag_index > 0 and (bag_index % 150) == 0 and last_score_computation < bag_index:\n",
    "            print(bag_index, \">>> Currently available gifts : \", [(k, available_gifts[k]) for k in GIFT_TYPES])\n",
    "            last_score_computation = bag_index\n",
    "    \n",
    "    print \"good_bag_index\", good_bag_index\n",
    "    return filled_bags\n",
    "\n",
    "\n",
    "def fill_bags(sorted_scores, available_gifts):\n",
    "    filled_bags = np.zeros((N_BAGS, N_TYPES), dtype=np.uint8)    \n",
    "    last_score_computation = -1\n",
    "    good_bag_index = 0\n",
    "    bag_index = 0\n",
    "    \n",
    "    while bag_index < N_BAGS and good_bag_index < len(sorted_scores):\n",
    "    \n",
    "        state = sorted_scores[good_bag_index, 0]\n",
    "        if is_available(state, available_gifts) and has_min_nb_gifts(state):\n",
    "#             print \"bag index : \", bag_index, stop_loop        \n",
    "            update_available_gifts(available_gifts, state, GIFT_TYPES)\n",
    "            filled_bags[bag_index, :] = state\n",
    "            bag_index += 1\n",
    "        else:\n",
    "            good_bag_index += 1\n",
    "                \n",
    "        if bag_index > 0 and (bag_index % 100) == 0 and last_score_computation < bag_index:\n",
    "            s, r = score(filled_bags, return_rejected=True)\n",
    "            print(bag_index, \">>> Current score: \", s, s * N_BAGS *1.0 / bag_index, \"rejected=\", r)\n",
    "            last_score_computation = bag_index\n",
    "\n",
    "        if bag_index > 0 and (bag_index % 150) == 0 and last_score_computation < bag_index:\n",
    "            print(bag_index, \">>> Currently available gifts : \", [(k, available_gifts[k]) for k in GIFT_TYPES])\n",
    "            last_score_computation = bag_index\n",
    "    \n",
    "    print \"good_bag_index\", good_bag_index\n",
    "    return filled_bags"
   ]
  },
  {
   "cell_type": "code",
   "execution_count": 12,
   "metadata": {
    "collapsed": false
   },
   "outputs": [
    {
     "data": {
      "text/html": [
       "<div>\n",
       "<table border=\"1\" class=\"dataframe\">\n",
       "  <thead>\n",
       "    <tr style=\"text-align: right;\">\n",
       "      <th></th>\n",
       "      <th>state</th>\n",
       "      <th>score</th>\n",
       "      <th>rejected</th>\n",
       "    </tr>\n",
       "  </thead>\n",
       "  <tbody>\n",
       "    <tr>\n",
       "      <th>0</th>\n",
       "      <td>[0, 0, 0, 0, 0, 0, 0, 0, 0]</td>\n",
       "      <td>0</td>\n",
       "      <td>0</td>\n",
       "    </tr>\n",
       "    <tr>\n",
       "      <th>1</th>\n",
       "      <td>[0, 0, 0, 0, 0, 0, 0, 0, 1]</td>\n",
       "      <td>9.96169</td>\n",
       "      <td>0</td>\n",
       "    </tr>\n",
       "    <tr>\n",
       "      <th>2</th>\n",
       "      <td>[0, 0, 0, 0, 0, 0, 0, 0, 2]</td>\n",
       "      <td>19.8436</td>\n",
       "      <td>0.0015</td>\n",
       "    </tr>\n",
       "    <tr>\n",
       "      <th>3</th>\n",
       "      <td>[0, 0, 0, 0, 0, 0, 0, 0, 3]</td>\n",
       "      <td>24.8407</td>\n",
       "      <td>0.0882</td>\n",
       "    </tr>\n",
       "    <tr>\n",
       "      <th>4</th>\n",
       "      <td>[0, 0, 0, 0, 0, 0, 0, 1, 0]</td>\n",
       "      <td>5.02266</td>\n",
       "      <td>0</td>\n",
       "    </tr>\n",
       "  </tbody>\n",
       "</table>\n",
       "</div>"
      ],
      "text/plain": [
       "                         state    score rejected\n",
       "0  [0, 0, 0, 0, 0, 0, 0, 0, 0]        0        0\n",
       "1  [0, 0, 0, 0, 0, 0, 0, 0, 1]  9.96169        0\n",
       "2  [0, 0, 0, 0, 0, 0, 0, 0, 2]  19.8436   0.0015\n",
       "3  [0, 0, 0, 0, 0, 0, 0, 0, 3]  24.8407   0.0882\n",
       "4  [0, 0, 0, 0, 0, 0, 0, 1, 0]  5.02266        0"
      ]
     },
     "execution_count": 12,
     "metadata": {},
     "output_type": "execute_result"
    }
   ],
   "source": [
    "import pandas as pd\n",
    "df_scores = pd.DataFrame(data=scores, columns=['state', 'score', 'rejected'])\n",
    "df_scores.head()"
   ]
  },
  {
   "cell_type": "code",
   "execution_count": 14,
   "metadata": {
    "collapsed": false
   },
   "outputs": [],
   "source": [
    "df_scores.loc[:, 'score_int'] = df_scores['score'].apply(int)"
   ]
  },
  {
   "cell_type": "code",
   "execution_count": 28,
   "metadata": {
    "collapsed": true
   },
   "outputs": [],
   "source": [
    "df_scores.loc[:, 'r'] = df_scores['rejected'].apply(lambda x: int(x*100))"
   ]
  },
  {
   "cell_type": "code",
   "execution_count": 45,
   "metadata": {
    "collapsed": false
   },
   "outputs": [],
   "source": [
    "# df_scores.loc[:, 'n'] = df_scores['state'].apply(np.sum)"
   ]
  },
  {
   "cell_type": "code",
   "execution_count": 83,
   "metadata": {
    "collapsed": true
   },
   "outputs": [],
   "source": [
    "# def mean_std(state, count=100):\n",
    "#     w = []\n",
    "#     for c in range(count):\n",
    "#         m = 0\n",
    "#         for i, v in enumerate(state):\n",
    "#             if v > 0:\n",
    "#                 m += np.sum([weight_by_index(i) for j in range(v)])\n",
    "#         w.append(m)\n",
    "#     return np.mean(w), np.std(w)\n",
    "\n",
    "# def compute_n_bags(state, available_gifts=AVAILABLE_GIFTS):\n",
    "#     out = 1000\n",
    "#     for i, v in enumerate(state):\n",
    "#         if v > 0:\n",
    "#             n = int(np.floor(available_gifts[GIFT_TYPES[i]] / v))\n",
    "#             out = min(out, n)\n",
    "#     return out\n",
    "    \n",
    "# # compute_n_bags(np.array([19, 0, 0, 0, 0, 0, 1, 0, 0]), AVAILABLE_GIFTS)\n",
    "# df_scores.loc[:, 'n_bags'] = df_scores['state'].apply(compute_n_bags)"
   ]
  },
  {
   "cell_type": "code",
   "execution_count": 15,
   "metadata": {
    "collapsed": false
   },
   "outputs": [],
   "source": [
    "# df_scores.loc[:, 'mean_std'] = df_scores['state'].apply(mean_std)"
   ]
  },
  {
   "cell_type": "code",
   "execution_count": 86,
   "metadata": {
    "collapsed": false
   },
   "outputs": [],
   "source": [
    "# df_scores.loc[:, 'n_bags_x_score'] = df_scores['score'] * df_scores['n_bags']\n",
    "# df_scores.loc[:, 'rejected_x_n'] = df_scores['rejected'] * df_scores['n'] * df_scores['n_bags'] / N_BAGS"
   ]
  },
  {
   "cell_type": "code",
   "execution_count": 29,
   "metadata": {
    "collapsed": false,
    "scrolled": true
   },
   "outputs": [],
   "source": [
    "df_sorted_scores = df_scores.sort_values(['r', 'score_int'], ascending=False)"
   ]
  },
  {
   "cell_type": "code",
   "execution_count": 325,
   "metadata": {
    "collapsed": false
   },
   "outputs": [],
   "source": [
    "# def to_remove(s):\n",
    "#     a = np.array([1, 0, 1, 0, 0, 1, 1, 1, 0])\n",
    "# #     if (s == a).all():\n",
    "# #         return False    \n",
    "#     res = a * s\n",
    "#     return np.sum(res) != 0"
   ]
  },
  {
   "cell_type": "code",
   "execution_count": 17,
   "metadata": {
    "collapsed": false
   },
   "outputs": [],
   "source": [
    "# a = np.array([1, 0, 0, 0, 0, 0, 0, 0, 0])\n",
    "# b = np.array([0, 0, 1, 2, 0, 1, 0, 1, 1])\n",
    "# # b = (b > 0).astype(np.int)\n",
    "# res = a * b\n",
    "# res, np.sum(res) == 0"
   ]
  },
  {
   "cell_type": "code",
   "execution_count": 43,
   "metadata": {
    "collapsed": false
   },
   "outputs": [
    {
     "data": {
      "text/plain": [
       "((17154, 5),\n",
       " 0.0,\n",
       " 38.704855041006837,\n",
       "                                state    score rejected  score_int   r\n",
       " 487999  [13, 0, 1, 0, 0, 0, 1, 1, 0]  36.3937   0.1455         36  14\n",
       " 488077  [13, 0, 1, 0, 0, 1, 1, 0, 0]  36.2026   0.1489         36  14\n",
       " 438718   [8, 0, 1, 0, 0, 0, 0, 1, 1]  35.1197   0.1415         35  14\n",
       " 438982   [8, 0, 1, 0, 0, 1, 0, 0, 1]  35.1566   0.1404         35  14\n",
       " 455271   [9, 0, 1, 1, 0, 2, 1, 0, 0]  35.3871   0.1433         35  14\n",
       " 475961  [11, 0, 1, 0, 0, 0, 3, 1, 0]  35.0893   0.1459         35  14\n",
       " 476224  [11, 0, 1, 1, 0, 0, 2, 1, 0]  35.8415   0.1436         35  14\n",
       " 476327  [11, 0, 1, 1, 0, 1, 2, 0, 0]  35.7445    0.145         35  14\n",
       " 482991  [12, 0, 1, 0, 0, 1, 2, 0, 0]  35.9639   0.1417         35  14\n",
       " 485084  [13, 0, 0, 1, 0, 2, 0, 1, 0]  35.4829   0.1404         35  14\n",
       " 488231  [13, 0, 1, 2, 0, 0, 1, 0, 0]  35.4455   0.1404         35  14\n",
       " 489280  [14, 0, 0, 1, 0, 0, 2, 2, 0]  35.1364   0.1437         35  14\n",
       " 496752  [17, 0, 0, 2, 0, 0, 0, 1, 0]   35.318   0.1413         35  14\n",
       " 496835  [17, 0, 0, 2, 0, 1, 0, 0, 0]  35.1687    0.144         35  14\n",
       " 323007   [4, 0, 1, 1, 0, 2, 0, 0, 1]  34.0453   0.1406         34  14\n",
       " 362988   [5, 0, 1, 2, 0, 0, 1, 1, 1]  34.0127   0.1478         34  14\n",
       " 363510   [5, 0, 1, 2, 0, 2, 1, 1, 0]  34.4481    0.141         34  14\n",
       " 368260   [5, 0, 2, 1, 0, 0, 1, 1, 0]   34.136   0.1428         34  14\n",
       " 368379   [5, 0, 2, 1, 0, 1, 1, 0, 0]  34.1394   0.1423         34  14\n",
       " 376256   [6, 0, 0, 1, 0, 1, 2, 2, 1]  34.1231   0.1422         34  14)"
      ]
     },
     "execution_count": 43,
     "metadata": {},
     "output_type": "execute_result"
    }
   ],
   "source": [
    "s, n, r = 0.0, 1201, 0.15\n",
    "# df = df_sorted_scores[(df_sorted_scores['n_bags'] < n) & (df_sorted_scores['rejected'] < r) & (df_sorted_scores['score'] > s)]\n",
    "# df.loc[:, 'to_remove'] = df['state'].apply(to_remove)\n",
    "# df = df[(df['to_remove'] == False)] \n",
    "df = df_sorted_scores[(df_sorted_scores['rejected'] < r)]\n",
    "df.shape, df['score'].min(), df['score'].max(), df.head(20)"
   ]
  },
  {
   "cell_type": "code",
   "execution_count": 44,
   "metadata": {
    "collapsed": false
   },
   "outputs": [
    {
     "name": "stdout",
     "output_type": "stream",
     "text": [
      "\n",
      "\n",
      "--- Start bags filling with : min_score= 0.0 rejected= 0.15\n",
      "\n",
      "--- (17154, 5) 0.0 38.704855041                                state    score rejected  score_int   r\n",
      "487999  [13, 0, 1, 0, 0, 0, 1, 1, 0]  36.3937   0.1455         36  14\n",
      "488077  [13, 0, 1, 0, 0, 1, 1, 0, 0]  36.2026   0.1489         36  14\n",
      "438718   [8, 0, 1, 0, 0, 0, 0, 1, 1]  35.1197   0.1415         35  14\n",
      "438982   [8, 0, 1, 0, 0, 1, 0, 0, 1]  35.1566   0.1404         35  14\n",
      "455271   [9, 0, 1, 1, 0, 2, 1, 0, 0]  35.3871   0.1433         35  14\n",
      "\n",
      "--------------\n",
      "\n",
      "(100, '>>> Current score: ', 3911.632786916693, 39116.327869166933, 'rejected=', 8.6300000000000008)\n",
      "(150, '>>> Currently available gifts : ', [('ball', 0), ('bike', 500), ('blocks', 850), ('book', 1146), ('coal', 166), ('doll', 908), ('gloves', 2), ('horse', 812), ('train', 934)])\n",
      "(200, '>>> Current score: ', 7382.5777971091766, 36912.888985545884, 'rejected=', 19.66)\n",
      "(300, '>>> Current score: ', 10890.960964941469, 36303.203216471564, 'rejected=', 30.18)\n",
      "(400, '>>> Current score: ', 14422.735168199653, 36056.837920499129, 'rejected=', 40.299999999999997)\n",
      "(450, '>>> Currently available gifts : ', [('ball', 0), ('bike', 500), ('blocks', 550), ('book', 546), ('coal', 166), ('doll', 308), ('gloves', 2), ('horse', 512), ('train', 634)])\n",
      "(500, '>>> Current score: ', 17794.986323395613, 35589.972646791226, 'rejected=', 53.149999999999999)\n",
      "(600, '>>> Current score: ', 21332.822667631583, 35554.704446052638, 'rejected=', 63.25)\n",
      "(700, '>>> Current score: ', 25044.668328413096, 35778.097612018704, 'rejected=', 68.810000000000002)\n",
      "(750, '>>> Currently available gifts : ', [('ball', 0), ('bike', 500), ('blocks', 104), ('book', 38), ('coal', 166), ('doll', 0), ('gloves', 2), ('horse', 1), ('train', 453)])\n",
      "(800, '>>> Current score: ', 28414.619824618021, 35518.274780772532, 'rejected=', 73.310000000000002)\n",
      "(900, '>>> Current score: ', 31340.531818708267, 34822.813131898074, 'rejected=', 75.810000000000002)\n",
      "good_bag_index 17154\n"
     ]
    }
   ],
   "source": [
    "print \"\\n\\n--- Start bags filling with : min_score=\", s, \"rejected=\", r\n",
    "# df = df_sorted_scores[df_sorted_scores['score'] > s]\n",
    "print \"\\n---\", df.shape, df['score'].min(), df['score'].max(), df.head()\n",
    "available_gifts = deepcopy(AVAILABLE_GIFTS)\n",
    "print \"\\n--------------\\n\"\n",
    "filled_bags = fill_bags(df.as_matrix(), available_gifts)"
   ]
  },
  {
   "cell_type": "code",
   "execution_count": 45,
   "metadata": {
    "collapsed": false
   },
   "outputs": [
    {
     "name": "stdout",
     "output_type": "stream",
     "text": [
      "(32553.371954560582, 75.189999999999998) {'horse': 0, 'ball': 0, 'blocks': 1, 'doll': 0, 'train': 1, 'coal': 166, 'bike': 500, 'gloves': 0, 'book': 0}\n"
     ]
    }
   ],
   "source": [
    "print score(filled_bags, return_rejected=True), available_gifts"
   ]
  },
  {
   "cell_type": "code",
   "execution_count": 34,
   "metadata": {
    "collapsed": false
   },
   "outputs": [
    {
     "name": "stdout",
     "output_type": "stream",
     "text": [
      "(33520.969648865925, 128.52000000000001) {'horse': 0, 'ball': 0, 'blocks': 1, 'doll': 0, 'train': 337, 'coal': 166, 'bike': 100, 'gloves': 0, 'book': 312}\n"
     ]
    }
   ],
   "source": [
    "print score(filled_bags, return_rejected=True), available_gifts"
   ]
  },
  {
   "cell_type": "code",
   "execution_count": null,
   "metadata": {
    "collapsed": true
   },
   "outputs": [],
   "source": []
  },
  {
   "cell_type": "code",
   "execution_count": null,
   "metadata": {
    "collapsed": true
   },
   "outputs": [],
   "source": []
  },
  {
   "cell_type": "code",
   "execution_count": 229,
   "metadata": {
    "collapsed": true
   },
   "outputs": [],
   "source": [
    "def custom_fill_bags(sorted_scores, available_gifts):\n",
    "    filled_bags = np.zeros((N_BAGS, N_TYPES), dtype=np.uint8)    \n",
    "    last_score_computation = -1\n",
    "    good_bag_index = 0\n",
    "    bag_index = 0\n",
    "    \n",
    "#     print \"-- stage 1\"\n",
    "#     while bag_index < N_BAGS-100:    \n",
    "#         state = sorted_scores[0, 0]\n",
    "#         if is_available(state, available_gifts) and has_min_nb_gifts(state):\n",
    "# #             print \"bag index : \", bag_index, stop_loop        \n",
    "#             update_available_gifts(available_gifts, state, GIFT_TYPES)\n",
    "#             filled_bags[bag_index, :] = state\n",
    "#             bag_index += 1\n",
    "                \n",
    "#         if bag_index > 0 and (bag_index % 100) == 0 and last_score_computation < bag_index:\n",
    "#             s, r = score(filled_bags, return_rejected=True)\n",
    "#             print(bag_index, \">>> Current score: \", s, s * N_BAGS *1.0 / bag_index, \"rejected=\", r)\n",
    "#             last_score_computation = bag_index\n",
    "\n",
    "#         if bag_index > 0 and (bag_index % 150) == 0 and last_score_computation < bag_index:\n",
    "#             print(bag_index, \">>> Currently available gifts : \", [(k, available_gifts[k]) for k in GIFT_TYPES])\n",
    "#             last_score_computation = bag_index\n",
    "    \n",
    "    print \"-- stage 2\"\n",
    "    good_bag_index = 1\n",
    "    while bag_index < N_BAGS and good_bag_index < len(sorted_scores):\n",
    "    \n",
    "        state = sorted_scores[good_bag_index, 0]\n",
    "        if is_available(state, available_gifts) and has_min_nb_gifts(state):\n",
    "#             print \"bag index : \", bag_index, stop_loop        \n",
    "            update_available_gifts(available_gifts, state, GIFT_TYPES)\n",
    "            filled_bags[bag_index, :] = state\n",
    "            bag_index += 1\n",
    "        else:\n",
    "            good_bag_index += 1\n",
    "                \n",
    "        if bag_index > 0 and (bag_index % 100) == 0 and last_score_computation < bag_index:\n",
    "            s, r = score(filled_bags, return_rejected=True)\n",
    "            print(bag_index, \">>> Current score: \", s, s * N_BAGS *1.0 / bag_index, \"rejected=\", r)\n",
    "            last_score_computation = bag_index\n",
    "\n",
    "        if bag_index > 0 and (bag_index % 150) == 0 and last_score_computation < bag_index:\n",
    "            print(bag_index, \">>> Currently available gifts : \", [(k, available_gifts[k]) for k in GIFT_TYPES])\n",
    "            last_score_computation = bag_index\n",
    "    \n",
    "    \n",
    "    \n",
    "    \n",
    "    print \"good_bag_index\", good_bag_index\n",
    "    return filled_bags"
   ]
  },
  {
   "cell_type": "code",
   "execution_count": null,
   "metadata": {
    "collapsed": true
   },
   "outputs": [],
   "source": []
  },
  {
   "cell_type": "code",
   "execution_count": null,
   "metadata": {
    "collapsed": true
   },
   "outputs": [],
   "source": []
  },
  {
   "cell_type": "code",
   "execution_count": 284,
   "metadata": {
    "collapsed": false
   },
   "outputs": [
    {
     "data": {
      "text/plain": [
       "(28.133028727270752, 0.25)"
      ]
     },
     "execution_count": 284,
     "metadata": {},
     "output_type": "execute_result"
    }
   ],
   "source": [
    "score(([0, 2, 0, 0, 0, 0, 1, 0, 0],), return_rejected=True)"
   ]
  },
  {
   "cell_type": "code",
   "execution_count": 292,
   "metadata": {
    "collapsed": false
   },
   "outputs": [
    {
     "data": {
      "text/plain": [
       "(23.03569290913374, 0.040000000000000001)"
      ]
     },
     "execution_count": 292,
     "metadata": {},
     "output_type": "execute_result"
    }
   ],
   "source": [
    "score(([0, 0, 0, 0, 1, 0, 2, 0, 0],), return_rejected=True)"
   ]
  },
  {
   "cell_type": "code",
   "execution_count": 287,
   "metadata": {
    "collapsed": true
   },
   "outputs": [],
   "source": [
    "custom_states = np.array([\n",
    "    [[1, 0, 1, 1, 0, 1, 0, 1, 1], 34.5248, 0.0223],\n",
    "    [[0, 0, 0, 0, 1, 0, 2, 0, 0], 22.731160986729527, 0.05],\n",
    "])"
   ]
  },
  {
   "cell_type": "code",
   "execution_count": 232,
   "metadata": {
    "collapsed": false
   },
   "outputs": [
    {
     "data": {
      "text/plain": [
       "array([[0, 0, 0, ..., 2, 0, 0],\n",
       "       [0, 0, 0, ..., 2, 0, 0],\n",
       "       [0, 0, 0, ..., 2, 0, 0],\n",
       "       ..., \n",
       "       [0, 0, 0, ..., 0, 0, 0],\n",
       "       [0, 0, 0, ..., 0, 0, 0],\n",
       "       [0, 0, 0, ..., 0, 0, 0]], dtype=uint8)"
      ]
     },
     "execution_count": 232,
     "metadata": {},
     "output_type": "execute_result"
    }
   ],
   "source": [
    "filled_bags"
   ]
  },
  {
   "cell_type": "code",
   "execution_count": 230,
   "metadata": {
    "collapsed": false
   },
   "outputs": [
    {
     "name": "stdout",
     "output_type": "stream",
     "text": [
      "\n",
      "\n",
      "--- Start bags filling with : min_score= 30 rejected= 0.5\n",
      "\n",
      "--- (2, 3) [[[1, 0, 1, 1, 0, 1, 0, 1, 1] 34.5248 0.0223]\n",
      " [[0, 0, 0, 0, 1, 0, 2, 0, 0] 22.731160986729527 0.05]]\n",
      "\n",
      "--------------\n",
      "\n",
      "-- stage 2\n",
      "(100, '>>> Current score: ', 2350.8876627271939, 23508.87662727194, 'rejected=', 5.5199999999999996)\n",
      "good_bag_index 2\n"
     ]
    }
   ],
   "source": [
    "print \"\\n\\n--- Start bags filling with : min_score=\", s, \"rejected=\", r\n",
    "# df = df_sorted_scores[df_sorted_scores['score'] > s]\n",
    "print \"\\n---\", custom_states.shape, custom_states[:10,:]\n",
    "available_gifts = deepcopy(AVAILABLE_GIFTS)\n",
    "print \"\\n--------------\\n\"\n",
    "filled_bags = custom_fill_bags(custom_states, available_gifts)"
   ]
  },
  {
   "cell_type": "code",
   "execution_count": 15,
   "metadata": {
    "collapsed": true
   },
   "outputs": [],
   "source": [
    "df_sorted_scores = df_scores.sort_values(['score'], ascending=False)"
   ]
  },
  {
   "cell_type": "code",
   "execution_count": 17,
   "metadata": {
    "collapsed": false
   },
   "outputs": [
    {
     "name": "stdout",
     "output_type": "stream",
     "text": [
      " \n",
      "\n",
      "--- Start bags filling with : \n",
      "\n",
      "--- \n",
      "--------------\n",
      "\n",
      "(100, '>>> Current score: ', 3987.3176082544755, 39873.176082544756, 'rejected=', 1.04)\n",
      "(150, '>>> Currently available gifts : ', [('ball', 0), ('bike', 500), ('blocks', 850), ('book', 1200), ('coal', 166), ('doll', 941), ('gloves', 141), ('horse', 792), ('train', 942)])\n",
      "(200, '>>> Current score: ', 7540.3574631145821, 37701.78731557291, 'rejected=', 6.0)\n",
      "(300, '>>> Current score: ', 11113.099421386456, 37043.664737954852, 'rejected=', 11.0)\n",
      "(400, '>>> Current score: ', 14647.710950296707, 36619.277375741767, 'rejected=', 16.68)\n",
      "(450, '>>> Currently available gifts : ', [('ball', 0), ('bike', 500), ('blocks', 550), ('book', 1041), ('coal', 166), ('doll', 641), ('gloves', 0), ('horse', 192), ('train', 642)])\n",
      "(500, '>>> Current score: ', 18216.310680597559, 36432.621361195117, 'rejected=', 22.68)\n",
      "(600, '>>> Current score: ', 21765.786678096811, 36276.311130161354, 'rejected=', 28.449999999999999)\n",
      "(700, '>>> Current score: ', 25364.159651366583, 36234.513787666547, 'rejected=', 33.210000000000001)\n",
      "(750, '>>> Currently available gifts : ', [('ball', 0), ('bike', 500), ('blocks', 46), ('book', 945), ('coal', 166), ('doll', 341), ('gloves', 0), ('horse', 0), ('train', 342)])\n",
      "(800, '>>> Current score: ', 28754.341033238041, 35942.926291547556, 'rejected=', 38.75)\n",
      "(900, '>>> Current score: ', 31770.752447248829, 35300.8360524987, 'rejected=', 48.619999999999997)\n",
      "(1000, '>>> Current score: ', 34722.094630448366, 34722.094630448366, 'rejected=', 58.659999999999997)\n",
      "good_bag_index 10646\n"
     ]
    }
   ],
   "source": [
    "print \"\\n\\n--- Start bags filling with : \"\n",
    "# df = df_sorted_scores[df_sorted_scores['score'] > s]\n",
    "print \"\\n---\", \n",
    "available_gifts = deepcopy(AVAILABLE_GIFTS)\n",
    "print \"\\n--------------\\n\"\n",
    "filled_bags = fill_bags(df_sorted_scores.as_matrix(), available_gifts)"
   ]
  },
  {
   "cell_type": "code",
   "execution_count": 30,
   "metadata": {
    "collapsed": false
   },
   "outputs": [
    {
     "name": "stdout",
     "output_type": "stream",
     "text": [
      "(34718.508243033692, 58.640000000000001)\n"
     ]
    }
   ],
   "source": [
    "print score(filled_bags, return_rejected=True)"
   ]
  },
  {
   "cell_type": "code",
   "execution_count": 77,
   "metadata": {
    "collapsed": true
   },
   "outputs": [],
   "source": [
    "def another_score(bags):        \n",
    "    out = []\n",
    "    for j in range(10):\n",
    "        s = 0\n",
    "        for bag in bags:            \n",
    "            start = np.random.randint(GIFT_WEIGHTS.shape[0])\n",
    "            w = 0\n",
    "            for i, v in enumerate(bag):\n",
    "                if v > 0:\n",
    "                    start = min(GIFT_WEIGHTS.shape[0]-v, start)\n",
    "                    ws = GIFT_WEIGHTS[start:start+v,i]                    \n",
    "                    w += np.sum(ws)\n",
    "            s += w if w < MAX_WEIGHT else 0.0\n",
    "        out.append(s)\n",
    "    return np.mean(out) + np.std(out), np.mean(out), np.std(out)"
   ]
  },
  {
   "cell_type": "code",
   "execution_count": 82,
   "metadata": {
    "collapsed": false
   },
   "outputs": [
    {
     "name": "stdout",
     "output_type": "stream",
     "text": [
      "(35236.316366666593, 34944.79676573613, 291.51960093046631)\n"
     ]
    }
   ],
   "source": [
    "print another_score(filled_bags)"
   ]
  },
  {
   "cell_type": "code",
   "execution_count": null,
   "metadata": {
    "collapsed": true
   },
   "outputs": [],
   "source": []
  },
  {
   "cell_type": "code",
   "execution_count": null,
   "metadata": {
    "collapsed": true
   },
   "outputs": [],
   "source": []
  },
  {
   "cell_type": "code",
   "execution_count": null,
   "metadata": {
    "collapsed": true
   },
   "outputs": [],
   "source": []
  },
  {
   "cell_type": "code",
   "execution_count": null,
   "metadata": {
    "collapsed": true
   },
   "outputs": [],
   "source": []
  },
  {
   "cell_type": "code",
   "execution_count": 40,
   "metadata": {
    "collapsed": true
   },
   "outputs": [],
   "source": [
    "def to_submission(state, available_gifts, gift_types):\n",
    "    n_gifts = [available_gifts[t] for t in gift_types]\n",
    "    output = []\n",
    "    for bag in state:\n",
    "        o = []\n",
    "        for index, count in enumerate(bag):   \n",
    "            gift_type = gift_types[index]\n",
    "            for i in range(count):\n",
    "                v = n_gifts[index] - 1\n",
    "                assert v >= 0, \"Gift index is negative\"\n",
    "                o.append(gift_type + '_%i' % v)\n",
    "                n_gifts[index] -= 1\n",
    "        output.append(o)  \n",
    "    return output\n",
    "\n",
    "def write_submission(state, filename):\n",
    "    with open(filename, 'w') as w:\n",
    "        w.write(\"Gifts\\n\")\n",
    "        for bag in state:\n",
    "            w.write(' '.join(bag) + '\\n')\n",
    "    \n"
   ]
  },
  {
   "cell_type": "code",
   "execution_count": 41,
   "metadata": {
    "collapsed": false
   },
   "outputs": [],
   "source": [
    "from datetime import datetime\n",
    "submission_file = '../results/submission_' + \\\n",
    "                  str(datetime.now().strftime(\"%Y-%m-%d-%H-%M\")) + \\\n",
    "                  '.csv'  \n",
    "        \n",
    "submission = to_submission(filled_bags, AVAILABLE_GIFTS, GIFT_TYPES)    \n",
    "write_submission(submission, submission_file)        "
   ]
  },
  {
   "cell_type": "markdown",
   "metadata": {},
   "source": [
    "### Some results \n",
    "\n",
    "- submission_2017-01-29-13-59.csv\n",
    "- random shuffle, s = 22\n",
    "- Local : 33224.557601849941, 84.790000000000006\n",
    "- Kaggle : 33534.45962\n"
   ]
  },
  {
   "cell_type": "code",
   "execution_count": null,
   "metadata": {
    "collapsed": true
   },
   "outputs": [],
   "source": []
  }
 ],
 "metadata": {
  "kernelspec": {
   "display_name": "Python 2",
   "language": "python",
   "name": "python2"
  },
  "language_info": {
   "codemirror_mode": {
    "name": "ipython",
    "version": 2
   },
   "file_extension": ".py",
   "mimetype": "text/x-python",
   "name": "python",
   "nbconvert_exporter": "python",
   "pygments_lexer": "ipython2",
   "version": "2.7.12"
  }
 },
 "nbformat": 4,
 "nbformat_minor": 0
}
