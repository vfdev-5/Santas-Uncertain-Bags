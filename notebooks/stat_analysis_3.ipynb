{
 "cells": [
  {
   "cell_type": "markdown",
   "metadata": {},
   "source": [
    "# Statistical analysisa and examples"
   ]
  },
  {
   "cell_type": "code",
   "execution_count": 1,
   "metadata": {
    "collapsed": false
   },
   "outputs": [
    {
     "name": "stderr",
     "output_type": "stream",
     "text": [
      "/usr/local/lib/python2.7/site-packages/matplotlib/font_manager.py:273: UserWarning: Matplotlib is building the font cache using fc-list. This may take a moment.\n",
      "  warnings.warn('Matplotlib is building the font cache using fc-list. This may take a moment.')\n"
     ]
    }
   ],
   "source": [
    "import sys\n",
    "sys.path.append('../common')\n",
    "from utils import weight3 as weight_fn, weight_by_index\n",
    "from utils import bag_weight, score, mean_n_sigma, score_stats\n",
    "from utils import MAX_WEIGHT, AVAILABLE_GIFTS, GIFT_TYPES, N_TYPES, N_BAGS\n",
    "\n",
    "from copy import deepcopy\n",
    "from collections import defaultdict\n",
    "\n",
    "import numpy as np\n",
    "np.random.seed(2017)\n",
    "import matplotlib.pyplot as plt\n",
    "%matplotlib inline"
   ]
  },
  {
   "cell_type": "code",
   "execution_count": 2,
   "metadata": {
    "collapsed": true
   },
   "outputs": [],
   "source": [
    "N_TRIALS = 10000\n",
    "GIFT_WEIGHTS = np.zeros((N_TRIALS, N_TYPES))\n",
    "for index in range(N_TYPES):\n",
    "    GIFT_WEIGHTS[:, index] = [weight_by_index(index) for i in range(10000)]"
   ]
  },
  {
   "cell_type": "code",
   "execution_count": 3,
   "metadata": {
    "collapsed": false
   },
   "outputs": [
    {
     "name": "stdout",
     "output_type": "stream",
     "text": [
      "ball 0 20 37.6322158867\n",
      "bike 1 2 20.7807671664\n",
      "blocks 2 3 31.0021348597\n",
      "book 3 13 14.7958669438\n",
      "coal 4 1 23.2965570426\n",
      "doll 5 6 25.2286629621\n",
      "gloves 6 50 17.5340524804\n",
      "horse 7 6 27.3275000842\n",
      "train 8 3 25.2152724369\n"
     ]
    }
   ],
   "source": [
    "def find_n(weights):\n",
    "    best_mean_score = 0\n",
    "    best_n = 0\n",
    "    for n in range(1, 500):\n",
    "        mask = weights * n < MAX_WEIGHT\n",
    "        if not mask.any():\n",
    "            break\n",
    "        score = np.sum(weights[mask] * n) * 1.0 / len(weights)  \n",
    "        if score > best_mean_score:\n",
    "            best_mean_score = score\n",
    "            best_n = n\n",
    "            \n",
    "    return best_n, best_mean_score\n",
    "\n",
    "LIMIT_NB_GIFTS = np.zeros((N_TYPES), dtype=np.uint8)\n",
    "\n",
    "for index in range(N_TYPES):\n",
    "    n, s = find_n(GIFT_WEIGHTS[:,index])\n",
    "    print GIFT_TYPES[index], index, n, s\n",
    "    LIMIT_NB_GIFTS[index] = n + 1"
   ]
  },
  {
   "cell_type": "code",
   "execution_count": 4,
   "metadata": {
    "collapsed": false
   },
   "outputs": [
    {
     "data": {
      "text/plain": [
       "(array([21,  3,  4, 14,  2,  7, 51,  7,  4], dtype=uint8), 70531776)"
      ]
     },
     "execution_count": 4,
     "metadata": {},
     "output_type": "execute_result"
    }
   ],
   "source": [
    "LIMIT_NB_GIFTS, np.prod(LIMIT_NB_GIFTS)"
   ]
  },
  {
   "cell_type": "code",
   "execution_count": 5,
   "metadata": {
    "collapsed": false
   },
   "outputs": [
    {
     "data": {
      "text/plain": [
       "(19.958184702872448, 0.0016000000000000001)"
      ]
     },
     "execution_count": 5,
     "metadata": {},
     "output_type": "execute_result"
    }
   ],
   "source": [
    "def compute_score(state):\n",
    "    s = np.sum(GIFT_WEIGHTS * state, axis=1)\n",
    "    mask = s < MAX_WEIGHT\n",
    "    rejected = (N_TRIALS - np.sum(mask))*1.0 / N_TRIALS\n",
    "    score = np.sum(s[mask]) * 1.0 / N_TRIALS\n",
    "    return score, rejected\n",
    "\n",
    "\n",
    "state = np.zeros((N_TYPES), dtype=np.uint8)\n",
    "state[1] = 1\n",
    "compute_score(state)"
   ]
  },
  {
   "cell_type": "code",
   "execution_count": null,
   "metadata": {
    "collapsed": true
   },
   "outputs": [],
   "source": []
  },
  {
   "cell_type": "code",
   "execution_count": 6,
   "metadata": {
    "collapsed": false
   },
   "outputs": [
    {
     "name": "stdout",
     "output_type": "stream",
     "text": [
      "37.25\n"
     ]
    }
   ],
   "source": [
    "alpha = 0.745\n",
    "goal_weight = MAX_WEIGHT * alpha\n",
    "print goal_weight"
   ]
  },
  {
   "cell_type": "code",
   "execution_count": 7,
   "metadata": {
    "collapsed": false
   },
   "outputs": [
    {
     "data": {
      "text/plain": [
       "array([21,  3,  4, 14,  2,  7, 51,  7,  4], dtype=uint8)"
      ]
     },
     "execution_count": 7,
     "metadata": {},
     "output_type": "execute_result"
    }
   ],
   "source": [
    "LIMIT_NB_GIFTS"
   ]
  },
  {
   "cell_type": "code",
   "execution_count": 8,
   "metadata": {
    "collapsed": true
   },
   "outputs": [],
   "source": [
    "def huge_loop2(rejected_threshold):\n",
    "    scores = []\n",
    "    for n0 in range(LIMIT_NB_GIFTS[0]):\n",
    "        print \"n0: \", n0, \"/\", LIMIT_NB_GIFTS[0]\n",
    "        state = np.array([n0, 0, 0, 0, 0, 0, 0, 0, 0])\n",
    "        s, r = compute_score(state)\n",
    "        if r > rejected_threshold:\n",
    "            break\n",
    "        for n1 in range(LIMIT_NB_GIFTS[1]):\n",
    "            state = np.array([n0, n1, 0, 0, 0, 0, 0, 0, 0])\n",
    "            s, r = compute_score(state)\n",
    "            if r > rejected_threshold:\n",
    "                break\n",
    "            for n2 in range(LIMIT_NB_GIFTS[2]):\n",
    "                state = np.array([n0, n1, n2, 0, 0, 0, 0, 0, 0])\n",
    "                s, r = compute_score(state)\n",
    "                if r > rejected_threshold:\n",
    "                    break\n",
    "                for n3 in range(LIMIT_NB_GIFTS[3]):\n",
    "                    state = np.array([n0, n1, n2, n3, 0, 0, 0, 0, 0])\n",
    "                    s, r = compute_score(state)\n",
    "                    if r > rejected_threshold:\n",
    "                        break\n",
    "                    for n4 in range(LIMIT_NB_GIFTS[4]):\n",
    "                        state = np.array([n0, n1, n2, n3, n4, 0, 0, 0, 0])\n",
    "                        s, r = compute_score(state)\n",
    "                        if r > rejected_threshold:\n",
    "                            break                        \n",
    "                        for n5 in range(LIMIT_NB_GIFTS[5]):\n",
    "                            state = np.array([n0, n1, n2, n3, n4, n5, 0, 0, 0])\n",
    "                            s, r = compute_score(state)\n",
    "                            if r > rejected_threshold:\n",
    "                                break                        \n",
    "                            for n6 in range(LIMIT_NB_GIFTS[6]):\n",
    "                                state = np.array([n0, n1, n2, n3, n4, n5, n6, 0, 0])\n",
    "                                s, r = compute_score(state)\n",
    "                                if r > rejected_threshold:\n",
    "                                    break                        \n",
    "                                for n7 in range(LIMIT_NB_GIFTS[7]):\n",
    "                                    state = np.array([n0, n1, n2, n3, n4, n5, n6, n7, 0])\n",
    "                                    s, r = compute_score(state)\n",
    "                                    if r > rejected_threshold:\n",
    "                                        break                        \n",
    "                                    for n8 in range(LIMIT_NB_GIFTS[8]):\n",
    "                                        state = np.array([n0, n1, n2, n3, n4, n5, n6, n7, n8])\n",
    "                                        s, r = compute_score(state)\n",
    "                                        if r > rejected_threshold:\n",
    "                                            break                                    \n",
    "                                        scores.append((state, s, r))\n",
    "    return scores"
   ]
  },
  {
   "cell_type": "code",
   "execution_count": 10,
   "metadata": {
    "collapsed": false
   },
   "outputs": [],
   "source": [
    "import os\n",
    "filename = \"scores_r_075.npy\"\n",
    "if os.path.exists(filename):\n",
    "    scores = np.load(filename)\n",
    "else:\n",
    "    scores = huge_loop2(0.75)\n",
    "    scores = np.array(scores)\n",
    "    # Save result\n",
    "    np.save(\"scores_r_075.npy\", scores)"
   ]
  },
  {
   "cell_type": "code",
   "execution_count": 12,
   "metadata": {
    "collapsed": false
   },
   "outputs": [],
   "source": [
    "# alpha = 0.745\n",
    "# goal_weight = MAX_WEIGHT * alpha\n",
    "# print goal_weight\n",
    "# mask = scores[:, 1] > goal_weight\n",
    "# # len(scores[mask]), scores[mask][:10, :]"
   ]
  },
  {
   "cell_type": "code",
   "execution_count": 91,
   "metadata": {
    "collapsed": true
   },
   "outputs": [],
   "source": [
    "def has_min_nb_gifts(state):\n",
    "    return np.sum(state) >= 3 \n",
    "\n",
    "def is_available(state, available_gifts, gift_types=GIFT_TYPES):\n",
    "    for v, gift_type in zip(state, gift_types):\n",
    "        if available_gifts[gift_type] - v < 0:\n",
    "            return False\n",
    "    return True\n",
    "\n",
    "def update_available_gifts(available_gifts, state, gift_types=GIFT_TYPES):\n",
    "    for v, gift_type in zip(state, gift_types):\n",
    "        assert available_gifts[gift_type] - v >= 0, \"Found state is not available : {}, {}\".format(state, available_gifts)\n",
    "        available_gifts[gift_type] = available_gifts[gift_type] - v\n",
    "\n",
    "        \n",
    "def fill_bags3(sorted_scores, available_gifts):\n",
    "    filled_bags = np.zeros((N_BAGS, N_TYPES), dtype=np.uint8)    \n",
    "    last_score_computation = -1\n",
    "    good_bag_index = 0\n",
    "    bag_index = 0\n",
    "    \n",
    "    stop_loop = len(sorted_scores)\n",
    "    n_start = 0\n",
    "    next_group = False\n",
    "    \n",
    "    state = sorted_scores[good_bag_index, 0]\n",
    "    current_n = np.sum(state)\n",
    "    while bag_index < N_BAGS and stop_loop > 0:\n",
    "        \n",
    "#         good_bag_index = np.random.randint(len(sorted_scores))        \n",
    "        if is_available(state, available_gifts) and has_min_nb_gifts(state):\n",
    "#             print \"bag index : \", bag_index, stop_loop        \n",
    "            update_available_gifts(available_gifts, state, GIFT_TYPES)\n",
    "            filled_bags[bag_index, :] = state\n",
    "            bag_index += 1\n",
    "            stop_loop = len(sorted_scores)            \n",
    "        else:\n",
    "            stop_loop -= 1            \n",
    "        \n",
    "        good_bag_index += 1\n",
    "        state = sorted_scores[good_bag_index, 0]\n",
    "        n = np.sum(state)\n",
    "        if n < current_n:\n",
    "            good_bag_index = n_start\n",
    "        \n",
    "\n",
    "        if good_bag_index < len(sorted_scores)-1:\n",
    "            good_bag_index += 1\n",
    "        else:\n",
    "            good_bag_index = n_start\n",
    "                \n",
    "        if bag_index > 0 and (bag_index % 100) == 0 and last_score_computation < bag_index:\n",
    "            s, r = score(filled_bags, return_rejected=True)\n",
    "            print(bag_index, \">>> Current score: \", s, s * N_BAGS *1.0 / bag_index, \"rejected=\", r)\n",
    "            last_score_computation = bag_index\n",
    "\n",
    "        if bag_index > 0 and (bag_index % 150) == 0 and last_score_computation < bag_index:\n",
    "            print(bag_index, \">>> Currently available gifts : \", [(k, available_gifts[k]) for k in GIFT_TYPES])\n",
    "            last_score_computation = bag_index\n",
    "    \n",
    "    print \"good_bag_index\", good_bag_index\n",
    "    return filled_bags\n",
    "\n",
    "\n",
    "def fill_bags(sorted_scores, available_gifts):\n",
    "    filled_bags = np.zeros((N_BAGS, N_TYPES), dtype=np.uint8)    \n",
    "    last_score_computation = -1\n",
    "    good_bag_index = 0\n",
    "    bag_index = 0\n",
    "    \n",
    "    while bag_index < N_BAGS and good_bag_index < len(sorted_scores):\n",
    "    \n",
    "        state = sorted_scores[good_bag_index, 0]\n",
    "        if is_available(state, available_gifts) and has_min_nb_gifts(state):\n",
    "#             print \"bag index : \", bag_index, stop_loop        \n",
    "            update_available_gifts(available_gifts, state, GIFT_TYPES)\n",
    "            filled_bags[bag_index, :] = state\n",
    "            bag_index += 1\n",
    "        else:\n",
    "            good_bag_index += 1\n",
    "                \n",
    "        if bag_index > 0 and (bag_index % 100) == 0 and last_score_computation < bag_index:\n",
    "            s, r = score(filled_bags, return_rejected=True)\n",
    "            print(bag_index, \">>> Current score: \", s, s * N_BAGS *1.0 / bag_index, \"rejected=\", r)\n",
    "            last_score_computation = bag_index\n",
    "\n",
    "        if bag_index > 0 and (bag_index % 150) == 0 and last_score_computation < bag_index:\n",
    "            print(bag_index, \">>> Currently available gifts : \", [(k, available_gifts[k]) for k in GIFT_TYPES])\n",
    "            last_score_computation = bag_index\n",
    "    \n",
    "    print \"good_bag_index\", good_bag_index\n",
    "    return filled_bags"
   ]
  },
  {
   "cell_type": "code",
   "execution_count": 14,
   "metadata": {
    "collapsed": false
   },
   "outputs": [
    {
     "data": {
      "text/html": [
       "<div>\n",
       "<table border=\"1\" class=\"dataframe\">\n",
       "  <thead>\n",
       "    <tr style=\"text-align: right;\">\n",
       "      <th></th>\n",
       "      <th>state</th>\n",
       "      <th>score</th>\n",
       "      <th>rejected</th>\n",
       "    </tr>\n",
       "  </thead>\n",
       "  <tbody>\n",
       "    <tr>\n",
       "      <th>0</th>\n",
       "      <td>[0, 0, 0, 0, 0, 0, 0, 0, 0]</td>\n",
       "      <td>0</td>\n",
       "      <td>0</td>\n",
       "    </tr>\n",
       "    <tr>\n",
       "      <th>1</th>\n",
       "      <td>[0, 0, 0, 0, 0, 0, 0, 0, 1]</td>\n",
       "      <td>9.96169</td>\n",
       "      <td>0</td>\n",
       "    </tr>\n",
       "    <tr>\n",
       "      <th>2</th>\n",
       "      <td>[0, 0, 0, 0, 0, 0, 0, 0, 2]</td>\n",
       "      <td>19.8436</td>\n",
       "      <td>0.0015</td>\n",
       "    </tr>\n",
       "    <tr>\n",
       "      <th>3</th>\n",
       "      <td>[0, 0, 0, 0, 0, 0, 0, 0, 3]</td>\n",
       "      <td>24.8407</td>\n",
       "      <td>0.0882</td>\n",
       "    </tr>\n",
       "    <tr>\n",
       "      <th>4</th>\n",
       "      <td>[0, 0, 0, 0, 0, 0, 0, 1, 0]</td>\n",
       "      <td>5.02266</td>\n",
       "      <td>0</td>\n",
       "    </tr>\n",
       "  </tbody>\n",
       "</table>\n",
       "</div>"
      ],
      "text/plain": [
       "                         state    score rejected\n",
       "0  [0, 0, 0, 0, 0, 0, 0, 0, 0]        0        0\n",
       "1  [0, 0, 0, 0, 0, 0, 0, 0, 1]  9.96169        0\n",
       "2  [0, 0, 0, 0, 0, 0, 0, 0, 2]  19.8436   0.0015\n",
       "3  [0, 0, 0, 0, 0, 0, 0, 0, 3]  24.8407   0.0882\n",
       "4  [0, 0, 0, 0, 0, 0, 0, 1, 0]  5.02266        0"
      ]
     },
     "execution_count": 14,
     "metadata": {},
     "output_type": "execute_result"
    }
   ],
   "source": [
    "import pandas as pd\n",
    "df_scores = pd.DataFrame(data=scores, columns=['state', 'score', 'rejected'])\n",
    "df_scores.head()"
   ]
  },
  {
   "cell_type": "code",
   "execution_count": 45,
   "metadata": {
    "collapsed": false
   },
   "outputs": [],
   "source": [
    "df_scores.loc[:, 'n'] = df_scores['state'].apply(np.sum)"
   ]
  },
  {
   "cell_type": "code",
   "execution_count": 78,
   "metadata": {
    "collapsed": true
   },
   "outputs": [],
   "source": [
    "def compute_n_bags(state, available_gifts=AVAILABLE_GIFTS):\n",
    "    out = 1000\n",
    "    for i, v in enumerate(state):\n",
    "        if v > 0:\n",
    "            n = int(np.floor(available_gifts[GIFT_TYPES[i]] / v))\n",
    "            out = min(out, n)\n",
    "    return out\n",
    "    \n",
    "# compute_n_bags(np.array([19, 0, 0, 0, 0, 0, 1, 0, 0]), AVAILABLE_GIFTS)\n",
    "df_scores.loc[:, 'n_bags'] = df_scores['state'].apply(compute_n_bags)"
   ]
  },
  {
   "cell_type": "code",
   "execution_count": 86,
   "metadata": {
    "collapsed": false
   },
   "outputs": [],
   "source": [
    "df_scores.loc[:, 'n_bags_x_score'] = df_scores['score'] * df_scores['n_bags']"
   ]
  },
  {
   "cell_type": "code",
   "execution_count": 137,
   "metadata": {
    "collapsed": false
   },
   "outputs": [],
   "source": [
    "df_scores.loc[:, 'rejected_x_n'] = df_scores['rejected'] * df_scores['n'] * df_scores['n_bags'] / N_BAGS"
   ]
  },
  {
   "cell_type": "code",
   "execution_count": 316,
   "metadata": {
    "collapsed": false,
    "scrolled": true
   },
   "outputs": [],
   "source": [
    "df_sorted_scores = df_scores.sort_values(['score'], ascending=False)"
   ]
  },
  {
   "cell_type": "code",
   "execution_count": 325,
   "metadata": {
    "collapsed": false
   },
   "outputs": [],
   "source": [
    "def to_remove(s):\n",
    "    a = np.array([1, 0, 1, 0, 0, 1, 1, 1, 0])\n",
    "#     if (s == a).all():\n",
    "#         return False    \n",
    "    res = a * s\n",
    "    return np.sum(res) != 0"
   ]
  },
  {
   "cell_type": "code",
   "execution_count": 313,
   "metadata": {
    "collapsed": false
   },
   "outputs": [
    {
     "data": {
      "text/plain": [
       "(array([0, 0, 0, 0, 0, 0, 0, 0, 0]), True)"
      ]
     },
     "execution_count": 313,
     "metadata": {},
     "output_type": "execute_result"
    }
   ],
   "source": [
    "a = np.array([1, 0, 0, 0, 0, 0, 0, 0, 0])\n",
    "b = np.array([0, 0, 1, 2, 0, 1, 0, 1, 1])\n",
    "# b = (b > 0).astype(np.int)\n",
    "res = a * b\n",
    "res, np.sum(res) == 0"
   ]
  },
  {
   "cell_type": "code",
   "execution_count": 314,
   "metadata": {
    "collapsed": false
   },
   "outputs": [
    {
     "data": {
      "text/plain": [
       "{'ball': 1100,\n",
       " 'bike': 500,\n",
       " 'blocks': 1000,\n",
       " 'book': 1200,\n",
       " 'coal': 166,\n",
       " 'doll': 1000,\n",
       " 'gloves': 200,\n",
       " 'horse': 1000,\n",
       " 'train': 1000}"
      ]
     },
     "execution_count": 314,
     "metadata": {},
     "output_type": "execute_result"
    }
   ],
   "source": [
    "AVAILABLE_GIFTS"
   ]
  },
  {
   "cell_type": "code",
   "execution_count": 328,
   "metadata": {
    "collapsed": false
   },
   "outputs": [
    {
     "data": {
      "text/plain": [
       "((14, 8),\n",
       " 25.036970528889452,\n",
       " 29.182936774532603,\n",
       "                              state    score rejected  n  n_bags  \\\n",
       " 83495  [0, 1, 0, 2, 0, 0, 0, 0, 1]  29.1829   0.0884  4     500   \n",
       " 82126  [0, 1, 0, 1, 0, 0, 0, 0, 1]  29.0212   0.0566  3     500   \n",
       " 84635  [0, 1, 0, 3, 0, 0, 0, 0, 1]  28.5514   0.1323  5     400   \n",
       " 80479  [0, 1, 0, 0, 0, 0, 0, 0, 1]  28.0894   0.0377  2     500   \n",
       " 85593  [0, 1, 0, 4, 0, 0, 0, 0, 1]  27.5771   0.1789  6     300   \n",
       " 86399  [0, 1, 0, 5, 0, 0, 0, 0, 1]  26.4415   0.2249  7     240   \n",
       " 80480  [0, 1, 0, 0, 0, 0, 0, 0, 2]  26.2994    0.236  3     500   \n",
       " 82127  [0, 1, 0, 1, 0, 0, 0, 0, 2]  25.3452   0.2837  4     500   \n",
       " 12000  [0, 0, 0, 2, 0, 0, 0, 0, 3]  25.3153   0.1468  5     333   \n",
       " 6303   [0, 0, 0, 1, 0, 0, 0, 0, 3]  25.2831   0.1147  4     333   \n",
       " 87088  [0, 1, 0, 6, 0, 0, 0, 0, 1]  25.2286   0.2693  8     200   \n",
       " 86398  [0, 1, 0, 5, 0, 0, 0, 0, 0]  25.1407   0.0838  6     240   \n",
       " 85592  [0, 1, 0, 4, 0, 0, 0, 0, 0]  25.1081   0.0529  5     300   \n",
       " 21720  [0, 0, 0, 4, 0, 0, 0, 0, 2]   25.037   0.0497  6     300   \n",
       " \n",
       "       n_bags_x_score rejected_x_n to_remove  \n",
       " 83495        14591.5       0.1768     False  \n",
       " 82126        14510.6       0.0849     False  \n",
       " 84635        11420.5       0.2646     False  \n",
       " 80479        14044.7       0.0377     False  \n",
       " 85593        8273.14      0.32202     False  \n",
       " 86399        6345.97     0.377832     False  \n",
       " 80480        13149.7        0.354     False  \n",
       " 82127        12672.6       0.5674     False  \n",
       " 12000        8429.99     0.244422     False  \n",
       " 6303         8419.26      0.15278     False  \n",
       " 87088        5045.72      0.43088     False  \n",
       " 86398        6033.78     0.120672     False  \n",
       " 85592        7532.43      0.07935     False  \n",
       " 21720        7511.09      0.08946     False  )"
      ]
     },
     "execution_count": 328,
     "metadata": {},
     "output_type": "execute_result"
    }
   ],
   "source": [
    "s, n, r = 25, 1201, 0.75\n",
    "df = df_sorted_scores[(df_sorted_scores['n_bags'] < n) & (df_sorted_scores['rejected'] < r) & (df_sorted_scores['score'] > s)]\n",
    "df.loc[:, 'to_remove'] = df['state'].apply(to_remove)\n",
    "df = df[(df['to_remove'] == False)] \n",
    "df.shape, df['score'].min(), df['score'].max(), df.head(20)"
   ]
  },
  {
   "cell_type": "code",
   "execution_count": 216,
   "metadata": {
    "collapsed": false
   },
   "outputs": [
    {
     "name": "stdout",
     "output_type": "stream",
     "text": [
      "\n",
      "\n",
      "--- Start bags filling with : min_score= 30 rejected= 0.5\n",
      "\n",
      "--- (7608, 8) 30.0000967414 38.4634778233                               state    score rejected  n  n_bags  \\\n",
      "214458  [2, 0, 1, 1, 0, 1, 0, 1, 1]  35.5703   0.0401  7     550   \n",
      "90314   [0, 1, 1, 0, 0, 0, 0, 1, 0]  30.8708   0.1089  3     500   \n",
      "236172  [2, 1, 1, 0, 0, 0, 0, 0, 0]  30.8404   0.0918  4     500   \n",
      "236427  [2, 1, 1, 1, 0, 0, 0, 0, 0]  30.7583   0.1281  5     500   \n",
      "90521   [0, 1, 1, 0, 0, 1, 0, 0, 0]   30.749   0.1114  3     500   \n",
      "\n",
      "       n_bags_x_score rejected_x_n to_remove  \n",
      "214458        19563.7     0.154385     False  \n",
      "90314         15435.4      0.16335     False  \n",
      "236172        15420.2       0.1836     False  \n",
      "236427        15379.1      0.32025     False  \n",
      "90521         15374.5       0.1671     False  \n",
      "\n",
      "--------------\n",
      "\n",
      "(100, '>>> Current score: ', 3559.0361310438543, 35590.361310438544, 'rejected=', 4.1200000000000001)\n",
      "(150, '>>> Currently available gifts : ', [('ball', 800), ('bike', 500), ('blocks', 850), ('book', 1050), ('coal', 166), ('doll', 850), ('gloves', 200), ('horse', 850), ('train', 850)])\n",
      "(200, '>>> Current score: ', 7107.2606322504907, 35536.30316125245, 'rejected=', 8.0700000000000003)\n",
      "(300, '>>> Current score: ', 10692.045535403626, 35640.151784678754, 'rejected=', 11.859999999999999)\n",
      "(400, '>>> Current score: ', 14224.569392031921, 35561.4234800798, 'rejected=', 16.399999999999999)\n",
      "(450, '>>> Currently available gifts : ', [('ball', 200), ('bike', 500), ('blocks', 550), ('book', 750), ('coal', 166), ('doll', 550), ('gloves', 200), ('horse', 550), ('train', 550)])\n",
      "(500, '>>> Current score: ', 17840.784589785191, 35681.569179570382, 'rejected=', 19.170000000000002)\n",
      "(600, '>>> Current score: ', 21083.591720696139, 35139.319534493567, 'rejected=', 28.039999999999999)\n",
      "(700, '>>> Current score: ', 24214.879075704681, 34592.684393863834, 'rejected=', 38.18)\n",
      "(750, '>>> Currently available gifts : ', [('ball', 0), ('bike', 300), ('blocks', 250), ('book', 650), ('coal', 166), ('doll', 450), ('gloves', 200), ('horse', 250), ('train', 450)])\n",
      "(800, '>>> Current score: ', 27310.782183068302, 34138.47772883538, 'rejected=', 48.270000000000003)\n",
      "(900, '>>> Current score: ', 30365.144812669194, 33739.049791854661, 'rejected=', 59.810000000000002)\n",
      "(1000, '>>> Current score: ', 33499.425686737755, 33499.425686737755, 'rejected=', 69.510000000000005)\n",
      "good_bag_index 1\n"
     ]
    }
   ],
   "source": [
    "print \"\\n\\n--- Start bags filling with : min_score=\", s, \"rejected=\", r\n",
    "# df = df_sorted_scores[df_sorted_scores['score'] > s]\n",
    "print \"\\n---\", df.shape, df['score'].min(), df['score'].max(), df.head()\n",
    "available_gifts = deepcopy(AVAILABLE_GIFTS)\n",
    "print \"\\n--------------\\n\"\n",
    "filled_bags = fill_bags(df.as_matrix(), available_gifts)"
   ]
  },
  {
   "cell_type": "code",
   "execution_count": 180,
   "metadata": {
    "collapsed": false
   },
   "outputs": [
    {
     "name": "stdout",
     "output_type": "stream",
     "text": [
      "(21116.350252714969, 28.530000000000001) {'horse': 400, 'ball': 500, 'blocks': 400, 'doll': 400, 'train': 400, 'coal': 166, 'bike': 500, 'gloves': 200, 'book': 0}\n"
     ]
    }
   ],
   "source": [
    "print score(filled_bags, return_rejected=True), available_gifts"
   ]
  },
  {
   "cell_type": "code",
   "execution_count": null,
   "metadata": {
    "collapsed": true
   },
   "outputs": [],
   "source": []
  },
  {
   "cell_type": "code",
   "execution_count": null,
   "metadata": {
    "collapsed": true
   },
   "outputs": [],
   "source": []
  },
  {
   "cell_type": "code",
   "execution_count": 229,
   "metadata": {
    "collapsed": true
   },
   "outputs": [],
   "source": [
    "def custom_fill_bags(sorted_scores, available_gifts):\n",
    "    filled_bags = np.zeros((N_BAGS, N_TYPES), dtype=np.uint8)    \n",
    "    last_score_computation = -1\n",
    "    good_bag_index = 0\n",
    "    bag_index = 0\n",
    "    \n",
    "#     print \"-- stage 1\"\n",
    "#     while bag_index < N_BAGS-100:    \n",
    "#         state = sorted_scores[0, 0]\n",
    "#         if is_available(state, available_gifts) and has_min_nb_gifts(state):\n",
    "# #             print \"bag index : \", bag_index, stop_loop        \n",
    "#             update_available_gifts(available_gifts, state, GIFT_TYPES)\n",
    "#             filled_bags[bag_index, :] = state\n",
    "#             bag_index += 1\n",
    "                \n",
    "#         if bag_index > 0 and (bag_index % 100) == 0 and last_score_computation < bag_index:\n",
    "#             s, r = score(filled_bags, return_rejected=True)\n",
    "#             print(bag_index, \">>> Current score: \", s, s * N_BAGS *1.0 / bag_index, \"rejected=\", r)\n",
    "#             last_score_computation = bag_index\n",
    "\n",
    "#         if bag_index > 0 and (bag_index % 150) == 0 and last_score_computation < bag_index:\n",
    "#             print(bag_index, \">>> Currently available gifts : \", [(k, available_gifts[k]) for k in GIFT_TYPES])\n",
    "#             last_score_computation = bag_index\n",
    "    \n",
    "    print \"-- stage 2\"\n",
    "    good_bag_index = 1\n",
    "    while bag_index < N_BAGS and good_bag_index < len(sorted_scores):\n",
    "    \n",
    "        state = sorted_scores[good_bag_index, 0]\n",
    "        if is_available(state, available_gifts) and has_min_nb_gifts(state):\n",
    "#             print \"bag index : \", bag_index, stop_loop        \n",
    "            update_available_gifts(available_gifts, state, GIFT_TYPES)\n",
    "            filled_bags[bag_index, :] = state\n",
    "            bag_index += 1\n",
    "        else:\n",
    "            good_bag_index += 1\n",
    "                \n",
    "        if bag_index > 0 and (bag_index % 100) == 0 and last_score_computation < bag_index:\n",
    "            s, r = score(filled_bags, return_rejected=True)\n",
    "            print(bag_index, \">>> Current score: \", s, s * N_BAGS *1.0 / bag_index, \"rejected=\", r)\n",
    "            last_score_computation = bag_index\n",
    "\n",
    "        if bag_index > 0 and (bag_index % 150) == 0 and last_score_computation < bag_index:\n",
    "            print(bag_index, \">>> Currently available gifts : \", [(k, available_gifts[k]) for k in GIFT_TYPES])\n",
    "            last_score_computation = bag_index\n",
    "    \n",
    "    \n",
    "    \n",
    "    \n",
    "    print \"good_bag_index\", good_bag_index\n",
    "    return filled_bags"
   ]
  },
  {
   "cell_type": "code",
   "execution_count": null,
   "metadata": {
    "collapsed": true
   },
   "outputs": [],
   "source": []
  },
  {
   "cell_type": "code",
   "execution_count": null,
   "metadata": {
    "collapsed": true
   },
   "outputs": [],
   "source": []
  },
  {
   "cell_type": "code",
   "execution_count": 284,
   "metadata": {
    "collapsed": false
   },
   "outputs": [
    {
     "data": {
      "text/plain": [
       "(28.133028727270752, 0.25)"
      ]
     },
     "execution_count": 284,
     "metadata": {},
     "output_type": "execute_result"
    }
   ],
   "source": [
    "score(([0, 2, 0, 0, 0, 0, 1, 0, 0],), return_rejected=True)"
   ]
  },
  {
   "cell_type": "code",
   "execution_count": 292,
   "metadata": {
    "collapsed": false
   },
   "outputs": [
    {
     "data": {
      "text/plain": [
       "(23.03569290913374, 0.040000000000000001)"
      ]
     },
     "execution_count": 292,
     "metadata": {},
     "output_type": "execute_result"
    }
   ],
   "source": [
    "score(([0, 0, 0, 0, 1, 0, 2, 0, 0],), return_rejected=True)"
   ]
  },
  {
   "cell_type": "code",
   "execution_count": 287,
   "metadata": {
    "collapsed": true
   },
   "outputs": [],
   "source": [
    "custom_states = np.array([\n",
    "    [[1, 0, 1, 1, 0, 1, 0, 1, 1], 34.5248, 0.0223],\n",
    "    [[0, 0, 0, 0, 1, 0, 2, 0, 0], 22.731160986729527, 0.05],\n",
    "])"
   ]
  },
  {
   "cell_type": "code",
   "execution_count": 232,
   "metadata": {
    "collapsed": false
   },
   "outputs": [
    {
     "data": {
      "text/plain": [
       "array([[0, 0, 0, ..., 2, 0, 0],\n",
       "       [0, 0, 0, ..., 2, 0, 0],\n",
       "       [0, 0, 0, ..., 2, 0, 0],\n",
       "       ..., \n",
       "       [0, 0, 0, ..., 0, 0, 0],\n",
       "       [0, 0, 0, ..., 0, 0, 0],\n",
       "       [0, 0, 0, ..., 0, 0, 0]], dtype=uint8)"
      ]
     },
     "execution_count": 232,
     "metadata": {},
     "output_type": "execute_result"
    }
   ],
   "source": [
    "filled_bags"
   ]
  },
  {
   "cell_type": "code",
   "execution_count": 230,
   "metadata": {
    "collapsed": false
   },
   "outputs": [
    {
     "name": "stdout",
     "output_type": "stream",
     "text": [
      "\n",
      "\n",
      "--- Start bags filling with : min_score= 30 rejected= 0.5\n",
      "\n",
      "--- (2, 3) [[[1, 0, 1, 1, 0, 1, 0, 1, 1] 34.5248 0.0223]\n",
      " [[0, 0, 0, 0, 1, 0, 2, 0, 0] 22.731160986729527 0.05]]\n",
      "\n",
      "--------------\n",
      "\n",
      "-- stage 2\n",
      "(100, '>>> Current score: ', 2350.8876627271939, 23508.87662727194, 'rejected=', 5.5199999999999996)\n",
      "good_bag_index 2\n"
     ]
    }
   ],
   "source": [
    "print \"\\n\\n--- Start bags filling with : min_score=\", s, \"rejected=\", r\n",
    "# df = df_sorted_scores[df_sorted_scores['score'] > s]\n",
    "print \"\\n---\", custom_states.shape, custom_states[:10,:]\n",
    "available_gifts = deepcopy(AVAILABLE_GIFTS)\n",
    "print \"\\n--------------\\n\"\n",
    "filled_bags = custom_fill_bags(custom_states, available_gifts)"
   ]
  },
  {
   "cell_type": "code",
   "execution_count": 224,
   "metadata": {
    "collapsed": false
   },
   "outputs": [
    {
     "name": "stdout",
     "output_type": "stream",
     "text": [
      "\n",
      "\n",
      "--- Start bags filling with : min_score= 30 rejected= 0.5\n",
      "\n",
      "--- (2, 3) [[[1, 0, 1, 1, 0, 1, 0, 1, 1] 34.5248 0.0223]\n",
      " [[0, 0, 0, 0, 1, 0, 2, 0, 0] 22.731160986729527 0.05]]\n",
      "\n",
      "--------------\n",
      "\n",
      "-- stage 1\n",
      "(100, '>>> Current score: ', 3456.4097109030072, 34564.097109030074, 'rejected=', 2.04)\n",
      "(150, '>>> Currently available gifts : ', [('ball', 950), ('bike', 500), ('blocks', 850), ('book', 1050), ('coal', 166), ('doll', 850), ('gloves', 200), ('horse', 850), ('train', 850)])\n",
      "(200, '>>> Current score: ', 6924.4221713364605, 34622.110856682302, 'rejected=', 4.2400000000000002)\n",
      "(300, '>>> Current score: ', 10369.626637567962, 34565.422125226542, 'rejected=', 6.5099999999999998)\n",
      "(400, '>>> Current score: ', 13849.590864198588, 34623.97716049647, 'rejected=', 8.8800000000000008)\n",
      "(450, '>>> Currently available gifts : ', [('ball', 650), ('bike', 500), ('blocks', 550), ('book', 750), ('coal', 166), ('doll', 550), ('gloves', 200), ('horse', 550), ('train', 550)])\n",
      "(500, '>>> Current score: ', 17272.236799979091, 34544.473599958183, 'rejected=', 11.15)\n",
      "(600, '>>> Current score: ', 20740.322524172065, 34567.204206953436, 'rejected=', 12.75)\n",
      "(700, '>>> Current score: ', 24193.862273501145, 34562.660390715922, 'rejected=', 15.06)\n",
      "(750, '>>> Currently available gifts : ', [('ball', 350), ('bike', 500), ('blocks', 250), ('book', 450), ('coal', 166), ('doll', 250), ('gloves', 200), ('horse', 250), ('train', 250)])\n",
      "(800, '>>> Current score: ', 27635.726125410361, 34544.657656762953, 'rejected=', 17.489999999999998)\n",
      "(900, '>>> Current score: ', 31069.154712598054, 34521.28301399784, 'rejected=', 20.16)\n",
      "-- stage 2\n",
      "(1000, '>>> Current score: ', 34584.064649662694, 34584.064649662694, 'rejected=', 21.719999999999999)\n",
      "good_bag_index 0\n"
     ]
    }
   ],
   "source": [
    "print \"\\n\\n--- Start bags filling with : min_score=\", s, \"rejected=\", r\n",
    "# df = df_sorted_scores[df_sorted_scores['score'] > s]\n",
    "print \"\\n---\", custom_states.shape, custom_states[:10,:]\n",
    "available_gifts = deepcopy(AVAILABLE_GIFTS)\n",
    "print \"\\n--------------\\n\"\n",
    "filled_bags = custom_fill_bags(custom_states, available_gifts)"
   ]
  },
  {
   "cell_type": "code",
   "execution_count": 231,
   "metadata": {
    "collapsed": false
   },
   "outputs": [
    {
     "data": {
      "text/plain": [
       "3514.90993706464"
      ]
     },
     "execution_count": 231,
     "metadata": {},
     "output_type": "execute_result"
    }
   ],
   "source": [
    "34584.064649662694 - 31069.154712598054"
   ]
  },
  {
   "cell_type": "code",
   "execution_count": null,
   "metadata": {
    "collapsed": true
   },
   "outputs": [],
   "source": []
  },
  {
   "cell_type": "code",
   "execution_count": null,
   "metadata": {
    "collapsed": true
   },
   "outputs": [],
   "source": []
  },
  {
   "cell_type": "code",
   "execution_count": 40,
   "metadata": {
    "collapsed": true
   },
   "outputs": [],
   "source": [
    "def to_submission(state, available_gifts, gift_types):\n",
    "    n_gifts = [available_gifts[t] for t in gift_types]\n",
    "    output = []\n",
    "    for bag in state:\n",
    "        o = []\n",
    "        for index, count in enumerate(bag):   \n",
    "            gift_type = gift_types[index]\n",
    "            for i in range(count):\n",
    "                v = n_gifts[index] - 1\n",
    "                assert v >= 0, \"Gift index is negative\"\n",
    "                o.append(gift_type + '_%i' % v)\n",
    "                n_gifts[index] -= 1\n",
    "        output.append(o)  \n",
    "    return output\n",
    "\n",
    "def write_submission(state, filename):\n",
    "    with open(filename, 'w') as w:\n",
    "        w.write(\"Gifts\\n\")\n",
    "        for bag in state:\n",
    "            w.write(' '.join(bag) + '\\n')\n",
    "    \n"
   ]
  },
  {
   "cell_type": "code",
   "execution_count": 41,
   "metadata": {
    "collapsed": false
   },
   "outputs": [],
   "source": [
    "from datetime import datetime\n",
    "submission_file = '../results/submission_' + \\\n",
    "                  str(datetime.now().strftime(\"%Y-%m-%d-%H-%M\")) + \\\n",
    "                  '.csv'  \n",
    "        \n",
    "submission = to_submission(filled_bags, AVAILABLE_GIFTS, GIFT_TYPES)    \n",
    "write_submission(submission, submission_file)        "
   ]
  },
  {
   "cell_type": "markdown",
   "metadata": {},
   "source": [
    "### Some results \n",
    "\n",
    "- submission_2017-01-29-13-59.csv\n",
    "- random shuffle, s = 22\n",
    "- Local : 33224.557601849941, 84.790000000000006\n",
    "- Kaggle : 33534.45962\n"
   ]
  },
  {
   "cell_type": "code",
   "execution_count": null,
   "metadata": {
    "collapsed": true
   },
   "outputs": [],
   "source": []
  }
 ],
 "metadata": {
  "kernelspec": {
   "display_name": "Python 2",
   "language": "python",
   "name": "python2"
  },
  "language_info": {
   "codemirror_mode": {
    "name": "ipython",
    "version": 2
   },
   "file_extension": ".py",
   "mimetype": "text/x-python",
   "name": "python",
   "nbconvert_exporter": "python",
   "pygments_lexer": "ipython2",
   "version": "2.7.12"
  }
 },
 "nbformat": 4,
 "nbformat_minor": 0
}
