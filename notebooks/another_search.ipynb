{
 "cells": [
  {
   "cell_type": "markdown",
   "metadata": {},
   "source": [
    "Some tests"
   ]
  },
  {
   "cell_type": "code",
   "execution_count": 2,
   "metadata": {
    "collapsed": true
   },
   "outputs": [],
   "source": [
    "# https://ipython.org/ipython-doc/3/config/extensions/autoreload.html\n",
    "%load_ext autoreload\n",
    "%autoreload 2"
   ]
  },
  {
   "cell_type": "code",
   "execution_count": 13,
   "metadata": {
    "collapsed": true
   },
   "outputs": [],
   "source": [
    "from time import time\n",
    "from copy import deepcopy\n",
    "\n",
    "import numpy as np\n",
    "np.random.seed(2016)"
   ]
  },
  {
   "cell_type": "code",
   "execution_count": 4,
   "metadata": {
    "collapsed": true
   },
   "outputs": [],
   "source": [
    "import sys\n",
    "sys.path.append('../common')\n",
    "from utils import weight3 as weight_fn, weight_by_index\n",
    "from utils import bag_weight, score\n",
    "from utils import MAX_WEIGHT, AVAILABLE_GIFTS, GIFT_TYPES, N_TYPES, N_BAGS"
   ]
  },
  {
   "cell_type": "code",
   "execution_count": null,
   "metadata": {
    "collapsed": true
   },
   "outputs": [],
   "source": []
  },
  {
   "cell_type": "code",
   "execution_count": 5,
   "metadata": {
    "collapsed": false
   },
   "outputs": [
    {
     "data": {
      "text/plain": [
       "{'ball': 1.99876912083,\n",
       " 'bike': 20.0021364556,\n",
       " 'blocks': 11.6630321858,\n",
       " 'book': 2.00086596571,\n",
       " 'coal': 23.7866257713,\n",
       " 'doll': 4.9993625282,\n",
       " 'gloves': 1.40310067709,\n",
       " 'horse': 4.99527064522,\n",
       " 'train': 10.0234458084}"
      ]
     },
     "execution_count": 5,
     "metadata": {},
     "output_type": "execute_result"
    }
   ],
   "source": [
    "fixed_weights = {}\n",
    "# for i, g in enumerate(GIFT_TYPES):\n",
    "#     fixed_weights[g] = weight_fn(i, 5000) - 0.15\n",
    "\n",
    "\n",
    "# for i, t in enumerate(GIFT_TYPES):\n",
    "#     only_one_type_state = []\n",
    "#     state = list([0]*9)\n",
    "#     state[i] = 1\n",
    "#     for i in range(AVAILABLE_GIFTS[t]):\n",
    "#         only_one_type_state.append(state)\n",
    "#     s = score(only_one_type_state)\n",
    "#     print(\"Type : \",t, \" | Score : \", s, \", Score/nb : \", s / AVAILABLE_GIFTS[t])\n",
    "\n",
    "fixed_weights['ball'] = 1.99876912083\n",
    "fixed_weights['bike'] = 20.0021364556\n",
    "fixed_weights['blocks'] = 11.6630321858\n",
    "fixed_weights['book'] = 2.00086596571\n",
    "fixed_weights['coal'] = 23.7866257713\n",
    "fixed_weights['doll'] = 4.9993625282\n",
    "fixed_weights['gloves'] = 1.40310067709\n",
    "fixed_weights['horse'] = 4.99527064522\n",
    "fixed_weights['train'] = 10.0234458084\n",
    "fixed_weights"
   ]
  },
  {
   "cell_type": "code",
   "execution_count": 6,
   "metadata": {
    "collapsed": false
   },
   "outputs": [
    {
     "data": {
      "text/plain": [
       "50511.0646006388"
      ]
     },
     "execution_count": 6,
     "metadata": {},
     "output_type": "execute_result"
    }
   ],
   "source": [
    "total_weight = 0\n",
    "for g in GIFT_TYPES:\n",
    "    total_weight += fixed_weights[g] * AVAILABLE_GIFTS[g]\n",
    "total_weight"
   ]
  },
  {
   "cell_type": "code",
   "execution_count": null,
   "metadata": {
    "collapsed": true
   },
   "outputs": [],
   "source": []
  },
  {
   "cell_type": "code",
   "execution_count": 371,
   "metadata": {
    "collapsed": false
   },
   "outputs": [
    {
     "data": {
      "text/plain": [
       "((28.33058326128323, 17.001083020100811), 50.980299143417753)"
      ]
     },
     "execution_count": 371,
     "metadata": {},
     "output_type": "execute_result"
    }
   ],
   "source": [
    "def mean_std(state, count=100):\n",
    "    w = []\n",
    "    for c in range(count):\n",
    "        m = 0\n",
    "        for i, v in enumerate(state):\n",
    "            if v > 0:\n",
    "                for j in range(v):\n",
    "                    m += weight_by_index(i)\n",
    "        w.append(m)\n",
    "    return np.mean(w), np.std(w)\n",
    "\n",
    "\n",
    "def mean_n_sigma(state, n=1.25):\n",
    "    m, s = mean_std(state)\n",
    "    return m + n*s\n",
    "\n",
    "\n",
    "mean_std((0,0,0,0,1,1,0,0,0)), mean_n_sigma((0,0,0,0,1,1,0,0,0))"
   ]
  },
  {
   "cell_type": "code",
   "execution_count": 149,
   "metadata": {
    "collapsed": false
   },
   "outputs": [
    {
     "name": "stdout",
     "output_type": "stream",
     "text": [
      "0 ball 1.99876912083\n",
      "1 bike 20.0021364556\n",
      "2 blocks 11.6630321858\n",
      "3 book 2.00086596571\n",
      "4 coal 23.7866257713\n",
      "5 doll 4.9993625282\n",
      "6 gloves 1.40310067709\n",
      "7 horse 4.99527064522\n",
      "8 train 10.0234458084\n"
     ]
    }
   ],
   "source": [
    "for i, g in enumerate(GIFT_TYPES):\n",
    "    print(i, g, fixed_weights[g])"
   ]
  },
  {
   "cell_type": "code",
   "execution_count": 150,
   "metadata": {
    "collapsed": true
   },
   "outputs": [],
   "source": [
    "decreasing_weight_indices = [\n",
    "    4, 1, 2, 8, 5, 7, 3, 0, 6 \n",
    "]"
   ]
  },
  {
   "cell_type": "markdown",
   "metadata": {},
   "source": [
    "Fill bags"
   ]
  },
  {
   "cell_type": "code",
   "execution_count": 398,
   "metadata": {
    "collapsed": false
   },
   "outputs": [
    {
     "data": {
      "text/plain": [
       "{'ball': 1100,\n",
       " 'bike': 500,\n",
       " 'blocks': 1000,\n",
       " 'book': 1200,\n",
       " 'coal': 166,\n",
       " 'doll': 1000,\n",
       " 'gloves': 200,\n",
       " 'horse': 1000,\n",
       " 'train': 1000}"
      ]
     },
     "execution_count": 398,
     "metadata": {},
     "output_type": "execute_result"
    }
   ],
   "source": [
    "AVAILABLE_GIFTS"
   ]
  },
  {
   "cell_type": "code",
   "execution_count": 401,
   "metadata": {
    "collapsed": false
   },
   "outputs": [
    {
     "name": "stdout",
     "output_type": "stream",
     "text": [
      "Goal score :  42.5\n"
     ]
    }
   ],
   "source": [
    "available_gifts = [AVAILABLE_GIFTS[g] for g in GIFT_TYPES]\n",
    "total_state = []\n",
    "\n",
    "empty_state = [0,0,0,0,0,0,0,0,0]\n",
    "\n",
    "goal_score = 0.85 * MAX_WEIGHT\n",
    "print(\"Goal score : \", goal_score)"
   ]
  },
  {
   "cell_type": "code",
   "execution_count": 373,
   "metadata": {
    "collapsed": true
   },
   "outputs": [],
   "source": [
    "# count = 1\n",
    "# while len(total_state) < N_BAGS and count > 0:\n",
    "    \n",
    "#     # Generate a state\n",
    "#     state = empty_state\n",
    "    \n",
    "    \n",
    "    \n",
    "    \n",
    "#     count -= 1    "
   ]
  },
  {
   "cell_type": "code",
   "execution_count": null,
   "metadata": {
    "collapsed": true
   },
   "outputs": [],
   "source": [
    "def next_state(state, available_gifts, index):\n",
    "    probe_state = list(state)\n",
    "    probe_state[index] += 1\n",
    "\n",
    "    for i, t in enumerate(probe_state):\n",
    "        if t > available_gifts[i]:\n",
    "            return False\n",
    "\n",
    "    \n",
    "    "
   ]
  },
  {
   "cell_type": "code",
   "execution_count": 393,
   "metadata": {
    "collapsed": false
   },
   "outputs": [
    {
     "name": "stdout",
     "output_type": "stream",
     "text": [
      "1 weight :  0.0  | max_weight_limit :  0.0  | state:  [0, 0, 0, 0, 0, 0, 0, 0, 0]\n",
      "-> weight < goal_score :  [0, 0, 0, 0, 0, 0, 0, 0, 0] -> [0, 0, 0, 0, 1, 0, 0, 0, 0]\n",
      "2 weight :  22.659187118  | max_weight_limit :  47.6100986355  | state:  [0, 0, 0, 0, 1, 0, 0, 0, 0]\n",
      "-> weight < goal_score :  [0, 0, 0, 0, 1, 0, 0, 0, 0] -> [0, 0, 0, 0, 2, 0, 0, 0, 0]\n",
      "3 weight :  19.7264969996  | max_weight_limit :  73.6866692987  | state:  [0, 0, 0, 0, 2, 0, 0, 0, 0]\n",
      "-> weight >= MAX_WEIGHT :  [0, 0, 0, 0, 2, 0, 0, 0, 0] -> [0, 0, 0, 0, 1, 0, 0, 0, 0]\n",
      "4 weight :  19.2486826398  | max_weight_limit :  67.3413155474  | state:  [0, 1, 0, 0, 1, 0, 0, 0, 0]\n",
      "-> weight >= MAX_WEIGHT :  [0, 1, 0, 0, 1, 0, 0, 0, 0] -> [0, 0, 0, 0, 1, 0, 0, 0, 0]\n",
      "5 weight :  19.7296633771  | max_weight_limit :  59.1106173386  | state:  [0, 0, 1, 0, 1, 0, 0, 0, 0]\n",
      "-> weight >= MAX_WEIGHT :  [0, 0, 1, 0, 1, 0, 0, 0, 0] -> [0, 0, 0, 0, 1, 0, 0, 0, 0]\n",
      "6 weight :  19.3211285977  | max_weight_limit :  55.3780836525  | state:  [0, 0, 0, 0, 1, 0, 0, 0, 1]\n",
      "-> weight >= MAX_WEIGHT :  [0, 0, 0, 0, 1, 0, 0, 0, 1] -> [0, 0, 0, 0, 1, 0, 0, 0, 0]\n",
      "7 weight :  21.7269922193  | max_weight_limit :  49.832204371  | state:  [0, 0, 0, 0, 1, 1, 0, 0, 0]\n",
      "-> weight < goal_score :  [0, 0, 0, 0, 1, 1, 0, 0, 0] -> [0, 0, 0, 0, 1, 2, 0, 0, 0]\n",
      "8 weight :  18.8594010542  | max_weight_limit :  56.3953978404  | state:  [0, 0, 0, 0, 1, 2, 0, 0, 0]\n",
      "-> weight >= MAX_WEIGHT :  [0, 0, 0, 0, 1, 2, 0, 0, 0] -> [0, 0, 0, 0, 1, 1, 0, 0, 0]\n",
      "9 weight :  25.3591051173  | max_weight_limit :  52.5939664087  | state:  [0, 0, 0, 0, 1, 1, 0, 1, 0]\n",
      "-> weight >= MAX_WEIGHT :  [0, 0, 0, 0, 1, 1, 0, 1, 0] -> [0, 0, 0, 0, 1, 1, 0, 0, 0]\n",
      "10 weight :  20.6557466617  | max_weight_limit :  50.943885782  | state:  [0, 0, 0, 1, 1, 1, 0, 0, 0]\n",
      "-> weight >= MAX_WEIGHT :  [0, 0, 0, 1, 1, 1, 0, 0, 0] -> [0, 0, 0, 0, 1, 1, 0, 0, 0]\n",
      "11 weight :  19.0065982326  | max_weight_limit :  49.7881643933  | state:  [1, 0, 0, 0, 1, 1, 0, 0, 0]\n",
      "-> weight < goal_score :  [1, 0, 0, 0, 1, 1, 0, 0, 0] -> [2, 0, 0, 0, 1, 1, 0, 0, 0]\n",
      "12 weight :  19.2058938515  | max_weight_limit :  52.2037682508  | state:  [2, 0, 0, 0, 1, 1, 0, 0, 0]\n",
      "-> weight >= MAX_WEIGHT :  [2, 0, 0, 0, 1, 1, 0, 0, 0] -> [1, 0, 0, 0, 1, 1, 0, 0, 0]\n",
      "13 weight :  22.5935836647  | max_weight_limit :  51.5634179148  | state:  [1, 0, 0, 0, 1, 1, 1, 0, 0]\n",
      "-> weight >= MAX_WEIGHT :  [1, 0, 0, 0, 1, 1, 1, 0, 0] -> [1, 0, 0, 0, 1, 1, 0, 0, 0]\n",
      "-> Return best state under goal_score\n",
      "Found state:  [0, 0, 0, 0, 1, 0, 0, 0, 0]  :  (22.723013500325315, 0.0)\n"
     ]
    }
   ],
   "source": [
    "state = list(empty_state)\n",
    "gift_index = 0\n",
    "\n",
    "state_find_counter = 0 \n",
    "best_state = None\n",
    "best_weight = 0\n",
    "\n",
    "while True:\n",
    "    state_find_counter += 1\n",
    "    weight = score((state,))\n",
    "    max_weight_limit = mean_n_sigma(state)\n",
    "    if weight > best_weight:\n",
    "        best_state = state\n",
    "        best_weight = weight\n",
    "    \n",
    "#     print(state_find_counter, \"weight : \", weight, \" | max_weight_limit : \", max_weight_limit, \" | state: \", state)\n",
    "    if weight < goal_score and max_weight_limit < MAX_WEIGHT:\n",
    "        prev_state = list(state)\n",
    "\n",
    "        # \n",
    "        \n",
    "#         index = decreasing_weight_indices[gift_index]\n",
    "#         if available_gifts[index] > 0:\n",
    "#             state[index] += 1\n",
    "#         else:\n",
    "#         print(\"-> weight < goal_score : \", prev_state, \"->\", state)        \n",
    "        continue\n",
    "    elif max_weight_limit >= MAX_WEIGHT:\n",
    "#         print(\"-> weight >= MAX_WEIGHT : \", state, \"->\", prev_state)        \n",
    "        if gift_index < len(GIFT_TYPES)-1:\n",
    "            gift_index += 1\n",
    "            state = list(prev_state)\n",
    "            \n",
    "            \n",
    "            state[decreasing_weight_indices[gift_index]] += 1\n",
    "            \n",
    "            \n",
    "        else:\n",
    "#             print(\"-> Return best state under goal_score\")\n",
    "            state = best_state\n",
    "            break\n",
    "    elif weight >= goal_score and max_weight_limit < MAX_WEIGHT:\n",
    "        break\n",
    "    else:\n",
    "        print(state_find_counter, \"weight : \", weight, \" | max_weight_limit : \", max_weight_limit, \" | state: \", state)\n",
    "        raise Exception(\"WTF\")\n",
    "\n",
    "print(\"Found state: \", state, \" : \", score((state,), return_rejected=True))\n"
   ]
  },
  {
   "cell_type": "code",
   "execution_count": null,
   "metadata": {
    "collapsed": true
   },
   "outputs": [],
   "source": []
  }
 ],
 "metadata": {
  "kernelspec": {
   "display_name": "Python 3",
   "language": "python",
   "name": "python3"
  },
  "language_info": {
   "codemirror_mode": {
    "name": "ipython",
    "version": 3
   },
   "file_extension": ".py",
   "mimetype": "text/x-python",
   "name": "python",
   "nbconvert_exporter": "python",
   "pygments_lexer": "ipython3",
   "version": "3.5.2"
  }
 },
 "nbformat": 4,
 "nbformat_minor": 0
}
