{
 "cells": [
  {
   "cell_type": "markdown",
   "metadata": {},
   "source": [
    "Some tests"
   ]
  },
  {
   "cell_type": "code",
   "execution_count": 1,
   "metadata": {
    "collapsed": true
   },
   "outputs": [],
   "source": [
    "# https://ipython.org/ipython-doc/3/config/extensions/autoreload.html\n",
    "%load_ext autoreload\n",
    "%autoreload 2"
   ]
  },
  {
   "cell_type": "code",
   "execution_count": 2,
   "metadata": {
    "collapsed": true
   },
   "outputs": [],
   "source": [
    "from time import time\n",
    "from copy import deepcopy\n",
    "\n",
    "import numpy as np\n",
    "np.random.seed(2016)"
   ]
  },
  {
   "cell_type": "code",
   "execution_count": 3,
   "metadata": {
    "collapsed": true
   },
   "outputs": [],
   "source": [
    "import sys\n",
    "sys.path.append('../common')\n",
    "from utils import weight3 as weight_fn, weight_by_index\n",
    "from utils import bag_weight, score\n",
    "from utils import MAX_WEIGHT, AVAILABLE_GIFTS, GIFT_TYPES, N_TYPES, N_BAGS"
   ]
  },
  {
   "cell_type": "code",
   "execution_count": null,
   "metadata": {
    "collapsed": true
   },
   "outputs": [],
   "source": []
  },
  {
   "cell_type": "code",
   "execution_count": 4,
   "metadata": {
    "collapsed": false
   },
   "outputs": [
    {
     "data": {
      "text/plain": [
       "{'ball': 1.99876912083,\n",
       " 'bike': 20.0021364556,\n",
       " 'blocks': 11.6630321858,\n",
       " 'book': 2.00086596571,\n",
       " 'coal': 23.7866257713,\n",
       " 'doll': 4.9993625282,\n",
       " 'gloves': 1.40310067709,\n",
       " 'horse': 4.99527064522,\n",
       " 'train': 10.0234458084}"
      ]
     },
     "execution_count": 4,
     "metadata": {},
     "output_type": "execute_result"
    }
   ],
   "source": [
    "fixed_weights = {}\n",
    "# for i, g in enumerate(GIFT_TYPES):\n",
    "#     fixed_weights[g] = weight_fn(i, 5000) - 0.15\n",
    "\n",
    "\n",
    "# for i, t in enumerate(GIFT_TYPES):\n",
    "#     only_one_type_state = []\n",
    "#     state = list([0]*9)\n",
    "#     state[i] = 1\n",
    "#     for i in range(AVAILABLE_GIFTS[t]):\n",
    "#         only_one_type_state.append(state)\n",
    "#     s = score(only_one_type_state)\n",
    "#     print(\"Type : \",t, \" | Score : \", s, \", Score/nb : \", s / AVAILABLE_GIFTS[t])\n",
    "\n",
    "fixed_weights['ball'] = 1.99876912083\n",
    "fixed_weights['bike'] = 20.0021364556\n",
    "fixed_weights['blocks'] = 11.6630321858\n",
    "fixed_weights['book'] = 2.00086596571\n",
    "fixed_weights['coal'] = 23.7866257713\n",
    "fixed_weights['doll'] = 4.9993625282\n",
    "fixed_weights['gloves'] = 1.40310067709\n",
    "fixed_weights['horse'] = 4.99527064522\n",
    "fixed_weights['train'] = 10.0234458084\n",
    "fixed_weights"
   ]
  },
  {
   "cell_type": "code",
   "execution_count": 5,
   "metadata": {
    "collapsed": false
   },
   "outputs": [
    {
     "data": {
      "text/plain": [
       "50511.0646006388"
      ]
     },
     "execution_count": 5,
     "metadata": {},
     "output_type": "execute_result"
    }
   ],
   "source": [
    "total_weight = 0\n",
    "for g in GIFT_TYPES:\n",
    "    total_weight += fixed_weights[g] * AVAILABLE_GIFTS[g]\n",
    "total_weight"
   ]
  },
  {
   "cell_type": "code",
   "execution_count": null,
   "metadata": {
    "collapsed": true
   },
   "outputs": [],
   "source": []
  },
  {
   "cell_type": "code",
   "execution_count": 6,
   "metadata": {
    "collapsed": false
   },
   "outputs": [
    {
     "data": {
      "text/plain": [
       "((28.553722377229636, 17.352693993448447), 29.147358850484014)"
      ]
     },
     "execution_count": 6,
     "metadata": {},
     "output_type": "execute_result"
    }
   ],
   "source": [
    "def mean_std(state, count=100):\n",
    "    w = []\n",
    "    for c in range(count):\n",
    "        m = 0\n",
    "        for i, v in enumerate(state):\n",
    "            if v > 0:\n",
    "                for j in range(v):\n",
    "                    m += weight_by_index(i)\n",
    "        w.append(m)\n",
    "    return np.mean(w), np.std(w)\n",
    "\n",
    "\n",
    "def mean_n_sigma(state, n=0.0):\n",
    "    m, s = mean_std(state)\n",
    "    return m + n*s\n",
    "\n",
    "\n",
    "mean_std((0,0,0,0,1,1,0,0,0)), mean_n_sigma((0,0,0,0,1,1,0,0,0))"
   ]
  },
  {
   "cell_type": "code",
   "execution_count": 7,
   "metadata": {
    "collapsed": false
   },
   "outputs": [
    {
     "name": "stdout",
     "output_type": "stream",
     "text": [
      "0 ball 1.99876912083\n",
      "1 bike 20.0021364556\n",
      "2 blocks 11.6630321858\n",
      "3 book 2.00086596571\n",
      "4 coal 23.7866257713\n",
      "5 doll 4.9993625282\n",
      "6 gloves 1.40310067709\n",
      "7 horse 4.99527064522\n",
      "8 train 10.0234458084\n"
     ]
    }
   ],
   "source": [
    "for i, g in enumerate(GIFT_TYPES):\n",
    "    print(i, g, fixed_weights[g])"
   ]
  },
  {
   "cell_type": "code",
   "execution_count": 16,
   "metadata": {
    "collapsed": true
   },
   "outputs": [],
   "source": [
    "decreasing_weight_indices = [\n",
    "    4, 1, 2, 8, 5, 7, 3, 0, 6 \n",
    "]\n",
    "\n",
    "empty_state = [0,0,0,0,0,0,0,0,0]\n",
    "available_gifts = [AVAILABLE_GIFTS[g] for g in GIFT_TYPES]\n",
    "goal_score = 0.80 * MAX_WEIGHT"
   ]
  },
  {
   "cell_type": "markdown",
   "metadata": {},
   "source": [
    "Fill bags"
   ]
  },
  {
   "cell_type": "code",
   "execution_count": 17,
   "metadata": {
    "collapsed": false
   },
   "outputs": [
    {
     "data": {
      "text/plain": [
       "{'ball': 1100,\n",
       " 'bike': 500,\n",
       " 'blocks': 1000,\n",
       " 'book': 1200,\n",
       " 'coal': 166,\n",
       " 'doll': 1000,\n",
       " 'gloves': 200,\n",
       " 'horse': 1000,\n",
       " 'train': 1000}"
      ]
     },
     "execution_count": 17,
     "metadata": {},
     "output_type": "execute_result"
    }
   ],
   "source": [
    "AVAILABLE_GIFTS"
   ]
  },
  {
   "cell_type": "code",
   "execution_count": 18,
   "metadata": {
    "collapsed": false
   },
   "outputs": [],
   "source": [
    "def is_available(state, available_gifts):\n",
    "    for i, t in enumerate(state):\n",
    "        if t > available_gifts[i]:\n",
    "            return False\n",
    "    return True\n",
    "\n",
    "\n",
    "def next_state(state, gift_index, available_gifts):\n",
    "    prob_state = list(state)\n",
    "    while gift_index < len(GIFT_TYPES)-1:\n",
    "        index = decreasing_weight_indices[gift_index]\n",
    "        prob_state[index] += 1        \n",
    "        if is_available(prob_state, available_gifts):\n",
    "            return prob_state, gift_index\n",
    "        else:\n",
    "            prob_state = list(state)\n",
    "            gift_index += 1\n",
    "            continue\n",
    "    return None, gift_index"
   ]
  },
  {
   "cell_type": "code",
   "execution_count": 19,
   "metadata": {
    "collapsed": true
   },
   "outputs": [
    {
     "name": "stdout",
     "output_type": "stream",
     "text": [
      "1 weight :  0.0  | max_weight_limit :  0.0  | state:  [0, 0, 0, 0, 0, 0, 0, 0, 0]\n",
      "=> weight < goal_score :  [0, 0, 0, 0, 0, 0, 0, 0, 0] -> [0, 0, 0, 0, 1, 0, 0, 0, 0]\n",
      "2 weight :  25.624763635  | max_weight_limit :  36.558197073  | state:  [0, 0, 0, 0, 1, 0, 0, 0, 0]\n",
      "=> weight < goal_score :  [0, 0, 0, 0, 1, 0, 0, 0, 0] -> [0, 0, 0, 0, 2, 0, 0, 0, 0]\n",
      "3 weight :  12.7633948608  | max_weight_limit :  61.0551581247  | state:  [0, 0, 0, 0, 2, 0, 0, 0, 0]\n",
      "=> max_weight_limit >= MAX_WEIGHT :  [0, 0, 0, 0, 2, 0, 0, 0, 0] -> [0, 0, 0, 0, 1, 0, 0, 0, 0]\n",
      "=> max_weight_limit >= MAX_WEIGHT :  [0, 0, 0, 0, 1, 0, 0, 0, 0] -> [0, 1, 0, 0, 1, 0, 0, 0, 0]\n",
      "4 weight :  16.308263334  | max_weight_limit :  55.8633405293  | state:  [0, 1, 0, 0, 1, 0, 0, 0, 0]\n",
      "=> max_weight_limit >= MAX_WEIGHT :  [0, 1, 0, 0, 1, 0, 0, 0, 0] -> [0, 0, 0, 0, 1, 0, 0, 0, 0]\n",
      "=> max_weight_limit >= MAX_WEIGHT :  [0, 0, 0, 0, 1, 0, 0, 0, 0] -> [0, 0, 1, 0, 1, 0, 0, 0, 0]\n",
      "5 weight :  18.3511805951  | max_weight_limit :  46.9813383754  | state:  [0, 0, 1, 0, 1, 0, 0, 0, 0]\n",
      "=> weight < goal_score :  [0, 0, 1, 0, 1, 0, 0, 0, 0] -> [0, 0, 2, 0, 1, 0, 0, 0, 0]\n",
      "6 weight :  16.2735341076  | max_weight_limit :  58.6182155734  | state:  [0, 0, 2, 0, 1, 0, 0, 0, 0]\n",
      "=> max_weight_limit >= MAX_WEIGHT :  [0, 0, 2, 0, 1, 0, 0, 0, 0] -> [0, 0, 1, 0, 1, 0, 0, 0, 0]\n",
      "=> max_weight_limit >= MAX_WEIGHT :  [0, 0, 1, 0, 1, 0, 0, 0, 0] -> [0, 0, 1, 0, 1, 0, 0, 0, 1]\n",
      "7 weight :  14.6153822267  | max_weight_limit :  58.058540862  | state:  [0, 0, 1, 0, 1, 0, 0, 0, 1]\n",
      "=> max_weight_limit >= MAX_WEIGHT :  [0, 0, 1, 0, 1, 0, 0, 0, 1] -> [0, 0, 1, 0, 1, 0, 0, 0, 0]\n",
      "=> max_weight_limit >= MAX_WEIGHT :  [0, 0, 1, 0, 1, 0, 0, 0, 0] -> [0, 0, 1, 0, 1, 1, 0, 0, 0]\n",
      "8 weight :  18.238839517  | max_weight_limit :  50.7209735065  | state:  [0, 0, 1, 0, 1, 1, 0, 0, 0]\n",
      "=> max_weight_limit >= MAX_WEIGHT :  [0, 0, 1, 0, 1, 1, 0, 0, 0] -> [0, 0, 1, 0, 1, 0, 0, 0, 0]\n",
      "=> max_weight_limit >= MAX_WEIGHT :  [0, 0, 1, 0, 1, 0, 0, 0, 0] -> [0, 0, 1, 0, 1, 0, 0, 1, 0]\n",
      "9 weight :  18.5795735892  | max_weight_limit :  52.4371354653  | state:  [0, 0, 1, 0, 1, 0, 0, 1, 0]\n",
      "=> max_weight_limit >= MAX_WEIGHT :  [0, 0, 1, 0, 1, 0, 0, 1, 0] -> [0, 0, 1, 0, 1, 0, 0, 0, 0]\n",
      "=> max_weight_limit >= MAX_WEIGHT :  [0, 0, 1, 0, 1, 0, 0, 0, 0] -> [0, 0, 1, 1, 1, 0, 0, 0, 0]\n",
      "10 weight :  17.4701043528  | max_weight_limit :  50.6109895172  | state:  [0, 0, 1, 1, 1, 0, 0, 0, 0]\n",
      "=> max_weight_limit >= MAX_WEIGHT :  [0, 0, 1, 1, 1, 0, 0, 0, 0] -> [0, 0, 1, 0, 1, 0, 0, 0, 0]\n",
      "=> max_weight_limit >= MAX_WEIGHT :  [0, 0, 1, 0, 1, 0, 0, 0, 0] -> [1, 0, 1, 0, 1, 0, 0, 0, 0]\n",
      "11 weight :  18.4590591779  | max_weight_limit :  52.2483679667  | state:  [1, 0, 1, 0, 1, 0, 0, 0, 0]\n",
      "=> max_weight_limit >= MAX_WEIGHT :  [1, 0, 1, 0, 1, 0, 0, 0, 0] -> [0, 0, 1, 0, 1, 0, 0, 0, 0]\n",
      "=> Return best state under goal_score : gift_index= 8\n",
      "Found state:  [0, 0, 0, 0, 1, 0, 0, 0, 0]  :  (20.184495752893962, 0.0)\n"
     ]
    },
    {
     "data": {
      "text/plain": [
       "[0, 0, 0, 0, 1, 0, 0, 0, 0]"
      ]
     },
     "execution_count": 19,
     "metadata": {},
     "output_type": "execute_result"
    }
   ],
   "source": [
    "def fill_bag(state, gift_index, available_gifts, verbose=0):\n",
    "\n",
    "    state_find_counter = 0 \n",
    "    best_state = None\n",
    "    best_weight = 0\n",
    "\n",
    "    while state_find_counter < 500:\n",
    "        state_find_counter += 1\n",
    "        weight = score((state,))\n",
    "        max_weight_limit = mean_n_sigma(state, n=0.75)\n",
    "        if weight > best_weight:\n",
    "            best_state = state\n",
    "            best_weight = weight\n",
    "\n",
    "        if verbose > 1:\n",
    "            print(state_find_counter, \"weight : \", weight, \" | max_weight_limit : \", max_weight_limit, \" | state: \", state)\n",
    "        if weight < goal_score and max_weight_limit < MAX_WEIGHT:\n",
    "            prev_state = list(state)\n",
    "            # Get a next state :\n",
    "            state, gift_index = next_state(prev_state, gift_index, available_gifts)\n",
    "            if state is None:\n",
    "                if verbose > 1:\n",
    "                    print(\"=> Return best state under goal_score : gift_index=\", gift_index)\n",
    "                    state = best_state\n",
    "                break\n",
    "\n",
    "            if verbose > 1:\n",
    "                print(\"=> weight < goal_score : \", prev_state, \"->\", state)\n",
    "\n",
    "        elif max_weight_limit >= MAX_WEIGHT:\n",
    "            if verbose > 1:\n",
    "                print(\"=> max_weight_limit >= MAX_WEIGHT : \", state, \"->\", prev_state)        \n",
    "            state = list(prev_state)\n",
    "\n",
    "            # Get a next state :\n",
    "            gift_index += 1\n",
    "            state, gift_index = next_state(prev_state, gift_index, available_gifts)\n",
    "            if state is None:\n",
    "                if verbose > 1:\n",
    "                    print(\"=> Return best state under goal_score : gift_index=\", gift_index)\n",
    "                state = best_state\n",
    "                break\n",
    "\n",
    "            if verbose > 1:\n",
    "                print(\"=> max_weight_limit >= MAX_WEIGHT : \", prev_state, \"->\", state)\n",
    "\n",
    "        elif weight >= goal_score and max_weight_limit < MAX_WEIGHT:\n",
    "            break\n",
    "        else:\n",
    "            print(state_find_counter, \"weight : \", weight, \" | max_weight_limit : \", max_weight_limit, \" | state: \", state)\n",
    "            raise Exception(\"WTF\")\n",
    "\n",
    "    if verbose > 0:\n",
    "        print(\"Found state: \", state, \" : \", score((state,), return_rejected=True))\n",
    "    return state\n",
    "\n",
    "\n",
    "def update_available_gifts(available_gifts, state):\n",
    "    for i, t in enumerate(state):\n",
    "        assert available_gifts[i] - t >= 0, \"Found state is not available : {}, {}\".format(state, available_gifts)\n",
    "        available_gifts[i] = available_gifts[i] - t\n",
    "\n",
    "        \n",
    "state = list(empty_state)\n",
    "gift_index = 0\n",
    "fill_bag(state, gift_index, available_gifts, 2)        "
   ]
  },
  {
   "cell_type": "code",
   "execution_count": null,
   "metadata": {
    "collapsed": false
   },
   "outputs": [],
   "source": [
    "available_gifts = [AVAILABLE_GIFTS[g] for g in GIFT_TYPES]\n",
    "total_state = []\n",
    "\n",
    "empty_state = [0,0,0,0,0,0,0,0,0]\n",
    "\n",
    "goal_score = 0.80 * MAX_WEIGHT\n",
    "print(\"Goal score : \", goal_score)"
   ]
  },
  {
   "cell_type": "code",
   "execution_count": null,
   "metadata": {
    "collapsed": false,
    "scrolled": true
   },
   "outputs": [],
   "source": [
    "count = 1000\n",
    "while len(total_state) < N_BAGS and count > 0:\n",
    "    \n",
    "    # Generate a state\n",
    "    state = list(empty_state)\n",
    "    gift_index = 0\n",
    "    result = fill_bag(state, gift_index, available_gifts, 1)            \n",
    "    total_state.append(result)\n",
    "    update_available_gifts(available_gifts, result)    \n",
    "    \n",
    "    count -= 1    "
   ]
  },
  {
   "cell_type": "code",
   "execution_count": null,
   "metadata": {
    "collapsed": false
   },
   "outputs": [],
   "source": [
    "available_gifts, len(total_state)"
   ]
  },
  {
   "cell_type": "code",
   "execution_count": null,
   "metadata": {
    "collapsed": false
   },
   "outputs": [],
   "source": [
    "score(total_state, return_rejected=True), score(total_state) / len(total_state)"
   ]
  },
  {
   "cell_type": "markdown",
   "metadata": {
    "collapsed": true
   },
   "source": [
    "### Try random state generation"
   ]
  },
  {
   "cell_type": "code",
   "execution_count": 21,
   "metadata": {
    "collapsed": false
   },
   "outputs": [],
   "source": [
    "def gen_random_state(n=1, state=None):\n",
    "    state = list([0] * len(GIFT_TYPES)) if state is None else state\n",
    "    indices = np.random.randint(len(GIFT_TYPES), size=n)\n",
    "    for index in indices:\n",
    "        state[index] += 1 if np.random.rand() > 0.5 else -1\n",
    "        state[index] = max(0, state[index])\n",
    "    return state\n",
    "\n",
    "state = None"
   ]
  },
  {
   "cell_type": "code",
   "execution_count": 22,
   "metadata": {
    "collapsed": false
   },
   "outputs": [
    {
     "data": {
      "text/plain": [
       "([0, 0, 1, 0, 0, 0, 0, 0, 0], 11.595618123166147)"
      ]
     },
     "execution_count": 22,
     "metadata": {},
     "output_type": "execute_result"
    }
   ],
   "source": [
    "state = gen_random_state(state=state)\n",
    "state, score((state,))"
   ]
  },
  {
   "cell_type": "code",
   "execution_count": 26,
   "metadata": {
    "collapsed": false,
    "scrolled": true
   },
   "outputs": [
    {
     "name": "stdout",
     "output_type": "stream",
     "text": [
      "1 weight :  0.0  | state:  [0, 0, 0, 0, 0, 0, 0, 0, 0]\n",
      "2 weight :  0.0  | state:  [0, 0, 0, 0, 0, 0, 0, 0, 0]\n",
      "3 weight :  0.0  | state:  [0, 0, 0, 0, 0, 0, 0, 0, 0]\n",
      "4 weight :  0.0  | state:  [0, 0, 0, 0, 0, 0, 0, 0, 0]\n",
      "5 weight :  0.0  | state:  [0, 0, 0, 0, 0, 0, 0, 0, 0]\n",
      "6 weight :  24.7040819319  | state:  [0, 0, 0, 0, 1, 0, 0, 0, 0]\n",
      "- best_state <- [0, 0, 0, 0, 1, 0, 0, 0, 0]\n",
      "7 weight :  21.1754977593  | state:  [0, 0, 0, 0, 1, 0, 1, 0, 0]\n",
      "8 weight :  24.489207862  | state:  [0, 0, 0, 0, 1, 0, 1, 0, 0]\n",
      "9 weight :  22.5101136655  | state:  [0, 0, 0, 0, 1, 0, 0, 0, 0]\n",
      "10 weight :  24.3176898165  | state:  [0, 0, 0, 0, 1, 0, 0, 0, 0]\n",
      "11 weight :  19.7914976461  | state:  [0, 0, 0, 0, 2, 0, 0, 0, 0]\n",
      "12 weight :  11.4653775027  | state:  [0, 0, 0, 0, 2, 1, 0, 0, 0]\n",
      "13 weight :  6.6744011254  | state:  [0, 1, 0, 0, 2, 1, 0, 0, 0]\n",
      "14 weight :  10.0513681992  | state:  [0, 1, 0, 0, 2, 1, 0, 0, 0]\n",
      "15 weight :  5.074278713  | state:  [0, 1, 0, 0, 2, 1, 0, 0, 0]\n",
      "16 weight :  9.52622978785  | state:  [0, 1, 0, 0, 2, 1, 0, 0, 0]\n",
      "17 weight :  7.32455314416  | state:  [0, 1, 0, 0, 2, 1, 0, 0, 0]\n",
      "18 weight :  13.8116641769  | state:  [0, 1, 0, 0, 1, 1, 0, 0, 0]\n",
      "19 weight :  14.2598795628  | state:  [0, 1, 1, 0, 1, 1, 0, 0, 0]\n",
      "20 weight :  3.92484571617  | state:  [0, 1, 1, 0, 2, 1, 0, 0, 0]\n",
      "21 weight :  6.05177680667  | state:  [0, 1, 1, 0, 2, 1, 0, 0, 0]\n",
      "22 weight :  8.3361601081  | state:  [0, 1, 0, 0, 2, 1, 0, 0, 0]\n",
      "23 weight :  1.20168123627  | state:  [0, 1, 0, 0, 3, 1, 0, 0, 0]\n",
      "24 weight :  6.51586058489  | state:  [0, 1, 0, 0, 2, 1, 0, 0, 0]\n",
      "25 weight :  6.59135928662  | state:  [0, 1, 0, 0, 2, 1, 0, 1, 0]\n",
      "26 weight :  3.67171297086  | state:  [0, 1, 0, 0, 2, 1, 0, 0, 0]\n",
      "27 weight :  10.5804368224  | state:  [1, 1, 0, 0, 2, 1, 0, 0, 0]\n",
      "28 weight :  5.34029350151  | state:  [1, 1, 0, 0, 2, 0, 0, 0, 0]\n",
      "29 weight :  3.94622727601  | state:  [1, 1, 0, 0, 3, 0, 0, 0, 0]\n",
      "30 weight :  1.12368040968  | state:  [1, 1, 1, 0, 3, 0, 0, 0, 0]\n",
      "31 weight :  0.716784425408  | state:  [1, 1, 1, 0, 3, 0, 0, 1, 0]\n",
      "32 weight :  3.36865560573  | state:  [1, 1, 0, 0, 3, 0, 0, 1, 0]\n",
      "33 weight :  2.92795292129  | state:  [0, 1, 0, 0, 3, 0, 0, 1, 0]\n",
      "34 weight :  1.12862115259  | state:  [0, 1, 1, 0, 3, 0, 0, 1, 0]\n",
      "35 weight :  2.2430575753  | state:  [0, 1, 1, 1, 3, 0, 0, 1, 0]\n",
      "36 weight :  0.934692084401  | state:  [0, 1, 1, 1, 3, 1, 0, 1, 0]\n",
      "37 weight :  0.913559684145  | state:  [0, 1, 1, 1, 3, 1, 0, 1, 0]\n",
      "38 weight :  0.0  | state:  [0, 1, 2, 1, 3, 1, 0, 1, 0]\n",
      "39 weight :  0.0  | state:  [0, 1, 2, 1, 2, 1, 0, 1, 0]\n",
      "40 weight :  0.0  | state:  [0, 1, 2, 1, 2, 1, 0, 2, 0]\n",
      "41 weight :  0.0  | state:  [0, 1, 2, 1, 2, 1, 0, 2, 0]\n",
      "42 weight :  1.34689696747  | state:  [0, 1, 2, 1, 2, 0, 0, 2, 0]\n",
      "43 weight :  1.614314592  | state:  [0, 1, 2, 1, 2, 0, 0, 2, 0]\n",
      "44 weight :  0.0  | state:  [0, 1, 2, 1, 2, 0, 0, 2, 1]\n",
      "45 weight :  0.0  | state:  [0, 1, 2, 1, 2, 0, 0, 2, 2]\n",
      "46 weight :  0.0  | state:  [0, 1, 3, 1, 2, 0, 0, 2, 2]\n",
      "47 weight :  0.0  | state:  [0, 1, 3, 1, 2, 1, 0, 2, 2]\n",
      "48 weight :  0.0  | state:  [0, 1, 3, 1, 2, 1, 0, 3, 2]\n",
      "49 weight :  0.0  | state:  [0, 1, 4, 1, 2, 1, 0, 3, 2]\n",
      "50 weight :  0.0  | state:  [0, 2, 4, 1, 2, 1, 0, 3, 2]\n",
      "51 weight :  0.0  | state:  [0, 2, 4, 1, 2, 1, 0, 3, 2]\n",
      "52 weight :  0.0  | state:  [0, 2, 4, 0, 2, 1, 0, 3, 2]\n",
      "53 weight :  0.0  | state:  [0, 1, 4, 0, 2, 1, 0, 3, 2]\n",
      "54 weight :  0.0  | state:  [0, 1, 4, 0, 2, 1, 0, 4, 2]\n",
      "55 weight :  0.0  | state:  [0, 1, 4, 0, 2, 1, 0, 4, 2]\n",
      "56 weight :  0.0  | state:  [0, 1, 4, 0, 2, 1, 0, 4, 2]\n",
      "57 weight :  0.0  | state:  [0, 1, 4, 0, 3, 1, 0, 4, 2]\n",
      "58 weight :  0.0  | state:  [0, 1, 3, 0, 3, 1, 0, 4, 2]\n",
      "59 weight :  0.0  | state:  [0, 1, 3, 0, 3, 2, 0, 4, 2]\n",
      "60 weight :  0.0  | state:  [0, 1, 2, 0, 3, 2, 0, 4, 2]\n",
      "61 weight :  0.0  | state:  [0, 1, 2, 0, 3, 2, 0, 3, 2]\n",
      "62 weight :  0.0  | state:  [0, 0, 2, 0, 3, 2, 0, 3, 2]\n",
      "63 weight :  0.0  | state:  [0, 0, 2, 0, 4, 2, 0, 3, 2]\n",
      "64 weight :  0.0  | state:  [0, 0, 2, 0, 4, 2, 0, 3, 2]\n",
      "65 weight :  0.0  | state:  [0, 0, 1, 0, 4, 2, 0, 3, 2]\n",
      "66 weight :  0.0  | state:  [0, 0, 1, 0, 4, 2, 0, 3, 2]\n",
      "67 weight :  0.0  | state:  [0, 0, 1, 0, 4, 2, 0, 3, 2]\n",
      "68 weight :  0.0  | state:  [0, 0, 1, 0, 4, 2, 0, 3, 2]\n",
      "69 weight :  0.0  | state:  [0, 1, 1, 0, 4, 2, 0, 3, 2]\n",
      "70 weight :  0.0  | state:  [0, 2, 1, 0, 4, 2, 0, 3, 2]\n",
      "71 weight :  0.0  | state:  [0, 2, 1, 0, 3, 2, 0, 3, 2]\n",
      "72 weight :  0.0  | state:  [1, 2, 1, 0, 3, 2, 0, 3, 2]\n",
      "73 weight :  0.0  | state:  [1, 2, 1, 0, 3, 2, 0, 4, 2]\n",
      "74 weight :  0.0  | state:  [1, 2, 1, 0, 4, 2, 0, 4, 2]\n",
      "75 weight :  0.0  | state:  [1, 2, 0, 0, 4, 2, 0, 4, 2]\n",
      "76 weight :  0.0  | state:  [1, 3, 0, 0, 4, 2, 0, 4, 2]\n",
      "77 weight :  0.0  | state:  [1, 3, 0, 0, 4, 2, 0, 4, 1]\n",
      "78 weight :  0.0  | state:  [1, 3, 0, 0, 4, 2, 0, 3, 1]\n",
      "79 weight :  0.0  | state:  [1, 3, 0, 0, 4, 2, 0, 3, 1]\n",
      "80 weight :  0.0  | state:  [1, 3, 0, 0, 3, 2, 0, 3, 1]\n",
      "81 weight :  0.0  | state:  [1, 3, 0, 0, 3, 2, 0, 4, 1]\n",
      "82 weight :  0.0  | state:  [2, 3, 0, 0, 3, 2, 0, 4, 1]\n",
      "83 weight :  0.0  | state:  [2, 3, 0, 0, 3, 2, 0, 4, 0]\n",
      "84 weight :  0.0  | state:  [3, 3, 0, 0, 3, 2, 0, 4, 0]\n",
      "85 weight :  0.0  | state:  [3, 3, 0, 0, 3, 3, 0, 4, 0]\n",
      "86 weight :  0.0  | state:  [3, 3, 0, 0, 3, 3, 0, 5, 0]\n",
      "87 weight :  0.0  | state:  [3, 3, 0, 0, 4, 3, 0, 5, 0]\n",
      "88 weight :  0.0  | state:  [3, 3, 0, 0, 4, 3, 0, 5, 1]\n",
      "89 weight :  0.0  | state:  [3, 3, 0, 0, 4, 3, 0, 5, 2]\n",
      "90 weight :  0.0  | state:  [3, 3, 0, 0, 4, 3, 1, 5, 2]\n",
      "91 weight :  0.0  | state:  [3, 3, 0, 0, 4, 4, 1, 5, 2]\n",
      "92 weight :  0.0  | state:  [3, 3, 0, 0, 4, 4, 1, 4, 2]\n",
      "93 weight :  0.0  | state:  [3, 3, 0, 0, 4, 4, 1, 4, 3]\n",
      "94 weight :  0.0  | state:  [3, 3, 0, 0, 5, 4, 1, 4, 3]\n",
      "95 weight :  0.0  | state:  [3, 3, 0, 0, 6, 4, 1, 4, 3]\n",
      "96 weight :  0.0  | state:  [3, 3, 0, 0, 6, 4, 1, 4, 4]\n",
      "97 weight :  0.0  | state:  [3, 4, 0, 0, 6, 4, 1, 4, 4]\n",
      "98 weight :  0.0  | state:  [3, 4, 0, 0, 6, 4, 1, 4, 4]\n",
      "99 weight :  0.0  | state:  [3, 4, 0, 1, 6, 4, 1, 4, 4]\n",
      "100 weight :  0.0  | state:  [3, 4, 0, 0, 6, 4, 1, 4, 4]\n",
      "101 weight :  0.0  | state:  [4, 4, 0, 0, 6, 4, 1, 4, 4]\n",
      "102 weight :  0.0  | state:  [4, 4, 0, 0, 5, 4, 1, 4, 4]\n",
      "103 weight :  0.0  | state:  [4, 4, 0, 0, 5, 4, 1, 5, 4]\n",
      "104 weight :  0.0  | state:  [4, 4, 0, 0, 5, 4, 1, 6, 4]\n",
      "105 weight :  0.0  | state:  [4, 4, 0, 0, 5, 4, 1, 5, 4]\n",
      "106 weight :  0.0  | state:  [4, 4, 0, 0, 5, 4, 1, 5, 4]\n",
      "107 weight :  0.0  | state:  [4, 4, 0, 0, 5, 5, 1, 5, 4]\n",
      "108 weight :  0.0  | state:  [4, 4, 0, 0, 5, 6, 1, 5, 4]\n",
      "109 weight :  0.0  | state:  [4, 4, 0, 0, 5, 7, 1, 5, 4]\n",
      "110 weight :  0.0  | state:  [3, 4, 0, 0, 5, 7, 1, 5, 4]\n",
      "111 weight :  0.0  | state:  [2, 4, 0, 0, 5, 7, 1, 5, 4]\n",
      "112 weight :  0.0  | state:  [2, 4, 0, 0, 5, 7, 1, 4, 4]\n",
      "113 weight :  0.0  | state:  [2, 4, 1, 0, 5, 7, 1, 4, 4]\n",
      "114 weight :  0.0  | state:  [2, 4, 2, 0, 5, 7, 1, 4, 4]\n",
      "115 weight :  0.0  | state:  [2, 4, 2, 0, 6, 7, 1, 4, 4]\n",
      "116 weight :  0.0  | state:  [3, 4, 2, 0, 6, 7, 1, 4, 4]\n",
      "117 weight :  0.0  | state:  [4, 4, 2, 0, 6, 7, 1, 4, 4]\n",
      "118 weight :  0.0  | state:  [4, 4, 2, 1, 6, 7, 1, 4, 4]\n",
      "119 weight :  0.0  | state:  [5, 4, 2, 1, 6, 7, 1, 4, 4]\n",
      "120 weight :  0.0  | state:  [5, 4, 2, 1, 6, 6, 1, 4, 4]\n",
      "121 weight :  0.0  | state:  [5, 5, 2, 1, 6, 6, 1, 4, 4]\n",
      "122 weight :  0.0  | state:  [6, 5, 2, 1, 6, 6, 1, 4, 4]\n",
      "123 weight :  0.0  | state:  [6, 5, 3, 1, 6, 6, 1, 4, 4]\n",
      "124 weight :  0.0  | state:  [6, 4, 3, 1, 6, 6, 1, 4, 4]\n",
      "125 weight :  0.0  | state:  [6, 4, 3, 1, 6, 6, 0, 4, 4]\n",
      "126 weight :  0.0  | state:  [6, 4, 3, 1, 6, 6, 0, 4, 5]\n",
      "127 weight :  0.0  | state:  [6, 4, 2, 1, 6, 6, 0, 4, 5]\n",
      "128 weight :  0.0  | state:  [6, 4, 2, 1, 6, 7, 0, 4, 5]\n",
      "129 weight :  0.0  | state:  [6, 4, 2, 1, 6, 7, 0, 4, 5]\n",
      "130 weight :  0.0  | state:  [6, 3, 2, 1, 6, 7, 0, 4, 5]\n",
      "131 weight :  0.0  | state:  [7, 3, 2, 1, 6, 7, 0, 4, 5]\n",
      "132 weight :  0.0  | state:  [7, 3, 2, 1, 6, 7, 0, 4, 6]\n",
      "133 weight :  0.0  | state:  [7, 3, 3, 1, 6, 7, 0, 4, 6]\n",
      "134 weight :  0.0  | state:  [6, 3, 3, 1, 6, 7, 0, 4, 6]\n",
      "135 weight :  0.0  | state:  [6, 3, 3, 1, 6, 7, 0, 4, 7]\n",
      "136 weight :  0.0  | state:  [6, 3, 3, 1, 6, 7, 0, 4, 6]\n",
      "137 weight :  0.0  | state:  [6, 3, 3, 1, 6, 7, 0, 5, 6]\n",
      "138 weight :  0.0  | state:  [6, 3, 3, 1, 6, 7, 0, 4, 6]\n",
      "139 weight :  0.0  | state:  [6, 3, 3, 1, 6, 7, 0, 4, 5]\n",
      "140 weight :  0.0  | state:  [6, 3, 3, 1, 7, 7, 0, 4, 5]\n",
      "141 weight :  0.0  | state:  [6, 3, 3, 1, 7, 7, 0, 3, 5]\n",
      "142 weight :  0.0  | state:  [6, 3, 3, 1, 7, 7, 0, 3, 5]\n",
      "143 weight :  0.0  | state:  [6, 3, 3, 2, 7, 7, 0, 3, 5]\n",
      "144 weight :  0.0  | state:  [6, 4, 3, 2, 7, 7, 0, 3, 5]\n",
      "145 weight :  0.0  | state:  [6, 4, 3, 2, 7, 7, 1, 3, 5]\n",
      "146 weight :  0.0  | state:  [6, 4, 3, 1, 7, 7, 1, 3, 5]\n",
      "147 weight :  0.0  | state:  [6, 4, 3, 1, 7, 7, 1, 2, 5]\n",
      "148 weight :  0.0  | state:  [6, 4, 3, 1, 7, 7, 1, 1, 5]\n",
      "149 weight :  0.0  | state:  [6, 4, 3, 1, 7, 7, 1, 2, 5]\n",
      "150 weight :  0.0  | state:  [6, 4, 3, 1, 7, 7, 2, 2, 5]\n",
      "151 weight :  0.0  | state:  [6, 4, 3, 1, 7, 7, 1, 2, 5]\n",
      "152 weight :  0.0  | state:  [6, 4, 3, 1, 7, 7, 1, 3, 5]\n",
      "153 weight :  0.0  | state:  [6, 4, 3, 1, 7, 7, 1, 2, 5]\n",
      "154 weight :  0.0  | state:  [6, 4, 4, 1, 7, 7, 1, 2, 5]\n",
      "155 weight :  0.0  | state:  [7, 4, 4, 1, 7, 7, 1, 2, 5]\n",
      "156 weight :  0.0  | state:  [7, 4, 4, 1, 7, 8, 1, 2, 5]\n",
      "157 weight :  0.0  | state:  [7, 4, 4, 1, 7, 9, 1, 2, 5]\n",
      "158 weight :  0.0  | state:  [7, 4, 4, 1, 7, 8, 1, 2, 5]\n",
      "159 weight :  0.0  | state:  [7, 4, 3, 1, 7, 8, 1, 2, 5]\n",
      "160 weight :  0.0  | state:  [7, 4, 2, 1, 7, 8, 1, 2, 5]\n",
      "161 weight :  0.0  | state:  [7, 4, 2, 0, 7, 8, 1, 2, 5]\n",
      "162 weight :  0.0  | state:  [7, 4, 3, 0, 7, 8, 1, 2, 5]\n",
      "163 weight :  0.0  | state:  [7, 4, 3, 0, 7, 9, 1, 2, 5]\n",
      "164 weight :  0.0  | state:  [7, 4, 3, 0, 7, 9, 1, 2, 4]\n",
      "165 weight :  0.0  | state:  [7, 4, 3, 0, 7, 9, 2, 2, 4]\n",
      "166 weight :  0.0  | state:  [7, 4, 3, 0, 6, 9, 2, 2, 4]\n",
      "167 weight :  0.0  | state:  [7, 4, 3, 0, 6, 9, 2, 2, 4]\n",
      "168 weight :  0.0  | state:  [7, 4, 2, 0, 6, 9, 2, 2, 4]\n",
      "169 weight :  0.0  | state:  [8, 4, 2, 0, 6, 9, 2, 2, 4]\n",
      "170 weight :  0.0  | state:  [8, 4, 2, 0, 6, 9, 2, 2, 4]\n",
      "171 weight :  0.0  | state:  [8, 4, 2, 0, 6, 9, 2, 2, 4]\n",
      "172 weight :  0.0  | state:  [8, 4, 2, 0, 6, 8, 2, 2, 4]\n",
      "173 weight :  0.0  | state:  [8, 3, 2, 0, 6, 8, 2, 2, 4]\n",
      "174 weight :  0.0  | state:  [8, 3, 2, 0, 6, 8, 2, 2, 4]\n",
      "175 weight :  0.0  | state:  [8, 4, 2, 0, 6, 8, 2, 2, 4]\n",
      "176 weight :  0.0  | state:  [9, 4, 2, 0, 6, 8, 2, 2, 4]\n",
      "177 weight :  0.0  | state:  [9, 4, 2, 0, 6, 8, 2, 3, 4]\n",
      "178 weight :  0.0  | state:  [9, 4, 2, 0, 6, 8, 2, 3, 3]\n",
      "179 weight :  0.0  | state:  [9, 4, 2, 0, 6, 7, 2, 3, 3]\n",
      "180 weight :  0.0  | state:  [9, 4, 2, 0, 6, 7, 1, 3, 3]\n",
      "181 weight :  0.0  | state:  [9, 4, 2, 0, 6, 8, 1, 3, 3]\n",
      "182 weight :  0.0  | state:  [9, 5, 2, 0, 6, 8, 1, 3, 3]\n",
      "183 weight :  0.0  | state:  [9, 4, 2, 0, 6, 8, 1, 3, 3]\n",
      "184 weight :  0.0  | state:  [9, 4, 2, 1, 6, 8, 1, 3, 3]\n",
      "185 weight :  0.0  | state:  [9, 4, 3, 1, 6, 8, 1, 3, 3]\n",
      "186 weight :  0.0  | state:  [9, 3, 3, 1, 6, 8, 1, 3, 3]\n",
      "187 weight :  0.0  | state:  [9, 3, 2, 1, 6, 8, 1, 3, 3]\n",
      "188 weight :  0.0  | state:  [10, 3, 2, 1, 6, 8, 1, 3, 3]\n",
      "189 weight :  0.0  | state:  [10, 4, 2, 1, 6, 8, 1, 3, 3]\n",
      "190 weight :  0.0  | state:  [10, 4, 1, 1, 6, 8, 1, 3, 3]\n",
      "191 weight :  0.0  | state:  [10, 4, 2, 1, 6, 8, 1, 3, 3]\n",
      "192 weight :  0.0  | state:  [10, 4, 2, 1, 6, 8, 1, 4, 3]\n",
      "193 weight :  0.0  | state:  [10, 4, 2, 0, 6, 8, 1, 4, 3]\n",
      "194 weight :  0.0  | state:  [10, 4, 2, 1, 6, 8, 1, 4, 3]\n",
      "195 weight :  0.0  | state:  [10, 4, 1, 1, 6, 8, 1, 4, 3]\n",
      "196 weight :  0.0  | state:  [10, 4, 0, 1, 6, 8, 1, 4, 3]\n",
      "197 weight :  0.0  | state:  [10, 4, 0, 2, 6, 8, 1, 4, 3]\n",
      "198 weight :  0.0  | state:  [10, 4, 0, 2, 6, 8, 1, 3, 3]\n",
      "199 weight :  0.0  | state:  [10, 4, 1, 2, 6, 8, 1, 3, 3]\n",
      "200 weight :  0.0  | state:  [10, 4, 1, 2, 6, 8, 1, 3, 2]\n",
      "201 weight :  0.0  | state:  [10, 4, 2, 2, 6, 8, 1, 3, 2]\n",
      "202 weight :  0.0  | state:  [11, 4, 2, 2, 6, 8, 1, 3, 2]\n",
      "203 weight :  0.0  | state:  [11, 4, 2, 2, 5, 8, 1, 3, 2]\n",
      "204 weight :  0.0  | state:  [11, 4, 2, 2, 5, 8, 2, 3, 2]\n",
      "205 weight :  0.0  | state:  [11, 4, 2, 2, 4, 8, 2, 3, 2]\n",
      "206 weight :  0.0  | state:  [11, 4, 2, 2, 4, 8, 2, 3, 1]\n",
      "207 weight :  0.0  | state:  [11, 4, 1, 2, 4, 8, 2, 3, 1]\n",
      "208 weight :  0.0  | state:  [11, 5, 1, 2, 4, 8, 2, 3, 1]\n",
      "209 weight :  0.0  | state:  [11, 4, 1, 2, 4, 8, 2, 3, 1]\n",
      "210 weight :  0.0  | state:  [11, 4, 1, 2, 4, 8, 2, 3, 2]\n",
      "211 weight :  0.0  | state:  [12, 4, 1, 2, 4, 8, 2, 3, 2]\n",
      "212 weight :  0.0  | state:  [12, 4, 1, 2, 4, 9, 2, 3, 2]\n",
      "213 weight :  0.0  | state:  [12, 4, 1, 2, 5, 9, 2, 3, 2]\n",
      "214 weight :  0.0  | state:  [12, 4, 1, 2, 5, 8, 2, 3, 2]\n",
      "215 weight :  0.0  | state:  [12, 4, 1, 2, 5, 8, 2, 3, 1]\n",
      "216 weight :  0.0  | state:  [12, 4, 1, 2, 6, 8, 2, 3, 1]\n",
      "217 weight :  0.0  | state:  [12, 4, 1, 3, 6, 8, 2, 3, 1]\n",
      "218 weight :  0.0  | state:  [13, 4, 1, 3, 6, 8, 2, 3, 1]\n",
      "219 weight :  0.0  | state:  [13, 3, 1, 3, 6, 8, 2, 3, 1]\n",
      "220 weight :  0.0  | state:  [13, 3, 1, 3, 6, 8, 2, 3, 0]\n",
      "221 weight :  0.0  | state:  [13, 3, 1, 3, 6, 9, 2, 3, 0]\n",
      "222 weight :  0.0  | state:  [14, 3, 1, 3, 6, 9, 2, 3, 0]\n",
      "223 weight :  0.0  | state:  [15, 3, 1, 3, 6, 9, 2, 3, 0]\n",
      "224 weight :  0.0  | state:  [15, 3, 1, 2, 6, 9, 2, 3, 0]\n",
      "225 weight :  0.0  | state:  [15, 3, 1, 2, 6, 9, 1, 3, 0]\n",
      "226 weight :  0.0  | state:  [15, 3, 1, 2, 6, 8, 1, 3, 0]\n",
      "227 weight :  0.0  | state:  [15, 4, 1, 2, 6, 8, 1, 3, 0]\n",
      "228 weight :  0.0  | state:  [15, 4, 1, 2, 6, 8, 1, 2, 0]\n",
      "229 weight :  0.0  | state:  [15, 4, 1, 3, 6, 8, 1, 2, 0]\n",
      "230 weight :  0.0  | state:  [15, 4, 0, 3, 6, 8, 1, 2, 0]\n",
      "231 weight :  0.0  | state:  [15, 4, 0, 3, 6, 8, 1, 2, 0]\n",
      "232 weight :  0.0  | state:  [15, 4, 0, 3, 6, 8, 0, 2, 0]\n",
      "233 weight :  0.0  | state:  [15, 3, 0, 3, 6, 8, 0, 2, 0]\n",
      "234 weight :  0.0  | state:  [16, 3, 0, 3, 6, 8, 0, 2, 0]\n",
      "235 weight :  0.0  | state:  [16, 4, 0, 3, 6, 8, 0, 2, 0]\n",
      "236 weight :  0.0  | state:  [16, 4, 1, 3, 6, 8, 0, 2, 0]\n",
      "237 weight :  0.0  | state:  [16, 4, 1, 2, 6, 8, 0, 2, 0]\n",
      "238 weight :  0.0  | state:  [17, 4, 1, 2, 6, 8, 0, 2, 0]\n",
      "239 weight :  0.0  | state:  [17, 4, 1, 2, 6, 7, 0, 2, 0]\n",
      "240 weight :  0.0  | state:  [17, 4, 2, 2, 6, 7, 0, 2, 0]\n",
      "241 weight :  0.0  | state:  [17, 4, 2, 2, 6, 7, 0, 3, 0]\n",
      "242 weight :  0.0  | state:  [17, 4, 2, 2, 6, 7, 0, 2, 0]\n",
      "243 weight :  0.0  | state:  [17, 4, 2, 3, 6, 7, 0, 2, 0]\n",
      "244 weight :  0.0  | state:  [17, 4, 2, 3, 6, 7, 0, 2, 0]\n",
      "245 weight :  0.0  | state:  [17, 4, 2, 3, 6, 7, 0, 2, 0]\n",
      "246 weight :  0.0  | state:  [16, 4, 2, 3, 6, 7, 0, 2, 0]\n",
      "247 weight :  0.0  | state:  [16, 4, 2, 3, 5, 7, 0, 2, 0]\n",
      "248 weight :  0.0  | state:  [16, 4, 2, 3, 6, 7, 0, 2, 0]\n",
      "249 weight :  0.0  | state:  [15, 4, 2, 3, 6, 7, 0, 2, 0]\n",
      "250 weight :  0.0  | state:  [15, 4, 2, 3, 6, 7, 0, 2, 1]\n",
      "251 weight :  0.0  | state:  [15, 4, 3, 3, 6, 7, 0, 2, 1]\n",
      "252 weight :  0.0  | state:  [15, 4, 3, 3, 6, 7, 0, 3, 1]\n",
      "253 weight :  0.0  | state:  [15, 4, 3, 3, 6, 7, 0, 3, 1]\n",
      "254 weight :  0.0  | state:  [15, 4, 3, 3, 6, 6, 0, 3, 1]\n",
      "255 weight :  0.0  | state:  [15, 4, 3, 2, 6, 6, 0, 3, 1]\n",
      "256 weight :  0.0  | state:  [15, 4, 3, 2, 6, 5, 0, 3, 1]\n",
      "257 weight :  0.0  | state:  [15, 4, 3, 2, 5, 5, 0, 3, 1]\n"
     ]
    },
    {
     "ename": "KeyboardInterrupt",
     "evalue": "",
     "output_type": "error",
     "traceback": [
      "\u001b[0;31m---------------------------------------------------------------------------\u001b[0m",
      "\u001b[0;31mKeyboardInterrupt\u001b[0m                         Traceback (most recent call last)",
      "\u001b[0;32m<ipython-input-26-d26809edcc56>\u001b[0m in \u001b[0;36m<module>\u001b[0;34m()\u001b[0m\n\u001b[1;32m     29\u001b[0m \u001b[0;34m\u001b[0m\u001b[0m\n\u001b[1;32m     30\u001b[0m \u001b[0mstate\u001b[0m \u001b[0;34m=\u001b[0m \u001b[0mlist\u001b[0m\u001b[0;34m(\u001b[0m\u001b[0mempty_state\u001b[0m\u001b[0;34m)\u001b[0m\u001b[0;34m\u001b[0m\u001b[0m\n\u001b[0;32m---> 31\u001b[0;31m \u001b[0mfill_bag\u001b[0m\u001b[0;34m(\u001b[0m\u001b[0mstate\u001b[0m\u001b[0;34m,\u001b[0m \u001b[0mavailable_gifts\u001b[0m\u001b[0;34m,\u001b[0m \u001b[0;36m2\u001b[0m\u001b[0;34m)\u001b[0m\u001b[0;34m\u001b[0m\u001b[0m\n\u001b[0m",
      "\u001b[0;32m<ipython-input-26-d26809edcc56>\u001b[0m in \u001b[0;36mfill_bag\u001b[0;34m(state, available_gifts, verbose)\u001b[0m\n\u001b[1;32m      7\u001b[0m     \u001b[0;32mwhile\u001b[0m \u001b[0mstate_find_counter\u001b[0m \u001b[0;34m<\u001b[0m \u001b[0;36m500\u001b[0m\u001b[0;34m:\u001b[0m\u001b[0;34m\u001b[0m\u001b[0m\n\u001b[1;32m      8\u001b[0m         \u001b[0mstate_find_counter\u001b[0m \u001b[0;34m+=\u001b[0m \u001b[0;36m1\u001b[0m\u001b[0;34m\u001b[0m\u001b[0m\n\u001b[0;32m----> 9\u001b[0;31m         \u001b[0mweight\u001b[0m \u001b[0;34m=\u001b[0m \u001b[0mscore\u001b[0m\u001b[0;34m(\u001b[0m\u001b[0;34m(\u001b[0m\u001b[0mstate\u001b[0m\u001b[0;34m,\u001b[0m\u001b[0;34m)\u001b[0m\u001b[0;34m)\u001b[0m\u001b[0;34m\u001b[0m\u001b[0m\n\u001b[0m\u001b[1;32m     10\u001b[0m         \u001b[0;32mif\u001b[0m \u001b[0mverbose\u001b[0m \u001b[0;34m>\u001b[0m \u001b[0;36m1\u001b[0m\u001b[0;34m:\u001b[0m\u001b[0;34m\u001b[0m\u001b[0m\n\u001b[1;32m     11\u001b[0m             \u001b[0mprint\u001b[0m\u001b[0;34m(\u001b[0m\u001b[0mstate_find_counter\u001b[0m\u001b[0;34m,\u001b[0m \u001b[0;34m\"weight : \"\u001b[0m\u001b[0;34m,\u001b[0m \u001b[0mweight\u001b[0m\u001b[0;34m,\u001b[0m \u001b[0;34m\" | state: \"\u001b[0m\u001b[0;34m,\u001b[0m \u001b[0mstate\u001b[0m\u001b[0;34m)\u001b[0m\u001b[0;34m\u001b[0m\u001b[0m\n",
      "\u001b[0;32m/Users/vfomin/Documents/TDS/Santas-Uncertain-Bags/common/utils.py\u001b[0m in \u001b[0;36mscore\u001b[0;34m(state, count, max_weight, return_rejected)\u001b[0m\n\u001b[1;32m    125\u001b[0m         \u001b[0mrejected\u001b[0m \u001b[0;34m=\u001b[0m \u001b[0;36m0\u001b[0m\u001b[0;34m\u001b[0m\u001b[0m\n\u001b[1;32m    126\u001b[0m         \u001b[0;32mfor\u001b[0m \u001b[0mbag\u001b[0m \u001b[0;32min\u001b[0m \u001b[0mstate\u001b[0m\u001b[0;34m:\u001b[0m\u001b[0;34m\u001b[0m\u001b[0m\n\u001b[0;32m--> 127\u001b[0;31m             \u001b[0mtotal_weight_\u001b[0m \u001b[0;34m=\u001b[0m \u001b[0mbag_weight\u001b[0m\u001b[0;34m(\u001b[0m\u001b[0mbag\u001b[0m\u001b[0;34m,\u001b[0m \u001b[0mn1\u001b[0m\u001b[0;34m=\u001b[0m\u001b[0;36m1\u001b[0m\u001b[0;34m)\u001b[0m\u001b[0;34m\u001b[0m\u001b[0m\n\u001b[0m\u001b[1;32m    128\u001b[0m             \u001b[0;32mif\u001b[0m \u001b[0mtotal_weight_\u001b[0m \u001b[0;34m<\u001b[0m \u001b[0mmax_weight\u001b[0m\u001b[0;34m:\u001b[0m\u001b[0;34m\u001b[0m\u001b[0m\n\u001b[1;32m    129\u001b[0m                 \u001b[0mscore\u001b[0m \u001b[0;34m+=\u001b[0m \u001b[0mtotal_weight_\u001b[0m\u001b[0;34m\u001b[0m\u001b[0m\n",
      "\u001b[0;32m/Users/vfomin/Documents/TDS/Santas-Uncertain-Bags/common/utils.py\u001b[0m in \u001b[0;36mbag_weight\u001b[0;34m(bag, n1)\u001b[0m\n\u001b[1;32m    114\u001b[0m     \u001b[0;32mfor\u001b[0m \u001b[0mindex\u001b[0m\u001b[0;34m,\u001b[0m \u001b[0mcount\u001b[0m \u001b[0;32min\u001b[0m \u001b[0menumerate\u001b[0m\u001b[0;34m(\u001b[0m\u001b[0mbag\u001b[0m\u001b[0;34m)\u001b[0m\u001b[0;34m:\u001b[0m\u001b[0;34m\u001b[0m\u001b[0m\n\u001b[1;32m    115\u001b[0m         \u001b[0;32mfor\u001b[0m \u001b[0mi\u001b[0m \u001b[0;32min\u001b[0m \u001b[0mrange\u001b[0m\u001b[0;34m(\u001b[0m\u001b[0mcount\u001b[0m\u001b[0;34m)\u001b[0m\u001b[0;34m:\u001b[0m\u001b[0;34m\u001b[0m\u001b[0m\n\u001b[0;32m--> 116\u001b[0;31m             \u001b[0mweight\u001b[0m \u001b[0;34m+=\u001b[0m \u001b[0mweight3\u001b[0m\u001b[0;34m(\u001b[0m\u001b[0mindex\u001b[0m\u001b[0;34m,\u001b[0m \u001b[0mn1\u001b[0m\u001b[0;34m)\u001b[0m\u001b[0;34m\u001b[0m\u001b[0m\n\u001b[0m\u001b[1;32m    117\u001b[0m     \u001b[0;32mreturn\u001b[0m \u001b[0mweight\u001b[0m\u001b[0;34m\u001b[0m\u001b[0m\n\u001b[1;32m    118\u001b[0m \u001b[0;34m\u001b[0m\u001b[0m\n",
      "\u001b[0;32m/Users/vfomin/Documents/TDS/Santas-Uncertain-Bags/common/utils.py\u001b[0m in \u001b[0;36mweight3\u001b[0;34m(index, count)\u001b[0m\n\u001b[1;32m    107\u001b[0m     \u001b[0;32mfor\u001b[0m \u001b[0mc\u001b[0m \u001b[0;32min\u001b[0m \u001b[0mrange\u001b[0m\u001b[0;34m(\u001b[0m\u001b[0mcount\u001b[0m\u001b[0;34m)\u001b[0m\u001b[0;34m:\u001b[0m\u001b[0;34m\u001b[0m\u001b[0m\n\u001b[1;32m    108\u001b[0m         \u001b[0mw\u001b[0m\u001b[0;34m.\u001b[0m\u001b[0mappend\u001b[0m\u001b[0;34m(\u001b[0m\u001b[0mweight_by_index\u001b[0m\u001b[0;34m(\u001b[0m\u001b[0mindex\u001b[0m\u001b[0;34m)\u001b[0m\u001b[0;34m)\u001b[0m\u001b[0;34m\u001b[0m\u001b[0m\n\u001b[0;32m--> 109\u001b[0;31m     \u001b[0;32mreturn\u001b[0m \u001b[0mnp\u001b[0m\u001b[0;34m.\u001b[0m\u001b[0mmean\u001b[0m\u001b[0;34m(\u001b[0m\u001b[0mw\u001b[0m\u001b[0;34m)\u001b[0m\u001b[0;34m\u001b[0m\u001b[0m\n\u001b[0m\u001b[1;32m    110\u001b[0m \u001b[0;34m\u001b[0m\u001b[0m\n\u001b[1;32m    111\u001b[0m \u001b[0;34m\u001b[0m\u001b[0m\n",
      "\u001b[0;32m/usr/local/lib/python3.5/site-packages/numpy/core/fromnumeric.py\u001b[0m in \u001b[0;36mmean\u001b[0;34m(a, axis, dtype, out, keepdims)\u001b[0m\n\u001b[1;32m   2940\u001b[0m \u001b[0;34m\u001b[0m\u001b[0m\n\u001b[1;32m   2941\u001b[0m     return _methods._mean(a, axis=axis, dtype=dtype,\n\u001b[0;32m-> 2942\u001b[0;31m                             out=out, **kwargs)\n\u001b[0m\u001b[1;32m   2943\u001b[0m \u001b[0;34m\u001b[0m\u001b[0m\n\u001b[1;32m   2944\u001b[0m \u001b[0;34m\u001b[0m\u001b[0m\n",
      "\u001b[0;32m/usr/local/lib/python3.5/site-packages/numpy/core/_methods.py\u001b[0m in \u001b[0;36m_mean\u001b[0;34m(a, axis, dtype, out, keepdims)\u001b[0m\n\u001b[1;32m     52\u001b[0m \u001b[0;34m\u001b[0m\u001b[0m\n\u001b[1;32m     53\u001b[0m \u001b[0;32mdef\u001b[0m \u001b[0m_mean\u001b[0m\u001b[0;34m(\u001b[0m\u001b[0ma\u001b[0m\u001b[0;34m,\u001b[0m \u001b[0maxis\u001b[0m\u001b[0;34m=\u001b[0m\u001b[0;32mNone\u001b[0m\u001b[0;34m,\u001b[0m \u001b[0mdtype\u001b[0m\u001b[0;34m=\u001b[0m\u001b[0;32mNone\u001b[0m\u001b[0;34m,\u001b[0m \u001b[0mout\u001b[0m\u001b[0;34m=\u001b[0m\u001b[0;32mNone\u001b[0m\u001b[0;34m,\u001b[0m \u001b[0mkeepdims\u001b[0m\u001b[0;34m=\u001b[0m\u001b[0;32mFalse\u001b[0m\u001b[0;34m)\u001b[0m\u001b[0;34m:\u001b[0m\u001b[0;34m\u001b[0m\u001b[0m\n\u001b[0;32m---> 54\u001b[0;31m     \u001b[0marr\u001b[0m \u001b[0;34m=\u001b[0m \u001b[0masanyarray\u001b[0m\u001b[0;34m(\u001b[0m\u001b[0ma\u001b[0m\u001b[0;34m)\u001b[0m\u001b[0;34m\u001b[0m\u001b[0m\n\u001b[0m\u001b[1;32m     55\u001b[0m \u001b[0;34m\u001b[0m\u001b[0m\n\u001b[1;32m     56\u001b[0m     \u001b[0mrcount\u001b[0m \u001b[0;34m=\u001b[0m \u001b[0m_count_reduce_items\u001b[0m\u001b[0;34m(\u001b[0m\u001b[0marr\u001b[0m\u001b[0;34m,\u001b[0m \u001b[0maxis\u001b[0m\u001b[0;34m)\u001b[0m\u001b[0;34m\u001b[0m\u001b[0m\n",
      "\u001b[0;32m/usr/local/lib/python3.5/site-packages/numpy/core/numeric.py\u001b[0m in \u001b[0;36masanyarray\u001b[0;34m(a, dtype, order)\u001b[0m\n\u001b[1;32m    531\u001b[0m \u001b[0;34m\u001b[0m\u001b[0m\n\u001b[1;32m    532\u001b[0m     \"\"\"\n\u001b[0;32m--> 533\u001b[0;31m     \u001b[0;32mreturn\u001b[0m \u001b[0marray\u001b[0m\u001b[0;34m(\u001b[0m\u001b[0ma\u001b[0m\u001b[0;34m,\u001b[0m \u001b[0mdtype\u001b[0m\u001b[0;34m,\u001b[0m \u001b[0mcopy\u001b[0m\u001b[0;34m=\u001b[0m\u001b[0;32mFalse\u001b[0m\u001b[0;34m,\u001b[0m \u001b[0morder\u001b[0m\u001b[0;34m=\u001b[0m\u001b[0morder\u001b[0m\u001b[0;34m,\u001b[0m \u001b[0msubok\u001b[0m\u001b[0;34m=\u001b[0m\u001b[0;32mTrue\u001b[0m\u001b[0;34m)\u001b[0m\u001b[0;34m\u001b[0m\u001b[0m\n\u001b[0m\u001b[1;32m    534\u001b[0m \u001b[0;34m\u001b[0m\u001b[0m\n\u001b[1;32m    535\u001b[0m \u001b[0;32mdef\u001b[0m \u001b[0mascontiguousarray\u001b[0m\u001b[0;34m(\u001b[0m\u001b[0ma\u001b[0m\u001b[0;34m,\u001b[0m \u001b[0mdtype\u001b[0m\u001b[0;34m=\u001b[0m\u001b[0;32mNone\u001b[0m\u001b[0;34m)\u001b[0m\u001b[0;34m:\u001b[0m\u001b[0;34m\u001b[0m\u001b[0m\n",
      "\u001b[0;31mKeyboardInterrupt\u001b[0m: "
     ]
    }
   ],
   "source": [
    "def fill_bag(state, available_gifts, verbose=0):\n",
    "\n",
    "    state_find_counter = 0 \n",
    "    best_state = None\n",
    "    best_weight = 0\n",
    "\n",
    "    while state_find_counter < 500:\n",
    "        state_find_counter += 1\n",
    "        weight = score((state,))\n",
    "        if verbose > 1:\n",
    "            print(state_find_counter, \"weight : \", weight, \" | state: \", state)\n",
    "\n",
    "        if weight > best_weight:\n",
    "            best_state = state\n",
    "            best_weight = weight\n",
    "\n",
    "        state = gen_random_state(state=state)\n",
    "\n",
    "        if weight >= goal_score:\n",
    "            best_state = state\n",
    "            best_weight = weight\n",
    "            break\n",
    "\n",
    "    if verbose > 0:\n",
    "        print(\"Found state: \", best_state, \" : \", score((best_state,), return_rejected=True))\n",
    "    return best_state\n",
    "\n",
    "state = list(empty_state)\n",
    "fill_bag(state, available_gifts, 2)        "
   ]
  },
  {
   "cell_type": "code",
   "execution_count": null,
   "metadata": {
    "collapsed": true
   },
   "outputs": [],
   "source": []
  },
  {
   "cell_type": "code",
   "execution_count": null,
   "metadata": {
    "collapsed": true
   },
   "outputs": [],
   "source": []
  }
 ],
 "metadata": {
  "kernelspec": {
   "display_name": "Python 2",
   "language": "python",
   "name": "python2"
  },
  "language_info": {
   "codemirror_mode": {
    "name": "ipython",
    "version": 2
   },
   "file_extension": ".py",
   "mimetype": "text/x-python",
   "name": "python",
   "nbconvert_exporter": "python",
   "pygments_lexer": "ipython2",
   "version": "2.7.12"
  }
 },
 "nbformat": 4,
 "nbformat_minor": 0
}
