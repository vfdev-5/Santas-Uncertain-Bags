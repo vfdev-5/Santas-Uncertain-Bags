{
 "cells": [
  {
   "cell_type": "code",
   "execution_count": null,
   "metadata": {
    "collapsed": true
   },
   "outputs": [],
   "source": []
  },
  {
   "cell_type": "code",
   "execution_count": null,
   "metadata": {
    "collapsed": true
   },
   "outputs": [],
   "source": []
  },
  {
   "cell_type": "code",
   "execution_count": null,
   "metadata": {
    "collapsed": true
   },
   "outputs": [],
   "source": []
  },
  {
   "cell_type": "code",
   "execution_count": 2,
   "metadata": {
    "collapsed": false
   },
   "outputs": [
    {
     "name": "stdout",
     "output_type": "stream",
     "text": [
      "hello world 0\n",
      "hello world 1\n",
      "hello world 2\n",
      "hello world 3\n"
     ]
    }
   ],
   "source": [
    "n_threads = 4\n",
    "from multiprocessing import Process, Lock, Pool\n",
    "def f(l, i):\n",
    "    l.acquire()\n",
    "    print 'hello world', i\n",
    "    l.release()\n",
    "\n",
    "lock = Lock()\n",
    "for num in range(n_threads):\n",
    "    Process(target=f, args=(lock, num)).start()"
   ]
  },
  {
   "cell_type": "code",
   "execution_count": 13,
   "metadata": {
    "collapsed": false
   },
   "outputs": [
    {
     "name": "stdout",
     "output_type": "stream",
     "text": [
      "0 | [0, 1, 2, 3, 4, 5, 6, 7, 8, 9]\n",
      "[]\n",
      "1 | [10, 11, 12, 13, 14, 15, 16, 17, 18, 19]\n",
      "2 | [20, 21, 22, 23, 24, 25, 26, 27, 28, 29]\n",
      "3 | [30, 31, 32, 33, 34, 35, 36, 37, 38, 39]\n"
     ]
    }
   ],
   "source": [
    "n_threads = 4\n",
    "from multiprocessing import Process, Lock, Manager\n",
    "\n",
    "result = []\n",
    "counter = 0\n",
    "\n",
    "def f(l, n):\n",
    "    global result, counter\n",
    "    \n",
    "    o = range(10*n, 10*n + 10)\n",
    "    l.acquire()\n",
    "    print n, \"|\", o\n",
    "    result += o\n",
    "    l.release()\n",
    "\n",
    "    \n",
    "manager = Manager()\n",
    "lock = Lock()\n",
    "for num in range(n_threads):\n",
    "    p = Process(target=f, args=(lock, num)).start()\n",
    "    \n",
    "print result"
   ]
  },
  {
   "cell_type": "code",
   "execution_count": 14,
   "metadata": {
    "collapsed": false
   },
   "outputs": [
    {
     "name": "stdout",
     "output_type": "stream",
     "text": [
      "0 | [0, 1, 2, 3, 4, 5, 6, 7, 8, 9]\n",
      "1 | [10, 11, 12, 13, 14, 15, 16, 17, 18, 19]\n",
      "2 | [20, 21, 22, 23, 24, 25, 26, 27, 28, 29]\n",
      "3 | [30, 31, 32, 33, 34, 35, 36, 37, 38, 39]\n",
      "[0, 1, 2, 3, 4, 5, 6, 7, 8, 9, 10, 11, 12, 13, 14, 15, 16, 17, 18, 19, 20, 21, 22, 23, 24, 25, 26, 27, 28, 29, 30, 31, 32, 33, 34, 35, 36, 37, 38, 39]\n"
     ]
    }
   ],
   "source": [
    "n_threads = 4\n",
    "from threading import Thread, Lock\n",
    "\n",
    "result = []\n",
    "counter = 0\n",
    "\n",
    "def f(l, n):\n",
    "    global result, counter\n",
    "    \n",
    "    o = range(10*n, 10*n + 10)\n",
    "    l.acquire()\n",
    "    print n, \"|\", o\n",
    "    result += o\n",
    "    l.release()\n",
    "\n",
    "    \n",
    "manager = Manager()\n",
    "lock = Lock()\n",
    "for num in range(n_threads):\n",
    "    t = Thread(target=f, args=(lock, num)).start()\n",
    "    \n",
    "print result"
   ]
  },
  {
   "cell_type": "code",
   "execution_count": null,
   "metadata": {
    "collapsed": true
   },
   "outputs": [],
   "source": []
  },
  {
   "cell_type": "code",
   "execution_count": null,
   "metadata": {
    "collapsed": true
   },
   "outputs": [],
   "source": []
  },
  {
   "cell_type": "code",
   "execution_count": null,
   "metadata": {
    "collapsed": true
   },
   "outputs": [],
   "source": []
  },
  {
   "cell_type": "code",
   "execution_count": 1,
   "metadata": {
    "collapsed": true
   },
   "outputs": [],
   "source": [
    "import numpy as np\n"
   ]
  },
  {
   "cell_type": "code",
   "execution_count": 15,
   "metadata": {
    "collapsed": true
   },
   "outputs": [],
   "source": [
    "m1 = np.random.normal(5, 2, 1000)\n",
    "m2 = np.random.normal(5, 2, 1000)\n",
    "m3 = m1 + m2\n",
    "mu = 5 + 5\n",
    "sigma = np.sqrt(2**2 + 2**2)"
   ]
  },
  {
   "cell_type": "code",
   "execution_count": 16,
   "metadata": {
    "collapsed": false
   },
   "outputs": [],
   "source": [
    "import matplotlib.pylab as plt\n",
    "%matplotlib inline"
   ]
  },
  {
   "cell_type": "code",
   "execution_count": 17,
   "metadata": {
    "collapsed": false
   },
   "outputs": [
    {
     "data": {
      "text/plain": [
       "<matplotlib.legend.Legend at 0x109e04250>"
      ]
     },
     "execution_count": 17,
     "metadata": {},
     "output_type": "execute_result"
    },
    {
     "data": {
      "image/png": "[encoded data removed]",
      "text/plain": [
       "<matplotlib.figure.Figure at 0x10984db10>"
      ]
     },
     "metadata": {},
     "output_type": "display_data"
    }
   ],
   "source": [
    "plt.figure()\n",
    "_ = plt.hist(m1, bins=50, label='m1')\n",
    "_ = plt.hist(m2, bins=50, label='m2')\n",
    "_ = plt.hist(m3, bins=50, label='m3')\n",
    "plt.legend()"
   ]
  },
  {
   "cell_type": "code",
   "execution_count": 20,
   "metadata": {
    "collapsed": false
   },
   "outputs": [
    {
     "name": "stdout",
     "output_type": "stream",
     "text": [
      "9.95653884386 2.91652482367 10 2.82842712475\n"
     ]
    }
   ],
   "source": [
    "print np.mean(m3), np.std(m3, ddof=1), mu, sigma"
   ]
  },
  {
   "cell_type": "code",
   "execution_count": 21,
   "metadata": {
    "collapsed": false
   },
   "outputs": [
    {
     "name": "stdout",
     "output_type": "stream",
     "text": [
      "0.0434611561431\n",
      "0.08809769892\n"
     ]
    }
   ],
   "source": [
    "print abs(mu - np.mean(m3))\n",
    "print abs(sigma - np.std(m3, ddof=1))"
   ]
  },
  {
   "cell_type": "code",
   "execution_count": 35,
   "metadata": {
    "collapsed": false
   },
   "outputs": [
    {
     "data": {
      "text/plain": [
       "[<matplotlib.lines.Line2D at 0x10991db10>]"
      ]
     },
     "execution_count": 35,
     "metadata": {},
     "output_type": "execute_result"
    },
    {
     "data": {
      "image/png": "[encoded data removed]",
      "text/plain": [
       "<matplotlib.figure.Figure at 0x10a2ef950>"
      ]
     },
     "metadata": {},
     "output_type": "display_data"
    }
   ],
   "source": [
    "mu = 20\n",
    "sigma = 10\n",
    "n = np.arange(0,10)\n",
    "A = 50\n",
    "y = mu*n + 3*sigma*np.sqrt(n)\n",
    "plt.figure()\n",
    "plt.plot(n, y, '-r')\n",
    "plt.plot(n, A*np.ones_like(y), '-b')"
   ]
  },
  {
   "cell_type": "code",
   "execution_count": 37,
   "metadata": {
    "collapsed": false
   },
   "outputs": [
    {
     "data": {
      "text/plain": [
       "[<matplotlib.lines.Line2D at 0x10af807d0>]"
      ]
     },
     "execution_count": 37,
     "metadata": {},
     "output_type": "execute_result"
    },
    {
     "data": {
      "image/png": "[encoded data removed]",
      "text/plain": [
       "<matplotlib.figure.Figure at 0x10adc3390>"
      ]
     },
     "metadata": {},
     "output_type": "display_data"
    }
   ],
   "source": [
    "m1 = np.random.normal(mu, sigma, 1000)\n",
    "n = 2\n",
    "y = [np.sum(m1[i:i+n]) for i in range(500)]\n",
    "plt.plot(y)"
   ]
  },
  {
   "cell_type": "code",
   "execution_count": 33,
   "metadata": {
    "collapsed": false
   },
   "outputs": [
    {
     "name": "stdout",
     "output_type": "stream",
     "text": [
      "(6, 30, 4.8989794855663558)\n",
      "(44, 44, 1.9899748742132397)\n",
      "(1, 20, 10.0)\n",
      "(2, 20, 7.0710678118654755)\n"
     ]
    }
   ],
   "source": [
    "def compute_normal_identical(mu, sigma, a=50):\n",
    "    \"\"\"\n",
    "    Solve n*mu + 3*sigma*sqrt(n) < a\n",
    "    return: n, Mu, Sigma\n",
    "    \"\"\"\n",
    "    for n in range(100):\n",
    "        y = mu*n + 3.0*sigma*np.sqrt(n)\n",
    "        if y > a:\n",
    "            break  \n",
    "    n -= 1\n",
    "    m = n*mu\n",
    "    s = sigma*np.sqrt(n)\n",
    "    return n, m, s\n",
    "\n",
    "\n",
    "print compute_normal_identical(5, 2, 50)\n",
    "print compute_normal_identical(1, 0.3, 50)\n",
    "print compute_normal_identical(20, 10, 50)\n",
    "print compute_normal_identical(10, 5, 50)"
   ]
  },
  {
   "cell_type": "code",
   "execution_count": null,
   "metadata": {
    "collapsed": true
   },
   "outputs": [],
   "source": []
  },
  {
   "cell_type": "code",
   "execution_count": 39,
   "metadata": {
    "collapsed": false
   },
   "outputs": [],
   "source": [
    "m1 = 47 * np.random.beta(0.5, 0.5, 1000)\n",
    "m2 = 47 * np.random.beta(0.5, 0.5, 1000)\n",
    "m3 = m1 + m2"
   ]
  },
  {
   "cell_type": "code",
   "execution_count": 40,
   "metadata": {
    "collapsed": false
   },
   "outputs": [
    {
     "data": {
      "text/plain": [
       "<matplotlib.legend.Legend at 0x10afb6c50>"
      ]
     },
     "execution_count": 40,
     "metadata": {},
     "output_type": "execute_result"
    },
    {
     "data": {
      "image/png": "[encoded data removed]",
      "text/plain": [
       "<matplotlib.figure.Figure at 0x10af9a810>"
      ]
     },
     "metadata": {},
     "output_type": "display_data"
    }
   ],
   "source": [
    "plt.figure()\n",
    "_ = plt.hist(m1, bins=50, label='m1')\n",
    "_ = plt.hist(m2, bins=50, label='m2')\n",
    "_ = plt.hist(m3, bins=50, label='m3')\n",
    "plt.legend()"
   ]
  },
  {
   "cell_type": "code",
   "execution_count": null,
   "metadata": {
    "collapsed": true
   },
   "outputs": [],
   "source": []
  }
 ],
 "metadata": {
  "kernelspec": {
   "display_name": "Python 2",
   "language": "python",
   "name": "python2"
  },
  "language_info": {
   "codemirror_mode": {
    "name": "ipython",
    "version": 2
   },
   "file_extension": ".py",
   "mimetype": "text/x-python",
   "name": "python",
   "nbconvert_exporter": "python",
   "pygments_lexer": "ipython2",
   "version": "2.7.12"
  }
 },
 "nbformat": 4,
 "nbformat_minor": 1
}
