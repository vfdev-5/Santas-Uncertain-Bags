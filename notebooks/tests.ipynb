{
 "cells": [
  {
   "cell_type": "code",
   "execution_count": null,
   "metadata": {
    "collapsed": true
   },
   "outputs": [],
   "source": []
  },
  {
   "cell_type": "code",
   "execution_count": null,
   "metadata": {
    "collapsed": true
   },
   "outputs": [],
   "source": []
  },
  {
   "cell_type": "code",
   "execution_count": null,
   "metadata": {
    "collapsed": true
   },
   "outputs": [],
   "source": []
  },
  {
   "cell_type": "code",
   "execution_count": 2,
   "metadata": {
    "collapsed": false
   },
   "outputs": [
    {
     "name": "stdout",
     "output_type": "stream",
     "text": [
      "hello world 0\n",
      "hello world 1\n",
      "hello world 2\n",
      "hello world 3\n"
     ]
    }
   ],
   "source": [
    "n_threads = 4\n",
    "from multiprocessing import Process, Lock, Pool\n",
    "def f(l, i):\n",
    "    l.acquire()\n",
    "    print 'hello world', i\n",
    "    l.release()\n",
    "\n",
    "lock = Lock()\n",
    "for num in range(n_threads):\n",
    "    Process(target=f, args=(lock, num)).start()"
   ]
  },
  {
   "cell_type": "code",
   "execution_count": 13,
   "metadata": {
    "collapsed": false
   },
   "outputs": [
    {
     "name": "stdout",
     "output_type": "stream",
     "text": [
      "0 | [0, 1, 2, 3, 4, 5, 6, 7, 8, 9]\n",
      "[]\n",
      "1 | [10, 11, 12, 13, 14, 15, 16, 17, 18, 19]\n",
      "2 | [20, 21, 22, 23, 24, 25, 26, 27, 28, 29]\n",
      "3 | [30, 31, 32, 33, 34, 35, 36, 37, 38, 39]\n"
     ]
    }
   ],
   "source": [
    "n_threads = 4\n",
    "from multiprocessing import Process, Lock, Manager\n",
    "\n",
    "result = []\n",
    "counter = 0\n",
    "\n",
    "def f(l, n):\n",
    "    global result, counter\n",
    "    \n",
    "    o = range(10*n, 10*n + 10)\n",
    "    l.acquire()\n",
    "    print n, \"|\", o\n",
    "    result += o\n",
    "    l.release()\n",
    "\n",
    "    \n",
    "manager = Manager()\n",
    "lock = Lock()\n",
    "for num in range(n_threads):\n",
    "    p = Process(target=f, args=(lock, num)).start()\n",
    "    \n",
    "print result"
   ]
  },
  {
   "cell_type": "code",
   "execution_count": 14,
   "metadata": {
    "collapsed": false
   },
   "outputs": [
    {
     "name": "stdout",
     "output_type": "stream",
     "text": [
      "0 | [0, 1, 2, 3, 4, 5, 6, 7, 8, 9]\n",
      "1 | [10, 11, 12, 13, 14, 15, 16, 17, 18, 19]\n",
      "2 | [20, 21, 22, 23, 24, 25, 26, 27, 28, 29]\n",
      "3 | [30, 31, 32, 33, 34, 35, 36, 37, 38, 39]\n",
      "[0, 1, 2, 3, 4, 5, 6, 7, 8, 9, 10, 11, 12, 13, 14, 15, 16, 17, 18, 19, 20, 21, 22, 23, 24, 25, 26, 27, 28, 29, 30, 31, 32, 33, 34, 35, 36, 37, 38, 39]\n"
     ]
    }
   ],
   "source": [
    "n_threads = 4\n",
    "from threading import Thread, Lock\n",
    "\n",
    "result = []\n",
    "counter = 0\n",
    "\n",
    "def f(l, n):\n",
    "    global result, counter\n",
    "    \n",
    "    o = range(10*n, 10*n + 10)\n",
    "    l.acquire()\n",
    "    print n, \"|\", o\n",
    "    result += o\n",
    "    l.release()\n",
    "\n",
    "    \n",
    "manager = Manager()\n",
    "lock = Lock()\n",
    "for num in range(n_threads):\n",
    "    t = Thread(target=f, args=(lock, num)).start()\n",
    "    \n",
    "print result"
   ]
  },
  {
   "cell_type": "code",
   "execution_count": null,
   "metadata": {
    "collapsed": true
   },
   "outputs": [],
   "source": []
  },
  {
   "cell_type": "code",
   "execution_count": null,
   "metadata": {
    "collapsed": true
   },
   "outputs": [],
   "source": []
  }
 ],
 "metadata": {
  "kernelspec": {
   "display_name": "Python 2",
   "language": "python",
   "name": "python2"
  },
  "language_info": {
   "codemirror_mode": {
    "name": "ipython",
    "version": 2
   },
   "file_extension": ".py",
   "mimetype": "text/x-python",
   "name": "python",
   "nbconvert_exporter": "python",
   "pygments_lexer": "ipython2",
   "version": "2.7.12"
  }
 },
 "nbformat": 4,
 "nbformat_minor": 1
}
