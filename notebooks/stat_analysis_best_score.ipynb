{
 "cells": [
  {
   "cell_type": "markdown",
   "metadata": {},
   "source": [
    "# Statistical analysis a and examples"
   ]
  },
  {
   "cell_type": "code",
   "execution_count": 31,
   "metadata": {
    "collapsed": false
   },
   "outputs": [],
   "source": [
    "import sys\n",
    "sys.path.append('../common')\n",
    "from utils import weight3 as weight_fn, weight_by_index\n",
    "from utils import bag_weight, score, mean_n_sigma, score_stats\n",
    "from utils import MAX_WEIGHT, AVAILABLE_GIFTS, GIFT_TYPES, N_TYPES, N_BAGS\n",
    "\n",
    "from copy import deepcopy\n",
    "from collections import defaultdict\n",
    "\n",
    "import numpy as np\n",
    "np.random.seed(1)\n",
    "import matplotlib.pyplot as plt\n",
    "%matplotlib inline"
   ]
  },
  {
   "cell_type": "code",
   "execution_count": 8,
   "metadata": {
    "collapsed": true
   },
   "outputs": [],
   "source": [
    "N_TRIALS = 10000\n",
    "GIFT_WEIGHTS = np.zeros((N_TRIALS, N_TYPES))\n",
    "for index in range(N_TYPES):\n",
    "    GIFT_WEIGHTS[:, index] = [weight_by_index(index) for i in range(10000)]"
   ]
  },
  {
   "cell_type": "code",
   "execution_count": 9,
   "metadata": {
    "collapsed": false
   },
   "outputs": [
    {
     "name": "stdout",
     "output_type": "stream",
     "text": [
      "ball 0 20 37.4037848442\n",
      "bike 1 2 20.6356442984\n",
      "blocks 2 3 30.9060035842\n",
      "book 3 13 14.8206683885\n",
      "coal 4 1 23.440261052\n",
      "doll 5 7 25.2166134843\n",
      "gloves 6 50 17.6035621138\n",
      "horse 7 6 27.4126121987\n",
      "train 8 3 24.7003770899\n"
     ]
    }
   ],
   "source": [
    "def find_n(weights):\n",
    "    best_mean_score = 0\n",
    "    best_n = 0\n",
    "    for n in range(1, 500):\n",
    "        mask = weights * n < MAX_WEIGHT\n",
    "        if not mask.any():\n",
    "            break\n",
    "        score = np.sum(weights[mask] * n) * 1.0 / len(weights)  \n",
    "        if score > best_mean_score:\n",
    "            best_mean_score = score\n",
    "            best_n = n\n",
    "            \n",
    "    return best_n, best_mean_score\n",
    "\n",
    "LIMIT_NB_GIFTS = np.zeros((N_TYPES), dtype=np.uint8)\n",
    "\n",
    "for index in range(N_TYPES):\n",
    "    n, s = find_n(GIFT_WEIGHTS[:,index])\n",
    "    print GIFT_TYPES[index], index, n, s\n",
    "    LIMIT_NB_GIFTS[index] = n + 1"
   ]
  },
  {
   "cell_type": "code",
   "execution_count": 10,
   "metadata": {
    "collapsed": false
   },
   "outputs": [
    {
     "data": {
      "text/plain": [
       "(array([21,  3,  4, 14,  2,  8, 51,  7,  4], dtype=uint8), 80607744)"
      ]
     },
     "execution_count": 10,
     "metadata": {},
     "output_type": "execute_result"
    }
   ],
   "source": [
    "LIMIT_NB_GIFTS, np.prod(LIMIT_NB_GIFTS)"
   ]
  },
  {
   "cell_type": "code",
   "execution_count": 11,
   "metadata": {
    "collapsed": false
   },
   "outputs": [
    {
     "data": {
      "text/plain": [
       "(20.115728164252364, 0.0011999999999999999)"
      ]
     },
     "execution_count": 11,
     "metadata": {},
     "output_type": "execute_result"
    }
   ],
   "source": [
    "def compute_score(state):\n",
    "    s = np.sum(GIFT_WEIGHTS * state, axis=1)\n",
    "    mask = s < MAX_WEIGHT\n",
    "    rejected = (N_TRIALS - np.sum(mask))*1.0 / N_TRIALS\n",
    "    score = np.sum(s[mask]) * 1.0 / N_TRIALS\n",
    "    return score, rejected\n",
    "\n",
    "\n",
    "state = np.zeros((N_TYPES), dtype=np.uint8)\n",
    "state[1] = 1\n",
    "compute_score(state)"
   ]
  },
  {
   "cell_type": "code",
   "execution_count": 12,
   "metadata": {
    "collapsed": true
   },
   "outputs": [],
   "source": [
    "def huge_loop2(rejected_threshold):\n",
    "    scores = []\n",
    "    for n0 in range(LIMIT_NB_GIFTS[0]):\n",
    "        print \"n0: \", n0, \"/\", LIMIT_NB_GIFTS[0]\n",
    "        state = np.array([n0, 0, 0, 0, 0, 0, 0, 0, 0])\n",
    "        s, r = compute_score(state)\n",
    "        if r > rejected_threshold:\n",
    "            break\n",
    "        for n1 in range(LIMIT_NB_GIFTS[1]):\n",
    "            state = np.array([n0, n1, 0, 0, 0, 0, 0, 0, 0])\n",
    "            s, r = compute_score(state)\n",
    "            if r > rejected_threshold:\n",
    "                break\n",
    "            for n2 in range(LIMIT_NB_GIFTS[2]):\n",
    "                state = np.array([n0, n1, n2, 0, 0, 0, 0, 0, 0])\n",
    "                s, r = compute_score(state)\n",
    "                if r > rejected_threshold:\n",
    "                    break\n",
    "                for n3 in range(LIMIT_NB_GIFTS[3]):\n",
    "                    state = np.array([n0, n1, n2, n3, 0, 0, 0, 0, 0])\n",
    "                    s, r = compute_score(state)\n",
    "                    if r > rejected_threshold:\n",
    "                        break\n",
    "                    for n4 in range(LIMIT_NB_GIFTS[4]):\n",
    "                        state = np.array([n0, n1, n2, n3, n4, 0, 0, 0, 0])\n",
    "                        s, r = compute_score(state)\n",
    "                        if r > rejected_threshold:\n",
    "                            break                        \n",
    "                        for n5 in range(LIMIT_NB_GIFTS[5]):\n",
    "                            state = np.array([n0, n1, n2, n3, n4, n5, 0, 0, 0])\n",
    "                            s, r = compute_score(state)\n",
    "                            if r > rejected_threshold:\n",
    "                                break                        \n",
    "                            for n6 in range(LIMIT_NB_GIFTS[6]):\n",
    "                                state = np.array([n0, n1, n2, n3, n4, n5, n6, 0, 0])\n",
    "                                s, r = compute_score(state)\n",
    "                                if r > rejected_threshold:\n",
    "                                    break                        \n",
    "                                for n7 in range(LIMIT_NB_GIFTS[7]):\n",
    "                                    state = np.array([n0, n1, n2, n3, n4, n5, n6, n7, 0])\n",
    "                                    s, r = compute_score(state)\n",
    "                                    if r > rejected_threshold:\n",
    "                                        break                        \n",
    "                                    for n8 in range(LIMIT_NB_GIFTS[8]):\n",
    "                                        state = np.array([n0, n1, n2, n3, n4, n5, n6, n7, n8])\n",
    "                                        s, r = compute_score(state)\n",
    "                                        if r > rejected_threshold:\n",
    "                                            break                                    \n",
    "                                        scores.append((state, s, r))\n",
    "    return scores"
   ]
  },
  {
   "cell_type": "code",
   "execution_count": 13,
   "metadata": {
    "collapsed": false
   },
   "outputs": [],
   "source": [
    "import os\n",
    "filename = \"scores_r_075.npy\"\n",
    "if os.path.exists(filename):\n",
    "    scores = np.load(filename)\n",
    "else:\n",
    "    scores = huge_loop2(0.75)\n",
    "    scores = np.array(scores)\n",
    "    # Save result\n",
    "    np.save(\"scores_r_075.npy\", scores)"
   ]
  },
  {
   "cell_type": "code",
   "execution_count": 14,
   "metadata": {
    "collapsed": false
   },
   "outputs": [
    {
     "name": "stdout",
     "output_type": "stream",
     "text": [
      "37.25\n"
     ]
    },
    {
     "data": {
      "text/plain": [
       "(95, array([[array([6, 0, 1, 0, 0, 1, 1, 2, 0]), 37.369679272344804,\n",
       "         0.053100000000000001],\n",
       "        [array([7, 0, 1, 0, 0, 1, 0, 2, 0]), 37.527485719297054, 0.0613],\n",
       "        [array([7, 0, 1, 1, 0, 1, 1, 1, 0]), 37.692940257865537, 0.0275],\n",
       "        [array([7, 0, 1, 1, 0, 1, 2, 1, 0]), 37.344681205583392,\n",
       "         0.060299999999999999],\n",
       "        [array([8, 0, 1, 0, 0, 0, 1, 2, 0]), 37.552428587718268,\n",
       "         0.030200000000000001],\n",
       "        [array([8, 0, 1, 0, 0, 1, 1, 1, 0]), 38.087460032735109,\n",
       "         0.020199999999999999],\n",
       "        [array([8, 0, 1, 0, 0, 1, 2, 1, 0]), 37.604165717166701,\n",
       "         0.055899999999999998],\n",
       "        [array([8, 0, 1, 1, 0, 0, 0, 2, 0]), 37.423255074748297,\n",
       "         0.043799999999999999],\n",
       "        [array([8, 0, 1, 1, 0, 1, 0, 1, 0]), 37.992242875631888, 0.0332],\n",
       "        [array([8, 0, 1, 1, 0, 1, 1, 1, 0]), 37.998889924227164,\n",
       "         0.059499999999999997]], dtype=object))"
      ]
     },
     "execution_count": 14,
     "metadata": {},
     "output_type": "execute_result"
    }
   ],
   "source": [
    "alpha = 0.745\n",
    "goal_weight = MAX_WEIGHT * alpha\n",
    "print goal_weight\n",
    "\n",
    "mask = scores[:, 1] > goal_weight\n",
    "len(scores[mask]), scores[mask][:10, :]"
   ]
  },
  {
   "cell_type": "code",
   "execution_count": 17,
   "metadata": {
    "collapsed": true
   },
   "outputs": [],
   "source": [
    "def has_min_nb_gifts(state):\n",
    "    return np.sum(state) >= 3 \n",
    "\n",
    "def is_available(state, available_gifts, gift_types=GIFT_TYPES):\n",
    "    for v, gift_type in zip(state, gift_types):\n",
    "        if available_gifts[gift_type] - v < 0:\n",
    "            return False\n",
    "    return True\n",
    "\n",
    "def update_available_gifts(available_gifts, state, gift_types=GIFT_TYPES):\n",
    "    for v, gift_type in zip(state, gift_types):\n",
    "        assert available_gifts[gift_type] - v >= 0, \"Found state is not available : {}, {}\".format(state, available_gifts)\n",
    "        available_gifts[gift_type] = available_gifts[gift_type] - v\n",
    "\n",
    "        \n",
    "def fill_bags(sorted_scores, available_gifts):\n",
    "    filled_bags = np.zeros((N_BAGS, N_TYPES), dtype=np.uint8)    \n",
    "    last_score_computation = -1\n",
    "    good_bag_index = 0\n",
    "    bag_index = 0\n",
    "    while bag_index < N_BAGS and good_bag_index < len(sorted_scores):\n",
    "    \n",
    "        state = sorted_scores[good_bag_index, 0]\n",
    "        if is_available(state, available_gifts) and has_min_nb_gifts(state):\n",
    "            # print \"bag index : \", bag_index\n",
    "            update_available_gifts(available_gifts, state, GIFT_TYPES)\n",
    "            filled_bags[bag_index, :] = state\n",
    "            bag_index += 1\n",
    "        else:\n",
    "            good_bag_index += 1\n",
    "                \n",
    "        if bag_index > 0 and (bag_index % 100) == 0 and last_score_computation < bag_index:\n",
    "            s, r = score(filled_bags, return_rejected=True)\n",
    "            print(bag_index, \">>> Current score: \", s, s * N_BAGS *1.0 / bag_index, \"rejected=\", r)\n",
    "            last_score_computation = bag_index\n",
    "\n",
    "        if bag_index > 0 and (bag_index % 150) == 0 and last_score_computation < bag_index:\n",
    "            print(bag_index, \">>> Currently available gifts : \", [(k, available_gifts[k]) for k in GIFT_TYPES])\n",
    "            last_score_computation = bag_index\n",
    "    \n",
    "    print \"good_bag_index\", good_bag_index\n",
    "    return filled_bags"
   ]
  },
  {
   "cell_type": "code",
   "execution_count": null,
   "metadata": {
    "collapsed": true
   },
   "outputs": [],
   "source": []
  },
  {
   "cell_type": "code",
   "execution_count": null,
   "metadata": {
    "collapsed": true
   },
   "outputs": [],
   "source": []
  },
  {
   "cell_type": "code",
   "execution_count": 18,
   "metadata": {
    "collapsed": false
   },
   "outputs": [],
   "source": [
    "sorted_scores = scores[scores[:,1].argsort()][::-1]"
   ]
  },
  {
   "cell_type": "code",
   "execution_count": 39,
   "metadata": {
    "collapsed": false,
    "scrolled": true
   },
   "outputs": [
    {
     "name": "stdout",
     "output_type": "stream",
     "text": [
      "\n",
      "\n",
      "--- Start bags filling with : r= 100\n",
      "\n",
      "--- 138663 [[array([12,  0,  1,  0,  0,  0,  0,  1,  0]) 38.704855041006837\n",
      "  0.038300000000000001]\n",
      " [array([12,  0,  1,  0,  0,  1,  0,  0,  0]) 38.47525620909795\n",
      "  0.042599999999999999]\n",
      " [array([11,  0,  1,  0,  0,  0,  1,  1,  0]) 38.463477823310129\n",
      "  0.031600000000000003]\n",
      " [array([9, 0, 1, 0, 0, 1, 0, 1, 0]) 38.41559619952325 0.0253]\n",
      " [array([9, 0, 1, 0, 0, 1, 1, 1, 0]) 38.408758012451742 0.0521]]\n",
      "\n",
      "--------------\n",
      "\n",
      "(100, '>>> Current score: ', 3980.6521540790004, 39806.521540790003, 'rejected=', 1.125)\n",
      "(150, '>>> Currently available gifts : ', [('ball', 0), ('bike', 500), ('blocks', 850), ('book', 1200), ('coal', 166), ('doll', 941), ('gloves', 141), ('horse', 792), ('train', 942)])\n",
      "(200, '>>> Current score: ', 7540.1366229750265, 37700.68311487513, 'rejected=', 6.0300000000000002)\n",
      "(300, '>>> Current score: ', 11132.185160981773, 37107.283869939245, 'rejected=', 10.17)\n",
      "(400, '>>> Current score: ', 14664.215831522937, 36660.539578807344, 'rejected=', 16.699999999999999)\n",
      "(450, '>>> Currently available gifts : ', [('ball', 0), ('bike', 500), ('blocks', 550), ('book', 1041), ('coal', 166), ('doll', 641), ('gloves', 0), ('horse', 192), ('train', 642)])\n",
      "(500, '>>> Current score: ', 18206.765135843278, 36413.530271686555, 'rejected=', 22.760000000000002)\n",
      "(600, '>>> Current score: ', 21756.466446811388, 36260.777411352312, 'rejected=', 28.195)\n",
      "(700, '>>> Current score: ', 25347.262703927405, 36210.375291324868, 'rejected=', 32.844999999999999)\n",
      "(750, '>>> Currently available gifts : ', [('ball', 0), ('bike', 500), ('blocks', 46), ('book', 945), ('coal', 166), ('doll', 341), ('gloves', 0), ('horse', 0), ('train', 342)])\n",
      "(800, '>>> Current score: ', 28780.16734639986, 35975.209182999824, 'rejected=', 38.875)\n",
      "(900, '>>> Current score: ', 31720.246213899416, 35244.718015443796, 'rejected=', 49.524999999999999)\n",
      "(1000, '>>> Current score: ', 34764.48942733118, 34764.48942733118, 'rejected=', 58.024999999999999)\n",
      "good_bag_index 10646\n"
     ]
    }
   ],
   "source": [
    "r = 100\n",
    "print \"\\n\\n--- Start bags filling with : r=\", r\n",
    "mask = sorted_scores[:, 2] < r\n",
    "sorted_scores = sorted_scores[mask]\n",
    "print \"\\n---\", len(sorted_scores), sorted_scores[:5, :]\n",
    "available_gifts = deepcopy(AVAILABLE_GIFTS)\n",
    "print \"\\n--------------\\n\"\n",
    "filled_bags = fill_bags(sorted_scores, available_gifts)\n",
    "#s, r = score(filled_bags, return_rejected=True)"
   ]
  },
  {
   "cell_type": "code",
   "execution_count": 40,
   "metadata": {
    "collapsed": false
   },
   "outputs": [
    {
     "data": {
      "text/plain": [
       "(34712.887270504885,\n",
       " 58.494999999999997,\n",
       " 340.08907408361586,\n",
       " 6.9907063305505828)"
      ]
     },
     "execution_count": 40,
     "metadata": {},
     "output_type": "execute_result"
    }
   ],
   "source": [
    "score(filled_bags, return_rejected=True, return_std=True)"
   ]
  },
  {
   "cell_type": "code",
   "execution_count": null,
   "metadata": {
    "collapsed": true
   },
   "outputs": [],
   "source": [
    "Kaggle: 35143.27282"
   ]
  },
  {
   "cell_type": "code",
   "execution_count": null,
   "metadata": {
    "collapsed": true
   },
   "outputs": [],
   "source": [
    "def to_submission(state, available_gifts, gift_types):\n",
    "    n_gifts = [available_gifts[t] for t in gift_types]\n",
    "    output = []\n",
    "    for bag in state:\n",
    "        o = []\n",
    "        for index, count in enumerate(bag):   \n",
    "            gift_type = gift_types[index]\n",
    "            for i in range(count):\n",
    "                v = n_gifts[index] - 1\n",
    "                assert v >= 0, \"Gift index is negative\"\n",
    "                o.append(gift_type + '_%i' % v)\n",
    "                n_gifts[index] -= 1\n",
    "        output.append(o)  \n",
    "    return output\n",
    "\n",
    "def write_submission(state, filename):\n",
    "    with open(filename, 'w') as w:\n",
    "        w.write(\"Gifts\\n\")\n",
    "        for bag in state:\n",
    "            w.write(' '.join(bag) + '\\n')\n",
    "    \n"
   ]
  },
  {
   "cell_type": "code",
   "execution_count": 828,
   "metadata": {
    "collapsed": false
   },
   "outputs": [],
   "source": [
    "from datetime import datetime\n",
    "submission_file = '../results/submission_' + \\\n",
    "                  str(datetime.now().strftime(\"%Y-%m-%d-%H-%M\")) + \\\n",
    "                  '.csv'  \n",
    "        \n",
    "submission = to_submission(filled_bags, AVAILABLE_GIFTS, GIFT_TYPES)    \n",
    "write_submission(submission, submission_file)        "
   ]
  },
  {
   "cell_type": "markdown",
   "metadata": {},
   "source": [
    "### Some results \n",
    "\n",
    "- submission_2017-01-27-15-51.csv\n",
    "- 1000 max scores\n",
    "- Local : 34722.394251084297\n",
    "- Kaggle: 35143.27282\n",
    "\n",
    "\n",
    "- submission_2017-01-27-16-00.csv\n",
    "- 1000 max scores\n",
    "- rejected = 0.075\n",
    "- Local : 31405.637035241478\n",
    "- Kaggle : 31645.38768\n",
    "\n",
    "\n",
    "- submission_2017-01-27-16-36.csv\n",
    "- 900 max scores\n",
    "- n_gloves = 200\n",
    "- Local : 34083\n",
    "- Kaggle : 34040.37733\n",
    "\n",
    "\n",
    "- submission_2017-01-28-01-42.csv\n",
    "- 975 max scores\n",
    "- n_gloves = 30\n",
    "- Local : 34604.652758133743\n",
    "- Kaggle : 35044.53273\n",
    "\n",
    "\n",
    "- submission_2017-01-28-14-00.csv\n",
    "- Sort decreasing 'rejected', 0.25\n",
    "- Local : 31688\n",
    "- Kaggle : 32222.66426\n",
    "\n",
    "\n",
    "- submission_2017-01-28-14-52.csv\n",
    "- Sort decreasing 'rejected', 'score': rejected=0.17\n",
    "- Local : 33820.373412003297, 51.950000000000003\n",
    "- Kaggle : \n",
    "\n",
    "\n",
    "- submission_2017-01-29-13-22.csv\n",
    "- Sort decreasing 'pr_wins', source 'scores' with rejected=0.25\n",
    "- Local : 33963.264414211175, 49.600000000000001\n",
    "- Kaggle : 34122.79829\n",
    "\n"
   ]
  },
  {
   "cell_type": "code",
   "execution_count": null,
   "metadata": {
    "collapsed": true
   },
   "outputs": [],
   "source": []
  }
 ],
 "metadata": {
  "kernelspec": {
   "display_name": "Python 2",
   "language": "python",
   "name": "python2"
  },
  "language_info": {
   "codemirror_mode": {
    "name": "ipython",
    "version": 2
   },
   "file_extension": ".py",
   "mimetype": "text/x-python",
   "name": "python",
   "nbconvert_exporter": "python",
   "pygments_lexer": "ipython2",
   "version": "2.7.12"
  }
 },
 "nbformat": 4,
 "nbformat_minor": 0
}
