{
 "cells": [
  {
   "cell_type": "markdown",
   "metadata": {},
   "source": [
    "# Hill-Climbing search\n",
    "code implementation from [`aima-python`](https://github.com/aimacode/aima-python/blob/master/search.py)"
   ]
  },
  {
   "cell_type": "code",
   "execution_count": 1,
   "metadata": {
    "collapsed": true
   },
   "outputs": [],
   "source": [
    "# https://ipython.org/ipython-doc/3/config/extensions/autoreload.html\n",
    "%load_ext autoreload\n",
    "%autoreload 2"
   ]
  },
  {
   "cell_type": "code",
   "execution_count": 2,
   "metadata": {
    "collapsed": true
   },
   "outputs": [],
   "source": [
    "import numpy as np"
   ]
  },
  {
   "cell_type": "code",
   "execution_count": 3,
   "metadata": {
    "collapsed": true
   },
   "outputs": [],
   "source": [
    "from search import Problem, SantasBagsProblem, hill_climbing, simulated_annealing\n",
    "from search import fill_all_bags\n",
    "import sys\n",
    "sys.path.append('../common')\n",
    "from utils import weight3 as weight_fn\n",
    "from utils import bag_weight, score\n",
    "from utils import MAX_WEIGHT, AVAILABLE_GIFTS, GIFT_TYPES, N_TYPES, N_BAGS"
   ]
  },
  {
   "cell_type": "code",
   "execution_count": 4,
   "metadata": {
    "collapsed": false
   },
   "outputs": [
    {
     "data": {
      "text/plain": [
       "{'ball': 1.8471894467886858,\n",
       " 'bike': 19.800921855963754,\n",
       " 'blocks': 11.587347492790292,\n",
       " 'book': 1.8620882866801276,\n",
       " 'coal': 42,\n",
       " 'doll': 4.8448987856816599,\n",
       " 'gloves': 1.2071312000834755,\n",
       " 'horse': 4.8825970336724822,\n",
       " 'train': 9.9182827557604352}"
      ]
     },
     "execution_count": 4,
     "metadata": {},
     "output_type": "execute_result"
    }
   ],
   "source": [
    "fixed_weights = {}\n",
    "for i, g in enumerate(GIFT_TYPES):\n",
    "    fixed_weights[g] = weight_fn(i, 5000) - 0.15\n",
    "    \n",
    "fixed_weights['coal'] = 42\n",
    "fixed_weights"
   ]
  },
  {
   "cell_type": "code",
   "execution_count": 5,
   "metadata": {
    "collapsed": true
   },
   "outputs": [],
   "source": [
    "n_bags_per_state = 1\n",
    "empty_state = tuple([tuple([0]*N_TYPES)]*n_bags_per_state)"
   ]
  },
  {
   "cell_type": "code",
   "execution_count": 6,
   "metadata": {
    "collapsed": false
   },
   "outputs": [
    {
     "data": {
      "text/plain": [
       "{'ball': 0.54136298891187729,\n",
       " 'bike': 0.050502699181089607,\n",
       " 'blocks': 0.086301027963665136,\n",
       " 'book': 0.53703146470185681,\n",
       " 'coal': 0.023809523809523808,\n",
       " 'doll': 0.20640266066142465,\n",
       " 'gloves': 0.82841036660376932,\n",
       " 'horse': 0.20480903771160539,\n",
       " 'train': 0.10082390516838315}"
      ]
     },
     "execution_count": 6,
     "metadata": {},
     "output_type": "execute_result"
    }
   ],
   "source": [
    "def fix_weight(gift_index):\n",
    "    return fixed_weights[GIFT_TYPES[gift_index]]\n",
    "\n",
    "def bag_fix_weight(bag):\n",
    "    out = 0\n",
    "    for i, c in enumerate(bag):\n",
    "        out += fix_weight(i) * c\n",
    "    return out\n",
    "\n",
    "def state_fix_score(state):\n",
    "    score = 0 \n",
    "    for bag in state:\n",
    "        score += bag_fix_weight(bag)\n",
    "    return score\n",
    "\n",
    "type_cost = {}\n",
    "for g in fixed_weights:\n",
    "    type_cost[g] = 1.0/fixed_weights[g]\n",
    "#     type_cost[g] = (MAX_WEIGHT - fixed_weights[g]) / MAX_WEIGHT \n",
    "type_cost"
   ]
  },
  {
   "cell_type": "code",
   "execution_count": 11,
   "metadata": {
    "collapsed": true
   },
   "outputs": [],
   "source": [
    "# Penalize states that heavy than goal score \n",
    "def h1(state, limit):    \n",
    "    w = state_fix_score(state)\n",
    "    if w < limit:\n",
    "        return (limit - w) / limit\n",
    "    else:\n",
    "        return 1.0\n",
    "    \n",
    "    \n",
    "# Difference between fix / 'real' masses\n",
    "def h2(state):\n",
    "    w2 = state_fix_score(state)\n",
    "    w1 = score(state)\n",
    "    if w2 > 0:\n",
    "        return abs(w2 - w1)*1.0 / w2\n",
    "    else:\n",
    "        return 1.0\n",
    "\n",
    "\n",
    "# Count number of rejected bags :\n",
    "def h3(state):\n",
    "    _, rejected = score(state, return_rejected=True)\n",
    "    return rejected"
   ]
  },
  {
   "cell_type": "code",
   "execution_count": 21,
   "metadata": {
    "collapsed": true
   },
   "outputs": [],
   "source": [
    "alpha = 0.7\n",
    "goal_score = n_bags_per_state*MAX_WEIGHT*alpha\n",
    "limit = goal_score + 0.5*(MAX_WEIGHT-goal_score)\n",
    "\n",
    "initial_state = ((0,0,0,0,0,0,0,0,0,),)"
   ]
  },
  {
   "cell_type": "code",
   "execution_count": 23,
   "metadata": {
    "collapsed": true
   },
   "outputs": [],
   "source": [
    "def value(state):\n",
    "    return h1(state, limit) + h2(state) + h3(state)"
   ]
  },
  {
   "cell_type": "code",
   "execution_count": 24,
   "metadata": {
    "collapsed": false
   },
   "outputs": [],
   "source": [
    "p = SantasBagsProblem(initial=initial_state,\n",
    "                      gift_types=GIFT_TYPES, \n",
    "                      available_gifts=AVAILABLE_GIFTS,\n",
    "                      max_weight=MAX_WEIGHT,    \n",
    "                      type_cost=type_cost,\n",
    "                      gift_weight_fn=fix_weight,\n",
    "                      bag_weight_fn=bag_fix_weight,\n",
    "                      goal_score=goal_score, \n",
    "                      score_fn=score,\n",
    "                      verbose_level=0)\n",
    "\n",
    "p.value = value"
   ]
  },
  {
   "cell_type": "code",
   "execution_count": 25,
   "metadata": {
    "collapsed": false
   },
   "outputs": [
    {
     "data": {
      "text/plain": [
       "<Node ((1, 0, 0, 0, 0, 1, 3, 2, 3),): 3.9450865403129702>"
      ]
     },
     "execution_count": 25,
     "metadata": {},
     "output_type": "execute_result"
    }
   ],
   "source": [
    "# hill_climbing(p)\n",
    "result = simulated_annealing(p)\n",
    "result"
   ]
  },
  {
   "cell_type": "code",
   "execution_count": 26,
   "metadata": {
    "collapsed": false
   },
   "outputs": [
    {
     "data": {
      "text/plain": [
       "(18.049125507135056, 0.0)"
      ]
     },
     "execution_count": 26,
     "metadata": {},
     "output_type": "execute_result"
    }
   ],
   "source": [
    "score(result.state), score(initial_state)"
   ]
  },
  {
   "cell_type": "code",
   "execution_count": null,
   "metadata": {
    "collapsed": true
   },
   "outputs": [],
   "source": []
  },
  {
   "cell_type": "code",
   "execution_count": 32,
   "metadata": {
    "collapsed": false
   },
   "outputs": [
    {
     "name": "stdout",
     "output_type": "stream",
     "text": [
      "0 <function exp_schedule.<locals>.<lambda> at 0x10516bf28>\n"
     ]
    }
   ],
   "source": [
    "for t in range(sys.maxsize):\n",
    "    T = exp_schedule(t)\n",
    "    print(t, T)\n",
    "    break"
   ]
  },
  {
   "cell_type": "code",
   "execution_count": 27,
   "metadata": {
    "collapsed": true
   },
   "outputs": [],
   "source": [
    "import math\n",
    "\n",
    "def exp_schedule(k=20, lam=0.005, limit=100):\n",
    "    \"\"\"One possible schedule function for simulated annealing\"\"\"\n",
    "    return lambda t: (k * math.exp(-lam * t) if t < limit else 0)\n",
    "\n",
    "\n",
    "def probability(p):\n",
    "    \"\"\"Return true with probability p.\"\"\"\n",
    "    return p > random.uniform(0.0, 1.0)\n",
    "\n",
    "\n",
    "def simulated_annealing(problem, schedule=exp_schedule()):\n",
    "    current = Node(problem.initial)\n",
    "    for t in range(sys.maxsize):\n",
    "        T = schedule(t)\n",
    "        if T == 0:\n",
    "            return current\n",
    "        neighbors = current.expand(problem)\n",
    "        if not neighbors:\n",
    "            return current\n",
    "        next = random.choice(neighbors)\n",
    "        delta_e = problem.value(next.state) - problem.value(current.state)\n",
    "        if delta_e > 0 or probability(math.exp(delta_e / T)):\n",
    "            current = next\n"
   ]
  },
  {
   "cell_type": "code",
   "execution_count": null,
   "metadata": {
    "collapsed": true
   },
   "outputs": [],
   "source": []
  },
  {
   "cell_type": "code",
   "execution_count": null,
   "metadata": {
    "collapsed": true
   },
   "outputs": [],
   "source": []
  }
 ],
 "metadata": {
  "kernelspec": {
   "display_name": "Python 3",
   "language": "python",
   "name": "python3"
  },
  "language_info": {
   "codemirror_mode": {
    "name": "ipython",
    "version": 3
   },
   "file_extension": ".py",
   "mimetype": "text/x-python",
   "name": "python",
   "nbconvert_exporter": "python",
   "pygments_lexer": "ipython3",
   "version": "3.5.2"
  }
 },
 "nbformat": 4,
 "nbformat_minor": 0
}
