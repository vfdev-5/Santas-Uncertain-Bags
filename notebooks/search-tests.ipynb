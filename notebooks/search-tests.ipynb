{
 "cells": [
  {
   "cell_type": "markdown",
   "metadata": {},
   "source": [
    "# Hill-Climbing search\n",
    "code implementation from [`aima-python`](https://github.com/aimacode/aima-python/blob/master/search.py)"
   ]
  },
  {
   "cell_type": "code",
   "execution_count": 1,
   "metadata": {
    "collapsed": true
   },
   "outputs": [],
   "source": [
    "# https://ipython.org/ipython-doc/3/config/extensions/autoreload.html\n",
    "%load_ext autoreload\n",
    "%autoreload 2"
   ]
  },
  {
   "cell_type": "code",
   "execution_count": 15,
   "metadata": {
    "collapsed": true
   },
   "outputs": [],
   "source": [
    "import numpy as np"
   ]
  },
  {
   "cell_type": "code",
   "execution_count": 2,
   "metadata": {
    "collapsed": true
   },
   "outputs": [],
   "source": [
    "from search import Problem, hill_climbing, simulated_annealing\n",
    "import sys\n",
    "sys.path.append('../common')\n",
    "from utils import weight3 as weight_fn"
   ]
  },
  {
   "cell_type": "code",
   "execution_count": 3,
   "metadata": {
    "collapsed": true
   },
   "outputs": [],
   "source": [
    "n_bags = 2\n",
    "max_weight = 50\n",
    "\n",
    "n_horses = 1000\n",
    "n_balls = 1100\n",
    "n_bikes = 500\n",
    "n_trains = 1000\n",
    "n_coals = 166\n",
    "n_books = 1200\n",
    "n_dolls = 1000\n",
    "n_blocks = 1000\n",
    "n_gloves = 200\n",
    "\n",
    "available_gifts = {\n",
    "    \"horse\": n_horses,\n",
    "    \"ball\": n_balls,\n",
    "    \"bike\": n_bikes,\n",
    "    \"train\": n_trains,\n",
    "    \"coal\": n_coals,\n",
    "    \"book\": n_books,\n",
    "    \"doll\": n_dolls,\n",
    "    \"blocks\": n_blocks,\n",
    "    \"gloves\": n_gloves\n",
    "}\n",
    "\n",
    "\n",
    "type_cost = {\n",
    "#     \"horse\": 1.2,\n",
    "#     \"ball\": 1.2,\n",
    "#     \"bike\": 2,\n",
    "#     \"train\": 1.15,\n",
    "#     \"coal\": 0.5,\n",
    "#     \"book\": 2.0,\n",
    "#     \"doll\": 1.3,\n",
    "#     \"blocks\": 0.5,\n",
    "#     \"gloves\": 3    \n",
    "}\n",
    "\n",
    "gift_types = sorted(list(available_gifts.keys()))\n",
    "n_types = len(gift_types)"
   ]
  },
  {
   "cell_type": "markdown",
   "metadata": {},
   "source": [
    "State is tuple (bags) of tuples (gifts) :\n",
    "\n",
    "```\n",
    "( \n",
    "#  ball, bike, block, book, coal, doll, gloves, horse, train  \n",
    "    (0,1,0,3,0,0,0,0,2), # bag 1\n",
    "    (0,0,0,0,0,2,5,6,0), # bag 2\n",
    "    ...\n",
    ")\n",
    "```"
   ]
  },
  {
   "cell_type": "code",
   "execution_count": 4,
   "metadata": {
    "collapsed": true
   },
   "outputs": [],
   "source": [
    "def bag_weight(bag, n1=100):\n",
    "    weight = 0\n",
    "    for index, count in enumerate(bag):\n",
    "        for i in range(count):\n",
    "            weight += weight_fn(index, n1)\n",
    "    return weight"
   ]
  },
  {
   "cell_type": "code",
   "execution_count": 5,
   "metadata": {
    "collapsed": true
   },
   "outputs": [],
   "source": [
    "def score(state, count=100):\n",
    "    scores = np.zeros(count)\n",
    "    for c in range(count):\n",
    "        score = 0\n",
    "        for bag in state:\n",
    "            total_weight_ = bag_weight(bag, n1=1)\n",
    "            if total_weight_ < max_weight:\n",
    "                score += total_weight_\n",
    "        scores[c] = score\n",
    "    return np.mean(scores)"
   ]
  },
  {
   "cell_type": "code",
   "execution_count": 22,
   "metadata": {
    "collapsed": true
   },
   "outputs": [],
   "source": [
    "class SantasBagsProblem(Problem):\n",
    "            \n",
    "    def _get_gift_type_indices(self, state):\n",
    "        out = []\n",
    "        types = np.sum(np.array(state), axis=0)\n",
    "        for index, t in enumerate(types):\n",
    "            if t < self.available_gifts[self.gift_types[index]]:\n",
    "                out.append(index)\n",
    "        return out\n",
    "        \n",
    "    def actions(self, state):\n",
    "        \"\"\"Return a list of actions executable in this state.\"\"\"                        \n",
    "        _gift_type_indices = self._get_gift_type_indices(state)\n",
    "        if len(_gift_type_indices) == 0:\n",
    "            print(\"No gifts available to create actions\")\n",
    "            return []\n",
    "    \n",
    "        # find a bag with a minimal weight  \n",
    "        min_weight_bag_index = 0\n",
    "        min_weight = self.max_weight\n",
    "        for i, bag in enumerate(state):\n",
    "            w = self.bag_weight_fn(bag)\n",
    "            if min_weight > w:\n",
    "                min_weight_bag_index = i\n",
    "                min_weight = w\n",
    "                        \n",
    "        actions = []\n",
    "        bag_weight = self.bag_weight_fn(state[min_weight_bag_index])\n",
    "        for _index in _gift_type_indices:\n",
    "            gift_weight = self.weight_fn(_index)        \n",
    "            if bag_weight + gift_weight < self.max_weight:\n",
    "                actions.append((min_weight_bag_index, _index))\n",
    "        return actions\n",
    "    \n",
    "    def result(self, state, action):\n",
    "        \"\"\"The state that results from executing this action in this state.\"\"\"\n",
    "        bag_id, gift_type_index = action\n",
    "        new_state = list(state)\n",
    "        bag = list(new_state[bag_id])\n",
    "        bag[gift_type_index] += 1\n",
    "        new_state[bag_id] = tuple(bag)\n",
    "        return tuple(new_state)\n",
    "\n",
    "    def is_goal(self, state):\n",
    "        \"\"\"True if the state is a goal.\"\"\"        \n",
    "        mean_score = self.value(state)\n",
    "        return mean_score > self.goal_score\n",
    "\n",
    "    def step_cost(self, state, action, result=None):\n",
    "        \"\"\"The cost of taking this action from this state.\"\"\"\n",
    "        if self.type_cost is not None:\n",
    "            bag_id, gift_type_index  = action\n",
    "            gift_type = self.gift_types[gift_type_index]\n",
    "            if gift_type in self.type_cost:\n",
    "                return self.type_cost[gift_type]  # Override this if actions have different costs\n",
    "            return 1.0\n",
    "        return 1.0\n",
    "                \n",
    "    def value(self, state):\n",
    "        for bag in state:\n",
    "            if sum(bag) < 3:\n",
    "                return -1\n",
    "        count=100\n",
    "        scores = np.zeros(count)\n",
    "        rejected = 0\n",
    "        for c in range(count):\n",
    "            score = 0\n",
    "            for bag in state:\n",
    "                total_weight_ = self.bag_weight_fn(bag, n1=1)\n",
    "                if total_weight_ < self.max_weight:\n",
    "                    score += total_weight_\n",
    "                else:\n",
    "                    rejected += 1\n",
    "            scores[c] = score\n",
    "        return np.mean(scores)"
   ]
  },
  {
   "cell_type": "code",
   "execution_count": 23,
   "metadata": {
    "collapsed": false
   },
   "outputs": [
    {
     "name": "stdout",
     "output_type": "stream",
     "text": [
      "Goal score:  63.0\n"
     ]
    }
   ],
   "source": [
    "alpha = 0.63\n",
    "goal_score = n_bags*max_weight*alpha\n",
    "print(\"Goal score: \", goal_score)"
   ]
  },
  {
   "cell_type": "code",
   "execution_count": 27,
   "metadata": {
    "collapsed": true
   },
   "outputs": [],
   "source": [
    "# initial_state=tuple([tuple([0]*n_types)]*n_bags)\n",
    "initial_state=((2, 1, 0, 1, 0, 1, 1, 1, 0),)"
   ]
  },
  {
   "cell_type": "code",
   "execution_count": 28,
   "metadata": {
    "collapsed": false
   },
   "outputs": [],
   "source": [
    "p = SantasBagsProblem(initial=initial_state,\n",
    "                      gift_types=gift_types, \n",
    "                      available_gifts=available_gifts,\n",
    "                      max_weight=max_weight,    \n",
    "                      type_cost=type_cost,\n",
    "                      weight_fn=weight_fn,\n",
    "                      bag_weight_fn=bag_weight,\n",
    "                      goal_score=goal_score)"
   ]
  },
  {
   "cell_type": "code",
   "execution_count": 59,
   "metadata": {
    "collapsed": false
   },
   "outputs": [
    {
     "data": {
      "text/plain": [
       "<Node ((5, 1, 0, 2, 0, 1, 4, 1, 0),): 7.0>"
      ]
     },
     "execution_count": 59,
     "metadata": {},
     "output_type": "execute_result"
    }
   ],
   "source": [
    "# hill_climbing(p)\n",
    "result = simulated_annealing(p)\n",
    "result"
   ]
  },
  {
   "cell_type": "code",
   "execution_count": 60,
   "metadata": {
    "collapsed": false
   },
   "outputs": [
    {
     "data": {
      "text/plain": [
       "(23.214877944293274, 31.937356531527513)"
      ]
     },
     "execution_count": 60,
     "metadata": {},
     "output_type": "execute_result"
    }
   ],
   "source": [
    "score(result.state), score(initial_state)"
   ]
  },
  {
   "cell_type": "code",
   "execution_count": null,
   "metadata": {
    "collapsed": true
   },
   "outputs": [],
   "source": []
  },
  {
   "cell_type": "code",
   "execution_count": null,
   "metadata": {
    "collapsed": true
   },
   "outputs": [],
   "source": []
  }
 ],
 "metadata": {
  "kernelspec": {
   "display_name": "Python 3",
   "language": "python",
   "name": "python3"
  },
  "language_info": {
   "codemirror_mode": {
    "name": "ipython",
    "version": 3
   },
   "file_extension": ".py",
   "mimetype": "text/x-python",
   "name": "python",
   "nbconvert_exporter": "python",
   "pygments_lexer": "ipython3",
   "version": "3.5.2"
  }
 },
 "nbformat": 4,
 "nbformat_minor": 0
}
