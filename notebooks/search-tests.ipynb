{
 "cells": [
  {
   "cell_type": "markdown",
   "metadata": {},
   "source": [
    "# Simulated annealing search"
   ]
  },
  {
   "cell_type": "code",
   "execution_count": 1,
   "metadata": {
    "collapsed": false
   },
   "outputs": [],
   "source": [
    "# https://ipython.org/ipython-doc/3/config/extensions/autoreload.html\n",
    "%load_ext autoreload\n",
    "%autoreload 2"
   ]
  },
  {
   "cell_type": "code",
   "execution_count": 2,
   "metadata": {
    "collapsed": false
   },
   "outputs": [],
   "source": [
    "import numpy as np"
   ]
  },
  {
   "cell_type": "code",
   "execution_count": 3,
   "metadata": {
    "collapsed": true
   },
   "outputs": [],
   "source": [
    "import sys\n",
    "sys.path.append('../common')\n",
    "from utils import weight3 as weight_fn\n",
    "from utils import bag_weight, score\n",
    "from utils import MAX_WEIGHT, AVAILABLE_GIFTS, GIFT_TYPES, N_TYPES, N_BAGS"
   ]
  },
  {
   "cell_type": "code",
   "execution_count": 4,
   "metadata": {
    "collapsed": false
   },
   "outputs": [
    {
     "data": {
      "text/plain": [
       "{'ball': 1.99876912083,\n",
       " 'bike': 20.0021364556,\n",
       " 'blocks': 11.6630321858,\n",
       " 'book': 2.00086596571,\n",
       " 'coal': 23.7866257713,\n",
       " 'doll': 4.9993625282,\n",
       " 'gloves': 1.40310067709,\n",
       " 'horse': 4.99527064522,\n",
       " 'train': 10.0234458084}"
      ]
     },
     "execution_count": 4,
     "metadata": {},
     "output_type": "execute_result"
    }
   ],
   "source": [
    "fixed_weights = {}\n",
    "fixed_weights['ball'] = 1.99876912083\n",
    "fixed_weights['bike'] = 20.0021364556\n",
    "fixed_weights['blocks'] = 11.6630321858\n",
    "fixed_weights['book'] = 2.00086596571\n",
    "fixed_weights['coal'] = 23.7866257713\n",
    "fixed_weights['doll'] = 4.9993625282\n",
    "fixed_weights['gloves'] = 1.40310067709\n",
    "fixed_weights['horse'] = 4.99527064522\n",
    "fixed_weights['train'] = 10.0234458084\n",
    "fixed_weights"
   ]
  },
  {
   "cell_type": "code",
   "execution_count": 5,
   "metadata": {
    "collapsed": true
   },
   "outputs": [],
   "source": [
    "n_bags_per_state = 1\n",
    "empty_state = tuple([tuple([0]*N_TYPES)]*n_bags_per_state)"
   ]
  },
  {
   "cell_type": "code",
   "execution_count": 6,
   "metadata": {
    "collapsed": false
   },
   "outputs": [
    {
     "data": {
      "text/plain": [
       "{'ball': 0.5003079092920669,\n",
       " 'bike': 0.04999465943149438,\n",
       " 'blocks': 0.08574099634377431,\n",
       " 'book': 0.49978360226900737,\n",
       " 'coal': 0.04204043102265309,\n",
       " 'doll': 0.2000255021233769,\n",
       " 'gloves': 0.7127072321524197,\n",
       " 'horse': 0.20018935329498216,\n",
       " 'train': 0.09976609033611623}"
      ]
     },
     "execution_count": 6,
     "metadata": {},
     "output_type": "execute_result"
    }
   ],
   "source": [
    "def fix_weight(gift_index):\n",
    "    return fixed_weights[GIFT_TYPES[gift_index]]\n",
    "\n",
    "def bag_fix_weight(bag):\n",
    "    out = 0\n",
    "    for i, c in enumerate(bag):\n",
    "        out += fix_weight(i) * c\n",
    "    return out\n",
    "\n",
    "def state_fix_score(state):\n",
    "    score = 0 \n",
    "    for bag in state:\n",
    "        score += bag_fix_weight(bag)\n",
    "    return score\n",
    "\n",
    "type_cost = {}\n",
    "for g in fixed_weights:\n",
    "    type_cost[g] = 1.0/fixed_weights[g]\n",
    "#     type_cost[g] = (MAX_WEIGHT - fixed_weights[g]) / MAX_WEIGHT \n",
    "type_cost"
   ]
  },
  {
   "cell_type": "code",
   "execution_count": 7,
   "metadata": {
    "collapsed": true
   },
   "outputs": [],
   "source": [
    "# Penalize states that heavy than goal score \n",
    "def h1(state, limit):    \n",
    "    w = state_fix_score(state)\n",
    "    if w < limit:\n",
    "        return (limit - w) / limit\n",
    "    else:\n",
    "        return 1.0\n",
    "    \n",
    "    \n",
    "# Difference between fix / 'real' masses\n",
    "def h2(state):\n",
    "    w2 = state_fix_score(state)\n",
    "    w1 = score(state)\n",
    "    if w2 > 0:\n",
    "        return abs(w2 - w1)*1.0 / w2\n",
    "    else:\n",
    "        return 1.0\n",
    "\n",
    "\n",
    "# Count number of rejected bags :\n",
    "def h3(state):\n",
    "    _, rejected = score(state, return_rejected=True)\n",
    "    return rejected"
   ]
  },
  {
   "cell_type": "code",
   "execution_count": 8,
   "metadata": {
    "collapsed": true
   },
   "outputs": [],
   "source": [
    "alpha = 0.7\n",
    "goal_score = n_bags_per_state*MAX_WEIGHT*alpha\n",
    "limit = goal_score + 0.5*(MAX_WEIGHT-goal_score)\n",
    "\n",
    "initial_state = ((0,0,0,0,0,0,0,0,0,),)"
   ]
  },
  {
   "cell_type": "code",
   "execution_count": 11,
   "metadata": {
    "collapsed": false
   },
   "outputs": [
    {
     "data": {
      "text/plain": [
       "2.0"
      ]
     },
     "execution_count": 11,
     "metadata": {},
     "output_type": "execute_result"
    }
   ],
   "source": [
    "def value(state):\n",
    "    return h1(state, limit) + h2(state) + h3(state)\n",
    "\n",
    "value(initial_state)"
   ]
  },
  {
   "cell_type": "code",
   "execution_count": null,
   "metadata": {
    "collapsed": true
   },
   "outputs": [],
   "source": []
  },
  {
   "cell_type": "code",
   "execution_count": null,
   "metadata": {
    "collapsed": true
   },
   "outputs": [],
   "source": []
  },
  {
   "cell_type": "code",
   "execution_count": 10,
   "metadata": {
    "collapsed": false
   },
   "outputs": [],
   "source": [
    "from scipy.optimize import basinhopping"
   ]
  },
  {
   "cell_type": "code",
   "execution_count": 39,
   "metadata": {
    "collapsed": false
   },
   "outputs": [
    {
     "data": {
      "text/plain": [
       "array([4, 3, 0, 5, 2])"
      ]
     },
     "execution_count": 39,
     "metadata": {},
     "output_type": "execute_result"
    }
   ],
   "source": [
    "np.random.randint(len(GIFT_TYPES), size=5)"
   ]
  },
  {
   "cell_type": "code",
   "execution_count": 14,
   "metadata": {
    "collapsed": true
   },
   "outputs": [],
   "source": [
    "class SBP_take_step:\n",
    "    def __init__(self, stepsize=5.0):\n",
    "        self.stepsize = stepsize\n",
    "    def __call__(self, x):\n",
    "        n = np.ceil(self.stepsize)\n",
    "        indices = np.random.randint(len(GIFT_TYPES), size=n)\n",
    "        for index in indices:\n",
    "            x[index] += 1\n",
    "        return x\n",
    "\n",
    "def SBP_func(state):\n",
    "    return MAX_WEIGHT - score(state)"
   ]
  },
  {
   "cell_type": "code",
   "execution_count": 15,
   "metadata": {
    "collapsed": false
   },
   "outputs": [
    {
     "data": {
      "text/plain": [
       "50.0"
      ]
     },
     "execution_count": 15,
     "metadata": {},
     "output_type": "execute_result"
    }
   ],
   "source": [
    "SBP_func(initial_state)"
   ]
  },
  {
   "cell_type": "code",
   "execution_count": null,
   "metadata": {
    "collapsed": true
   },
   "outputs": [],
   "source": []
  },
  {
   "cell_type": "code",
   "execution_count": null,
   "metadata": {
    "collapsed": true
   },
   "outputs": [],
   "source": [
    "minimizer_kwargs = {\"method\": \"BFGS\"}\n",
    "result = basinhopping(SBP_func, initial_state, minimizer_kwargs=minimizer_kwargs, niter=200, take_step=SBP_take_step())\n",
    "print(\"global minimum: x = %.4f, f(x0) = %.4f\" % (result.x, result.fun))"
   ]
  },
  {
   "cell_type": "code",
   "execution_count": 35,
   "metadata": {
    "collapsed": false
   },
   "outputs": [
    {
     "data": {
      "text/plain": [
       "(22.928007158010217, 0.0)"
      ]
     },
     "execution_count": 35,
     "metadata": {},
     "output_type": "execute_result"
    }
   ],
   "source": [
    "score(result.x)"
   ]
  },
  {
   "cell_type": "code",
   "execution_count": null,
   "metadata": {
    "collapsed": true
   },
   "outputs": [],
   "source": []
  }
 ],
 "metadata": {
  "kernelspec": {
   "display_name": "Python 3",
   "language": "python",
   "name": "python3"
  },
  "language_info": {
   "codemirror_mode": {
    "name": "ipython",
    "version": 3
   },
   "file_extension": ".py",
   "mimetype": "text/x-python",
   "name": "python",
   "nbconvert_exporter": "python",
   "pygments_lexer": "ipython3",
   "version": "3.5.2"
  }
 },
 "nbformat": 4,
 "nbformat_minor": 0
}
