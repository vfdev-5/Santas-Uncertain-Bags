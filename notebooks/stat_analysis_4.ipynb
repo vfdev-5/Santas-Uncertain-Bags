{
 "cells": [
  {
   "cell_type": "markdown",
   "metadata": {},
   "source": [
    "# Statistical analysis and examples"
   ]
  },
  {
   "cell_type": "code",
   "execution_count": 1,
   "metadata": {
    "collapsed": false
   },
   "outputs": [],
   "source": [
    "import sys\n",
    "sys.path.append('../common')\n",
    "from utils import weight3 as weight_fn, weight_by_index\n",
    "from utils import bag_weight, score, mean_n_sigma, score_stats\n",
    "from utils import MAX_WEIGHT, AVAILABLE_GIFTS, GIFT_TYPES, N_TYPES, N_BAGS\n",
    "\n",
    "from copy import deepcopy\n",
    "from collections import defaultdict\n",
    "\n",
    "import numpy as np\n",
    "np.random.seed(0)\n",
    "import matplotlib.pyplot as plt\n",
    "%matplotlib inline"
   ]
  },
  {
   "cell_type": "code",
   "execution_count": 2,
   "metadata": {
    "collapsed": true
   },
   "outputs": [],
   "source": [
    "N_TRIALS = 10000\n",
    "GIFT_WEIGHTS = np.zeros((N_TRIALS, N_TYPES))\n",
    "for index in range(N_TYPES):\n",
    "    GIFT_WEIGHTS[:, index] = [weight_by_index(index) for i in range(N_TRIALS)]"
   ]
  },
  {
   "cell_type": "code",
   "execution_count": 3,
   "metadata": {
    "collapsed": true
   },
   "outputs": [],
   "source": [
    "def compute_score(state):\n",
    "    s = np.sum(GIFT_WEIGHTS * state, axis=1)\n",
    "    mask = s < MAX_WEIGHT\n",
    "    rejected = (N_TRIALS - np.sum(mask))*1.0 / N_TRIALS\n",
    "    score = np.sum(s[mask]) * 1.0 / N_TRIALS\n",
    "    return score, rejected\n",
    "\n",
    "def another_score(bags):        \n",
    "    out = []\n",
    "    for j in range(5):\n",
    "        s = 0\n",
    "        for bag in bags:            \n",
    "            start = np.random.randint(GIFT_WEIGHTS.shape[0])\n",
    "            w = 0\n",
    "            for i, v in enumerate(bag):\n",
    "                if v > 0:\n",
    "                    start = min(GIFT_WEIGHTS.shape[0]-v, start)\n",
    "                    ws = GIFT_WEIGHTS[start:start+v,i]                    \n",
    "                    w += np.sum(ws)\n",
    "            s += w if w < MAX_WEIGHT else 0.0\n",
    "        out.append(s)\n",
    "    return np.mean(out) + np.std(out), np.mean(out), np.std(out)\n",
    "\n",
    "def mean_std(state, count=1000):\n",
    "    w = []\n",
    "    for c in range(count):\n",
    "        m = 0\n",
    "        for i, v in enumerate(state):\n",
    "            if v > 0:\n",
    "                m += np.sum([weight_by_index(i) for j in range(v)]) \n",
    "        w.append(m if m < MAX_WEIGHT else 0.0)\n",
    "    return np.mean(w), np.std(w)"
   ]
  },
  {
   "cell_type": "code",
   "execution_count": 5,
   "metadata": {
    "collapsed": true
   },
   "outputs": [
    {
     "name": "stdout",
     "output_type": "stream",
     "text": [
      "(11.059238056790017, 0.72440000000000004) (11.01652787975698, 0.73999999999999999)\n",
      "(38.778464781192397, 17.378723538650821, 21.399741242541573)\n",
      "12.5472941437 19.5881968867 32.1354910304\n"
     ]
    },
    {
     "data": {
      "image/png": "[encoded data removed]",
      "text/plain": [
       "<matplotlib.figure.Figure at 0x7ff13340cf10>"
      ]
     },
     "metadata": {},
     "output_type": "display_data"
    }
   ],
   "source": [
    "# state = [0, 1, 0, 2, 0, 0, 0, 0, 1]\n",
    "# state = [2, 0, 1, 1, 0, 1, 0, 1, 1]\n",
    "state = [2, 0, 3, 0, 1, 0, 1, 0, 0]\n",
    "\n",
    "score((state,), return_rejected=True)\n",
    "print compute_score(state), score((state,), return_rejected=True)\n",
    "print another_score((state,))\n",
    "mn, std = mean_std(state)\n",
    "print mn, std, mn + 1.0 * std \n",
    "weights = np.array([bag_weight(state, n1=1) for i in range(1000)])\n",
    "plt.figure()\n",
    "hist = plt.hist(weights, bins=MAX_WEIGHT)"
   ]
  },
  {
   "cell_type": "code",
   "execution_count": 6,
   "metadata": {
    "collapsed": false,
    "scrolled": false
   },
   "outputs": [
    {
     "data": {
      "text/plain": [
       "['ball', 'bike', 'blocks', 'book', 'coal', 'doll', 'gloves', 'horse', 'train']"
      ]
     },
     "execution_count": 6,
     "metadata": {},
     "output_type": "execute_result"
    }
   ],
   "source": [
    "GIFT_TYPES"
   ]
  },
  {
   "cell_type": "code",
   "execution_count": 7,
   "metadata": {
    "collapsed": false
   },
   "outputs": [],
   "source": [
    "custom_states = [\n",
    "    [1, 0, 1, 1, 0, 1, 0, 1, 1],\n",
    "#     [0, 2, 0, 0, 0, 0, 1, 0, 0],\n",
    "#     [0, 0, 0, 0, 1, 0, 2, 0, 0],\n",
    "#     [0, 1, 0, 0, 0, 0, 10, 0, 0],\n",
    "#     [0, 1, 0, 0, 0, 0, 2, 0, 1]\n",
    "#     [1, 0, 1, 1, 0, 1, 1, 1, 1], # 100\n",
    "#     [1, 0, 1, 1, 0, 1, 2, 1, 1], # 100\n",
    "    [1, 0, 1, 1, 0, 1, 3, 1, 1], # 33\n",
    "]\n",
    "\n",
    "# 34955\n",
    "custom_states = [\n",
    "    [2, 0, 1, 1, 0, 1, 0, 1, 1], # 550\n",
    "    [0, 0, 1, 0, 0, 1, 2, 2, 1], # 100\n",
    "    [0, 0, 1, 0, 0, 2, 0, 1, 1], # 500\n",
    "    [0, 0, 2, 2, 0, 0, 0, 2, 0], # 500\n",
    "    [0, 0, 2, 2, 0, 0, 0, 0, 1],\n",
    "    [0, 1, 0, 2, 0, 0, 0, 0, 1],\n",
    "]\n",
    "\n",
    "# custom_states = [\n",
    "#     [2, 0, 1, 1, 0, 1, 0, 1, 1], # 550\n",
    "#     [0, 0, 1, 0, 0, 1, 2, 2, 1], # 100\n",
    "#     [0, 0, 1, 0, 0, 2, 0, 1, 1], # 500\n",
    "    \n",
    "#     [0, 0, 2, 2, 0, 0, 0, 2, 0], # 500\n",
    "#     [0, 0, 2, 2, 0, 0, 0, 0, 1],\n",
    "#     [0, 1, 0, 2, 0, 0, 0, 0, 1],\n",
    "\n",
    "# #     [0, 0, 1, 1, 0, 1, 0, 1, 1], # 1000\n",
    "# #     [0, 1, 0, 0, 0, 0, 2, 0, 1], # 100\n",
    "# #     [0, 2, 0, 0, 0, 0, 1, 0, 0], # 200\n",
    "# #     [0, 0, 0, 0, 1, 0, 2, 0, 0], # 100\n",
    "# #     [0, 0, 1, 1, 0, 1, 3, 1, 1], # 33\n",
    "# ]"
   ]
  },
  {
   "cell_type": "code",
   "execution_count": 9,
   "metadata": {
    "collapsed": false,
    "scrolled": true
   },
   "outputs": [
    {
     "name": "stdout",
     "output_type": "stream",
     "text": [
      "(36.978731570634231, 0.02)\n",
      "(35.301729790308038, 0.089999999999999997)\n",
      "(35.068929359142516, 0.050000000000000003)\n",
      "(37.191800524621165, 0.01)\n",
      "(35.214565926054114, 0.050000000000000003)\n",
      "(30.522281052851834, 0.10000000000000001)\n"
     ]
    },
    {
     "data": {
      "image/png": "[encoded data removed]",
      "text/plain": [
       "<matplotlib.figure.Figure at 0x7ff101ba0310>"
      ]
     },
     "metadata": {},
     "output_type": "display_data"
    },
    {
     "data": {
      "image/png": "[encoded data removed]",
      "text/plain": [
       "<matplotlib.figure.Figure at 0x7ff101a94f50>"
      ]
     },
     "metadata": {},
     "output_type": "display_data"
    },
    {
     "data": {
      "image/png": "[encoded data removed]",
      "text/plain": [
       "<matplotlib.figure.Figure at 0x7ff101924ed0>"
      ]
     },
     "metadata": {},
     "output_type": "display_data"
    },
    {
     "data": {
      "image/png": "[encoded data removed]",
      "text/plain": [
       "<matplotlib.figure.Figure at 0x7ff101737810>"
      ]
     },
     "metadata": {},
     "output_type": "display_data"
    },
    {
     "data": {
      "image/png": "[encoded data removed]",
      "text/plain": [
       "<matplotlib.figure.Figure at 0x7ff101f0e090>"
      ]
     },
     "metadata": {},
     "output_type": "display_data"
    },
    {
     "data": {
      "image/png": "[encoded data removed]",
      "text/plain": [
       "<matplotlib.figure.Figure at 0x7ff102053b10>"
      ]
     },
     "metadata": {},
     "output_type": "display_data"
    }
   ],
   "source": [
    "for state in custom_states:\n",
    "#     print another_score((state,)), score((state,), return_rejected=True), mean_std(state)\n",
    "    print score((state,), return_rejected=True)\n",
    "    weights = np.array([bag_weight(state, n1=1) for i in range(10000)])\n",
    "    plt.figure()\n",
    "    hist = plt.hist(weights, bins=MAX_WEIGHT)"
   ]
  },
  {
   "cell_type": "code",
   "execution_count": 10,
   "metadata": {
    "collapsed": false
   },
   "outputs": [],
   "source": [
    "# def check(filled_bags):\n",
    "#     gifts = np.sum(filled_bags, axis=1)\n",
    "#     for v, gift_type in zip(gifts, GIFT_TYPES):\n",
    "#         assert AVAILABLE_GIFTS[gift_type] - v >= 0, \"Total number of gifts: {}\".format(gifts)\n",
    "\n",
    "def update_available_gifts(available_gifts, filled_bags, gift_types=GIFT_TYPES):\n",
    "    gifts = np.sum(filled_bags, axis=0)\n",
    "    for v, gift_type in zip(gifts, gift_types):\n",
    "        assert available_gifts[gift_type] - v >= 0, \"Found state is not available : {}, {}, {}\".format(gift_type, available_gifts[gift_type], v)\n",
    "        available_gifts[gift_type] = available_gifts[gift_type] - v"
   ]
  },
  {
   "cell_type": "code",
   "execution_count": 11,
   "metadata": {
    "collapsed": false
   },
   "outputs": [],
   "source": [
    "filled_bags = np.zeros((N_BAGS, N_TYPES), dtype=np.uint8)\n",
    "\n",
    "for i in range(550):\n",
    "    filled_bags[i, :] = custom_states[0]\n",
    "\n",
    "for i in range(550,650):\n",
    "    filled_bags[i, :] = custom_states[1]\n",
    "\n",
    "for i in range(650,825):\n",
    "    filled_bags[i, :] = custom_states[2]\n",
    "\n",
    "for i in range(825,862):\n",
    "    filled_bags[i, :] = custom_states[3]\n",
    "\n",
    "for i in range(862,912):\n",
    "    filled_bags[i, :] = custom_states[4]\n",
    "\n",
    "for i in range(912,1000):\n",
    "    filled_bags[i, :] = custom_states[5]\n",
    "\n",
    "    \n",
    "available_gifts = deepcopy(AVAILABLE_GIFTS)\n",
    "update_available_gifts(available_gifts, filled_bags)"
   ]
  },
  {
   "cell_type": "code",
   "execution_count": 19,
   "metadata": {
    "collapsed": false
   },
   "outputs": [
    {
     "name": "stdout",
     "output_type": "stream",
     "text": [
      "(34996.377986569743, 44.369999999999997) {'horse': 1.0, 'ball': 0.0, 'blocks': 1.0, 'doll': 0.0, 'train': 37.0, 'coal': 166.0, 'bike': 412.0, 'gloves': 0.0, 'book': 300.0}\n"
     ]
    }
   ],
   "source": [
    "np.random.seed(1)\n",
    "print score(filled_bags, return_rejected=True), available_gifts"
   ]
  },
  {
   "cell_type": "code",
   "execution_count": 20,
   "metadata": {
    "collapsed": false
   },
   "outputs": [],
   "source": [
    "def score(state, count=100, max_weight=MAX_WEIGHT, return_rejected=False, return_std=False):\n",
    "    scores = np.zeros(count)\n",
    "    rejected_bags = np.zeros(count)\n",
    "    for c in range(count):\n",
    "        score = 0\n",
    "        rejected = 0\n",
    "        for bag in state:\n",
    "            total_weight_ = bag_weight(bag, n1=1)\n",
    "            if total_weight_ < max_weight:\n",
    "                score += total_weight_\n",
    "            else:\n",
    "                rejected += 1\n",
    "        rejected_bags[c] = rejected\n",
    "        scores[c] = score\n",
    "    if return_rejected:\n",
    "        if return_std:\n",
    "            return np.mean(scores), np.mean(rejected_bags), np.std(scores), np.std(rejected_bags)\n",
    "        return np.mean(scores), np.mean(rejected_bags)\n",
    "    else:\n",
    "        if return_std:\n",
    "            return np.mean(scores), np.std(scores)\n",
    "        return np.mean(scores)"
   ]
  },
  {
   "cell_type": "code",
   "execution_count": 22,
   "metadata": {
    "collapsed": false
   },
   "outputs": [
    {
     "name": "stdout",
     "output_type": "stream",
     "text": [
      "(34967.032764914919, 45.049999999999997, 300.36064035511419, 6.7087629262033097)\n"
     ]
    }
   ],
   "source": [
    "print score(filled_bags, return_rejected=True, return_std=True)"
   ]
  },
  {
   "cell_type": "code",
   "execution_count": 21,
   "metadata": {
    "collapsed": false
   },
   "outputs": [
    {
     "name": "stdout",
     "output_type": "stream",
     "text": [
      "(34986.67870590146, 44.740000000000002, 278.38226373868974, 6.7180651976592189)\n"
     ]
    }
   ],
   "source": [
    "print score(filled_bags, return_rejected=True, return_std=True)"
   ]
  },
  {
   "cell_type": "code",
   "execution_count": 363,
   "metadata": {
    "collapsed": false
   },
   "outputs": [
    {
     "name": "stdout",
     "output_type": "stream",
     "text": [
      "ball 0.0\n",
      "bike 412.0\n",
      "blocks 1.0\n",
      "book 300.0\n",
      "coal 166.0\n",
      "doll 0.0\n",
      "gloves 0.0\n",
      "horse 1.0\n",
      "train 37.0\n"
     ]
    }
   ],
   "source": [
    "for t in GIFT_TYPES:\n",
    "    print t, available_gifts[t]"
   ]
  },
  {
   "cell_type": "markdown",
   "metadata": {},
   "source": [
    "\n",
    "550 [2, 0, 1, 1, 0, 1, 0, 1, 1] + 100 [0, 0, 1, 0, 0, 1, 2, 2, 1] + 175 [0, 0, 1, 0, 0, 2, 0, 1, 1] + 37 [0, 0, 2, 2, 0, 0, 0, 2, 0] + 54 [0, 0, 2, 2, 0, 0, 0, 0, 1] + 88 [0, 1, 0, 2, 0, 0, 0, 0, 1]\n",
    "```\n",
    "(34955.64611727895, 46.009999999999998) \n",
    "{'horse': 1.0, 'ball': 0.0, 'blocks': 1.0, 'doll': 0.0, 'train': 37.0, 'coal': 166.0, 'bike': 412.0, 'gloves': 0.0, 'book': 300.0}\n",
    "```\n",
    "Kaggle : 34994.02952\n",
    "\n",
    "-----\n",
    "\n",
    "All : [1, 0, 1, 1, 0, 1, 0, 1, 1]\n",
    "```\n",
    "(34574.634136662957, 21.390000000000001) \n",
    "{'horse': 0.0, 'ball': 100.0, 'blocks': 0.0, 'doll': 0.0, 'train': 0.0, 'coal': 166.0, 'bike': 500.0, 'gloves': 200.0, 'book': 200.0}\n",
    "```\n",
    "\n",
    "800 [1, 0, 1, 1, 0, 1, 0, 1, 1] + 200 [1, 0, 1, 1, 0, 1, 1, 1, 1]\n",
    "```\n",
    "(34691.551059590813, 24.48) {'horse': 0.0, 'ball': 100.0, 'blocks': 0.0, 'doll': 0.0, 'train': 0.0, 'coal': 166.0, 'bike': 500.0, 'gloves': 0.0, 'book': 200.0}\n",
    "```\n",
    "\n",
    "900 [1, 0, 1, 1, 0, 1, 0, 1, 1] + 100 [1, 0, 1, 1, 0, 1, 2, 1, 1]\n",
    "```\n",
    "(34614.065104952184, 25.449999999999999) {'horse': 0.0, 'ball': 100.0, 'blocks': 0.0, 'doll': 0.0, 'train': 0.0, 'coal': 166.0, 'bike': 500.0, 'gloves': 0.0, 'book': 200.0}\n",
    "```\n",
    "\n",
    "967 [1, 0, 1, 1, 0, 1, 0, 1, 1] + 33 [1, 0, 1, 1, 0, 1, 3, 1, 1]\n",
    "```\n",
    "(34634.079318323944, 24.199999999999999) {'horse': 0.0, 'ball': 100.0, 'blocks': 0.0, 'doll': 0.0, 'train': 0.0, 'coal': 166.0, 'bike': 500.0, 'gloves': 101.0, 'book': 200.0}\n",
    "```"
   ]
  },
  {
   "cell_type": "code",
   "execution_count": 367,
   "metadata": {
    "collapsed": true
   },
   "outputs": [],
   "source": []
  },
  {
   "cell_type": "code",
   "execution_count": null,
   "metadata": {
    "collapsed": true
   },
   "outputs": [],
   "source": []
  },
  {
   "cell_type": "code",
   "execution_count": null,
   "metadata": {
    "collapsed": true
   },
   "outputs": [],
   "source": []
  },
  {
   "cell_type": "code",
   "execution_count": null,
   "metadata": {
    "collapsed": true
   },
   "outputs": [],
   "source": []
  },
  {
   "cell_type": "code",
   "execution_count": null,
   "metadata": {
    "collapsed": true
   },
   "outputs": [],
   "source": []
  },
  {
   "cell_type": "code",
   "execution_count": 365,
   "metadata": {
    "collapsed": true
   },
   "outputs": [],
   "source": [
    "def to_submission(state, available_gifts, gift_types):\n",
    "    n_gifts = [available_gifts[t] for t in gift_types]\n",
    "    output = []\n",
    "    for bag in state:\n",
    "        o = []\n",
    "        for index, count in enumerate(bag):   \n",
    "            gift_type = gift_types[index]\n",
    "            for i in range(count):\n",
    "                v = n_gifts[index] - 1\n",
    "                assert v >= 0, \"Gift index is negative\"\n",
    "                o.append(gift_type + '_%i' % v)\n",
    "                n_gifts[index] -= 1\n",
    "        output.append(o)  \n",
    "    return output\n",
    "\n",
    "def write_submission(state, filename):\n",
    "    with open(filename, 'w') as w:\n",
    "        w.write(\"Gifts\\n\")\n",
    "        for bag in state:\n",
    "            w.write(' '.join(bag) + '\\n')\n",
    "    \n"
   ]
  },
  {
   "cell_type": "code",
   "execution_count": 366,
   "metadata": {
    "collapsed": false
   },
   "outputs": [],
   "source": [
    "from datetime import datetime\n",
    "submission_file = '../results/submission_' + \\\n",
    "                  str(datetime.now().strftime(\"%Y-%m-%d-%H-%M\")) + \\\n",
    "                  '.csv'  \n",
    "        \n",
    "submission = to_submission(filled_bags, AVAILABLE_GIFTS, GIFT_TYPES)    \n",
    "write_submission(submission, submission_file)        "
   ]
  },
  {
   "cell_type": "markdown",
   "metadata": {},
   "source": [
    "### Some results \n",
    "\n",
    "- submission_2017-01-29-13-59.csv\n",
    "- random shuffle, s = 22\n",
    "- Local : 33224.557601849941, 84.790000000000006\n",
    "- Kaggle : 33534.45962\n"
   ]
  },
  {
   "cell_type": "code",
   "execution_count": null,
   "metadata": {
    "collapsed": true
   },
   "outputs": [],
   "source": []
  }
 ],
 "metadata": {
  "kernelspec": {
   "display_name": "Python 2",
   "language": "python",
   "name": "python2"
  },
  "language_info": {
   "codemirror_mode": {
    "name": "ipython",
    "version": 2
   },
   "file_extension": ".py",
   "mimetype": "text/x-python",
   "name": "python",
   "nbconvert_exporter": "python",
   "pygments_lexer": "ipython2",
   "version": "2.7.12"
  }
 },
 "nbformat": 4,
 "nbformat_minor": 0
}
