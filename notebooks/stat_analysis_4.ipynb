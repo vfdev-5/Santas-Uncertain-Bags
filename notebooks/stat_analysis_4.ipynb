{
 "cells": [
  {
   "cell_type": "markdown",
   "metadata": {},
   "source": [
    "# Statistical analysisa and examples"
   ]
  },
  {
   "cell_type": "code",
   "execution_count": 1,
   "metadata": {
    "collapsed": false
   },
   "outputs": [
    {
     "name": "stderr",
     "output_type": "stream",
     "text": [
      "/usr/local/lib/python2.7/site-packages/matplotlib/font_manager.py:273: UserWarning: Matplotlib is building the font cache using fc-list. This may take a moment.\n",
      "  warnings.warn('Matplotlib is building the font cache using fc-list. This may take a moment.')\n"
     ]
    }
   ],
   "source": [
    "import sys\n",
    "sys.path.append('../common')\n",
    "from utils import weight3 as weight_fn, weight_by_index\n",
    "from utils import bag_weight, score, mean_n_sigma, score_stats\n",
    "from utils import MAX_WEIGHT, AVAILABLE_GIFTS, GIFT_TYPES, N_TYPES, N_BAGS\n",
    "\n",
    "from copy import deepcopy\n",
    "from collections import defaultdict\n",
    "\n",
    "import numpy as np\n",
    "np.random.seed(2017)\n",
    "import matplotlib.pyplot as plt\n",
    "%matplotlib inline"
   ]
  },
  {
   "cell_type": "code",
   "execution_count": 454,
   "metadata": {
    "collapsed": true
   },
   "outputs": [],
   "source": [
    "N_TRIALS = 5000\n",
    "GIFT_WEIGHTS = np.zeros((N_TRIALS, N_TYPES))\n",
    "for index in range(N_TYPES):\n",
    "    GIFT_WEIGHTS[:, index] = [weight_by_index(index) for i in range(N_TRIALS)]"
   ]
  },
  {
   "cell_type": "code",
   "execution_count": 452,
   "metadata": {
    "collapsed": true
   },
   "outputs": [],
   "source": [
    "def compute_score(state):\n",
    "    s = np.sum(GIFT_WEIGHTS * state, axis=1)\n",
    "    mask = s < MAX_WEIGHT\n",
    "    rejected = (N_TRIALS - np.sum(mask))*1.0 / N_TRIALS\n",
    "    score = np.sum(s[mask]) * 1.0 / N_TRIALS\n",
    "    return score, rejected\n",
    "\n",
    "def another_score(bags):    \n",
    "    gifts = np.sum(bags, axis=0)\n",
    "    out = []\n",
    "    for j in range(5):\n",
    "        s = 0\n",
    "        start = np.random.randint(GIFT_WEIGHTS.shape[0])\n",
    "        for i, n in enumerate(gifts):  \n",
    "            n = int(n)\n",
    "            start = min(GIFT_WEIGHTS.shape[0]-n, start)\n",
    "            weights = GIFT_WEIGHTS[start:start+n,i]\n",
    "            weights[weights > MAX_WEIGHT] = 0.0\n",
    "            s += np.sum(weights)\n",
    "        out.append(s)\n",
    "    return out"
   ]
  },
  {
   "cell_type": "code",
   "execution_count": 358,
   "metadata": {
    "collapsed": false
   },
   "outputs": [
    {
     "name": "stdout",
     "output_type": "stream",
     "text": [
      "(29.034610663114478, 0.092100000000000001) (25.573990020697707, 0.20000000000000001)\n"
     ]
    },
    {
     "data": {
      "image/png": "[encoded data removed]",
      "text/plain": [
       "<matplotlib.figure.Figure at 0x115f6abd0>"
      ]
     },
     "metadata": {},
     "output_type": "display_data"
    }
   ],
   "source": [
    "state = [0, 1, 0, 2, 0, 0, 0, 0, 1]\n",
    "score((state,), return_rejected=True)\n",
    "print compute_score(state), score((state,), return_rejected=True)\n",
    "weights = np.array([bag_weight(state, n1=1) for i in range(1000)])\n",
    "plt.figure()\n",
    "hist = plt.hist(weights, bins=MAX_WEIGHT)"
   ]
  },
  {
   "cell_type": "code",
   "execution_count": 207,
   "metadata": {
    "collapsed": false
   },
   "outputs": [
    {
     "data": {
      "text/plain": [
       "['ball', 'bike', 'blocks', 'book', 'coal', 'doll', 'gloves', 'horse', 'train']"
      ]
     },
     "execution_count": 207,
     "metadata": {},
     "output_type": "execute_result"
    }
   ],
   "source": [
    "GIFT_TYPES"
   ]
  },
  {
   "cell_type": "code",
   "execution_count": 359,
   "metadata": {
    "collapsed": false
   },
   "outputs": [],
   "source": [
    "custom_states = [\n",
    "    [1, 0, 1, 1, 0, 1, 0, 1, 1],\n",
    "#     [0, 2, 0, 0, 0, 0, 1, 0, 0],\n",
    "#     [0, 0, 0, 0, 1, 0, 2, 0, 0],\n",
    "#     [0, 1, 0, 0, 0, 0, 10, 0, 0],\n",
    "#     [0, 1, 0, 0, 0, 0, 2, 0, 1]\n",
    "#     [1, 0, 1, 1, 0, 1, 1, 1, 1], # 100\n",
    "#     [1, 0, 1, 1, 0, 1, 2, 1, 1], # 100\n",
    "    [1, 0, 1, 1, 0, 1, 3, 1, 1], # 33\n",
    "]\n",
    "\n",
    "# 34955\n",
    "custom_states = [\n",
    "    [2, 0, 1, 1, 0, 1, 0, 1, 1], # 550\n",
    "    [0, 0, 1, 0, 0, 1, 2, 2, 1], # 100\n",
    "    [0, 0, 1, 0, 0, 2, 0, 1, 1], # 500\n",
    "    [0, 0, 2, 2, 0, 0, 0, 2, 0], # 500\n",
    "    [0, 0, 2, 2, 0, 0, 0, 0, 1],\n",
    "    [0, 1, 0, 2, 0, 0, 0, 0, 1],\n",
    "]\n",
    "\n",
    "custom_states = [\n",
    "    [2, 0, 1, 1, 0, 1, 0, 1, 1], # 550\n",
    "    [0, 0, 1, 0, 0, 1, 2, 2, 1], # 100\n",
    "    [0, 0, 1, 0, 0, 2, 0, 1, 1], # 500\n",
    "    \n",
    "    [0, 0, 2, 2, 0, 0, 0, 2, 0], # 500\n",
    "    [0, 0, 2, 2, 0, 0, 0, 0, 1],\n",
    "    [0, 1, 0, 2, 0, 0, 0, 0, 1],\n",
    "\n",
    "#     [0, 0, 1, 1, 0, 1, 0, 1, 1], # 1000\n",
    "#     [0, 1, 0, 0, 0, 0, 2, 0, 1], # 100\n",
    "#     [0, 2, 0, 0, 0, 0, 1, 0, 0], # 200\n",
    "#     [0, 0, 0, 0, 1, 0, 2, 0, 0], # 100\n",
    "#     [0, 0, 1, 1, 0, 1, 3, 1, 1], # 33\n",
    "]"
   ]
  },
  {
   "cell_type": "code",
   "execution_count": 360,
   "metadata": {
    "collapsed": false
   },
   "outputs": [
    {
     "name": "stdout",
     "output_type": "stream",
     "text": [
      "(35.551336446334297, 0.040599999999999997) (35.373635907922932, 0.040000000000000001)\n",
      "(34.422736082403283, 0.094) (35.335671925286348, 0.070000000000000007)\n",
      "(34.270873905466729, 0.045100000000000001) (34.454787971597071, 0.02)\n",
      "(33.38032736824119, 0.073999999999999996) (35.77556130151482, 0.01)\n",
      "(32.650355422955137, 0.087400000000000005) (37.028895870329755, 0.02)\n",
      "(29.034610663114478, 0.092100000000000001) (27.898426091109073, 0.050000000000000003)\n"
     ]
    },
    {
     "data": {
      "image/png": "[encoded data removed]",
      "text/plain": [
       "<matplotlib.figure.Figure at 0x116af5610>"
      ]
     },
     "metadata": {},
     "output_type": "display_data"
    },
    {
     "data": {
      "image/png": "[encoded data removed]",
      "text/plain": [
       "<matplotlib.figure.Figure at 0x1173c9e90>"
      ]
     },
     "metadata": {},
     "output_type": "display_data"
    },
    {
     "data": {
      "image/png": "[encoded data removed]",
      "text/plain": [
       "<matplotlib.figure.Figure at 0x116b172d0>"
      ]
     },
     "metadata": {},
     "output_type": "display_data"
    },
    {
     "data": {
      "image/png": "[encoded data removed]",
      "text/plain": [
       "<matplotlib.figure.Figure at 0x1165bed90>"
      ]
     },
     "metadata": {},
     "output_type": "display_data"
    },
    {
     "data": {
      "image/png": "[encoded data removed]",
      "text/plain": [
       "<matplotlib.figure.Figure at 0x115fd2b90>"
      ]
     },
     "metadata": {},
     "output_type": "display_data"
    },
    {
     "data": {
      "image/png": "[encoded data removed]",
      "text/plain": [
       "<matplotlib.figure.Figure at 0x116243950>"
      ]
     },
     "metadata": {},
     "output_type": "display_data"
    }
   ],
   "source": [
    "for state in custom_states:\n",
    "    print compute_score(state), score((state,), return_rejected=True)\n",
    "    weights = np.array([bag_weight(state, n1=1) for i in range(10000)])\n",
    "    plt.figure()\n",
    "    hist = plt.hist(weights, bins=MAX_WEIGHT)"
   ]
  },
  {
   "cell_type": "code",
   "execution_count": 344,
   "metadata": {
    "collapsed": false
   },
   "outputs": [],
   "source": [
    "# def check(filled_bags):\n",
    "#     gifts = np.sum(filled_bags, axis=1)\n",
    "#     for v, gift_type in zip(gifts, GIFT_TYPES):\n",
    "#         assert AVAILABLE_GIFTS[gift_type] - v >= 0, \"Total number of gifts: {}\".format(gifts)\n",
    "\n",
    "def update_available_gifts(available_gifts, filled_bags, gift_types=GIFT_TYPES):\n",
    "    gifts = np.sum(filled_bags, axis=0)\n",
    "    for v, gift_type in zip(gifts, gift_types):\n",
    "        assert available_gifts[gift_type] - v >= 0, \"Found state is not available : {}, {}, {}\".format(gift_type, available_gifts[gift_type], v)\n",
    "        available_gifts[gift_type] = available_gifts[gift_type] - v"
   ]
  },
  {
   "cell_type": "code",
   "execution_count": 361,
   "metadata": {
    "collapsed": false
   },
   "outputs": [],
   "source": [
    "filled_bags = np.zeros((N_BAGS, N_TYPES), dtype=np.uint8)\n",
    "\n",
    "for i in range(550):\n",
    "    filled_bags[i, :] = custom_states[0]\n",
    "\n",
    "for i in range(550,650):\n",
    "    filled_bags[i, :] = custom_states[1]\n",
    "\n",
    "for i in range(650,825):\n",
    "    filled_bags[i, :] = custom_states[2]\n",
    "\n",
    "for i in range(825,862):\n",
    "    filled_bags[i, :] = custom_states[3]\n",
    "\n",
    "for i in range(862,912):\n",
    "    filled_bags[i, :] = custom_states[4]\n",
    "\n",
    "for i in range(912,1000):\n",
    "    filled_bags[i, :] = custom_states[5]\n",
    "\n",
    "    \n",
    "available_gifts = deepcopy(AVAILABLE_GIFTS)\n",
    "update_available_gifts(available_gifts, filled_bags)"
   ]
  },
  {
   "cell_type": "code",
   "execution_count": 364,
   "metadata": {
    "collapsed": false
   },
   "outputs": [
    {
     "name": "stdout",
     "output_type": "stream",
     "text": [
      "(34955.64611727895, 46.009999999999998) {'horse': 1.0, 'ball': 0.0, 'blocks': 1.0, 'doll': 0.0, 'train': 37.0, 'coal': 166.0, 'bike': 412.0, 'gloves': 0.0, 'book': 300.0}\n"
     ]
    }
   ],
   "source": [
    "print score(filled_bags, return_rejected=True), available_gifts"
   ]
  },
  {
   "cell_type": "code",
   "execution_count": 463,
   "metadata": {
    "collapsed": false
   },
   "outputs": [
    {
     "data": {
      "text/plain": [
       "[0.0, 0.0, 0.0, 0.0, 0.0]"
      ]
     },
     "execution_count": 463,
     "metadata": {},
     "output_type": "execute_result"
    }
   ],
   "source": [
    "another_score(filled_bags)"
   ]
  },
  {
   "cell_type": "code",
   "execution_count": 462,
   "metadata": {
    "collapsed": false
   },
   "outputs": [],
   "source": [
    "def another_score(bags):        \n",
    "    out = []\n",
    "    for j in range(5):\n",
    "        s = 0\n",
    "        for bag in bags:            \n",
    "            start = np.random.randint(GIFT_WEIGHTS.shape[0])\n",
    "            w = 0\n",
    "            for i, v in enumerate(bag):\n",
    "                if v > 0:\n",
    "                    start = min(GIFT_WEIGHTS.shape[0]-n, start)\n",
    "                    ws = GIFT_WEIGHTS[start:start+n,i]                    \n",
    "                    w += np.sum(ws)\n",
    "            s += w if w < MAX_WEIGHT else 0.0\n",
    "        out.append(s)\n",
    "    return out\n"
   ]
  },
  {
   "cell_type": "code",
   "execution_count": 363,
   "metadata": {
    "collapsed": false
   },
   "outputs": [
    {
     "name": "stdout",
     "output_type": "stream",
     "text": [
      "ball 0.0\n",
      "bike 412.0\n",
      "blocks 1.0\n",
      "book 300.0\n",
      "coal 166.0\n",
      "doll 0.0\n",
      "gloves 0.0\n",
      "horse 1.0\n",
      "train 37.0\n"
     ]
    }
   ],
   "source": [
    "for t in GIFT_TYPES:\n",
    "    print t, available_gifts[t]"
   ]
  },
  {
   "cell_type": "markdown",
   "metadata": {},
   "source": [
    "\n",
    "550 [2, 0, 1, 1, 0, 1, 0, 1, 1] + 100 [0, 0, 1, 0, 0, 1, 2, 2, 1] + 175 [0, 0, 1, 0, 0, 2, 0, 1, 1] + 37 [0, 0, 2, 2, 0, 0, 0, 2, 0] + 54 [0, 0, 2, 2, 0, 0, 0, 0, 1] + 88 [0, 1, 0, 2, 0, 0, 0, 0, 1]\n",
    "```\n",
    "(34955.64611727895, 46.009999999999998) \n",
    "{'horse': 1.0, 'ball': 0.0, 'blocks': 1.0, 'doll': 0.0, 'train': 37.0, 'coal': 166.0, 'bike': 412.0, 'gloves': 0.0, 'book': 300.0}\n",
    "```\n",
    "Kaggle : 34994.02952\n",
    "\n",
    "-----\n",
    "\n",
    "All : [1, 0, 1, 1, 0, 1, 0, 1, 1]\n",
    "```\n",
    "(34574.634136662957, 21.390000000000001) \n",
    "{'horse': 0.0, 'ball': 100.0, 'blocks': 0.0, 'doll': 0.0, 'train': 0.0, 'coal': 166.0, 'bike': 500.0, 'gloves': 200.0, 'book': 200.0}\n",
    "```\n",
    "\n",
    "800 [1, 0, 1, 1, 0, 1, 0, 1, 1] + 200 [1, 0, 1, 1, 0, 1, 1, 1, 1]\n",
    "```\n",
    "(34691.551059590813, 24.48) {'horse': 0.0, 'ball': 100.0, 'blocks': 0.0, 'doll': 0.0, 'train': 0.0, 'coal': 166.0, 'bike': 500.0, 'gloves': 0.0, 'book': 200.0}\n",
    "```\n",
    "\n",
    "900 [1, 0, 1, 1, 0, 1, 0, 1, 1] + 100 [1, 0, 1, 1, 0, 1, 2, 1, 1]\n",
    "```\n",
    "(34614.065104952184, 25.449999999999999) {'horse': 0.0, 'ball': 100.0, 'blocks': 0.0, 'doll': 0.0, 'train': 0.0, 'coal': 166.0, 'bike': 500.0, 'gloves': 0.0, 'book': 200.0}\n",
    "```\n",
    "\n",
    "967 [1, 0, 1, 1, 0, 1, 0, 1, 1] + 33 [1, 0, 1, 1, 0, 1, 3, 1, 1]\n",
    "```\n",
    "(34634.079318323944, 24.199999999999999) {'horse': 0.0, 'ball': 100.0, 'blocks': 0.0, 'doll': 0.0, 'train': 0.0, 'coal': 166.0, 'bike': 500.0, 'gloves': 101.0, 'book': 200.0}\n",
    "```"
   ]
  },
  {
   "cell_type": "code",
   "execution_count": 367,
   "metadata": {
    "collapsed": true
   },
   "outputs": [],
   "source": []
  },
  {
   "cell_type": "code",
   "execution_count": null,
   "metadata": {
    "collapsed": true
   },
   "outputs": [],
   "source": []
  },
  {
   "cell_type": "code",
   "execution_count": null,
   "metadata": {
    "collapsed": true
   },
   "outputs": [],
   "source": []
  },
  {
   "cell_type": "code",
   "execution_count": null,
   "metadata": {
    "collapsed": true
   },
   "outputs": [],
   "source": []
  },
  {
   "cell_type": "code",
   "execution_count": null,
   "metadata": {
    "collapsed": true
   },
   "outputs": [],
   "source": []
  },
  {
   "cell_type": "code",
   "execution_count": 365,
   "metadata": {
    "collapsed": true
   },
   "outputs": [],
   "source": [
    "def to_submission(state, available_gifts, gift_types):\n",
    "    n_gifts = [available_gifts[t] for t in gift_types]\n",
    "    output = []\n",
    "    for bag in state:\n",
    "        o = []\n",
    "        for index, count in enumerate(bag):   \n",
    "            gift_type = gift_types[index]\n",
    "            for i in range(count):\n",
    "                v = n_gifts[index] - 1\n",
    "                assert v >= 0, \"Gift index is negative\"\n",
    "                o.append(gift_type + '_%i' % v)\n",
    "                n_gifts[index] -= 1\n",
    "        output.append(o)  \n",
    "    return output\n",
    "\n",
    "def write_submission(state, filename):\n",
    "    with open(filename, 'w') as w:\n",
    "        w.write(\"Gifts\\n\")\n",
    "        for bag in state:\n",
    "            w.write(' '.join(bag) + '\\n')\n",
    "    \n"
   ]
  },
  {
   "cell_type": "code",
   "execution_count": 366,
   "metadata": {
    "collapsed": false
   },
   "outputs": [],
   "source": [
    "from datetime import datetime\n",
    "submission_file = '../results/submission_' + \\\n",
    "                  str(datetime.now().strftime(\"%Y-%m-%d-%H-%M\")) + \\\n",
    "                  '.csv'  \n",
    "        \n",
    "submission = to_submission(filled_bags, AVAILABLE_GIFTS, GIFT_TYPES)    \n",
    "write_submission(submission, submission_file)        "
   ]
  },
  {
   "cell_type": "markdown",
   "metadata": {},
   "source": [
    "### Some results \n",
    "\n",
    "- submission_2017-01-29-13-59.csv\n",
    "- random shuffle, s = 22\n",
    "- Local : 33224.557601849941, 84.790000000000006\n",
    "- Kaggle : 33534.45962\n"
   ]
  },
  {
   "cell_type": "code",
   "execution_count": null,
   "metadata": {
    "collapsed": true
   },
   "outputs": [],
   "source": []
  }
 ],
 "metadata": {
  "kernelspec": {
   "display_name": "Python 2",
   "language": "python",
   "name": "python2"
  },
  "language_info": {
   "codemirror_mode": {
    "name": "ipython",
    "version": 2
   },
   "file_extension": ".py",
   "mimetype": "text/x-python",
   "name": "python",
   "nbconvert_exporter": "python",
   "pygments_lexer": "ipython2",
   "version": "2.7.12"
  }
 },
 "nbformat": 4,
 "nbformat_minor": 0
}
