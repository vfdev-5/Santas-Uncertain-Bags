{
 "cells": [
  {
   "cell_type": "markdown",
   "metadata": {},
   "source": [
    "# A*-search using `aima-python`\n",
    "\n",
    "Algorithm implementations taken from [here](https://github.com/aimacode/aima-python/blob/master/search-4e.ipynb)"
   ]
  },
  {
   "cell_type": "markdown",
   "metadata": {},
   "source": [
    "* *State* is defined by gifts in bags\n",
    "\n",
    "* *Goal states* are defined by filled bags satisfying problem conditions\n",
    "\n",
    "* *Actions* : put a gift in a bag with a minimal weight"
   ]
  },
  {
   "cell_type": "code",
   "execution_count": 1,
   "metadata": {
    "collapsed": true
   },
   "outputs": [],
   "source": [
    "# https://ipython.org/ipython-doc/3/config/extensions/autoreload.html\n",
    "%load_ext autoreload\n",
    "%autoreload 2"
   ]
  },
  {
   "cell_type": "code",
   "execution_count": 20,
   "metadata": {
    "collapsed": true
   },
   "outputs": [],
   "source": [
    "import numpy as np"
   ]
  },
  {
   "cell_type": "code",
   "execution_count": 21,
   "metadata": {
    "collapsed": true
   },
   "outputs": [],
   "source": [
    "from search import Problem, astar_search, uniform_cost_search, state_sequence, action_sequence\n",
    "import sys\n",
    "sys.path.append('../common')\n",
    "from utils import weight2 as weight_fn"
   ]
  },
  {
   "cell_type": "code",
   "execution_count": 31,
   "metadata": {
    "collapsed": true
   },
   "outputs": [],
   "source": [
    "n_bags = 25\n",
    "max_weight = 50\n",
    "\n",
    "\n",
    "n_horses = 1000\n",
    "n_balls = 1100\n",
    "n_bikes = 500\n",
    "n_trains = 1000\n",
    "n_coals = 166\n",
    "n_books = 1200\n",
    "n_dolls = 1000\n",
    "n_blocks = 1000\n",
    "n_gloves = 200\n",
    "\n",
    "available_gifts = {\n",
    "    \"horse\": n_horses,\n",
    "    \"ball\": n_balls,\n",
    "    \"bike\": n_bikes,\n",
    "    \"train\": n_trains,\n",
    "    \"coal\": n_coals,\n",
    "    \"book\": n_books,\n",
    "    \"doll\": n_dolls,\n",
    "    \"blocks\": n_blocks,\n",
    "    \"gloves\": n_gloves\n",
    "}\n",
    "\n",
    "type_cost = {\n",
    "    \"horse\": 2,\n",
    "    \"ball\": 3,\n",
    "    \"bike\": 2,\n",
    "    \"train\": 2,\n",
    "    \"coal\": 1,\n",
    "    \"book\": 5,\n",
    "    \"doll\": 2,\n",
    "    \"blocks\": 1,\n",
    "    \"gloves\": 5    \n",
    "}\n",
    "\n",
    "gift_types = available_gifts.keys()\n",
    "n_types = 8"
   ]
  },
  {
   "cell_type": "markdown",
   "metadata": {},
   "source": [
    "State is tuple (bags) of tuples (gifts)"
   ]
  },
  {
   "cell_type": "code",
   "execution_count": 32,
   "metadata": {
    "collapsed": false
   },
   "outputs": [],
   "source": [
    "def bag_weight(bag, count=1):\n",
    "    weight = []\n",
    "    for c in range(count):\n",
    "        w = 0\n",
    "        for gift in bag:\n",
    "            gift_type = gift.split('_')[0]\n",
    "            w += weight_fn(gift_type, 500)\n",
    "        weight.append(w)            \n",
    "    return np.mean(weight)"
   ]
  },
  {
   "cell_type": "code",
   "execution_count": 33,
   "metadata": {
    "collapsed": false
   },
   "outputs": [],
   "source": [
    "class SantasBagsProblem(Problem):\n",
    "            \n",
    "    def actions(self, state):\n",
    "        \"\"\"Return a list of actions executable in this state.\"\"\"                        \n",
    "        # find a bag with a minimal weight                \n",
    "        min_weight_bag_index = 0\n",
    "        min_weight = self.max_weight\n",
    "        for i, bag in enumerate(state):\n",
    "            w = self.bag_weight_fn(bag)\n",
    "            if min_weight > w:\n",
    "                min_weight_bag_index = i\n",
    "                min_weight = w\n",
    "        \n",
    "        actions = [(min_weight_bag_index, gift_type) for gift_type in self.gift_types]\n",
    "#         print(\"actions: \", actions)\n",
    "        return actions\n",
    "    \n",
    "    def result(self, state, action):\n",
    "        \"\"\"The state that results from executing this action in this state.\"\"\"\n",
    "        bag_id, gift_type  = action\n",
    "        if self.available_gifts[gift_type] < 1:\n",
    "#             print(\"No more gifts of type : \", gift_type)\n",
    "            return state\n",
    "        \n",
    "#         print(\"-- result : input state: \", state, \"action: \", action)\n",
    "        bag_weight = self.bag_weight_fn(state[bag_id])\n",
    "        \n",
    "        gift_weight = self.weight_fn(gift_type, 500)\n",
    "        if bag_weight + gift_weight > self.max_weight:\n",
    "            return state\n",
    "                \n",
    "        new_state = list(state)\n",
    "        gift = gift_type + '_%i' % self.available_gifts[gift_type]\n",
    "        self.available_gifts[gift_type] -= 1\n",
    "        bag = list(new_state[bag_id])\n",
    "        bag.append(gift)\n",
    "        new_state[bag_id] = tuple(bag)\n",
    "        \n",
    "#         print(\"-- result : output state: \", new_state)\n",
    "        return tuple(new_state)\n",
    "\n",
    "    def is_goal(self, state):\n",
    "        \"\"\"True if the state is a goal.\"\"\"        \n",
    "        mean_score = self._validation(state)\n",
    "        if mean_score > self.goal_score:\n",
    "            print(\"Mean score : \", mean_score)\n",
    "        return mean_score > self.goal_score\n",
    "\n",
    "    def step_cost(self, state, action, result=None):\n",
    "        \"\"\"The cost of taking this action from this state.\"\"\"\n",
    "        bag_id, gift_type  = action        \n",
    "        return self.type_cost[gift_type]  # Override this if actions have different costs\n",
    "                \n",
    "    def _validation(self, state, count=5):\n",
    "        scores = np.zeros(count)\n",
    "        for c in range(count):\n",
    "            score = 0\n",
    "            for bag in state:\n",
    "                total_weight_ = self.bag_weight_fn(bag)\n",
    "                if total_weight_ < self.max_weight:\n",
    "                    score += total_weight_\n",
    "            scores[c] = score\n",
    "        return np.mean(scores)"
   ]
  },
  {
   "cell_type": "code",
   "execution_count": 34,
   "metadata": {
    "collapsed": false
   },
   "outputs": [
    {
     "name": "stdout",
     "output_type": "stream",
     "text": [
      "Goal score:  1000.0\n"
     ]
    }
   ],
   "source": [
    "alpha = 0.80\n",
    "goal_score = n_bags*max_weight*alpha\n",
    "print(\"Goal score: \", goal_score)"
   ]
  },
  {
   "cell_type": "code",
   "execution_count": 35,
   "metadata": {
    "collapsed": false
   },
   "outputs": [],
   "source": [
    "initial_state=tuple([()]*n_bags)\n",
    "p = SantasBagsProblem(initial=initial_state,\n",
    "                      gift_types=list(gift_types)[:n_types], \n",
    "                      available_gifts=available_gifts.copy(), \n",
    "                      max_weight=max_weight,    \n",
    "                      type_cost=type_cost,\n",
    "                      weight_fn=weight_fn,\n",
    "                      bag_weight_fn=bag_weight,\n",
    "                      goal_score=goal_score)"
   ]
  },
  {
   "cell_type": "markdown",
   "metadata": {},
   "source": [
    "Define heuristic function :\n"
   ]
  },
  {
   "cell_type": "code",
   "execution_count": 54,
   "metadata": {
    "collapsed": true
   },
   "outputs": [],
   "source": [
    "def h1(state):\n",
    "    h = 0\n",
    "    for bag in state:\n",
    "        w = bag_weight(bag)\n",
    "        h += max(max_weight*alpha/n_bags - w, 0.0)\n",
    "    return h\n",
    "\n",
    "def h2(state):     \n",
    "    h = 0\n",
    "    for bag in state:\n",
    "        h += bag_weight(bag)\n",
    "    h = max(goal_score - h, 0.0)\n",
    "    return h\n",
    "\n",
    "def h3(state):\n",
    "    h = 0\n",
    "    for bag in state:\n",
    "        w = bag_weight(bag)\n",
    "        h += max(max_weight/n_bags - w, 0.0)\n",
    "    return h\n",
    "\n",
    "def h4(state):     \n",
    "    h = 0\n",
    "    for bag in state:\n",
    "        h += bag_weight(bag)\n",
    "    h = max(max_weight*n_bags - h, 0.0) / n_bags\n",
    "    return h\n",
    "\n",
    "\n",
    "def final_heuristic_fn(state):    \n",
    "    return np.max(np.array([h1(state), h2(state), h3(state), h4(state)]))"
   ]
  },
  {
   "cell_type": "code",
   "execution_count": 55,
   "metadata": {
    "collapsed": false
   },
   "outputs": [
    {
     "data": {
      "text/plain": [
       "(40.000000000000014, 1000.0, 50.0, 50.0)"
      ]
     },
     "execution_count": 55,
     "metadata": {},
     "output_type": "execute_result"
    }
   ],
   "source": [
    "h1(initial_state), h2(initial_state), h3(initial_state), h4(initial_state)"
   ]
  },
  {
   "cell_type": "code",
   "execution_count": 56,
   "metadata": {
    "collapsed": false
   },
   "outputs": [
    {
     "name": "stdout",
     "output_type": "stream",
     "text": [
      "Mean score :  1009.22734646\n",
      "<Node (('coal_122', 'coal_92'), ('coal_121',), ('coal_120', 'coal_79'), ('coal_119',), ('coal_118', 'coal_89'), ('coal_117', 'coal_80'), ('coal_116', 'coal_90'), ('coal_115', 'coal_91'), ('coal_114',), ('coal_113', 'coal_82'), ('coal_112', 'bike_428'), ('coal_111',), ('coal_110', 'bike_418'), ('coal_109',), ('coal_108',), ('coal_107', 'coal_93'), ('bike_440', 'bike_429'), ('coal_105', 'coal_87'), ('coal_104', 'coal_81'), ('bike_437', 'bike_431'), ('coal_102', 'coal_85'), ('coal_101', 'coal_86'), ('coal_100', 'bike_422'), ('bike_433', 'coal_96'), ('coal_98', 'coal_83')): 52>\n"
     ]
    }
   ],
   "source": [
    "result = astar_search(p, final_heuristic_fn)\n",
    "print(result)"
   ]
  },
  {
   "cell_type": "code",
   "execution_count": 57,
   "metadata": {
    "collapsed": false
   },
   "outputs": [
    {
     "data": {
      "text/plain": [
       "(('coal_122', 'coal_92'),\n",
       " ('coal_121',),\n",
       " ('coal_120', 'coal_79'),\n",
       " ('coal_119',),\n",
       " ('coal_118', 'coal_89'),\n",
       " ('coal_117', 'coal_80'),\n",
       " ('coal_116', 'coal_90'),\n",
       " ('coal_115', 'coal_91'),\n",
       " ('coal_114',),\n",
       " ('coal_113', 'coal_82'),\n",
       " ('coal_112', 'bike_428'),\n",
       " ('coal_111',),\n",
       " ('coal_110', 'bike_418'),\n",
       " ('coal_109',),\n",
       " ('coal_108',),\n",
       " ('coal_107', 'coal_93'),\n",
       " ('bike_440', 'bike_429'),\n",
       " ('coal_105', 'coal_87'),\n",
       " ('coal_104', 'coal_81'),\n",
       " ('bike_437', 'bike_431'),\n",
       " ('coal_102', 'coal_85'),\n",
       " ('coal_101', 'coal_86'),\n",
       " ('coal_100', 'bike_422'),\n",
       " ('bike_433', 'coal_96'),\n",
       " ('coal_98', 'coal_83'))"
      ]
     },
     "execution_count": 57,
     "metadata": {},
     "output_type": "execute_result"
    }
   ],
   "source": [
    "result.state"
   ]
  },
  {
   "cell_type": "code",
   "execution_count": 58,
   "metadata": {
    "collapsed": false
   },
   "outputs": [
    {
     "data": {
      "text/plain": [
       "(0.0, 0.0, 0.0, 9.6881155879204783)"
      ]
     },
     "execution_count": 58,
     "metadata": {},
     "output_type": "execute_result"
    }
   ],
   "source": [
    "h1(result.state), h2(result.state), h3(result.state), h4(result.state)"
   ]
  },
  {
   "cell_type": "code",
   "execution_count": 59,
   "metadata": {
    "collapsed": false
   },
   "outputs": [
    {
     "data": {
      "text/plain": [
       "1006.2655133864812"
      ]
     },
     "execution_count": 59,
     "metadata": {},
     "output_type": "execute_result"
    }
   ],
   "source": [
    "p._validation(result.state)"
   ]
  },
  {
   "cell_type": "code",
   "execution_count": null,
   "metadata": {
    "collapsed": true
   },
   "outputs": [],
   "source": []
  },
  {
   "cell_type": "code",
   "execution_count": null,
   "metadata": {
    "collapsed": true
   },
   "outputs": [],
   "source": []
  },
  {
   "cell_type": "code",
   "execution_count": null,
   "metadata": {
    "collapsed": true
   },
   "outputs": [],
   "source": [
    "submission_file = '../results/submission_' + \\\n",
    "                  str(datetime.now().strftime(\"%Y-%m-%d-%H-%M\")) + \\\n",
    "                  '.csv'"
   ]
  },
  {
   "cell_type": "code",
   "execution_count": null,
   "metadata": {
    "collapsed": true
   },
   "outputs": [],
   "source": [
    "def write_submission(state, filename):\n",
    "    with open(filename, 'w') as w:\n",
    "        w.write(\"Gifts\\n\")\n",
    "        for bag in state:\n",
    "            w.write(' '.join(bag) + '\\n')\n",
    "    \n",
    "write_submission(result.state, submission_file)"
   ]
  }
 ],
 "metadata": {
  "kernelspec": {
   "display_name": "Python 3",
   "language": "python",
   "name": "python3"
  },
  "language_info": {
   "codemirror_mode": {
    "name": "ipython",
    "version": 3
   },
   "file_extension": ".py",
   "mimetype": "text/x-python",
   "name": "python",
   "nbconvert_exporter": "python",
   "pygments_lexer": "ipython3",
   "version": "3.5.2"
  }
 },
 "nbformat": 4,
 "nbformat_minor": 0
}
