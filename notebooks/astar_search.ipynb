{
 "cells": [
  {
   "cell_type": "markdown",
   "metadata": {},
   "source": [
    "# A*-search using `aima-python`\n",
    "\n",
    "Algorithm implementations taken from [here](https://github.com/aimacode/aima-python/blob/master/search-4e.ipynb)"
   ]
  },
  {
   "cell_type": "markdown",
   "metadata": {},
   "source": [
    "* *State* is defined by gifts in bags\n",
    "\n",
    "* *Goal states* are defined by filled bags satisfying problem conditions\n",
    "\n",
    "* *Actions* : put a gift in a bag with a minimal weight"
   ]
  },
  {
   "cell_type": "code",
   "execution_count": 1,
   "metadata": {
    "collapsed": true
   },
   "outputs": [],
   "source": [
    "# https://ipython.org/ipython-doc/3/config/extensions/autoreload.html\n",
    "%load_ext autoreload\n",
    "%autoreload 2"
   ]
  },
  {
   "cell_type": "code",
   "execution_count": 2,
   "metadata": {
    "collapsed": true
   },
   "outputs": [],
   "source": [
    "import numpy as np\n",
    "np.random.seed(2016)"
   ]
  },
  {
   "cell_type": "code",
   "execution_count": 3,
   "metadata": {
    "collapsed": true
   },
   "outputs": [],
   "source": [
    "from search import Problem, astar_search, uniform_cost_search, state_sequence, action_sequence\n",
    "import sys\n",
    "sys.path.append('../common')\n",
    "from utils import weight3 as weight_fn"
   ]
  },
  {
   "cell_type": "code",
   "execution_count": 5,
   "metadata": {
    "collapsed": true
   },
   "outputs": [],
   "source": [
    "n_bags = 1\n",
    "max_weight = 50\n",
    "\n",
    "n_horses = 1000\n",
    "n_balls = 1100\n",
    "n_bikes = 500\n",
    "n_trains = 1000\n",
    "n_coals = 166\n",
    "n_books = 1200\n",
    "n_dolls = 1000\n",
    "n_blocks = 1000\n",
    "n_gloves = 200\n",
    "\n",
    "available_gifts = {\n",
    "    \"horse\": n_horses,\n",
    "    \"ball\": n_balls,\n",
    "    \"bike\": n_bikes,\n",
    "    \"train\": n_trains,\n",
    "    \"coal\": n_coals,\n",
    "    \"book\": n_books,\n",
    "    \"doll\": n_dolls,\n",
    "    \"blocks\": n_blocks,\n",
    "    \"gloves\": n_gloves\n",
    "}\n",
    "\n",
    "type_cost = {\n",
    "#     \"horse\": 1.2,\n",
    "#     \"ball\": 1.2,\n",
    "#     \"bike\": 2,\n",
    "#     \"train\": 1.15,\n",
    "#     \"coal\": 0.5,\n",
    "#     \"book\": 2.0,\n",
    "#     \"doll\": 1.3,\n",
    "#     \"blocks\": 0.5,\n",
    "#     \"gloves\": 3    \n",
    "}\n",
    "\n",
    "gift_types = sorted(list(available_gifts.keys()))\n",
    "n_types = len(gift_types)"
   ]
  },
  {
   "cell_type": "code",
   "execution_count": 6,
   "metadata": {
    "collapsed": false
   },
   "outputs": [
    {
     "data": {
      "text/plain": [
       "(9,\n",
       " ['ball',\n",
       "  'bike',\n",
       "  'blocks',\n",
       "  'book',\n",
       "  'coal',\n",
       "  'doll',\n",
       "  'gloves',\n",
       "  'horse',\n",
       "  'train'])"
      ]
     },
     "execution_count": 6,
     "metadata": {},
     "output_type": "execute_result"
    }
   ],
   "source": [
    "len(gift_types), gift_types"
   ]
  },
  {
   "cell_type": "markdown",
   "metadata": {},
   "source": [
    "State is tuple (bags) of tuples (gifts) :\n",
    "\n",
    "```\n",
    "( \n",
    "#  ball, bike, block, book, coal, doll, gloves, horse, train  \n",
    "    (0,1,0,3,0,0,0,0,2), # bag 1\n",
    "    (0,0,0,0,0,2,5,6,0), # bag 2\n",
    "    ...\n",
    ")\n",
    "```\n"
   ]
  },
  {
   "cell_type": "code",
   "execution_count": 7,
   "metadata": {
    "collapsed": false
   },
   "outputs": [],
   "source": [
    "def bag_weight(bag, n1=100):\n",
    "    weight = 0\n",
    "    for index, count in enumerate(bag):\n",
    "        for i in range(count):\n",
    "            weight += weight_fn(index, n1)\n",
    "    return weight"
   ]
  },
  {
   "cell_type": "code",
   "execution_count": 8,
   "metadata": {
    "collapsed": true
   },
   "outputs": [],
   "source": [
    "def score(state, count=100):\n",
    "    scores = np.zeros(count)\n",
    "    for c in range(count):\n",
    "        score = 0\n",
    "        for bag in state:\n",
    "            total_weight_ = bag_weight(bag, n1=1)\n",
    "            if total_weight_ < max_weight:\n",
    "                score += total_weight_\n",
    "        scores[c] = score\n",
    "    return np.mean(scores)"
   ]
  },
  {
   "cell_type": "code",
   "execution_count": 10,
   "metadata": {
    "collapsed": false
   },
   "outputs": [
    {
     "data": {
      "text/plain": [
       "4.489014327946343"
      ]
     },
     "execution_count": 10,
     "metadata": {},
     "output_type": "execute_result"
    }
   ],
   "source": [
    "s = ((3, 1, 1, 2, 0, 1, 2, 1, 1), (4, 1, 2, 1, 2, 4, 2, 2, 1))\n",
    "score(s)"
   ]
  },
  {
   "cell_type": "code",
   "execution_count": 12,
   "metadata": {
    "collapsed": false
   },
   "outputs": [
    {
     "data": {
      "text/plain": [
       "{'ball': 1100,\n",
       " 'bike': 500,\n",
       " 'blocks': 1000,\n",
       " 'book': 1200,\n",
       " 'coal': 166,\n",
       " 'doll': 1000,\n",
       " 'gloves': 200,\n",
       " 'horse': 1000,\n",
       " 'train': 1000}"
      ]
     },
     "execution_count": 12,
     "metadata": {},
     "output_type": "execute_result"
    }
   ],
   "source": [
    "available_gifts"
   ]
  },
  {
   "cell_type": "code",
   "execution_count": 66,
   "metadata": {
    "collapsed": false
   },
   "outputs": [],
   "source": [
    "class SantasBagsProblem(Problem):\n",
    "            \n",
    "    def _get_gift_type_indices(self, state):\n",
    "        out = []\n",
    "        types = np.sum(np.array(state), axis=0)\n",
    "        for index, t in enumerate(types):\n",
    "            if t < self.available_gifts[self.gift_types[index]]:\n",
    "                out.append(index)\n",
    "        return out\n",
    "        \n",
    "    def actions(self, state):\n",
    "        \"\"\"Return a list of actions executable in this state.\"\"\"                        \n",
    "        _gift_type_indices = self._get_gift_type_indices(state)\n",
    "        if len(_gift_type_indices) == 0:\n",
    "            print(\"No gifts available to create actions\")\n",
    "            return []\n",
    "    \n",
    "#         print(\"_gift_type_indices : \", _gift_type_indices)\n",
    "        # find a bag with a minimal weight  \n",
    "        min_weight_bag_index = 0\n",
    "        min_weight = self.max_weight\n",
    "        for i, bag in enumerate(state):\n",
    "            w = self.bag_weight_fn(bag)\n",
    "            if min_weight > w:\n",
    "                min_weight_bag_index = i\n",
    "                min_weight = w\n",
    "                \n",
    "#         print(\"min_weight_bag_index : \", min_weight_bag_index)\n",
    "        \n",
    "        actions = []\n",
    "        bag_weight = self.bag_weight_fn(state[min_weight_bag_index])\n",
    "        for _index in _gift_type_indices:\n",
    "            gift_weight = self.weight_fn(_index, 100)        \n",
    "            if bag_weight + gift_weight < self.max_weight:\n",
    "                actions.append((min_weight_bag_index, _index))\n",
    "#         print(\"actions: \", actions)\n",
    "#         if len(actions) == 0:\n",
    "#             print(\"No actions found for the state : \", state, min_weight_bag_index, bag_weight)\n",
    "        return actions\n",
    "    \n",
    "    def result(self, state, action):\n",
    "        \"\"\"The state that results from executing this action in this state.\"\"\"\n",
    "        bag_id, gift_type_index = action\n",
    "#         print(\"-- result : input state: \", state, \"action: \", action)                \n",
    "        new_state = list(state)\n",
    "        bag = list(new_state[bag_id])\n",
    "        bag[gift_type_index] += 1\n",
    "        new_state[bag_id] = tuple(bag)\n",
    "#         print(\"-- result : output state: \", new_state)\n",
    "        return tuple(new_state)\n",
    "\n",
    "    def is_goal(self, state):\n",
    "        \"\"\"True if the state is a goal.\"\"\"        \n",
    "        for bag in state:\n",
    "            if sum(bag) < 3:\n",
    "#                 print(\"- A bag with less than 3 gifts found : \", state)\n",
    "                return False\n",
    "\n",
    "        mean_score = self._validation(state)\n",
    "#         if mean_score > self.goal_score:\n",
    "#         print(\"- Mean score : \", mean_score, \" / \", self.goal_score, state)\n",
    "        return mean_score > self.goal_score\n",
    "\n",
    "    def step_cost(self, state, action, result=None):\n",
    "        \"\"\"The cost of taking this action from this state.\"\"\"\n",
    "        if self.type_cost is not None:\n",
    "            bag_id, gift_type_index  = action\n",
    "            gift_type = self.gift_types[gift_type_index]\n",
    "            if gift_type in self.type_cost:\n",
    "                return self.type_cost[gift_type]  # Override this if actions have different costs\n",
    "            return 1.0\n",
    "        return 1.0\n",
    "                \n",
    "    def _validation(self, state, count=100):\n",
    "        scores = np.zeros(count)\n",
    "        rejected = 0\n",
    "        for c in range(count):\n",
    "            score = 0\n",
    "            for bag in state:\n",
    "                total_weight_ = self.bag_weight_fn(bag, n1=1)\n",
    "                if total_weight_ < self.max_weight:\n",
    "                    score += total_weight_\n",
    "                else:\n",
    "                    rejected += 1\n",
    "            scores[c] = score\n",
    "#         if rejected > 0:\n",
    "#             print(\"Rejected bags : %f / %i\" % (rejected*1.0/count, len(state)))\n",
    "        return np.mean(scores)"
   ]
  },
  {
   "cell_type": "code",
   "execution_count": 120,
   "metadata": {
    "collapsed": false
   },
   "outputs": [
    {
     "name": "stdout",
     "output_type": "stream",
     "text": [
      "Goal score:  32.5\n"
     ]
    }
   ],
   "source": [
    "alpha = 0.65\n",
    "goal_score = n_bags*max_weight*alpha\n",
    "print(\"Goal score: \", goal_score)"
   ]
  },
  {
   "cell_type": "code",
   "execution_count": 15,
   "metadata": {
    "collapsed": true
   },
   "outputs": [],
   "source": [
    "def compute_normal_identical(mu, sigma, a=50):\n",
    "    \"\"\"\n",
    "    Solve n*mu + 3*sigma*sqrt(n) < a\n",
    "    return: n, Mu, Sigma\n",
    "    \"\"\"\n",
    "    for n in range(100):\n",
    "        y = mu*n + 3.0*sigma*np.sqrt(n)\n",
    "        if y > a:\n",
    "            break  \n",
    "    n -= 1\n",
    "    m = n*mu\n",
    "    s = sigma*np.sqrt(n)\n",
    "    return n, m, s"
   ]
  },
  {
   "cell_type": "code",
   "execution_count": 16,
   "metadata": {
    "collapsed": true
   },
   "outputs": [],
   "source": [
    "from copy import deepcopy"
   ]
  },
  {
   "cell_type": "code",
   "execution_count": 17,
   "metadata": {
    "collapsed": false
   },
   "outputs": [],
   "source": [
    "# # Horse : \n",
    "# ag = deepcopy(available_gifts)\n",
    "# n, m, s = compute_normal_identical(5, 2)\n",
    "# initial_state=tuple([tuple([ag['horse'].pop() for i in range(n)]) for j in range(n_bags)])\n",
    "# initial_state"
   ]
  },
  {
   "cell_type": "code",
   "execution_count": 121,
   "metadata": {
    "collapsed": false
   },
   "outputs": [],
   "source": [
    "initial_state=tuple([tuple([0]*n_types)]*n_bags)"
   ]
  },
  {
   "cell_type": "code",
   "execution_count": 122,
   "metadata": {
    "collapsed": false
   },
   "outputs": [],
   "source": [
    "# initial_state = ((total_state[0], ))\n",
    "# initial_state"
   ]
  },
  {
   "cell_type": "code",
   "execution_count": 123,
   "metadata": {
    "collapsed": false
   },
   "outputs": [],
   "source": [
    "p = SantasBagsProblem(initial=initial_state,\n",
    "                      gift_types=gift_types, \n",
    "                      available_gifts=available_gifts,\n",
    "                      max_weight=max_weight,    \n",
    "                      type_cost=type_cost,\n",
    "                      weight_fn=weight_fn,\n",
    "                      bag_weight_fn=bag_weight,\n",
    "                      goal_score=goal_score)"
   ]
  },
  {
   "cell_type": "markdown",
   "metadata": {},
   "source": [
    "Define heuristic function :\n"
   ]
  },
  {
   "cell_type": "code",
   "execution_count": 133,
   "metadata": {
    "collapsed": true
   },
   "outputs": [],
   "source": [
    "def h12(state):     \n",
    "#     h1 = 0\n",
    "#     h2 = 0\n",
    "#     for bag in state:\n",
    "#         h1 += bag_weight(bag, 200)\n",
    "#         w = bag_weight(bag, 200)\n",
    "#         h2 += abs(max_weight*alpha - w)\n",
    "#     h1 = abs(goal_score - h1) / n_bags    \n",
    "#     return max(h1, h2) \n",
    "    return (goal_score - score(state))**2/goal_score**2\n",
    "\n",
    "\n",
    "def h3(state):     \n",
    "    return (max_weight*n_bags - score(state))**2/(max_weight*n_bags)**2\n",
    "\n",
    "def h5(state):\n",
    "    h = 0\n",
    "#     for bag in state:\n",
    "#         if sum(bag) < 3:\n",
    "#             h += max_weight*alpha\n",
    "#         elif sum(bag) < 5:\n",
    "#             h += max_weight*alpha / 2\n",
    "#         elif sum(bag) < 7:\n",
    "#             h += max_weight*alpha / 4\n",
    "#         elif sum(bag) < 8:\n",
    "#             h += max_weight*alpha / 8\n",
    "    return h\n",
    "\n",
    "\n",
    "def h6(state):\n",
    "    h = 0.0\n",
    "#     for bag in state:\n",
    "#         h += (len(bag) - np.count_nonzero(bag)) / len(bag)\n",
    "    return h * 1.0  / len(state)\n",
    "                \n",
    "\n",
    "def h7(state):\n",
    "    rejected = 0\n",
    "    count = 100\n",
    "    for c in range(count):\n",
    "        for bag in state:\n",
    "            total_weight_ = bag_weight(bag, n1=1)\n",
    "            if total_weight_ > max_weight:\n",
    "                rejected += 1\n",
    "    return rejected * 1.0 / count\n",
    "        \n",
    "\n",
    "\n",
    "def final_heuristic_fn(state):  \n",
    "    res = np.max(np.array([h12(state), h3(state), h6(state), h7(state)]))\n",
    "#     res = (h12(state) + h5(state) + h6(state) + h7(state))/max_weight\n",
    "#     print (\"final_heuristic_fn : \", res, state)\n",
    "    return res\n",
    "#     return np.max(np.array([h12(state),]))\n",
    "#     return np.max(np.array([h12(state), h3(state), h4(state), h5(state)]))"
   ]
  },
  {
   "cell_type": "code",
   "execution_count": 134,
   "metadata": {
    "collapsed": false
   },
   "outputs": [
    {
     "data": {
      "text/plain": [
       "(1.0, 1.0, 0.0, 0.0)"
      ]
     },
     "execution_count": 134,
     "metadata": {},
     "output_type": "execute_result"
    }
   ],
   "source": [
    "h12(initial_state), h3(initial_state), h6(initial_state), h7(initial_state)"
   ]
  },
  {
   "cell_type": "code",
   "execution_count": 135,
   "metadata": {
    "collapsed": true
   },
   "outputs": [],
   "source": [
    "from time import time"
   ]
  },
  {
   "cell_type": "code",
   "execution_count": 136,
   "metadata": {
    "collapsed": false,
    "scrolled": true
   },
   "outputs": [
    {
     "name": "stdout",
     "output_type": "stream",
     "text": [
      "<Node ((0, 1, 0, 0, 0, 1, 0, 0, 1),): 3.0>\n",
      "Elapsed:  11.30310606956482\n"
     ]
    }
   ],
   "source": [
    "tic = time()\n",
    "result = astar_search(p, final_heuristic_fn)\n",
    "print(result)\n",
    "print(\"Elapsed: \", time() - tic)"
   ]
  },
  {
   "cell_type": "code",
   "execution_count": 137,
   "metadata": {
    "collapsed": false
   },
   "outputs": [
    {
     "data": {
      "text/plain": [
       "((0, 1, 0, 0, 0, 1, 0, 0, 1),)"
      ]
     },
     "execution_count": 137,
     "metadata": {},
     "output_type": "execute_result"
    }
   ],
   "source": [
    "result.state"
   ]
  },
  {
   "cell_type": "code",
   "execution_count": 138,
   "metadata": {
    "collapsed": false
   },
   "outputs": [
    {
     "data": {
      "text/plain": [
       "(0.0033508024521710714, 0, 0.0, 0.05)"
      ]
     },
     "execution_count": 138,
     "metadata": {},
     "output_type": "execute_result"
    }
   ],
   "source": [
    "h12(result.state), h5(result.state), h6(result.state), h7(result.state)"
   ]
  },
  {
   "cell_type": "code",
   "execution_count": 140,
   "metadata": {
    "collapsed": false
   },
   "outputs": [
    {
     "data": {
      "text/plain": [
       "30.474244157121571"
      ]
     },
     "execution_count": 140,
     "metadata": {},
     "output_type": "execute_result"
    }
   ],
   "source": [
    "p._validation(result.state)"
   ]
  },
  {
   "cell_type": "code",
   "execution_count": 96,
   "metadata": {
    "collapsed": true
   },
   "outputs": [],
   "source": [
    "def update_available_gifts(ag, state):\n",
    "    sum_gifts = np.sum(np.array(state), axis=0)\n",
    "    for v, gift_type in zip(sum_gifts, gift_types):\n",
    "        if ag[gift_type] - v < 0:\n",
    "            return False\n",
    "        ag[gift_type] = ag[gift_type] - v\n",
    "    return True"
   ]
  },
  {
   "cell_type": "code",
   "execution_count": 97,
   "metadata": {
    "collapsed": true
   },
   "outputs": [],
   "source": [
    "# type_cost = {\n",
    "#     \"horse\": 1.9,\n",
    "#     \"ball\": 1.7,\n",
    "#     \"bike\": 1.4,\n",
    "#     \"train\": 1.2,\n",
    "#     \"coal\": 0.8,\n",
    "#     \"book\": 1.9,\n",
    "#     \"doll\": 1.9,\n",
    "#     \"blocks\": 0.5,\n",
    "#     \"gloves\": 1.9    \n",
    "# }"
   ]
  },
  {
   "cell_type": "code",
   "execution_count": 98,
   "metadata": {
    "collapsed": true
   },
   "outputs": [],
   "source": [
    "type_cost = {\n",
    "#     \"horse\": 1.3,\n",
    "#     \"ball\": 1.2,\n",
    "#     \"bike\": 1.1,\n",
    "#     \"train\": 1.2,\n",
    "#     \"coal\": 0.9,\n",
    "#     \"book\": 1.0,\n",
    "#     \"doll\": 1.0,\n",
    "#     \"blocks\": 0.9,\n",
    "#     \"gloves\": 1.2    \n",
    "}"
   ]
  },
  {
   "cell_type": "code",
   "execution_count": 99,
   "metadata": {
    "collapsed": true
   },
   "outputs": [],
   "source": [
    "# type_cost = {\"horse\": 0.9, \"train\": 0.9, \"bike\": 1.9, \"book\": 1.9, \"gloves\": 1.9, \"ball\": 1.9}"
   ]
  },
  {
   "cell_type": "code",
   "execution_count": 142,
   "metadata": {
    "collapsed": false
   },
   "outputs": [
    {
     "name": "stdout",
     "output_type": "stream",
     "text": [
      "Goal score:  35.0\n"
     ]
    }
   ],
   "source": [
    "total_n_bags = 1000\n",
    "n_bags = 1\n",
    "\n",
    "alpha = 0.70\n",
    "goal_score = n_bags*max_weight*alpha\n",
    "print(\"Goal score: \", goal_score)\n",
    "\n",
    "total_state=[]\n",
    "ag=deepcopy(available_gifts)\n",
    "counter = 0"
   ]
  },
  {
   "cell_type": "code",
   "execution_count": 143,
   "metadata": {
    "collapsed": false
   },
   "outputs": [],
   "source": [
    "# n_threads = 4 \n",
    "# from multiprocessing import Process, Lock, Pool\n",
    "\n",
    "# def astar_parallel(l, thread_id):\n",
    "    \n",
    "#     l.acquire()\n",
    "#     _counter = counter\n",
    "#     l.release()\n",
    "    \n",
    "#     while n_bags * _counter < total_n_bags:\n",
    "#         state=[()]*n_bags\n",
    "#         print(thread_id, \"| Filled bags : \", n_bags * _counter, \"/\", total_n_bags)\n",
    "#         p = SantasBagsProblem(initial=tuple(state),\n",
    "#                               gift_types=gift_types, \n",
    "#                               available_gifts=deepcopy(_ag),\n",
    "#                               max_weight=max_weight,    \n",
    "#                               type_cost=type_cost,\n",
    "#                               weight_fn=weight_fn,\n",
    "#                               bag_weight_fn=bag_weight,\n",
    "#                               goal_score=goal_score)\n",
    "#         tic = time()\n",
    "#         result = astar_search(p, final_heuristic_fn)\n",
    "#         l.acquire()\n",
    "#         if result is not None:\n",
    "#             print(thread_id, \" : Got a result\")\n",
    "#             total_state += result.state\n",
    "#             counter += 1\n",
    "#             _counter = counter\n",
    "#             update_available_gifts(ag, result.state)\n",
    "#         else:\n",
    "#             type_cost = {\"horse\": 0.9, \"train\": 0.9, \"gloves\": 1.9, \"ball\": 1.9 }\n",
    "#         l.release()\n",
    "#         print(\"- Elapsed: \", time() - tic)\n",
    "    \n",
    "\n",
    "\n",
    "# lock = Lock()\n",
    "# for thread_id in range(n_threads):\n",
    "#     Process(target=astar_parallel, args=(lock, thread_id)).start()"
   ]
  },
  {
   "cell_type": "code",
   "execution_count": 144,
   "metadata": {
    "collapsed": true
   },
   "outputs": [],
   "source": [
    "alpha = 0.70\n",
    "goal_score = n_bags*max_weight*alpha"
   ]
  },
  {
   "cell_type": "code",
   "execution_count": 148,
   "metadata": {
    "collapsed": true
   },
   "outputs": [
    {
     "name": "stdout",
     "output_type": "stream",
     "text": [
      "Filled bags :  333 / 1000\n",
      "- Got a result\n",
      "-- Reset to empty state --\n",
      "- Elapsed:  0.03197288513183594\n",
      "Filled bags :  333 / 1000\n",
      "- Got a result\n",
      "- Elapsed:  124.54834508895874\n",
      "Filled bags :  334 / 1000\n",
      "- Got a result\n",
      "-- Reset to empty state --\n",
      "- Elapsed:  0.16739201545715332\n",
      "Filled bags :  334 / 1000\n"
     ]
    },
    {
     "ename": "KeyboardInterrupt",
     "evalue": "",
     "output_type": "error",
     "traceback": [
      "\u001b[0;31m---------------------------------------------------------------------------\u001b[0m",
      "\u001b[0;31mKeyboardInterrupt\u001b[0m                         Traceback (most recent call last)",
      "\u001b[0;32m<ipython-input-148-6285a95f1a7b>\u001b[0m in \u001b[0;36m<module>\u001b[0;34m()\u001b[0m\n\u001b[1;32m     14\u001b[0m                           goal_score=goal_score)\n\u001b[1;32m     15\u001b[0m     \u001b[0mtic\u001b[0m \u001b[0;34m=\u001b[0m \u001b[0mtime\u001b[0m\u001b[0;34m(\u001b[0m\u001b[0;34m)\u001b[0m\u001b[0;34m\u001b[0m\u001b[0m\n\u001b[0;32m---> 16\u001b[0;31m     \u001b[0mresult\u001b[0m \u001b[0;34m=\u001b[0m \u001b[0mastar_search\u001b[0m\u001b[0;34m(\u001b[0m\u001b[0mp\u001b[0m\u001b[0;34m,\u001b[0m \u001b[0mfinal_heuristic_fn\u001b[0m\u001b[0;34m)\u001b[0m\u001b[0;34m\u001b[0m\u001b[0m\n\u001b[0m\u001b[1;32m     17\u001b[0m     \u001b[0;32mif\u001b[0m \u001b[0mresult\u001b[0m \u001b[0;32mis\u001b[0m \u001b[0;32mnot\u001b[0m \u001b[0;32mNone\u001b[0m\u001b[0;34m:\u001b[0m\u001b[0;34m\u001b[0m\u001b[0m\n\u001b[1;32m     18\u001b[0m         \u001b[0mprint\u001b[0m\u001b[0;34m(\u001b[0m\u001b[0;34m\"- Got a result\"\u001b[0m\u001b[0;34m)\u001b[0m\u001b[0;34m\u001b[0m\u001b[0m\n",
      "\u001b[0;32m/Users/vfomin/Documents/TDS/Santas-Uncertain-Bags/notebooks/search.py\u001b[0m in \u001b[0;36mastar_search\u001b[0;34m(problem, heuristic)\u001b[0m\n\u001b[1;32m    142\u001b[0m \u001b[0;32mdef\u001b[0m \u001b[0mastar_search\u001b[0m\u001b[0;34m(\u001b[0m\u001b[0mproblem\u001b[0m\u001b[0;34m,\u001b[0m \u001b[0mheuristic\u001b[0m\u001b[0;34m)\u001b[0m\u001b[0;34m:\u001b[0m\u001b[0;34m\u001b[0m\u001b[0m\n\u001b[1;32m    143\u001b[0m     \u001b[0mcostfn\u001b[0m \u001b[0;34m=\u001b[0m \u001b[0;32mlambda\u001b[0m \u001b[0mnode\u001b[0m\u001b[0;34m:\u001b[0m \u001b[0mnode\u001b[0m\u001b[0;34m.\u001b[0m\u001b[0mpath_cost\u001b[0m \u001b[0;34m+\u001b[0m \u001b[0mheuristic\u001b[0m\u001b[0;34m(\u001b[0m\u001b[0mnode\u001b[0m\u001b[0;34m.\u001b[0m\u001b[0mstate\u001b[0m\u001b[0;34m)\u001b[0m\u001b[0;34m\u001b[0m\u001b[0m\n\u001b[0;32m--> 144\u001b[0;31m     \u001b[0;32mreturn\u001b[0m \u001b[0muniform_cost_search\u001b[0m\u001b[0;34m(\u001b[0m\u001b[0mproblem\u001b[0m\u001b[0;34m,\u001b[0m \u001b[0mcostfn\u001b[0m\u001b[0;34m)\u001b[0m\u001b[0;34m\u001b[0m\u001b[0m\n\u001b[0m\u001b[1;32m    145\u001b[0m \u001b[0;34m\u001b[0m\u001b[0m\n\u001b[1;32m    146\u001b[0m \u001b[0;34m\u001b[0m\u001b[0m\n",
      "\u001b[0;32m/Users/vfomin/Documents/TDS/Santas-Uncertain-Bags/notebooks/search.py\u001b[0m in \u001b[0;36muniform_cost_search\u001b[0;34m(problem, costfn)\u001b[0m\n\u001b[1;32m    135\u001b[0m             \u001b[0mchild\u001b[0m \u001b[0;34m=\u001b[0m \u001b[0mnode\u001b[0m\u001b[0;34m.\u001b[0m\u001b[0mchild\u001b[0m\u001b[0;34m(\u001b[0m\u001b[0mproblem\u001b[0m\u001b[0;34m,\u001b[0m \u001b[0maction\u001b[0m\u001b[0;34m)\u001b[0m\u001b[0;34m\u001b[0m\u001b[0m\n\u001b[1;32m    136\u001b[0m             \u001b[0;32mif\u001b[0m \u001b[0mchild\u001b[0m\u001b[0;34m.\u001b[0m\u001b[0mstate\u001b[0m \u001b[0;32mnot\u001b[0m \u001b[0;32min\u001b[0m \u001b[0mexplored\u001b[0m \u001b[0;32mand\u001b[0m \u001b[0mchild\u001b[0m \u001b[0;32mnot\u001b[0m \u001b[0;32min\u001b[0m \u001b[0mfrontier\u001b[0m\u001b[0;34m:\u001b[0m\u001b[0;34m\u001b[0m\u001b[0m\n\u001b[0;32m--> 137\u001b[0;31m                 \u001b[0mfrontier\u001b[0m\u001b[0;34m.\u001b[0m\u001b[0madd\u001b[0m\u001b[0;34m(\u001b[0m\u001b[0mchild\u001b[0m\u001b[0;34m)\u001b[0m\u001b[0;34m\u001b[0m\u001b[0m\n\u001b[0m\u001b[1;32m    138\u001b[0m             \u001b[0;32melif\u001b[0m \u001b[0mchild\u001b[0m \u001b[0;32min\u001b[0m \u001b[0mfrontier\u001b[0m \u001b[0;32mand\u001b[0m \u001b[0mfrontier\u001b[0m\u001b[0;34m.\u001b[0m\u001b[0mcost\u001b[0m\u001b[0;34m[\u001b[0m\u001b[0mchild\u001b[0m\u001b[0;34m]\u001b[0m \u001b[0;34m<\u001b[0m \u001b[0mchild\u001b[0m\u001b[0;34m.\u001b[0m\u001b[0mpath_cost\u001b[0m\u001b[0;34m:\u001b[0m\u001b[0;34m\u001b[0m\u001b[0m\n\u001b[1;32m    139\u001b[0m                 \u001b[0mfrontier\u001b[0m\u001b[0;34m.\u001b[0m\u001b[0mreplace\u001b[0m\u001b[0;34m(\u001b[0m\u001b[0mchild\u001b[0m\u001b[0;34m)\u001b[0m\u001b[0;34m\u001b[0m\u001b[0m\n",
      "\u001b[0;32m/Users/vfomin/Documents/TDS/Santas-Uncertain-Bags/notebooks/search.py\u001b[0m in \u001b[0;36madd\u001b[0;34m(self, node)\u001b[0m\n\u001b[1;32m     47\u001b[0m     \u001b[0;32mdef\u001b[0m \u001b[0madd\u001b[0m\u001b[0;34m(\u001b[0m\u001b[0mself\u001b[0m\u001b[0;34m,\u001b[0m \u001b[0mnode\u001b[0m\u001b[0;34m)\u001b[0m\u001b[0;34m:\u001b[0m\u001b[0;34m\u001b[0m\u001b[0m\n\u001b[1;32m     48\u001b[0m         \u001b[0;34m\"\"\"Add node to the frontier.\"\"\"\u001b[0m\u001b[0;34m\u001b[0m\u001b[0m\n\u001b[0;32m---> 49\u001b[0;31m         \u001b[0mcost\u001b[0m \u001b[0;34m=\u001b[0m \u001b[0mself\u001b[0m\u001b[0;34m.\u001b[0m\u001b[0mcostfn\u001b[0m\u001b[0;34m(\u001b[0m\u001b[0mnode\u001b[0m\u001b[0;34m)\u001b[0m\u001b[0;34m\u001b[0m\u001b[0m\n\u001b[0m\u001b[1;32m     50\u001b[0m         \u001b[0mheapq\u001b[0m\u001b[0;34m.\u001b[0m\u001b[0mheappush\u001b[0m\u001b[0;34m(\u001b[0m\u001b[0mself\u001b[0m\u001b[0;34m.\u001b[0m\u001b[0mheap\u001b[0m\u001b[0;34m,\u001b[0m \u001b[0;34m(\u001b[0m\u001b[0mcost\u001b[0m\u001b[0;34m,\u001b[0m \u001b[0mnode\u001b[0m\u001b[0;34m)\u001b[0m\u001b[0;34m)\u001b[0m\u001b[0;34m\u001b[0m\u001b[0m\n\u001b[1;32m     51\u001b[0m         \u001b[0mself\u001b[0m\u001b[0;34m.\u001b[0m\u001b[0mstates\u001b[0m\u001b[0;34m[\u001b[0m\u001b[0mnode\u001b[0m\u001b[0;34m.\u001b[0m\u001b[0mstate\u001b[0m\u001b[0;34m]\u001b[0m \u001b[0;34m=\u001b[0m \u001b[0mnode\u001b[0m\u001b[0;34m\u001b[0m\u001b[0m\n",
      "\u001b[0;32m/Users/vfomin/Documents/TDS/Santas-Uncertain-Bags/notebooks/search.py\u001b[0m in \u001b[0;36m<lambda>\u001b[0;34m(node)\u001b[0m\n\u001b[1;32m    141\u001b[0m \u001b[0;34m\u001b[0m\u001b[0m\n\u001b[1;32m    142\u001b[0m \u001b[0;32mdef\u001b[0m \u001b[0mastar_search\u001b[0m\u001b[0;34m(\u001b[0m\u001b[0mproblem\u001b[0m\u001b[0;34m,\u001b[0m \u001b[0mheuristic\u001b[0m\u001b[0;34m)\u001b[0m\u001b[0;34m:\u001b[0m\u001b[0;34m\u001b[0m\u001b[0m\n\u001b[0;32m--> 143\u001b[0;31m     \u001b[0mcostfn\u001b[0m \u001b[0;34m=\u001b[0m \u001b[0;32mlambda\u001b[0m \u001b[0mnode\u001b[0m\u001b[0;34m:\u001b[0m \u001b[0mnode\u001b[0m\u001b[0;34m.\u001b[0m\u001b[0mpath_cost\u001b[0m \u001b[0;34m+\u001b[0m \u001b[0mheuristic\u001b[0m\u001b[0;34m(\u001b[0m\u001b[0mnode\u001b[0m\u001b[0;34m.\u001b[0m\u001b[0mstate\u001b[0m\u001b[0;34m)\u001b[0m\u001b[0;34m\u001b[0m\u001b[0m\n\u001b[0m\u001b[1;32m    144\u001b[0m     \u001b[0;32mreturn\u001b[0m \u001b[0muniform_cost_search\u001b[0m\u001b[0;34m(\u001b[0m\u001b[0mproblem\u001b[0m\u001b[0;34m,\u001b[0m \u001b[0mcostfn\u001b[0m\u001b[0;34m)\u001b[0m\u001b[0;34m\u001b[0m\u001b[0m\n\u001b[1;32m    145\u001b[0m \u001b[0;34m\u001b[0m\u001b[0m\n",
      "\u001b[0;32m<ipython-input-133-26dc73fb32ab>\u001b[0m in \u001b[0;36mfinal_heuristic_fn\u001b[0;34m(state)\u001b[0m\n\u001b[1;32m     48\u001b[0m \u001b[0;34m\u001b[0m\u001b[0m\n\u001b[1;32m     49\u001b[0m \u001b[0;32mdef\u001b[0m \u001b[0mfinal_heuristic_fn\u001b[0m\u001b[0;34m(\u001b[0m\u001b[0mstate\u001b[0m\u001b[0;34m)\u001b[0m\u001b[0;34m:\u001b[0m\u001b[0;34m\u001b[0m\u001b[0m\n\u001b[0;32m---> 50\u001b[0;31m     \u001b[0mres\u001b[0m \u001b[0;34m=\u001b[0m \u001b[0mnp\u001b[0m\u001b[0;34m.\u001b[0m\u001b[0mmax\u001b[0m\u001b[0;34m(\u001b[0m\u001b[0mnp\u001b[0m\u001b[0;34m.\u001b[0m\u001b[0marray\u001b[0m\u001b[0;34m(\u001b[0m\u001b[0;34m[\u001b[0m\u001b[0mh12\u001b[0m\u001b[0;34m(\u001b[0m\u001b[0mstate\u001b[0m\u001b[0;34m)\u001b[0m\u001b[0;34m,\u001b[0m \u001b[0mh3\u001b[0m\u001b[0;34m(\u001b[0m\u001b[0mstate\u001b[0m\u001b[0;34m)\u001b[0m\u001b[0;34m,\u001b[0m \u001b[0mh6\u001b[0m\u001b[0;34m(\u001b[0m\u001b[0mstate\u001b[0m\u001b[0;34m)\u001b[0m\u001b[0;34m,\u001b[0m \u001b[0mh7\u001b[0m\u001b[0;34m(\u001b[0m\u001b[0mstate\u001b[0m\u001b[0;34m)\u001b[0m\u001b[0;34m]\u001b[0m\u001b[0;34m)\u001b[0m\u001b[0;34m)\u001b[0m\u001b[0;34m\u001b[0m\u001b[0m\n\u001b[0m\u001b[1;32m     51\u001b[0m \u001b[0;31m#     res = (h12(state) + h5(state) + h6(state) + h7(state))/max_weight\u001b[0m\u001b[0;34m\u001b[0m\u001b[0;34m\u001b[0m\u001b[0m\n\u001b[1;32m     52\u001b[0m \u001b[0;31m#     print (\"final_heuristic_fn : \", res, state)\u001b[0m\u001b[0;34m\u001b[0m\u001b[0;34m\u001b[0m\u001b[0m\n",
      "\u001b[0;32m<ipython-input-133-26dc73fb32ab>\u001b[0m in \u001b[0;36mh7\u001b[0;34m(state)\u001b[0m\n\u001b[1;32m     40\u001b[0m     \u001b[0;32mfor\u001b[0m \u001b[0mc\u001b[0m \u001b[0;32min\u001b[0m \u001b[0mrange\u001b[0m\u001b[0;34m(\u001b[0m\u001b[0mcount\u001b[0m\u001b[0;34m)\u001b[0m\u001b[0;34m:\u001b[0m\u001b[0;34m\u001b[0m\u001b[0m\n\u001b[1;32m     41\u001b[0m         \u001b[0;32mfor\u001b[0m \u001b[0mbag\u001b[0m \u001b[0;32min\u001b[0m \u001b[0mstate\u001b[0m\u001b[0;34m:\u001b[0m\u001b[0;34m\u001b[0m\u001b[0m\n\u001b[0;32m---> 42\u001b[0;31m             \u001b[0mtotal_weight_\u001b[0m \u001b[0;34m=\u001b[0m \u001b[0mbag_weight\u001b[0m\u001b[0;34m(\u001b[0m\u001b[0mbag\u001b[0m\u001b[0;34m,\u001b[0m \u001b[0mn1\u001b[0m\u001b[0;34m=\u001b[0m\u001b[0;36m1\u001b[0m\u001b[0;34m)\u001b[0m\u001b[0;34m\u001b[0m\u001b[0m\n\u001b[0m\u001b[1;32m     43\u001b[0m             \u001b[0;32mif\u001b[0m \u001b[0mtotal_weight_\u001b[0m \u001b[0;34m>\u001b[0m \u001b[0mmax_weight\u001b[0m\u001b[0;34m:\u001b[0m\u001b[0;34m\u001b[0m\u001b[0m\n\u001b[1;32m     44\u001b[0m                 \u001b[0mrejected\u001b[0m \u001b[0;34m+=\u001b[0m \u001b[0;36m1\u001b[0m\u001b[0;34m\u001b[0m\u001b[0m\n",
      "\u001b[0;32m<ipython-input-7-b42ad23d3494>\u001b[0m in \u001b[0;36mbag_weight\u001b[0;34m(bag, n1)\u001b[0m\n\u001b[1;32m      3\u001b[0m     \u001b[0;32mfor\u001b[0m \u001b[0mindex\u001b[0m\u001b[0;34m,\u001b[0m \u001b[0mcount\u001b[0m \u001b[0;32min\u001b[0m \u001b[0menumerate\u001b[0m\u001b[0;34m(\u001b[0m\u001b[0mbag\u001b[0m\u001b[0;34m)\u001b[0m\u001b[0;34m:\u001b[0m\u001b[0;34m\u001b[0m\u001b[0m\n\u001b[1;32m      4\u001b[0m         \u001b[0;32mfor\u001b[0m \u001b[0mi\u001b[0m \u001b[0;32min\u001b[0m \u001b[0mrange\u001b[0m\u001b[0;34m(\u001b[0m\u001b[0mcount\u001b[0m\u001b[0;34m)\u001b[0m\u001b[0;34m:\u001b[0m\u001b[0;34m\u001b[0m\u001b[0m\n\u001b[0;32m----> 5\u001b[0;31m             \u001b[0mweight\u001b[0m \u001b[0;34m+=\u001b[0m \u001b[0mweight_fn\u001b[0m\u001b[0;34m(\u001b[0m\u001b[0mindex\u001b[0m\u001b[0;34m,\u001b[0m \u001b[0mn1\u001b[0m\u001b[0;34m)\u001b[0m\u001b[0;34m\u001b[0m\u001b[0m\n\u001b[0m\u001b[1;32m      6\u001b[0m     \u001b[0;32mreturn\u001b[0m \u001b[0mweight\u001b[0m\u001b[0;34m\u001b[0m\u001b[0m\n",
      "\u001b[0;32m/Users/vfomin/Documents/TDS/Santas-Uncertain-Bags/common/utils.py\u001b[0m in \u001b[0;36mweight3\u001b[0;34m(index, count)\u001b[0m\n\u001b[1;32m     78\u001b[0m     \u001b[0mw\u001b[0m \u001b[0;34m=\u001b[0m \u001b[0;34m[\u001b[0m\u001b[0;34m]\u001b[0m\u001b[0;34m\u001b[0m\u001b[0m\n\u001b[1;32m     79\u001b[0m     \u001b[0;32mfor\u001b[0m \u001b[0mc\u001b[0m \u001b[0;32min\u001b[0m \u001b[0mrange\u001b[0m\u001b[0;34m(\u001b[0m\u001b[0mcount\u001b[0m\u001b[0;34m)\u001b[0m\u001b[0;34m:\u001b[0m\u001b[0;34m\u001b[0m\u001b[0m\n\u001b[0;32m---> 80\u001b[0;31m         \u001b[0mw\u001b[0m\u001b[0;34m.\u001b[0m\u001b[0mappend\u001b[0m\u001b[0;34m(\u001b[0m\u001b[0mweight_by_index\u001b[0m\u001b[0;34m(\u001b[0m\u001b[0mindex\u001b[0m\u001b[0;34m)\u001b[0m\u001b[0;34m)\u001b[0m\u001b[0;34m\u001b[0m\u001b[0m\n\u001b[0m\u001b[1;32m     81\u001b[0m     \u001b[0;32mreturn\u001b[0m \u001b[0mnp\u001b[0m\u001b[0;34m.\u001b[0m\u001b[0mmean\u001b[0m\u001b[0;34m(\u001b[0m\u001b[0mw\u001b[0m\u001b[0;34m)\u001b[0m\u001b[0;34m\u001b[0m\u001b[0m\n",
      "\u001b[0;32m/Users/vfomin/Documents/TDS/Santas-Uncertain-Bags/common/utils.py\u001b[0m in \u001b[0;36mweight_by_index\u001b[0;34m(index)\u001b[0m\n\u001b[1;32m     63\u001b[0m     \u001b[0;34m:\u001b[0m\u001b[0;32mreturn\u001b[0m\u001b[0;34m:\u001b[0m\u001b[0;34m\u001b[0m\u001b[0m\n\u001b[1;32m     64\u001b[0m     \"\"\"\n\u001b[0;32m---> 65\u001b[0;31m     \u001b[0;32mif\u001b[0m \u001b[0mindex\u001b[0m \u001b[0;34m==\u001b[0m \u001b[0;36m0\u001b[0m\u001b[0;34m:\u001b[0m \u001b[0;32mreturn\u001b[0m \u001b[0mmax\u001b[0m\u001b[0;34m(\u001b[0m\u001b[0;36m0\u001b[0m\u001b[0;34m,\u001b[0m \u001b[0;36m1\u001b[0m \u001b[0;34m+\u001b[0m \u001b[0mnp\u001b[0m\u001b[0;34m.\u001b[0m\u001b[0mrandom\u001b[0m\u001b[0;34m.\u001b[0m\u001b[0mnormal\u001b[0m\u001b[0;34m(\u001b[0m\u001b[0;36m1\u001b[0m\u001b[0;34m,\u001b[0m \u001b[0;36m0.3\u001b[0m\u001b[0;34m,\u001b[0m \u001b[0;36m1\u001b[0m\u001b[0;34m)\u001b[0m\u001b[0;34m[\u001b[0m\u001b[0;36m0\u001b[0m\u001b[0;34m]\u001b[0m\u001b[0;34m)\u001b[0m\u001b[0;34m\u001b[0m\u001b[0m\n\u001b[0m\u001b[1;32m     66\u001b[0m     \u001b[0;32melif\u001b[0m \u001b[0mindex\u001b[0m \u001b[0;34m==\u001b[0m \u001b[0;36m1\u001b[0m\u001b[0;34m:\u001b[0m \u001b[0;32mreturn\u001b[0m \u001b[0mmax\u001b[0m\u001b[0;34m(\u001b[0m\u001b[0;36m0\u001b[0m\u001b[0;34m,\u001b[0m \u001b[0mnp\u001b[0m\u001b[0;34m.\u001b[0m\u001b[0mrandom\u001b[0m\u001b[0;34m.\u001b[0m\u001b[0mnormal\u001b[0m\u001b[0;34m(\u001b[0m\u001b[0;36m20\u001b[0m\u001b[0;34m,\u001b[0m \u001b[0;36m10\u001b[0m\u001b[0;34m,\u001b[0m \u001b[0;36m1\u001b[0m\u001b[0;34m)\u001b[0m\u001b[0;34m[\u001b[0m\u001b[0;36m0\u001b[0m\u001b[0;34m]\u001b[0m\u001b[0;34m)\u001b[0m\u001b[0;34m\u001b[0m\u001b[0m\n\u001b[1;32m     67\u001b[0m     \u001b[0;32melif\u001b[0m \u001b[0mindex\u001b[0m \u001b[0;34m==\u001b[0m \u001b[0;36m2\u001b[0m\u001b[0;34m:\u001b[0m \u001b[0;32mreturn\u001b[0m \u001b[0mnp\u001b[0m\u001b[0;34m.\u001b[0m\u001b[0mrandom\u001b[0m\u001b[0;34m.\u001b[0m\u001b[0mtriangular\u001b[0m\u001b[0;34m(\u001b[0m\u001b[0;36m5\u001b[0m\u001b[0;34m,\u001b[0m \u001b[0;36m10\u001b[0m\u001b[0;34m,\u001b[0m \u001b[0;36m20\u001b[0m\u001b[0;34m,\u001b[0m \u001b[0;36m1\u001b[0m\u001b[0;34m)\u001b[0m\u001b[0;34m[\u001b[0m\u001b[0;36m0\u001b[0m\u001b[0;34m]\u001b[0m\u001b[0;34m\u001b[0m\u001b[0m\n",
      "\u001b[0;31mKeyboardInterrupt\u001b[0m: "
     ]
    }
   ],
   "source": [
    "state=(total_state[0],) if len(total_state) > 0 else tuple([tuple([0]*n_types)]*n_bags)\n",
    "while n_bags * counter < total_n_bags:\n",
    "    \n",
    "#     state=tuple([tuple([0]*n_types)]*n_bags)\n",
    "#     state=(total_state[0],) if len(total_state) > 0 else tuple([tuple([0]*n_types)]*n_bags)\n",
    "    print(\"Filled bags : \", n_bags * counter, \"/\", total_n_bags)\n",
    "    p = SantasBagsProblem(initial=tuple(state),\n",
    "                          gift_types=gift_types, \n",
    "                          available_gifts=deepcopy(ag),\n",
    "                          max_weight=max_weight,    \n",
    "                          type_cost=type_cost,\n",
    "                          weight_fn=weight_fn,\n",
    "                          bag_weight_fn=bag_weight,\n",
    "                          goal_score=goal_score)\n",
    "    tic = time()\n",
    "    result = astar_search(p, final_heuristic_fn)\n",
    "    if result is not None:\n",
    "        print(\"- Got a result\")\n",
    "        if update_available_gifts(ag, result.state):\n",
    "            total_state += result.state\n",
    "            counter += 1\n",
    "            state=(total_state[0],)\n",
    "        else:\n",
    "            print(\"-- Reset to empty state --\")\n",
    "            state=tuple([tuple([0]*n_types)]*n_bags)\n",
    "            \n",
    "#     else:\n",
    "#         type_cost = None\n",
    "        \n",
    "    if counter > 0 and (n_bags * counter % 20) == 0:\n",
    "        s = score(total_state)\n",
    "        print(\">>> Current score: \", s, s * (total_n_bags) / (n_bags * counter) )\n",
    "        \n",
    "    print(\"- Elapsed: \", time() - tic)"
   ]
  },
  {
   "cell_type": "code",
   "execution_count": 149,
   "metadata": {
    "collapsed": false,
    "scrolled": true
   },
   "outputs": [
    {
     "data": {
      "text/plain": [
       "[('ball', 1097),\n",
       " ('bike', 500),\n",
       " ('blocks', 0),\n",
       " ('book', 1200),\n",
       " ('coal', 166),\n",
       " ('doll', 667),\n",
       " ('gloves', 198),\n",
       " ('horse', 999),\n",
       " ('train', 998)]"
      ]
     },
     "execution_count": 149,
     "metadata": {},
     "output_type": "execute_result"
    }
   ],
   "source": [
    "[(k,ag[k]) for k in gift_types]"
   ]
  },
  {
   "cell_type": "code",
   "execution_count": 108,
   "metadata": {
    "collapsed": false,
    "scrolled": true
   },
   "outputs": [
    {
     "data": {
      "text/plain": [
       "[('ball', 439),\n",
       " ('bike', 500),\n",
       " ('blocks', 0),\n",
       " ('book', 1126),\n",
       " ('coal', 166),\n",
       " ('doll', 995),\n",
       " ('gloves', 105),\n",
       " ('horse', 993),\n",
       " ('train', 500)]"
      ]
     },
     "execution_count": 108,
     "metadata": {},
     "output_type": "execute_result"
    }
   ],
   "source": [
    "[(k,ag[k]) for k in gift_types]"
   ]
  },
  {
   "cell_type": "code",
   "execution_count": 150,
   "metadata": {
    "collapsed": false
   },
   "outputs": [
    {
     "data": {
      "text/plain": [
       "(334,\n",
       " [(0, 0, 3, 0, 0, 1, 0, 0, 0),\n",
       "  (0, 0, 3, 0, 0, 1, 0, 0, 0),\n",
       "  (0, 0, 3, 0, 0, 1, 0, 0, 0),\n",
       "  (0, 0, 3, 0, 0, 1, 0, 0, 0),\n",
       "  (0, 0, 3, 0, 0, 1, 0, 0, 0),\n",
       "  (0, 0, 3, 0, 0, 1, 0, 0, 0),\n",
       "  (0, 0, 3, 0, 0, 1, 0, 0, 0),\n",
       "  (0, 0, 3, 0, 0, 1, 0, 0, 0),\n",
       "  (0, 0, 3, 0, 0, 1, 0, 0, 0),\n",
       "  (0, 0, 3, 0, 0, 1, 0, 0, 0),\n",
       "  (0, 0, 3, 0, 0, 1, 0, 0, 0),\n",
       "  (0, 0, 3, 0, 0, 1, 0, 0, 0),\n",
       "  (0, 0, 3, 0, 0, 1, 0, 0, 0),\n",
       "  (0, 0, 3, 0, 0, 1, 0, 0, 0),\n",
       "  (0, 0, 3, 0, 0, 1, 0, 0, 0),\n",
       "  (0, 0, 3, 0, 0, 1, 0, 0, 0),\n",
       "  (0, 0, 3, 0, 0, 1, 0, 0, 0),\n",
       "  (0, 0, 3, 0, 0, 1, 0, 0, 0),\n",
       "  (0, 0, 3, 0, 0, 1, 0, 0, 0),\n",
       "  (0, 0, 3, 0, 0, 1, 0, 0, 0),\n",
       "  (0, 0, 3, 0, 0, 1, 0, 0, 0),\n",
       "  (0, 0, 3, 0, 0, 1, 0, 0, 0),\n",
       "  (0, 0, 3, 0, 0, 1, 0, 0, 0),\n",
       "  (0, 0, 3, 0, 0, 1, 0, 0, 0),\n",
       "  (0, 0, 3, 0, 0, 1, 0, 0, 0),\n",
       "  (0, 0, 3, 0, 0, 1, 0, 0, 0),\n",
       "  (0, 0, 3, 0, 0, 1, 0, 0, 0),\n",
       "  (0, 0, 3, 0, 0, 1, 0, 0, 0),\n",
       "  (0, 0, 3, 0, 0, 1, 0, 0, 0),\n",
       "  (0, 0, 3, 0, 0, 1, 0, 0, 0),\n",
       "  (0, 0, 3, 0, 0, 1, 0, 0, 0),\n",
       "  (1, 0, 3, 0, 0, 1, 0, 0, 0),\n",
       "  (0, 0, 3, 0, 0, 1, 0, 0, 0),\n",
       "  (0, 0, 3, 0, 0, 1, 0, 0, 0),\n",
       "  (0, 0, 3, 0, 0, 1, 0, 0, 0),\n",
       "  (0, 0, 3, 0, 0, 1, 0, 0, 0),\n",
       "  (0, 0, 3, 0, 0, 1, 0, 0, 0),\n",
       "  (0, 0, 3, 0, 0, 1, 0, 0, 0),\n",
       "  (0, 0, 3, 0, 0, 1, 0, 0, 0),\n",
       "  (0, 0, 3, 0, 0, 1, 0, 0, 0),\n",
       "  (0, 0, 3, 0, 0, 1, 0, 0, 0),\n",
       "  (0, 0, 3, 0, 0, 1, 0, 0, 0),\n",
       "  (0, 0, 3, 0, 0, 1, 0, 0, 0),\n",
       "  (0, 0, 3, 0, 0, 1, 0, 0, 0),\n",
       "  (0, 0, 3, 0, 0, 1, 0, 0, 0),\n",
       "  (0, 0, 3, 0, 0, 1, 0, 0, 0),\n",
       "  (0, 0, 3, 0, 0, 1, 0, 0, 0),\n",
       "  (0, 0, 3, 0, 0, 1, 0, 0, 0),\n",
       "  (0, 0, 3, 0, 0, 1, 0, 0, 0),\n",
       "  (0, 0, 3, 0, 0, 1, 0, 0, 0),\n",
       "  (0, 0, 3, 0, 0, 1, 0, 0, 0),\n",
       "  (0, 0, 3, 0, 0, 1, 0, 0, 0),\n",
       "  (0, 0, 3, 0, 0, 1, 0, 0, 0),\n",
       "  (0, 0, 3, 0, 0, 1, 0, 0, 0),\n",
       "  (0, 0, 3, 0, 0, 1, 0, 0, 0),\n",
       "  (0, 0, 3, 0, 0, 1, 0, 0, 0),\n",
       "  (0, 0, 3, 0, 0, 1, 0, 0, 0),\n",
       "  (0, 0, 3, 0, 0, 1, 0, 0, 0),\n",
       "  (0, 0, 3, 0, 0, 1, 0, 0, 0),\n",
       "  (0, 0, 3, 0, 0, 1, 0, 0, 0),\n",
       "  (0, 0, 3, 0, 0, 1, 0, 0, 0),\n",
       "  (0, 0, 3, 0, 0, 1, 0, 0, 0),\n",
       "  (0, 0, 3, 0, 0, 1, 0, 0, 0),\n",
       "  (0, 0, 3, 0, 0, 1, 0, 0, 0),\n",
       "  (0, 0, 3, 0, 0, 1, 0, 0, 0),\n",
       "  (0, 0, 3, 0, 0, 1, 0, 0, 0),\n",
       "  (0, 0, 3, 0, 0, 1, 0, 0, 0),\n",
       "  (0, 0, 3, 0, 0, 1, 0, 0, 0),\n",
       "  (0, 0, 3, 0, 0, 1, 0, 0, 0),\n",
       "  (0, 0, 3, 0, 0, 1, 0, 0, 0),\n",
       "  (0, 0, 3, 0, 0, 1, 0, 0, 0),\n",
       "  (0, 0, 3, 0, 0, 1, 0, 0, 0),\n",
       "  (0, 0, 3, 0, 0, 1, 0, 0, 0),\n",
       "  (0, 0, 3, 0, 0, 1, 0, 0, 0),\n",
       "  (0, 0, 3, 0, 0, 1, 0, 0, 0),\n",
       "  (0, 0, 3, 0, 0, 1, 0, 0, 0),\n",
       "  (0, 0, 3, 0, 0, 1, 0, 0, 0),\n",
       "  (0, 0, 3, 0, 0, 1, 0, 0, 0),\n",
       "  (0, 0, 3, 0, 0, 1, 1, 0, 0),\n",
       "  (0, 0, 3, 0, 0, 1, 0, 0, 0),\n",
       "  (0, 0, 3, 0, 0, 1, 0, 0, 0),\n",
       "  (0, 0, 3, 0, 0, 1, 0, 0, 0),\n",
       "  (0, 0, 3, 0, 0, 1, 0, 0, 0),\n",
       "  (0, 0, 3, 0, 0, 1, 0, 0, 0),\n",
       "  (0, 0, 3, 0, 0, 1, 0, 0, 0),\n",
       "  (0, 0, 3, 0, 0, 1, 0, 0, 0),\n",
       "  (0, 0, 3, 0, 0, 1, 0, 0, 0),\n",
       "  (0, 0, 3, 0, 0, 1, 0, 0, 0),\n",
       "  (0, 0, 3, 0, 0, 1, 0, 0, 0),\n",
       "  (0, 0, 3, 0, 0, 1, 0, 0, 0),\n",
       "  (0, 0, 3, 0, 0, 1, 0, 0, 0),\n",
       "  (0, 0, 3, 0, 0, 1, 0, 0, 0),\n",
       "  (0, 0, 3, 0, 0, 1, 0, 0, 0),\n",
       "  (0, 0, 3, 0, 0, 1, 0, 0, 0),\n",
       "  (0, 0, 3, 0, 0, 1, 0, 0, 0),\n",
       "  (0, 0, 3, 0, 0, 1, 0, 0, 0),\n",
       "  (0, 0, 3, 0, 0, 1, 0, 0, 0),\n",
       "  (0, 0, 3, 0, 0, 1, 0, 0, 0),\n",
       "  (0, 0, 3, 0, 0, 1, 0, 0, 0),\n",
       "  (0, 0, 3, 0, 0, 1, 0, 0, 0),\n",
       "  (0, 0, 3, 0, 0, 1, 0, 0, 0),\n",
       "  (0, 0, 3, 0, 0, 1, 0, 0, 0),\n",
       "  (0, 0, 3, 0, 0, 1, 0, 0, 0),\n",
       "  (0, 0, 3, 0, 0, 1, 0, 0, 0),\n",
       "  (0, 0, 3, 0, 0, 1, 0, 0, 0),\n",
       "  (0, 0, 3, 0, 0, 1, 0, 0, 0),\n",
       "  (0, 0, 3, 0, 0, 1, 0, 0, 0),\n",
       "  (0, 0, 3, 0, 0, 1, 0, 0, 0),\n",
       "  (0, 0, 3, 0, 0, 1, 0, 0, 0),\n",
       "  (0, 0, 3, 0, 0, 1, 0, 0, 0),\n",
       "  (0, 0, 3, 0, 0, 1, 0, 0, 0),\n",
       "  (0, 0, 3, 0, 0, 1, 0, 0, 0),\n",
       "  (0, 0, 3, 0, 0, 1, 0, 0, 0),\n",
       "  (0, 0, 3, 0, 0, 1, 0, 0, 0),\n",
       "  (0, 0, 3, 0, 0, 1, 0, 0, 0),\n",
       "  (0, 0, 3, 0, 0, 1, 0, 0, 0),\n",
       "  (0, 0, 3, 0, 0, 1, 0, 0, 0),\n",
       "  (0, 0, 3, 0, 0, 1, 0, 0, 0),\n",
       "  (0, 0, 3, 0, 0, 1, 0, 0, 0),\n",
       "  (0, 0, 3, 0, 0, 1, 0, 0, 0),\n",
       "  (0, 0, 3, 0, 0, 1, 0, 0, 0),\n",
       "  (0, 0, 3, 0, 0, 1, 0, 0, 0),\n",
       "  (0, 0, 3, 0, 0, 1, 0, 0, 0),\n",
       "  (0, 0, 3, 0, 0, 1, 0, 0, 0),\n",
       "  (0, 0, 3, 0, 0, 1, 0, 0, 0),\n",
       "  (0, 0, 3, 0, 0, 1, 0, 0, 0),\n",
       "  (0, 0, 3, 0, 0, 1, 0, 0, 0),\n",
       "  (0, 0, 3, 0, 0, 1, 0, 0, 0),\n",
       "  (0, 0, 3, 0, 0, 1, 0, 0, 0),\n",
       "  (0, 0, 3, 0, 0, 1, 0, 0, 0),\n",
       "  (0, 0, 3, 0, 0, 1, 0, 0, 0),\n",
       "  (0, 0, 3, 0, 0, 1, 0, 0, 0),\n",
       "  (0, 0, 3, 0, 0, 1, 0, 0, 0),\n",
       "  (0, 0, 3, 0, 0, 1, 0, 0, 0),\n",
       "  (0, 0, 3, 0, 0, 1, 0, 0, 0),\n",
       "  (0, 0, 3, 0, 0, 1, 0, 0, 0),\n",
       "  (0, 0, 3, 0, 0, 1, 0, 0, 0),\n",
       "  (0, 0, 3, 0, 0, 1, 0, 0, 0),\n",
       "  (0, 0, 3, 0, 0, 1, 0, 0, 0),\n",
       "  (0, 0, 3, 0, 0, 1, 0, 0, 0),\n",
       "  (0, 0, 3, 0, 0, 1, 0, 0, 0),\n",
       "  (0, 0, 3, 0, 0, 1, 0, 0, 0),\n",
       "  (0, 0, 3, 0, 0, 1, 0, 0, 0),\n",
       "  (0, 0, 3, 0, 0, 1, 0, 0, 0),\n",
       "  (0, 0, 3, 0, 0, 1, 0, 0, 0),\n",
       "  (0, 0, 3, 0, 0, 1, 0, 0, 0),\n",
       "  (0, 0, 3, 0, 0, 1, 0, 0, 0),\n",
       "  (0, 0, 3, 0, 0, 1, 0, 0, 0),\n",
       "  (0, 0, 3, 0, 0, 1, 0, 0, 0),\n",
       "  (0, 0, 3, 0, 0, 1, 0, 0, 0),\n",
       "  (0, 0, 3, 0, 0, 1, 0, 0, 0),\n",
       "  (0, 0, 3, 0, 0, 1, 0, 0, 0),\n",
       "  (0, 0, 3, 0, 0, 1, 0, 0, 0),\n",
       "  (0, 0, 3, 0, 0, 1, 0, 0, 0),\n",
       "  (0, 0, 3, 0, 0, 1, 0, 0, 0),\n",
       "  (0, 0, 3, 0, 0, 1, 0, 0, 0),\n",
       "  (0, 0, 3, 0, 0, 1, 0, 0, 0),\n",
       "  (0, 0, 3, 0, 0, 1, 0, 0, 0),\n",
       "  (0, 0, 3, 0, 0, 1, 0, 0, 0),\n",
       "  (0, 0, 3, 0, 0, 1, 0, 0, 0),\n",
       "  (1, 0, 3, 0, 0, 1, 0, 0, 0),\n",
       "  (0, 0, 3, 0, 0, 1, 0, 0, 0),\n",
       "  (0, 0, 3, 0, 0, 1, 0, 0, 0),\n",
       "  (0, 0, 3, 0, 0, 1, 0, 0, 0),\n",
       "  (0, 0, 3, 0, 0, 1, 0, 0, 0),\n",
       "  (0, 0, 3, 0, 0, 1, 0, 0, 0),\n",
       "  (0, 0, 3, 0, 0, 1, 0, 0, 0),\n",
       "  (0, 0, 3, 0, 0, 1, 0, 0, 0),\n",
       "  (0, 0, 3, 0, 0, 1, 0, 0, 0),\n",
       "  (0, 0, 3, 0, 0, 1, 0, 0, 0),\n",
       "  (0, 0, 3, 0, 0, 1, 0, 0, 0),\n",
       "  (0, 0, 3, 0, 0, 1, 0, 0, 0),\n",
       "  (0, 0, 3, 0, 0, 1, 0, 0, 0),\n",
       "  (0, 0, 3, 0, 0, 1, 0, 0, 0),\n",
       "  (0, 0, 3, 0, 0, 1, 0, 0, 0),\n",
       "  (0, 0, 3, 0, 0, 1, 0, 0, 0),\n",
       "  (0, 0, 3, 0, 0, 1, 0, 0, 0),\n",
       "  (0, 0, 3, 0, 0, 1, 0, 0, 0),\n",
       "  (0, 0, 3, 0, 0, 1, 0, 0, 0),\n",
       "  (0, 0, 3, 0, 0, 1, 0, 0, 0),\n",
       "  (0, 0, 3, 0, 0, 1, 0, 0, 0),\n",
       "  (0, 0, 3, 0, 0, 1, 0, 0, 0),\n",
       "  (0, 0, 3, 0, 0, 1, 0, 0, 0),\n",
       "  (0, 0, 3, 0, 0, 1, 0, 0, 0),\n",
       "  (0, 0, 3, 0, 0, 1, 0, 0, 0),\n",
       "  (0, 0, 3, 0, 0, 1, 0, 0, 0),\n",
       "  (0, 0, 3, 0, 0, 1, 0, 0, 0),\n",
       "  (0, 0, 3, 0, 0, 1, 0, 0, 0),\n",
       "  (0, 0, 3, 0, 0, 1, 0, 0, 0),\n",
       "  (0, 0, 3, 0, 0, 1, 0, 0, 0),\n",
       "  (0, 0, 3, 0, 0, 1, 0, 0, 0),\n",
       "  (0, 0, 3, 0, 0, 1, 0, 0, 0),\n",
       "  (0, 0, 3, 0, 0, 1, 0, 0, 0),\n",
       "  (0, 0, 3, 0, 0, 1, 0, 0, 0),\n",
       "  (0, 0, 3, 0, 0, 1, 0, 0, 0),\n",
       "  (0, 0, 3, 0, 0, 1, 0, 0, 0),\n",
       "  (0, 0, 3, 0, 0, 1, 0, 0, 0),\n",
       "  (0, 0, 3, 0, 0, 1, 0, 0, 0),\n",
       "  (0, 0, 3, 0, 0, 1, 0, 0, 0),\n",
       "  (0, 0, 3, 0, 0, 1, 0, 0, 0),\n",
       "  (0, 0, 3, 0, 0, 1, 0, 0, 0),\n",
       "  (0, 0, 3, 0, 0, 1, 0, 0, 0),\n",
       "  (0, 0, 3, 0, 0, 1, 0, 0, 0),\n",
       "  (0, 0, 3, 0, 0, 1, 0, 0, 0),\n",
       "  (0, 0, 3, 0, 0, 1, 0, 0, 0),\n",
       "  (0, 0, 3, 0, 0, 1, 0, 0, 0),\n",
       "  (0, 0, 3, 0, 0, 1, 0, 0, 0),\n",
       "  (0, 0, 3, 0, 0, 1, 0, 0, 0),\n",
       "  (0, 0, 3, 0, 0, 1, 0, 0, 0),\n",
       "  (0, 0, 3, 0, 0, 1, 0, 0, 0),\n",
       "  (0, 0, 3, 0, 0, 1, 1, 0, 0),\n",
       "  (0, 0, 3, 0, 0, 1, 0, 0, 0),\n",
       "  (0, 0, 3, 0, 0, 1, 0, 0, 0),\n",
       "  (0, 0, 3, 0, 0, 1, 0, 0, 0),\n",
       "  (0, 0, 3, 0, 0, 1, 0, 0, 0),\n",
       "  (0, 0, 3, 0, 0, 1, 0, 0, 0),\n",
       "  (0, 0, 3, 0, 0, 1, 0, 0, 0),\n",
       "  (0, 0, 3, 0, 0, 1, 0, 0, 0),\n",
       "  (0, 0, 3, 0, 0, 1, 0, 0, 0),\n",
       "  (0, 0, 3, 0, 0, 1, 0, 0, 0),\n",
       "  (0, 0, 3, 0, 0, 1, 0, 0, 0),\n",
       "  (0, 0, 3, 0, 0, 1, 0, 0, 0),\n",
       "  (0, 0, 3, 0, 0, 1, 0, 0, 0),\n",
       "  (0, 0, 3, 0, 0, 1, 0, 0, 0),\n",
       "  (0, 0, 3, 0, 0, 1, 0, 0, 0),\n",
       "  (0, 0, 3, 0, 0, 1, 0, 0, 0),\n",
       "  (0, 0, 3, 0, 0, 1, 0, 0, 0),\n",
       "  (0, 0, 3, 0, 0, 1, 0, 0, 0),\n",
       "  (0, 0, 3, 0, 0, 1, 0, 0, 0),\n",
       "  (0, 0, 3, 0, 0, 1, 0, 0, 0),\n",
       "  (0, 0, 3, 0, 0, 1, 0, 0, 0),\n",
       "  (0, 0, 3, 0, 0, 1, 0, 0, 0),\n",
       "  (0, 0, 3, 0, 0, 1, 0, 0, 0),\n",
       "  (0, 0, 3, 0, 0, 1, 0, 0, 0),\n",
       "  (0, 0, 3, 0, 0, 1, 0, 0, 0),\n",
       "  (0, 0, 3, 0, 0, 1, 0, 0, 0),\n",
       "  (0, 0, 3, 0, 0, 1, 0, 0, 0),\n",
       "  (0, 0, 3, 0, 0, 1, 0, 0, 0),\n",
       "  (0, 0, 3, 0, 0, 1, 0, 0, 0),\n",
       "  (0, 0, 3, 0, 0, 1, 0, 0, 0),\n",
       "  (0, 0, 3, 0, 0, 1, 0, 0, 0),\n",
       "  (0, 0, 3, 0, 0, 1, 0, 0, 0),\n",
       "  (0, 0, 3, 0, 0, 1, 0, 0, 0),\n",
       "  (0, 0, 3, 0, 0, 1, 0, 0, 0),\n",
       "  (0, 0, 3, 0, 0, 1, 0, 0, 0),\n",
       "  (0, 0, 3, 0, 0, 1, 0, 0, 0),\n",
       "  (0, 0, 3, 0, 0, 1, 0, 0, 0),\n",
       "  (0, 0, 3, 0, 0, 1, 0, 0, 0),\n",
       "  (0, 0, 3, 0, 0, 1, 0, 0, 0),\n",
       "  (0, 0, 3, 0, 0, 1, 0, 0, 0),\n",
       "  (0, 0, 3, 0, 0, 1, 0, 0, 0),\n",
       "  (0, 0, 3, 0, 0, 1, 0, 0, 0),\n",
       "  (0, 0, 3, 0, 0, 1, 0, 0, 0),\n",
       "  (0, 0, 3, 0, 0, 1, 0, 0, 0),\n",
       "  (0, 0, 3, 0, 0, 1, 0, 0, 0),\n",
       "  (0, 0, 3, 0, 0, 1, 0, 0, 0),\n",
       "  (0, 0, 3, 0, 0, 1, 0, 0, 0),\n",
       "  (0, 0, 3, 0, 0, 1, 0, 0, 0),\n",
       "  (0, 0, 3, 0, 0, 1, 0, 0, 0),\n",
       "  (0, 0, 3, 0, 0, 1, 0, 0, 0),\n",
       "  (0, 0, 3, 0, 0, 1, 0, 0, 0),\n",
       "  (0, 0, 3, 0, 0, 1, 0, 0, 0),\n",
       "  (0, 0, 3, 0, 0, 1, 0, 0, 0),\n",
       "  (0, 0, 3, 0, 0, 1, 0, 0, 0),\n",
       "  (0, 0, 3, 0, 0, 1, 0, 0, 0),\n",
       "  (0, 0, 3, 0, 0, 1, 0, 0, 0),\n",
       "  (0, 0, 3, 0, 0, 1, 0, 0, 0),\n",
       "  (0, 0, 3, 0, 0, 1, 0, 0, 0),\n",
       "  (0, 0, 3, 0, 0, 1, 0, 0, 0),\n",
       "  (0, 0, 3, 0, 0, 1, 0, 0, 0),\n",
       "  (0, 0, 3, 0, 0, 1, 0, 0, 0),\n",
       "  (0, 0, 3, 0, 0, 1, 0, 0, 0),\n",
       "  (0, 0, 3, 0, 0, 1, 0, 0, 0),\n",
       "  (0, 0, 3, 0, 0, 1, 0, 0, 0),\n",
       "  (0, 0, 3, 0, 0, 1, 0, 0, 0),\n",
       "  (0, 0, 3, 0, 0, 1, 0, 0, 0),\n",
       "  (0, 0, 3, 0, 0, 1, 0, 0, 0),\n",
       "  (0, 0, 3, 0, 0, 1, 0, 0, 0),\n",
       "  (0, 0, 3, 0, 0, 1, 0, 0, 0),\n",
       "  (0, 0, 3, 0, 0, 1, 0, 0, 0),\n",
       "  (0, 0, 3, 0, 0, 1, 0, 0, 0),\n",
       "  (0, 0, 3, 0, 0, 1, 0, 0, 0),\n",
       "  (0, 0, 3, 0, 0, 1, 0, 0, 0),\n",
       "  (0, 0, 3, 0, 0, 1, 0, 0, 0),\n",
       "  (0, 0, 3, 0, 0, 1, 0, 0, 0),\n",
       "  (0, 0, 3, 0, 0, 1, 0, 0, 0),\n",
       "  (0, 0, 3, 0, 0, 1, 0, 0, 0),\n",
       "  (0, 0, 3, 0, 0, 1, 0, 0, 0),\n",
       "  (0, 0, 3, 0, 0, 1, 0, 0, 0),\n",
       "  (0, 0, 3, 0, 0, 1, 0, 0, 0),\n",
       "  (0, 0, 3, 0, 0, 1, 0, 0, 0),\n",
       "  (0, 0, 3, 0, 0, 1, 0, 0, 0),\n",
       "  (0, 0, 3, 0, 0, 1, 0, 0, 0),\n",
       "  (0, 0, 3, 0, 0, 1, 0, 0, 0),\n",
       "  (0, 0, 3, 0, 0, 1, 0, 0, 0),\n",
       "  (0, 0, 3, 0, 0, 1, 0, 0, 0),\n",
       "  (0, 0, 3, 0, 0, 1, 0, 0, 0),\n",
       "  (0, 0, 3, 0, 0, 1, 0, 0, 0),\n",
       "  (0, 0, 3, 0, 0, 1, 0, 0, 0),\n",
       "  (0, 0, 3, 0, 0, 1, 0, 0, 0),\n",
       "  (0, 0, 3, 0, 0, 1, 0, 0, 0),\n",
       "  (0, 0, 3, 0, 0, 1, 0, 0, 0),\n",
       "  (0, 0, 3, 0, 0, 1, 0, 0, 0),\n",
       "  (0, 0, 3, 0, 0, 1, 0, 0, 0),\n",
       "  (0, 0, 3, 0, 0, 1, 0, 0, 0),\n",
       "  (0, 0, 3, 0, 0, 1, 0, 0, 0),\n",
       "  (0, 0, 3, 0, 0, 1, 0, 0, 0),\n",
       "  (0, 0, 3, 0, 0, 1, 0, 0, 0),\n",
       "  (0, 0, 3, 0, 0, 1, 0, 0, 0),\n",
       "  (0, 0, 3, 0, 0, 1, 0, 0, 0),\n",
       "  (0, 0, 3, 0, 0, 1, 0, 0, 0),\n",
       "  (0, 0, 3, 0, 0, 1, 0, 0, 0),\n",
       "  (0, 0, 3, 0, 0, 1, 0, 0, 0),\n",
       "  (0, 0, 3, 0, 0, 1, 0, 0, 0),\n",
       "  (0, 0, 3, 0, 0, 1, 0, 0, 0),\n",
       "  (0, 0, 3, 0, 0, 1, 0, 0, 0),\n",
       "  (0, 0, 3, 0, 0, 1, 0, 0, 0),\n",
       "  (0, 0, 3, 0, 0, 1, 0, 0, 0),\n",
       "  (0, 0, 3, 0, 0, 1, 0, 0, 0),\n",
       "  (0, 0, 3, 0, 0, 1, 0, 0, 0),\n",
       "  (0, 0, 3, 0, 0, 1, 0, 0, 0),\n",
       "  (0, 0, 3, 0, 0, 1, 0, 0, 0),\n",
       "  (0, 0, 3, 0, 0, 1, 0, 0, 0),\n",
       "  (0, 0, 3, 0, 0, 1, 0, 0, 0),\n",
       "  (0, 0, 3, 0, 0, 1, 0, 0, 0),\n",
       "  (0, 0, 3, 0, 0, 1, 0, 0, 0),\n",
       "  (0, 0, 3, 0, 0, 1, 0, 0, 0),\n",
       "  (0, 0, 3, 0, 0, 1, 0, 0, 0),\n",
       "  (0, 0, 3, 0, 0, 1, 0, 0, 0),\n",
       "  (0, 0, 3, 0, 0, 1, 0, 0, 0),\n",
       "  (0, 0, 3, 0, 0, 1, 0, 0, 0),\n",
       "  (0, 0, 3, 0, 0, 1, 0, 0, 0),\n",
       "  (0, 0, 3, 0, 0, 1, 0, 0, 0),\n",
       "  (0, 0, 1, 0, 0, 0, 0, 1, 2)])"
      ]
     },
     "execution_count": 150,
     "metadata": {},
     "output_type": "execute_result"
    }
   ],
   "source": [
    "len(total_state), total_state"
   ]
  },
  {
   "cell_type": "code",
   "execution_count": 114,
   "metadata": {
    "collapsed": false
   },
   "outputs": [
    {
     "data": {
      "text/plain": [
       "(17962.396635817058, 35217.35055689908)"
      ]
     },
     "execution_count": 114,
     "metadata": {},
     "output_type": "execute_result"
    }
   ],
   "source": [
    "score(total_state), score(total_state) * (total_n_bags) / (n_bags * counter)"
   ]
  },
  {
   "cell_type": "code",
   "execution_count": 888,
   "metadata": {
    "collapsed": false,
    "scrolled": true
   },
   "outputs": [],
   "source": [
    "def to_submission(state, available_gifts, gift_types):\n",
    "    n_gifts = [available_gifts[t] for t in gift_types]\n",
    "    output = []\n",
    "    for bag in state:\n",
    "        o = []\n",
    "        for index, count in enumerate(bag):   \n",
    "            gift_type = gift_types[index]\n",
    "            for i in range(count):\n",
    "                v = n_gifts[index] - 1\n",
    "                assert v >= 0, \"Gift index is negative\"\n",
    "                o.append(gift_type + '_%i' % v)\n",
    "                n_gifts[index] -= 1\n",
    "        output.append(o)  \n",
    "    return output\n",
    "        \n",
    "submission = to_submission(total_state, available_gifts, gift_types)\n",
    "# print(submission)"
   ]
  },
  {
   "cell_type": "code",
   "execution_count": 886,
   "metadata": {
    "collapsed": false
   },
   "outputs": [],
   "source": [
    "from datetime import datetime\n",
    "submission_file = '../results/submission_' + \\\n",
    "                  str(datetime.now().strftime(\"%Y-%m-%d-%H-%M\")) + \\\n",
    "                  '.csv'"
   ]
  },
  {
   "cell_type": "code",
   "execution_count": 887,
   "metadata": {
    "collapsed": false
   },
   "outputs": [],
   "source": [
    "def write_submission(state, filename):\n",
    "    with open(filename, 'w') as w:\n",
    "        w.write(\"Gifts\\n\")\n",
    "        for bag in state:\n",
    "            w.write(' '.join(bag) + '\\n')\n",
    "    \n",
    "write_submission(submission, submission_file)"
   ]
  },
  {
   "cell_type": "code",
   "execution_count": null,
   "metadata": {
    "collapsed": true
   },
   "outputs": [],
   "source": []
  }
 ],
 "metadata": {
  "kernelspec": {
   "display_name": "Python 3",
   "language": "python",
   "name": "python3"
  },
  "language_info": {
   "codemirror_mode": {
    "name": "ipython",
    "version": 3
   },
   "file_extension": ".py",
   "mimetype": "text/x-python",
   "name": "python",
   "nbconvert_exporter": "python",
   "pygments_lexer": "ipython3",
   "version": "3.5.2"
  }
 },
 "nbformat": 4,
 "nbformat_minor": 0
}
