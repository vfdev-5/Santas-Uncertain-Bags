{
 "cells": [
  {
   "cell_type": "markdown",
   "metadata": {},
   "source": [
    "# A*-search using `aima-python`\n",
    "\n",
    "Algorithm implementations taken from [here](https://github.com/aimacode/aima-python/blob/master/search-4e.ipynb)"
   ]
  },
  {
   "cell_type": "markdown",
   "metadata": {},
   "source": [
    "* *State* is defined by gifts in bags\n",
    "\n",
    "* *Goal states* are defined by filled bags satisfying problem conditions\n",
    "\n",
    "* *Actions* : put a gift in a bag with a minimal weight"
   ]
  },
  {
   "cell_type": "code",
   "execution_count": 1,
   "metadata": {
    "collapsed": true
   },
   "outputs": [],
   "source": [
    "# https://ipython.org/ipython-doc/3/config/extensions/autoreload.html\n",
    "%load_ext autoreload\n",
    "%autoreload 2"
   ]
  },
  {
   "cell_type": "code",
   "execution_count": 2,
   "metadata": {
    "collapsed": true
   },
   "outputs": [],
   "source": [
    "import numpy as np\n",
    "np.random.seed(2016)"
   ]
  },
  {
   "cell_type": "code",
   "execution_count": 3,
   "metadata": {
    "collapsed": true
   },
   "outputs": [],
   "source": [
    "from search import Problem, astar_search, uniform_cost_search, state_sequence, action_sequence\n",
    "import sys\n",
    "sys.path.append('../common')\n",
    "from utils import weight3 as weight_fn"
   ]
  },
  {
   "cell_type": "code",
   "execution_count": 4,
   "metadata": {
    "collapsed": true
   },
   "outputs": [],
   "source": [
    "n_bags = 1\n",
    "max_weight = 50\n",
    "\n",
    "n_horses = 1000\n",
    "n_balls = 1100\n",
    "n_bikes = 500\n",
    "n_trains = 1000\n",
    "n_coals = 166\n",
    "n_books = 1200\n",
    "n_dolls = 1000\n",
    "n_blocks = 1000\n",
    "n_gloves = 200\n",
    "\n",
    "available_gifts = {\n",
    "    \"horse\": n_horses,\n",
    "    \"ball\": n_balls,\n",
    "    \"bike\": n_bikes,\n",
    "    \"train\": n_trains,\n",
    "    \"coal\": n_coals,\n",
    "    \"book\": n_books,\n",
    "    \"doll\": n_dolls,\n",
    "    \"blocks\": n_blocks,\n",
    "    \"gloves\": n_gloves\n",
    "}\n",
    "\n",
    "type_cost = {\n",
    "#     \"horse\": 1.2,\n",
    "#     \"ball\": 1.2,\n",
    "#     \"bike\": 2,\n",
    "#     \"train\": 1.15,\n",
    "    \"coal\": 0.5,\n",
    "#     \"book\": 2.0,\n",
    "#     \"doll\": 1.3,\n",
    "#     \"blocks\": 0.5,\n",
    "#     \"gloves\": 3    \n",
    "}\n",
    "\n",
    "gift_types = sorted(list(available_gifts.keys()))\n",
    "n_types = len(gift_types)"
   ]
  },
  {
   "cell_type": "code",
   "execution_count": 5,
   "metadata": {
    "collapsed": false
   },
   "outputs": [
    {
     "data": {
      "text/plain": [
       "(9,\n",
       " ['ball',\n",
       "  'bike',\n",
       "  'blocks',\n",
       "  'book',\n",
       "  'coal',\n",
       "  'doll',\n",
       "  'gloves',\n",
       "  'horse',\n",
       "  'train'])"
      ]
     },
     "execution_count": 5,
     "metadata": {},
     "output_type": "execute_result"
    }
   ],
   "source": [
    "len(gift_types), gift_types"
   ]
  },
  {
   "cell_type": "markdown",
   "metadata": {},
   "source": [
    "State is tuple (bags) of tuples (gifts) :\n",
    "\n",
    "```\n",
    "( \n",
    "#  ball, bike, block, book, coal, doll, gloves, horse, train  \n",
    "    (0,1,0,3,0,0,0,0,2), # bag 1\n",
    "    (0,0,0,0,0,2,5,6,0), # bag 2\n",
    "    ...\n",
    ")\n",
    "```\n"
   ]
  },
  {
   "cell_type": "code",
   "execution_count": 6,
   "metadata": {
    "collapsed": false
   },
   "outputs": [],
   "source": [
    "def bag_weight(bag, n1=100):\n",
    "    weight = 0\n",
    "    for index, count in enumerate(bag):\n",
    "        for i in range(count):\n",
    "            weight += weight_fn(index, n1)\n",
    "    return weight"
   ]
  },
  {
   "cell_type": "code",
   "execution_count": 7,
   "metadata": {
    "collapsed": true
   },
   "outputs": [],
   "source": [
    "def score(state, count=100):\n",
    "    scores = np.zeros(count)\n",
    "    for c in range(count):\n",
    "        score = 0\n",
    "        for bag in state:\n",
    "            total_weight_ = bag_weight(bag, n1=1)\n",
    "            if total_weight_ < max_weight:\n",
    "                score += total_weight_\n",
    "        scores[c] = score\n",
    "    return np.mean(scores)"
   ]
  },
  {
   "cell_type": "code",
   "execution_count": 8,
   "metadata": {
    "collapsed": false
   },
   "outputs": [
    {
     "data": {
      "text/plain": [
       "36.175530726146057"
      ]
     },
     "execution_count": 8,
     "metadata": {},
     "output_type": "execute_result"
    }
   ],
   "source": [
    "s = ((0, 0, 3, 0, 0, 1, 0, 0, 0),)\n",
    "score(s)"
   ]
  },
  {
   "cell_type": "code",
   "execution_count": 9,
   "metadata": {
    "collapsed": false
   },
   "outputs": [
    {
     "data": {
      "text/plain": [
       "{'ball': 1100,\n",
       " 'bike': 500,\n",
       " 'blocks': 1000,\n",
       " 'book': 1200,\n",
       " 'coal': 166,\n",
       " 'doll': 1000,\n",
       " 'gloves': 200,\n",
       " 'horse': 1000,\n",
       " 'train': 1000}"
      ]
     },
     "execution_count": 9,
     "metadata": {},
     "output_type": "execute_result"
    }
   ],
   "source": [
    "available_gifts"
   ]
  },
  {
   "cell_type": "code",
   "execution_count": 768,
   "metadata": {
    "collapsed": false
   },
   "outputs": [],
   "source": [
    "class SantasBagsProblem(Problem):\n",
    "            \n",
    "    def _get_gift_type_indices(self, state):\n",
    "        out = []\n",
    "        types = np.sum(np.array(state), axis=0)\n",
    "        for index, t in enumerate(types):\n",
    "            if t < self.available_gifts[self.gift_types[index]]:\n",
    "                out.append(index)\n",
    "        return out\n",
    "        \n",
    "    def actions(self, state):\n",
    "        \"\"\"Return a list of actions executable in this state.\"\"\"                        \n",
    "        _gift_type_indices = self._get_gift_type_indices(state)\n",
    "        if len(_gift_type_indices) == 0:\n",
    "            print(\"No gifts available to create actions\")\n",
    "            return []\n",
    "    \n",
    "        print(\"_gift_type_indices : \", _gift_type_indices)\n",
    "        # find a bag with a minimal weight  \n",
    "        min_weight_bag_index = 0\n",
    "        min_weight = self.max_weight\n",
    "        for i, bag in enumerate(state):\n",
    "            w = self.bag_weight_fn(bag)\n",
    "            if min_weight > w:\n",
    "                min_weight_bag_index = i\n",
    "                min_weight = w\n",
    "                \n",
    "#         print(\"min_weight_bag_index : \", min_weight_bag_index)\n",
    "        \n",
    "        actions = []\n",
    "        bag_weight = self.bag_weight_fn(state[min_weight_bag_index])\n",
    "        for _index in _gift_type_indices:\n",
    "            gift_weight = self.weight_fn(_index, 50)        \n",
    "            if bag_weight + gift_weight < self.max_weight:\n",
    "                actions.append((min_weight_bag_index, _index))\n",
    "        \n",
    "        print(\"actions: \", actions)\n",
    "#         if len(actions) == 0:\n",
    "#             print(\"No actions found for the state : \", state, min_weight_bag_index, bag_weight)\n",
    "\n",
    "        return actions\n",
    "    \n",
    "    def result(self, state, action):\n",
    "        \"\"\"The state that results from executing this action in this state.\"\"\"\n",
    "        bag_id, gift_type_index = action\n",
    "        print(\"-- result : input state: \", state, \"action: \", action)                \n",
    "        new_state = list(state)\n",
    "        bag = list(new_state[bag_id])\n",
    "        bag[gift_type_index] += 1\n",
    "        new_state[bag_id] = tuple(bag)\n",
    "        print(\"-- result : output state: \", new_state)\n",
    "        return tuple(new_state)\n",
    "        \n",
    "    def is_goal(self, state):\n",
    "        \"\"\"True if the state is a goal.\"\"\"        \n",
    "        for bag in state:\n",
    "            if sum(bag) < 3:\n",
    "#                 print(\"- A bag with less than 3 gifts found : \", state)\n",
    "                return False\n",
    "        \n",
    "        # Check if solution is available:\n",
    "        types = np.sum(np.array(state), axis=0)\n",
    "        for index, t in enumerate(types):\n",
    "            if t > self.available_gifts[self.gift_types[index]]:\n",
    "                return False\n",
    "\n",
    "        mean_score = self._validation(state)\n",
    "#         if mean_score > self.goal_score:\n",
    "        print(\"- Mean score : \", mean_score, \" / \", self.goal_score, state)\n",
    "        return mean_score > self.goal_score\n",
    "\n",
    "    def step_cost(self, state, action, result=None):\n",
    "        \"\"\"The cost of taking this action from this state.\"\"\"\n",
    "        if self.type_cost is not None:\n",
    "            bag_id, gift_type_index  = action\n",
    "            gift_type = self.gift_types[gift_type_index]\n",
    "            if gift_type in self.type_cost:\n",
    "                return self.type_cost[gift_type]  # Override this if actions have different costs\n",
    "            return 1.0\n",
    "        return 1.0\n",
    "                \n",
    "    def _validation(self, state, count=100):\n",
    "        scores = np.zeros(count)\n",
    "        rejected = 0\n",
    "        for c in range(count):\n",
    "            score = 0\n",
    "            for bag in state:\n",
    "                total_weight_ = self.bag_weight_fn(bag, n1=1)\n",
    "                if total_weight_ < self.max_weight:\n",
    "                    score += total_weight_\n",
    "                else:\n",
    "                    rejected += 1\n",
    "            scores[c] = score\n",
    "#         if rejected > 0:\n",
    "#             print(\"Rejected bags : %f / %i\" % (rejected*1.0/count, len(state)))\n",
    "        return np.mean(scores)"
   ]
  },
  {
   "cell_type": "code",
   "execution_count": 769,
   "metadata": {
    "collapsed": false
   },
   "outputs": [
    {
     "name": "stdout",
     "output_type": "stream",
     "text": [
      "('Goal score: ', 35.0)\n"
     ]
    }
   ],
   "source": [
    "alpha = 0.7\n",
    "goal_score = n_bags*max_weight*alpha\n",
    "print(\"Goal score: \", goal_score)"
   ]
  },
  {
   "cell_type": "code",
   "execution_count": 770,
   "metadata": {
    "collapsed": true
   },
   "outputs": [],
   "source": [
    "def compute_normal_identical(mu, sigma, a=50):\n",
    "    \"\"\"\n",
    "    Solve n*mu + 3*sigma*sqrt(n) < a\n",
    "    return: n, Mu, Sigma\n",
    "    \"\"\"\n",
    "    for n in range(100):\n",
    "        y = mu*n + 3.0*sigma*np.sqrt(n)\n",
    "        if y > a:\n",
    "            break  \n",
    "    n -= 1\n",
    "    m = n*mu\n",
    "    s = sigma*np.sqrt(n)\n",
    "    return n, m, s"
   ]
  },
  {
   "cell_type": "code",
   "execution_count": 771,
   "metadata": {
    "collapsed": false
   },
   "outputs": [],
   "source": [
    "# # Horse : \n",
    "# ag = deepcopy(available_gifts)\n",
    "# n, m, s = compute_normal_identical(5, 2)\n",
    "# initial_state=tuple([tuple([ag['horse'].pop() for i in range(n)]) for j in range(n_bags)])\n",
    "# initial_state"
   ]
  },
  {
   "cell_type": "code",
   "execution_count": 772,
   "metadata": {
    "collapsed": false
   },
   "outputs": [],
   "source": [
    "initial_state=tuple([tuple([0]*n_types)]*n_bags)"
   ]
  },
  {
   "cell_type": "code",
   "execution_count": 773,
   "metadata": {
    "collapsed": false
   },
   "outputs": [],
   "source": [
    "# initial_state = ((0, 0, 2, 0, 0, 1, 0, 0, 0), )\n",
    "# initial_state"
   ]
  },
  {
   "cell_type": "code",
   "execution_count": 774,
   "metadata": {
    "collapsed": false
   },
   "outputs": [],
   "source": [
    "p = SantasBagsProblem(initial=initial_state,\n",
    "                      gift_types=gift_types, \n",
    "                      available_gifts=available_gifts,\n",
    "                      max_weight=max_weight,    \n",
    "                      type_cost=type_cost,\n",
    "                      weight_fn=weight_fn,\n",
    "                      bag_weight_fn=bag_weight,\n",
    "                      goal_score=goal_score)"
   ]
  },
  {
   "cell_type": "markdown",
   "metadata": {},
   "source": [
    "Define heuristic function :\n"
   ]
  },
  {
   "cell_type": "code",
   "execution_count": 775,
   "metadata": {
    "collapsed": true
   },
   "outputs": [],
   "source": [
    "from math import floor\n",
    "\n",
    "def round_value(x, digits=1):\n",
    "    x = floor(x*10**digits) / 10**digits\n",
    "    return x\n",
    "\n",
    "\n",
    "def h12(state):     \n",
    "#     h1 = 0\n",
    "#     h2 = 0\n",
    "#     for bag in state:\n",
    "#         h1 += bag_weight(bag, 200)\n",
    "#         w = bag_weight(bag, 200)\n",
    "#         h2 += abs(max_weight*alpha - w)\n",
    "#     h1 = abs(goal_score - h1) / n_bags    \n",
    "#     return max(h1, h2) \n",
    "    return round_value((goal_score - score(state))**2/goal_score**2)\n",
    "\n",
    "\n",
    "def h3(state):     \n",
    "    return round_value(alpha*(max_weight*n_bags - score(state))**2/(max_weight*n_bags)**2)\n",
    "\n",
    "\n",
    "def h4(state): \n",
    "    h1 = 0\n",
    "    for bag in state:\n",
    "        h1 += bag_weight(bag, 200)\n",
    "    return abs(goal_score - h1)/goal_score\n",
    "\n",
    "\n",
    "def h5(state):\n",
    "    h = 0\n",
    "    for bag in state:\n",
    "        h += np.count_nonzero(bag) * 1.0 / len(bag)\n",
    "    return h\n",
    "\n",
    "\n",
    "def h6(state):\n",
    "    h = 0.0\n",
    "#     for bag in state:\n",
    "#         h += (len(bag) - np.count_nonzero(bag)) / len(bag)\n",
    "    return h * 1.0  / len(state)\n",
    "                \n",
    "\n",
    "def h7(state):\n",
    "    rejected = 0\n",
    "    count = 100\n",
    "    for c in range(count):\n",
    "        for bag in state:\n",
    "            total_weight_ = bag_weight(bag, n1=1)\n",
    "            if total_weight_ > max_weight:\n",
    "                rejected += 1\n",
    "    return rejected * 1.0 / count\n",
    "        \n",
    "\n",
    "\n",
    "def final_heuristic_fn(state):  \n",
    "    res = np.max(np.array([h12(state), h3(state), h4(state), h5(state), h7(state)]))\n",
    "#     res = (h12(state) + h5(state) + h6(state) + h7(state))/max_weight\n",
    "#     print (\"final_heuristic_fn : \", res, state)\n",
    "    return res\n",
    "#     return np.max(np.array([h12(state),]))\n",
    "#     return np.max(np.array([h12(state), h3(state), h4(state), h5(state)]))"
   ]
  },
  {
   "cell_type": "code",
   "execution_count": 776,
   "metadata": {
    "collapsed": false
   },
   "outputs": [
    {
     "data": {
      "text/plain": [
       "(0.9, 0.6, 0.8888888888888888, 0.97, 1.5656165672183948)"
      ]
     },
     "execution_count": 776,
     "metadata": {},
     "output_type": "execute_result"
    }
   ],
   "source": [
    "initial_state = ((1, 1, 2, 2, 1, 0, 1, 1, 1), )\n",
    "h12(initial_state), h3(initial_state), h5(initial_state), h7(initial_state), final_heuristic_fn(initial_state)"
   ]
  },
  {
   "cell_type": "code",
   "execution_count": 777,
   "metadata": {
    "collapsed": false
   },
   "outputs": [
    {
     "data": {
      "text/plain": [
       "{'ball': 2,\n",
       " 'bike': 0,\n",
       " 'blocks': 0,\n",
       " 'book': 2,\n",
       " 'coal': 166,\n",
       " 'doll': 0,\n",
       " 'gloves': 0,\n",
       " 'horse': 0,\n",
       " 'train': 0}"
      ]
     },
     "execution_count": 777,
     "metadata": {},
     "output_type": "execute_result"
    }
   ],
   "source": [
    "ag2 = available_gifts.copy()\n",
    "# print(update_available_gifts(ag2, result.state))\n",
    "ag2['blocks'] = 0\n",
    "ag2['doll'] = 0\n",
    "ag2['bike'] = 0\n",
    "ag2['horse'] = 0\n",
    "ag2['train'] = 0\n",
    "ag2['ball'] = 2\n",
    "ag2['book'] = 2\n",
    "ag2['gloves'] = 0\n",
    "ag2"
   ]
  },
  {
   "cell_type": "code",
   "execution_count": 778,
   "metadata": {
    "collapsed": true
   },
   "outputs": [],
   "source": [
    "from time import time\n",
    "p.initial = ((0, 0, 0, 0, 1, 0, 0, 0, 0), )# initial_state\n",
    "p.available_gifts = ag2"
   ]
  },
  {
   "cell_type": "code",
   "execution_count": 779,
   "metadata": {
    "collapsed": false
   },
   "outputs": [
    {
     "data": {
      "text/plain": [
       "{'book': 0.75, 'coal': 0.15, 'gloves': 0.75}"
      ]
     },
     "execution_count": 779,
     "metadata": {},
     "output_type": "execute_result"
    }
   ],
   "source": [
    "type_cost = {\n",
    "#     \"horse\": 150,\n",
    "#     \"ball\": 0.1,\n",
    "#     \"bike\": 150,\n",
    "#     \"train\": 150,\n",
    "    \"coal\": 0.150,\n",
    "    \"book\": 0.750,\n",
    "#     \"doll\": 150,\n",
    "#     \"blocks\": 150,\n",
    "    \"gloves\": 0.750    \n",
    "}\n",
    "type_cost"
   ]
  },
  {
   "cell_type": "code",
   "execution_count": 783,
   "metadata": {
    "collapsed": false
   },
   "outputs": [
    {
     "name": "stdout",
     "output_type": "stream",
     "text": [
      "('Frontier : ', [((0, 0, 0, 0, 1, 0, 0, 0, 0),)])\n",
      "('Check node: ', ((0, 0, 0, 0, 1, 0, 0, 0, 0),), ' | ', 0, ', ', 0.33714162627222038)\n",
      "('_gift_type_indices : ', [0, 3, 4])\n",
      "('actions: ', [(0, 0), (0, 3), (0, 4)])\n",
      "('-- result : input state: ', ((0, 0, 0, 0, 1, 0, 0, 0, 0),), 'action: ', (0, 0))\n",
      "('-- result : output state: ', [(1, 0, 0, 0, 1, 0, 0, 0, 0)])\n",
      "('-- result : input state: ', ((0, 0, 0, 0, 1, 0, 0, 0, 0),), 'action: ', (0, 3))\n",
      "('-- result : output state: ', [(0, 0, 0, 1, 1, 0, 0, 0, 0)])\n",
      "('-- result : input state: ', ((0, 0, 0, 0, 1, 0, 0, 0, 0),), 'action: ', (0, 4))\n",
      "('-- result : output state: ', [(0, 0, 0, 0, 2, 0, 0, 0, 0)])\n",
      "('Frontier : ', [((1, 0, 0, 0, 1, 0, 0, 0, 0),), ((0, 0, 0, 1, 1, 0, 0, 0, 0),), ((0, 0, 0, 0, 2, 0, 0, 0, 0),)])\n",
      "('Check node: ', ((0, 0, 0, 0, 2, 0, 0, 0, 0),), ' | ', 0.15, ', ', 0.53000000000000003)\n",
      "('_gift_type_indices : ', [0, 3, 4])\n",
      "('actions: ', [(0, 0), (0, 3)])\n",
      "('-- result : input state: ', ((0, 0, 0, 0, 2, 0, 0, 0, 0),), 'action: ', (0, 0))\n",
      "('-- result : output state: ', [(1, 0, 0, 0, 2, 0, 0, 0, 0)])\n",
      "('-- result : input state: ', ((0, 0, 0, 0, 2, 0, 0, 0, 0),), 'action: ', (0, 3))\n",
      "('-- result : output state: ', [(0, 0, 0, 1, 2, 0, 0, 0, 0)])\n",
      "('Frontier : ', [((1, 0, 0, 0, 1, 0, 0, 0, 0),), ((0, 0, 0, 1, 1, 0, 0, 0, 0),), ((0, 0, 0, 1, 2, 0, 0, 0, 0),), ((1, 0, 0, 0, 2, 0, 0, 0, 0),)])\n",
      "('Check node: ', ((0, 0, 0, 1, 1, 0, 0, 0, 0),), ' | ', 0.75, ', ', 1.0442146742112499)\n",
      "('_gift_type_indices : ', [0, 3, 4])\n",
      "('actions: ', [(0, 0), (0, 3), (0, 4)])\n",
      "('-- result : input state: ', ((0, 0, 0, 1, 1, 0, 0, 0, 0),), 'action: ', (0, 0))\n",
      "('-- result : output state: ', [(1, 0, 0, 1, 1, 0, 0, 0, 0)])\n",
      "('-- result : input state: ', ((0, 0, 0, 1, 1, 0, 0, 0, 0),), 'action: ', (0, 3))\n",
      "('-- result : output state: ', [(0, 0, 0, 2, 1, 0, 0, 0, 0)])\n",
      "('-- result : input state: ', ((0, 0, 0, 1, 1, 0, 0, 0, 0),), 'action: ', (0, 4))\n",
      "('-- result : output state: ', [(0, 0, 0, 1, 2, 0, 0, 0, 0)])\n",
      "('Frontier : ', [((1, 0, 0, 0, 1, 0, 0, 0, 0),), ((1, 0, 0, 1, 1, 0, 0, 0, 0),), ((0, 0, 0, 1, 2, 0, 0, 0, 0),), ((0, 0, 0, 2, 1, 0, 0, 0, 0),), ((1, 0, 0, 0, 2, 0, 0, 0, 0),)])\n",
      "('Check node: ', ((1, 0, 0, 0, 1, 0, 0, 0, 0),), ' | ', 1.0, ', ', 1.2582788232835271)\n",
      "('_gift_type_indices : ', [0, 3, 4])\n",
      "('actions: ', [(0, 0), (0, 3)])\n",
      "('-- result : input state: ', ((1, 0, 0, 0, 1, 0, 0, 0, 0),), 'action: ', (0, 0))\n",
      "('-- result : output state: ', [(2, 0, 0, 0, 1, 0, 0, 0, 0)])\n",
      "('-- result : input state: ', ((1, 0, 0, 0, 1, 0, 0, 0, 0),), 'action: ', (0, 3))\n",
      "('-- result : output state: ', [(1, 0, 0, 1, 1, 0, 0, 0, 0)])\n",
      "('Frontier : ', [((1, 0, 0, 1, 1, 0, 0, 0, 0),), ((0, 0, 0, 2, 1, 0, 0, 0, 0),), ((0, 0, 0, 1, 2, 0, 0, 0, 0),), ((2, 0, 0, 0, 1, 0, 0, 0, 0),), ((1, 0, 0, 0, 2, 0, 0, 0, 0),)])\n",
      "('Check node: ', ((0, 0, 0, 1, 2, 0, 0, 0, 0),), ' | ', 0.9, ', ', 1.3700000000000001)\n",
      "('- Mean score : ', 14.365294220068147, ' / ', 35.0, ((0, 0, 0, 1, 2, 0, 0, 0, 0),))\n",
      "('_gift_type_indices : ', [0, 3, 4])\n",
      "('actions: ', [])\n",
      "('Frontier : ', [((1, 0, 0, 1, 1, 0, 0, 0, 0),), ((0, 0, 0, 2, 1, 0, 0, 0, 0),), ((2, 0, 0, 0, 1, 0, 0, 0, 0),), ((1, 0, 0, 0, 2, 0, 0, 0, 0),)])\n",
      "('Check node: ', ((0, 0, 0, 1, 2, 0, 0, 0, 0),), ' | ', 0.9, ', ', 1.3799999999999999)\n",
      "('- Mean score : ', 17.054775960322228, ' / ', 35.0, ((0, 0, 0, 1, 2, 0, 0, 0, 0),))\n",
      "('_gift_type_indices : ', [0, 3, 4])\n",
      "('actions: ', [(0, 0), (0, 3)])\n",
      "('-- result : input state: ', ((0, 0, 0, 1, 2, 0, 0, 0, 0),), 'action: ', (0, 0))\n",
      "('-- result : output state: ', [(1, 0, 0, 1, 2, 0, 0, 0, 0)])\n",
      "('-- result : input state: ', ((0, 0, 0, 1, 2, 0, 0, 0, 0),), 'action: ', (0, 3))\n",
      "('-- result : output state: ', [(0, 0, 0, 2, 2, 0, 0, 0, 0)])\n",
      "('Frontier : ', [((1, 0, 0, 1, 1, 0, 0, 0, 0),), ((0, 0, 0, 2, 1, 0, 0, 0, 0),), ((0, 0, 0, 2, 2, 0, 0, 0, 0),), ((1, 0, 0, 1, 2, 0, 0, 0, 0),), ((2, 0, 0, 0, 1, 0, 0, 0, 0),), ((1, 0, 0, 0, 2, 0, 0, 0, 0),)])\n",
      "('Check node: ', ((1, 0, 0, 0, 2, 0, 0, 0, 0),), ' | ', 1.15, ', ', 1.6399999999999999)\n",
      "('- Mean score : ', 11.001415804911403, ' / ', 35.0, ((1, 0, 0, 0, 2, 0, 0, 0, 0),))\n",
      "('_gift_type_indices : ', [0, 3, 4])\n",
      "('actions: ', [])\n",
      "('Frontier : ', [((1, 0, 0, 1, 1, 0, 0, 0, 0),), ((0, 0, 0, 2, 1, 0, 0, 0, 0),), ((0, 0, 0, 2, 2, 0, 0, 0, 0),), ((1, 0, 0, 1, 2, 0, 0, 0, 0),), ((2, 0, 0, 0, 1, 0, 0, 0, 0),)])\n",
      "('Check node: ', ((0, 0, 0, 2, 1, 0, 0, 0, 0),), ' | ', 1.5, ', ', 1.7222222222222223)\n",
      "('- Mean score : ', 24.972038002148722, ' / ', 35.0, ((0, 0, 0, 2, 1, 0, 0, 0, 0),))\n",
      "('_gift_type_indices : ', [0, 4])\n",
      "('actions: ', [(0, 0)])\n",
      "('-- result : input state: ', ((0, 0, 0, 2, 1, 0, 0, 0, 0),), 'action: ', (0, 0))\n",
      "('-- result : output state: ', [(1, 0, 0, 2, 1, 0, 0, 0, 0)])\n",
      "('Frontier : ', [((1, 0, 0, 1, 1, 0, 0, 0, 0),), ((0, 0, 0, 2, 2, 0, 0, 0, 0),), ((1, 0, 0, 1, 2, 0, 0, 0, 0),), ((1, 0, 0, 2, 1, 0, 0, 0, 0),), ((2, 0, 0, 0, 1, 0, 0, 0, 0),)])\n",
      "('Check node: ', ((1, 0, 0, 1, 1, 0, 0, 0, 0),), ' | ', 1.75, ', ', 2.0833333333333335)\n",
      "('- Mean score : ', 22.24556154530589, ' / ', 35.0, ((1, 0, 0, 1, 1, 0, 0, 0, 0),))\n",
      "('_gift_type_indices : ', [0, 3, 4])\n",
      "('actions: ', [(0, 0), (0, 3)])\n",
      "('-- result : input state: ', ((1, 0, 0, 1, 1, 0, 0, 0, 0),), 'action: ', (0, 0))\n",
      "('-- result : output state: ', [(2, 0, 0, 1, 1, 0, 0, 0, 0)])\n",
      "('-- result : input state: ', ((1, 0, 0, 1, 1, 0, 0, 0, 0),), 'action: ', (0, 3))\n",
      "('-- result : output state: ', [(1, 0, 0, 2, 1, 0, 0, 0, 0)])\n",
      "('Frontier : ', [((2, 0, 0, 1, 1, 0, 0, 0, 0),), ((0, 0, 0, 2, 2, 0, 0, 0, 0),), ((1, 0, 0, 1, 2, 0, 0, 0, 0),), ((1, 0, 0, 2, 1, 0, 0, 0, 0),), ((2, 0, 0, 0, 1, 0, 0, 0, 0),)])\n",
      "('Check node: ', ((1, 0, 0, 1, 1, 0, 0, 0, 0),), ' | ', 1.75, ', ', 2.0833333333333335)\n",
      "('- Mean score : ', 22.116054423456749, ' / ', 35.0, ((1, 0, 0, 1, 1, 0, 0, 0, 0),))\n",
      "('_gift_type_indices : ', [0, 3, 4])\n",
      "('actions: ', [(0, 0), (0, 3), (0, 4)])\n",
      "('-- result : input state: ', ((1, 0, 0, 1, 1, 0, 0, 0, 0),), 'action: ', (0, 0))\n",
      "('-- result : output state: ', [(2, 0, 0, 1, 1, 0, 0, 0, 0)])\n",
      "('-- result : input state: ', ((1, 0, 0, 1, 1, 0, 0, 0, 0),), 'action: ', (0, 3))\n",
      "('-- result : output state: ', [(1, 0, 0, 2, 1, 0, 0, 0, 0)])\n",
      "('-- result : input state: ', ((1, 0, 0, 1, 1, 0, 0, 0, 0),), 'action: ', (0, 4))\n",
      "('-- result : output state: ', [(1, 0, 0, 1, 2, 0, 0, 0, 0)])\n",
      "('Frontier : ', [((2, 0, 0, 1, 1, 0, 0, 0, 0),), ((0, 0, 0, 2, 2, 0, 0, 0, 0),), ((1, 0, 0, 1, 2, 0, 0, 0, 0),), ((1, 0, 0, 2, 1, 0, 0, 0, 0),), ((2, 0, 0, 0, 1, 0, 0, 0, 0),)])\n",
      "('Check node: ', ((0, 0, 0, 2, 2, 0, 0, 0, 0),), ' | ', 1.65, ', ', 2.23)\n",
      "('- Mean score : ', 12.233001889345537, ' / ', 35.0, ((0, 0, 0, 2, 2, 0, 0, 0, 0),))\n",
      "('_gift_type_indices : ', [0, 4])\n",
      "('actions: ', [])\n",
      "('Frontier : ', [((2, 0, 0, 1, 1, 0, 0, 0, 0),), ((1, 0, 0, 1, 2, 0, 0, 0, 0),), ((1, 0, 0, 2, 1, 0, 0, 0, 0),), ((2, 0, 0, 0, 1, 0, 0, 0, 0),)])\n",
      "('Check node: ', ((2, 0, 0, 0, 1, 0, 0, 0, 0),), ' | ', 2.0, ', ', 2.2222222222222223)\n",
      "('- Mean score : ', 22.63721478047902, ' / ', 35.0, ((2, 0, 0, 0, 1, 0, 0, 0, 0),))\n",
      "('_gift_type_indices : ', [3, 4])\n",
      "('actions: ', [(0, 3)])\n",
      "('-- result : input state: ', ((2, 0, 0, 0, 1, 0, 0, 0, 0),), 'action: ', (0, 3))\n",
      "('-- result : output state: ', [(2, 0, 0, 1, 1, 0, 0, 0, 0)])\n",
      "('Frontier : ', [((2, 0, 0, 1, 1, 0, 0, 0, 0),), ((1, 0, 0, 1, 2, 0, 0, 0, 0),), ((1, 0, 0, 2, 1, 0, 0, 0, 0),)])\n",
      "('Check node: ', ((1, 0, 0, 1, 2, 0, 0, 0, 0),), ' | ', 1.9, ', ', 2.4161912863045805)\n",
      "('- Mean score : ', 13.854852753731679, ' / ', 35.0, ((1, 0, 0, 1, 2, 0, 0, 0, 0),))\n",
      "('_gift_type_indices : ', [0, 3, 4])\n",
      "('actions: ', [])\n",
      "('Frontier : ', [((2, 0, 0, 1, 1, 0, 0, 0, 0),), ((1, 0, 0, 2, 1, 0, 0, 0, 0),)])\n",
      "('Check node: ', ((1, 0, 0, 1, 2, 0, 0, 0, 0),), ' | ', 1.9, ', ', 2.4012626183712031)\n",
      "('- Mean score : ', 13.953320231665421, ' / ', 35.0, ((1, 0, 0, 1, 2, 0, 0, 0, 0),))\n",
      "('_gift_type_indices : ', [0, 3, 4])\n",
      "('actions: ', [])\n",
      "('Frontier : ', [((2, 0, 0, 1, 1, 0, 0, 0, 0),), ((1, 0, 0, 2, 1, 0, 0, 0, 0),)])\n",
      "('Check node: ', ((1, 0, 0, 2, 1, 0, 0, 0, 0),), ' | ', 2.5, ', ', 2.8333333333333335)\n",
      "('- Mean score : ', 22.21738008183948, ' / ', 35.0, ((1, 0, 0, 2, 1, 0, 0, 0, 0),))\n",
      "('_gift_type_indices : ', [0, 4])\n",
      "('actions: ', [(0, 0)])\n",
      "('-- result : input state: ', ((1, 0, 0, 2, 1, 0, 0, 0, 0),), 'action: ', (0, 0))\n",
      "('-- result : output state: ', [(2, 0, 0, 2, 1, 0, 0, 0, 0)])\n",
      "('Frontier : ', [((2, 0, 0, 1, 1, 0, 0, 0, 0),), ((2, 0, 0, 2, 1, 0, 0, 0, 0),)])\n",
      "('Check node: ', ((1, 0, 0, 2, 1, 0, 0, 0, 0),), ' | ', 2.5, ', ', 2.8333333333333335)\n",
      "('- Mean score : ', 22.086673693654429, ' / ', 35.0, ((1, 0, 0, 2, 1, 0, 0, 0, 0),))\n",
      "('_gift_type_indices : ', [0, 4])\n",
      "('actions: ', [(0, 0)])\n",
      "('-- result : input state: ', ((1, 0, 0, 2, 1, 0, 0, 0, 0),), 'action: ', (0, 0))\n",
      "('-- result : output state: ', [(2, 0, 0, 2, 1, 0, 0, 0, 0)])\n",
      "('Frontier : ', [((2, 0, 0, 1, 1, 0, 0, 0, 0),), ((2, 0, 0, 2, 1, 0, 0, 0, 0),)])\n",
      "('Check node: ', ((1, 0, 0, 2, 1, 0, 0, 0, 0),), ' | ', 2.5, ', ', 2.8333333333333335)\n",
      "('- Mean score : ', 17.645952209457484, ' / ', 35.0, ((1, 0, 0, 2, 1, 0, 0, 0, 0),))\n",
      "('_gift_type_indices : ', [0, 4])\n",
      "('actions: ', [(0, 0)])\n",
      "('-- result : input state: ', ((1, 0, 0, 2, 1, 0, 0, 0, 0),), 'action: ', (0, 0))\n",
      "('-- result : output state: ', [(2, 0, 0, 2, 1, 0, 0, 0, 0)])\n",
      "('Frontier : ', [((2, 0, 0, 1, 1, 0, 0, 0, 0),), ((2, 0, 0, 2, 1, 0, 0, 0, 0),)])\n",
      "('Check node: ', ((2, 0, 0, 1, 1, 0, 0, 0, 0),), ' | ', 2.75, ', ', 3.0833333333333335)\n",
      "('- Mean score : ', 22.629725090318292, ' / ', 35.0, ((2, 0, 0, 1, 1, 0, 0, 0, 0),))\n",
      "('_gift_type_indices : ', [3, 4])\n",
      "('actions: ', [(0, 3)])\n",
      "('-- result : input state: ', ((2, 0, 0, 1, 1, 0, 0, 0, 0),), 'action: ', (0, 3))\n",
      "('-- result : output state: ', [(2, 0, 0, 2, 1, 0, 0, 0, 0)])\n",
      "('Frontier : ', [((2, 0, 0, 2, 1, 0, 0, 0, 0),)])\n",
      "('Check node: ', ((2, 0, 0, 1, 1, 0, 0, 0, 0),), ' | ', 2.75, ', ', 3.0833333333333335)\n",
      "('- Mean score : ', 21.433066954965977, ' / ', 35.0, ((2, 0, 0, 1, 1, 0, 0, 0, 0),))\n",
      "('_gift_type_indices : ', [3, 4])\n",
      "('actions: ', [(0, 3)])\n",
      "('-- result : input state: ', ((2, 0, 0, 1, 1, 0, 0, 0, 0),), 'action: ', (0, 3))\n",
      "('-- result : output state: ', [(2, 0, 0, 2, 1, 0, 0, 0, 0)])\n",
      "('Frontier : ', [((2, 0, 0, 2, 1, 0, 0, 0, 0),)])\n",
      "('Check node: ', ((2, 0, 0, 1, 1, 0, 0, 0, 0),), ' | ', 2.75, ', ', 3.0833333333333335)\n",
      "('- Mean score : ', 20.333913505873223, ' / ', 35.0, ((2, 0, 0, 1, 1, 0, 0, 0, 0),))\n",
      "('_gift_type_indices : ', [3, 4])\n",
      "('actions: ', [(0, 3)])\n",
      "('-- result : input state: ', ((2, 0, 0, 1, 1, 0, 0, 0, 0),), 'action: ', (0, 3))\n",
      "('-- result : output state: ', [(2, 0, 0, 2, 1, 0, 0, 0, 0)])\n",
      "('Frontier : ', [((2, 0, 0, 2, 1, 0, 0, 0, 0),)])\n",
      "('Check node: ', ((2, 0, 0, 2, 1, 0, 0, 0, 0),), ' | ', 3.5, ', ', 3.8333333333333335)\n",
      "('- Mean score : ', 19.678085138762263, ' / ', 35.0, ((2, 0, 0, 2, 1, 0, 0, 0, 0),))\n",
      "('_gift_type_indices : ', [4])\n",
      "('actions: ', [])\n",
      "('Frontier : ', [])\n",
      "('Check node: ', ((2, 0, 0, 2, 1, 0, 0, 0, 0),), ' | ', 3.5, ', ', 3.8333333333333335)\n",
      "('- Mean score : ', 19.729032188724567, ' / ', 35.0, ((2, 0, 0, 2, 1, 0, 0, 0, 0),))\n",
      "('_gift_type_indices : ', [4])\n",
      "('actions: ', [])\n",
      "('Frontier : ', [])\n",
      "('Check node: ', ((2, 0, 0, 2, 1, 0, 0, 0, 0),), ' | ', 3.5, ', ', 3.8333333333333335)\n",
      "('- Mean score : ', 20.778439155010801, ' / ', 35.0, ((2, 0, 0, 2, 1, 0, 0, 0, 0),))\n",
      "('_gift_type_indices : ', [4])\n",
      "('actions: ', [])\n",
      "('Frontier : ', [])\n",
      "('Check node: ', ((2, 0, 0, 2, 1, 0, 0, 0, 0),), ' | ', 3.5, ', ', 3.8333333333333335)\n",
      "('- Mean score : ', 19.720114118623872, ' / ', 35.0, ((2, 0, 0, 2, 1, 0, 0, 0, 0),))\n",
      "('_gift_type_indices : ', [4])\n",
      "('actions: ', [])\n",
      "('Frontier : ', [])\n",
      "('Check node: ', ((2, 0, 0, 2, 1, 0, 0, 0, 0),), ' | ', 3.5, ', ', 3.8333333333333335)\n",
      "('- Mean score : ', 18.651112572890408, ' / ', 35.0, ((2, 0, 0, 2, 1, 0, 0, 0, 0),))\n",
      "('_gift_type_indices : ', [4])\n",
      "('actions: ', [])\n",
      "('Frontier : ', [])\n",
      "('Check node: ', ((2, 0, 0, 2, 1, 0, 0, 0, 0),), ' | ', 3.5, ', ', 3.8333333333333335)\n",
      "('- Mean score : ', 20.675583856767929, ' / ', 35.0, ((2, 0, 0, 2, 1, 0, 0, 0, 0),))\n",
      "('_gift_type_indices : ', [4])\n",
      "('actions: ', [])\n",
      "None\n",
      "('Elapsed: ', 0.8621459007263184)\n"
     ]
    }
   ],
   "source": [
    "tic = time()\n",
    "result = astar_search(p, final_heuristic_fn, verbose=True)\n",
    "print(result)\n",
    "print(\"Elapsed: \", time() - tic)"
   ]
  },
  {
   "cell_type": "code",
   "execution_count": 767,
   "metadata": {
    "collapsed": false
   },
   "outputs": [
    {
     "ename": "AttributeError",
     "evalue": "'NoneType' object has no attribute 'state'",
     "output_type": "error",
     "traceback": [
      "\u001b[0;31m\u001b[0m",
      "\u001b[0;31mAttributeError\u001b[0mTraceback (most recent call last)",
      "\u001b[0;32m<ipython-input-767-6c153500bfc0>\u001b[0m in \u001b[0;36m<module>\u001b[0;34m()\u001b[0m\n\u001b[0;32m----> 1\u001b[0;31m \u001b[0mresult\u001b[0m\u001b[0;34m.\u001b[0m\u001b[0mstate\u001b[0m\u001b[0;34m\u001b[0m\u001b[0m\n\u001b[0m",
      "\u001b[0;31mAttributeError\u001b[0m: 'NoneType' object has no attribute 'state'"
     ]
    }
   ],
   "source": [
    "result.state"
   ]
  },
  {
   "cell_type": "code",
   "execution_count": 26,
   "metadata": {
    "collapsed": false
   },
   "outputs": [
    {
     "data": {
      "text/plain": [
       "(3.0714772504384142e-05, 0.051752795317218887, 0.0, 0.05)"
      ]
     },
     "execution_count": 26,
     "metadata": {},
     "output_type": "execute_result"
    }
   ],
   "source": [
    "h12(result.state), h3(result.state), h6(result.state), h7(result.state)"
   ]
  },
  {
   "cell_type": "code",
   "execution_count": 456,
   "metadata": {
    "collapsed": false
   },
   "outputs": [
    {
     "data": {
      "text/plain": [
       "21.887851989590789"
      ]
     },
     "execution_count": 456,
     "metadata": {},
     "output_type": "execute_result"
    }
   ],
   "source": [
    "p._validation(((0, 0, 0, 0, 1, 0, 0, 0, 0),))"
   ]
  },
  {
   "cell_type": "code",
   "execution_count": 457,
   "metadata": {
    "collapsed": true
   },
   "outputs": [],
   "source": [
    "def update_available_gifts(ag, state):\n",
    "    sum_gifts = np.sum(np.array(state), axis=0)\n",
    "    for v, gift_type in zip(sum_gifts, gift_types):\n",
    "        assert ag[gift_type] - v >= 0, \"Found state is not available : {}, {}\".format(state, ag)\n",
    "        ag[gift_type] = ag[gift_type] - v"
   ]
  },
  {
   "cell_type": "code",
   "execution_count": 505,
   "metadata": {
    "collapsed": true
   },
   "outputs": [],
   "source": [
    "type_cost = {\n",
    "#       \"ball\": 0.9,\n",
    "#     \"horse\": 1.2,\n",
    "#     \"bike\": 0.5,\n",
    "#     \"train\": 0.9,\n",
    "#     \"coal\": 0.7,\n",
    "#     \"book\": 1.0,\n",
    "#     \"doll\": 1.0,\n",
    "    \"blocks\": 0.5,\n",
    "#     \"gloves\": 0.3    \n",
    "}"
   ]
  },
  {
   "cell_type": "code",
   "execution_count": 506,
   "metadata": {
    "collapsed": true
   },
   "outputs": [],
   "source": [
    "# type_cost = {\"horse\": 0.9, \"train\": 0.9, \"bike\": 1.9, \"book\": 1.9, \"gloves\": 1.9, \"ball\": 1.9}"
   ]
  },
  {
   "cell_type": "code",
   "execution_count": 507,
   "metadata": {
    "collapsed": true
   },
   "outputs": [],
   "source": [
    "def remove_gifts(state, gifts_to_remove=2):\n",
    "    _gift_removed = 0\n",
    "    new_state = list(state)\n",
    "    for bag_index, bag in enumerate(state):\n",
    "        for i in range(gifts_to_remove):\n",
    "            gift_type_index = np.argmax(bag)\n",
    "            if bag[gift_type_index] > 0:\n",
    "                bag = list(new_state[bag_index])\n",
    "                bag[gift_type_index] -= 1\n",
    "                new_state[bag_index] = tuple(bag)\n",
    "                _gift_removed += 1\n",
    "    if _gift_removed == 0:\n",
    "        state=tuple([tuple([0]*n_types)]*n_bags)\n",
    "    else:\n",
    "        print(\"-- Remove some gift : \", state, tuple(new_state))\n",
    "        state = tuple(new_state)\n",
    "    return state\n",
    "\n",
    "\n",
    "# def remove_gifts2(state, gifts_to_remove=1):\n",
    "#     _gift_removed = 0\n",
    "#     new_state = list(state)\n",
    "#     for bag_index, bag in enumerate(state):\n",
    "#         for i in range(gifts_to_remove):\n",
    "            \n",
    "#             for g in bag:\n",
    "#             gift_type_index = np.argmax(bag)\n",
    "#             weight_fn(index, n1)\n",
    "            \n",
    "#             if bag[gift_type_index] > 0:\n",
    "#                 bag = list(new_state[bag_index])\n",
    "#                 bag[gift_type_index] -= 1\n",
    "#                 new_state[bag_index] = tuple(bag)\n",
    "#                 _gift_removed += 1\n",
    "#     if _gift_removed == 0:\n",
    "#         state=tuple([tuple([0]*n_types)]*n_bags)\n",
    "#     else:\n",
    "#         print(\"-- Remove some gift : \", state, tuple(new_state))\n",
    "#         state = tuple(new_state)\n",
    "#     return state"
   ]
  },
  {
   "cell_type": "code",
   "execution_count": 508,
   "metadata": {
    "collapsed": true
   },
   "outputs": [],
   "source": [
    "from copy import deepcopy"
   ]
  },
  {
   "cell_type": "code",
   "execution_count": 509,
   "metadata": {
    "collapsed": false
   },
   "outputs": [],
   "source": [
    "total_n_bags = 1000\n",
    "n_bags = 1\n",
    "\n",
    "total_state=[]\n",
    "found_goal_states=[]\n",
    "ag=deepcopy(available_gifts)\n",
    "counter = 0"
   ]
  },
  {
   "cell_type": "code",
   "execution_count": 510,
   "metadata": {
    "collapsed": false
   },
   "outputs": [
    {
     "name": "stdout",
     "output_type": "stream",
     "text": [
      "('Goal score: ', 35.0)\n"
     ]
    }
   ],
   "source": [
    "alpha = 0.7\n",
    "goal_score = n_bags*max_weight*alpha\n",
    "print(\"Goal score: \", goal_score)\n"
   ]
  },
  {
   "cell_type": "code",
   "execution_count": null,
   "metadata": {
    "collapsed": true
   },
   "outputs": [],
   "source": []
  },
  {
   "cell_type": "markdown",
   "metadata": {},
   "source": [
    "Each bag is filled using A\\*-search algorithm. However, the initial state is not always the empty bag. \n",
    "\n",
    "When a *goal* state is found, its stored in a list without repeating. Next state is searched from the previous found goal state as initial. If nothing is found a state from stored goal states is used to restart the search. If no stored goal states, remove some gifts and restart the search\n"
   ]
  },
  {
   "cell_type": "code",
   "execution_count": 523,
   "metadata": {
    "collapsed": false,
    "scrolled": true
   },
   "outputs": [
    {
     "name": "stdout",
     "output_type": "stream",
     "text": [
      "('Filled bags : ', 334, '/', 1000)\n",
      "('Check node: ', ((1, 0, 1, 0, 0, 3, 0, 0, 1),), ' | ', 0, ', ', 0.66666666666666663)\n",
      "('Check node: ', ((1, 0, 1, 1, 0, 3, 0, 0, 1),), ' | ', 0.75, ', ', 1.5277777777777777)\n",
      "('Check node: ', ((1, 0, 1, 0, 0, 3, 1, 0, 1),), ' | ', 0.75, ', ', 1.5277777777777777)\n",
      "('Check node: ', ((1, 0, 1, 0, 0, 4, 0, 0, 1),), ' | ', 1.0, ', ', 1.7777777777777777)\n",
      "('Check node: ', ((2, 0, 1, 0, 0, 3, 0, 0, 1),), ' | ', 1.0, ', ', 1.7777777777777777)\n",
      "('Check node: ', ((1, 0, 1, 0, 0, 3, 0, 1, 1),), ' | ', 1.0, ', ', 1.7777777777777777)\n",
      "('Check node: ', ((1, 0, 1, 2, 0, 3, 0, 0, 1),), ' | ', 1.5, ', ', 2.3888888888888888)\n",
      "('Check node: ', ((1, 0, 1, 0, 0, 3, 2, 0, 1),), ' | ', 1.5, ', ', 2.3888888888888888)\n",
      "('Check node: ', ((1, 0, 1, 1, 0, 3, 1, 0, 1),), ' | ', 1.5, ', ', 2.3888888888888888)\n",
      "('Check node: ', ((1, 0, 1, 1, 0, 3, 1, 0, 1),), ' | ', 1.5, ', ', 2.3888888888888888)\n",
      "('Check node: ', ((1, 0, 1, 1, 0, 4, 0, 0, 1),), ' | ', 1.75, ', ', 2.6388888888888888)\n",
      "('Check node: ', ((1, 0, 1, 1, 0, 4, 0, 0, 1),), ' | ', 1.75, ', ', 2.6388888888888888)\n",
      "('Check node: ', ((1, 0, 1, 0, 0, 3, 1, 1, 1),), ' | ', 1.75, ', ', 2.6388888888888888)\n",
      "('Check node: ', ((1, 0, 1, 1, 0, 3, 0, 1, 1),), ' | ', 1.75, ', ', 2.6388888888888888)\n",
      "('Check node: ', ((1, 0, 1, 0, 0, 3, 1, 1, 1),), ' | ', 1.75, ', ', 2.6388888888888888)\n",
      "('Check node: ', ((1, 0, 1, 0, 0, 4, 1, 0, 1),), ' | ', 1.75, ', ', 2.6388888888888888)\n",
      "('Check node: ', ((1, 0, 1, 1, 0, 3, 0, 1, 1),), ' | ', 1.75, ', ', 2.6388888888888888)\n",
      "('Check node: ', ((2, 0, 1, 1, 0, 3, 0, 0, 1),), ' | ', 1.75, ', ', 2.6388888888888888)\n",
      "('Check node: ', ((2, 0, 1, 0, 0, 3, 1, 0, 1),), ' | ', 1.75, ', ', 2.6388888888888888)\n",
      "('Check node: ', ((2, 0, 1, 0, 0, 3, 1, 0, 1),), ' | ', 1.75, ', ', 2.6388888888888888)\n",
      "('Check node: ', ((2, 0, 1, 1, 0, 3, 0, 0, 1),), ' | ', 1.75, ', ', 2.6388888888888888)\n",
      "('Check node: ', ((1, 0, 1, 0, 0, 3, 1, 0, 2),), ' | ', 1.75, ', ', 2.6388888888888888)\n",
      "('Check node: ', ((1, 0, 1, 0, 0, 4, 1, 0, 1),), ' | ', 1.75, ', ', 2.6388888888888888)\n",
      "('Check node: ', ((1, 0, 1, 0, 0, 3, 0, 2, 1),), ' | ', 2.0, ', ', 2.8888888888888888)\n",
      "('Check node: ', ((2, 0, 1, 0, 0, 4, 0, 0, 1),), ' | ', 2.0, ', ', 2.8888888888888888)\n",
      "('Check node: ', ((2, 0, 1, 0, 0, 3, 0, 1, 1),), ' | ', 2.0, ', ', 2.8888888888888888)\n",
      "('Check node: ', ((1, 0, 1, 0, 0, 4, 0, 1, 1),), ' | ', 2.0, ', ', 2.8888888888888888)\n",
      "('Check node: ', ((1, 0, 1, 0, 0, 4, 0, 1, 1),), ' | ', 2.0, ', ', 2.8888888888888888)\n",
      "('Check node: ', ((2, 0, 1, 0, 0, 3, 0, 1, 1),), ' | ', 2.0, ', ', 2.8888888888888888)\n",
      "('Check node: ', ((2, 0, 1, 0, 0, 4, 0, 0, 1),), ' | ', 2.0, ', ', 2.8888888888888888)\n",
      "('Check node: ', ((3, 0, 1, 0, 0, 3, 0, 0, 1),), ' | ', 2.0, ', ', 2.8888888888888888)\n",
      "('Check node: ', ((1, 0, 1, 0, 0, 5, 0, 0, 1),), ' | ', 2.0, ', ', 2.8888888888888888)\n",
      "('Check node: ', ((1, 0, 1, 1, 0, 3, 2, 0, 1),), ' | ', 2.25, ', ', 3.25)\n",
      "('Check node: ', ((1, 0, 1, 2, 0, 3, 1, 0, 1),), ' | ', 2.25, ', ', 3.25)\n",
      "('Check node: ', ((1, 0, 1, 3, 0, 3, 0, 0, 1),), ' | ', 2.25, ', ', 3.25)\n",
      "('Check node: ', ((1, 0, 1, 1, 0, 3, 2, 0, 1),), ' | ', 2.25, ', ', 3.25)\n",
      "('Check node: ', ((1, 0, 1, 2, 0, 3, 1, 0, 1),), ' | ', 2.25, ', ', 3.25)\n",
      "('Check node: ', ((1, 0, 1, 1, 0, 3, 2, 0, 1),), ' | ', 2.25, ', ', 3.25)\n",
      "('Check node: ', ((1, 0, 1, 2, 0, 3, 1, 0, 1),), ' | ', 2.25, ', ', 3.25)\n",
      "('Check node: ', ((1, 0, 1, 0, 0, 3, 3, 0, 1),), ' | ', 2.25, ', ', 3.25)\n",
      "('Check node: ', ((1, 0, 1, 1, 0, 3, 1, 1, 1),), ' | ', 2.5, ', ', 3.5)\n",
      "('Check node: ', ((2, 0, 1, 1, 0, 3, 1, 0, 1),), ' | ', 2.5, ', ', 3.5)\n",
      "('Check node: ', ((2, 0, 1, 1, 0, 3, 1, 0, 1),), ' | ', 2.5, ', ', 3.5)\n",
      "('Check node: ', ((2, 0, 1, 0, 0, 3, 2, 0, 1),), ' | ', 2.5, ', ', 3.5)\n",
      "('Check node: ', ((2, 0, 1, 2, 0, 3, 0, 0, 1),), ' | ', 2.5, ', ', 3.5)\n",
      "('Check node: ', ((1, 0, 1, 2, 0, 3, 0, 1, 1),), ' | ', 2.5, ', ', 3.5)\n",
      "('Check node: ', ((1, 0, 1, 2, 0, 4, 0, 0, 1),), ' | ', 2.5, ', ', 3.5)\n",
      "('Check node: ', ((1, 0, 1, 1, 0, 4, 1, 0, 1),), ' | ', 2.5, ', ', 3.5)\n",
      "('Check node: ', ((1, 0, 1, 1, 0, 4, 1, 0, 1),), ' | ', 2.5, ', ', 3.5)\n",
      "('Check node: ', ((2, 0, 1, 2, 0, 3, 0, 0, 1),), ' | ', 2.5, ', ', 3.5)\n",
      "('Check node: ', ((1, 0, 1, 1, 0, 3, 1, 1, 1),), ' | ', 2.5, ', ', 3.5)\n",
      "('Check node: ', ((1, 0, 1, 1, 0, 3, 1, 1, 1),), ' | ', 2.5, ', ', 3.5)\n",
      "('Check node: ', ((1, 0, 1, 2, 0, 3, 0, 1, 1),), ' | ', 2.5, ', ', 3.5)\n",
      "('Check node: ', ((1, 0, 1, 0, 0, 4, 2, 0, 1),), ' | ', 2.5, ', ', 3.5)\n",
      "('Check node: ', ((1, 0, 1, 1, 0, 4, 1, 0, 1),), ' | ', 2.5, ', ', 3.5)\n",
      "('Check node: ', ((1, 0, 1, 0, 0, 3, 2, 1, 1),), ' | ', 2.5, ', ', 3.5)\n",
      "('Check node: ', ((1, 0, 1, 0, 0, 3, 2, 1, 1),), ' | ', 2.5, ', ', 3.5)\n",
      "('Check node: ', ((1, 0, 1, 1, 0, 3, 1, 1, 1),), ' | ', 2.5, ', ', 3.5)\n",
      "('Check node: ', ((1, 0, 1, 2, 0, 4, 0, 0, 1),), ' | ', 2.5, ', ', 3.5)\n",
      "('Check node: ', ((1, 0, 1, 0, 0, 4, 2, 0, 1),), ' | ', 2.5, ', ', 3.5)\n",
      "('Check node: ', ((1, 0, 1, 2, 0, 4, 0, 0, 1),), ' | ', 2.5, ', ', 3.5)\n",
      "('Check node: ', ((1, 0, 1, 1, 0, 3, 1, 1, 1),), ' | ', 2.5, ', ', 3.5)\n",
      "('Check node: ', ((1, 0, 1, 0, 0, 3, 2, 1, 1),), ' | ', 2.5, ', ', 3.5)\n",
      "('Check node: ', ((1, 0, 1, 1, 0, 4, 1, 0, 1),), ' | ', 2.5, ', ', 3.5)\n",
      "('Check node: ', ((1, 0, 1, 2, 0, 3, 0, 1, 1),), ' | ', 2.5, ', ', 3.5)\n",
      "('Check node: ', ((2, 0, 1, 1, 0, 3, 1, 0, 1),), ' | ', 2.5, ', ', 3.5)\n",
      "('Check node: ', ((1, 0, 1, 1, 0, 3, 1, 1, 1),), ' | ', 2.5, ', ', 3.5)\n",
      "('Check node: ', ((1, 0, 1, 1, 0, 4, 1, 0, 1),), ' | ', 2.5, ', ', 3.5)\n",
      "('Check node: ', ((1, 0, 1, 1, 0, 4, 1, 0, 1),), ' | ', 2.5, ', ', 3.5)\n",
      "('Check node: ', ((2, 0, 1, 2, 0, 3, 0, 0, 1),), ' | ', 2.5, ', ', 3.5)\n",
      "('Check node: ', ((2, 0, 1, 0, 0, 3, 2, 0, 1),), ' | ', 2.5, ', ', 3.5)\n",
      "('Check node: ', ((2, 0, 1, 1, 0, 3, 1, 0, 1),), ' | ', 2.5, ', ', 3.5)\n",
      "('Check node: ', ((2, 0, 1, 1, 0, 3, 1, 0, 1),), ' | ', 2.5, ', ', 3.5)\n",
      "('Check node: ', ((2, 0, 1, 0, 0, 3, 2, 0, 1),), ' | ', 2.5, ', ', 3.5)\n",
      "('Check node: ', ((1, 0, 1, 0, 0, 4, 2, 0, 1),), ' | ', 2.5, ', ', 3.5)\n",
      "('Check node: ', ((2, 0, 1, 1, 0, 3, 1, 0, 1),), ' | ', 2.5, ', ', 3.5)\n",
      "('Check node: ', ((3, 0, 1, 0, 0, 3, 1, 0, 1),), ' | ', 2.75, ', ', 3.75)\n",
      "('Check node: ', ((2, 0, 1, 1, 0, 4, 0, 0, 1),), ' | ', 2.75, ', ', 3.75)\n",
      "('Check node: ', ((3, 0, 1, 1, 0, 3, 0, 0, 1),), ' | ', 2.75, ', ', 3.75)\n",
      "('Check node: ', ((2, 0, 1, 0, 0, 4, 1, 0, 1),), ' | ', 2.75, ', ', 3.75)\n",
      "('Check node: ', ((1, 0, 1, 0, 0, 3, 1, 2, 1),), ' | ', 2.75, ', ', 3.75)\n",
      "('Check node: ', ((2, 0, 1, 1, 0, 3, 0, 1, 1),), ' | ', 2.75, ', ', 3.75)\n",
      "('Check node: ', ((1, 0, 1, 0, 0, 5, 1, 0, 1),), ' | ', 2.75, ', ', 3.75)\n",
      "('Check node: ', ((1, 0, 1, 0, 0, 3, 1, 2, 1),), ' | ', 2.75, ', ', 3.75)\n",
      "('Check node: ', ((3, 0, 1, 0, 0, 3, 1, 0, 1),), ' | ', 2.75, ', ', 3.75)\n",
      "('Check node: ', ((2, 0, 1, 0, 0, 4, 1, 0, 1),), ' | ', 2.75, ', ', 3.75)\n",
      "('Check node: ', ((2, 0, 1, 0, 0, 3, 1, 1, 1),), ' | ', 2.75, ', ', 3.75)\n",
      "('Check node: ', ((2, 0, 1, 1, 0, 3, 0, 1, 1),), ' | ', 2.75, ', ', 3.75)\n",
      "('Check node: ', ((1, 0, 1, 0, 0, 4, 1, 1, 1),), ' | ', 2.75, ', ', 3.75)\n",
      "('Check node: ', ((2, 0, 1, 1, 0, 3, 0, 1, 1),), ' | ', 2.75, ', ', 3.75)\n",
      "('Check node: ', ((2, 0, 1, 0, 0, 4, 1, 0, 1),), ' | ', 2.75, ', ', 3.75)\n",
      "('Check node: ', ((2, 0, 1, 0, 0, 3, 1, 1, 1),), ' | ', 2.75, ', ', 3.75)\n",
      "('Check node: ', ((2, 0, 1, 1, 0, 4, 0, 0, 1),), ' | ', 2.75, ', ', 3.75)\n",
      "('Check node: ', ((2, 0, 1, 1, 0, 3, 0, 1, 1),), ' | ', 2.75, ', ', 3.75)\n",
      "('Check node: ', ((3, 0, 1, 1, 0, 3, 0, 0, 1),), ' | ', 2.75, ', ', 3.75)\n",
      "('Check node: ', ((2, 0, 1, 1, 0, 4, 0, 0, 1),), ' | ', 2.75, ', ', 3.75)\n",
      "('Check node: ', ((2, 0, 1, 1, 0, 4, 0, 0, 1),), ' | ', 2.75, ', ', 3.75)\n",
      "('Check node: ', ((2, 0, 1, 0, 0, 3, 1, 1, 1),), ' | ', 2.75, ', ', 3.75)\n",
      "('Check node: ', ((2, 0, 1, 1, 0, 3, 0, 1, 1),), ' | ', 2.75, ', ', 3.75)\n",
      "('Check node: ', ((1, 0, 1, 1, 0, 4, 0, 1, 1),), ' | ', 2.75, ', ', 3.75)\n",
      "('Check node: ', ((2, 0, 1, 0, 0, 3, 1, 1, 1),), ' | ', 2.75, ', ', 3.75)\n",
      "('Check node: ', ((2, 0, 1, 1, 0, 4, 0, 0, 1),), ' | ', 2.75, ', ', 3.75)\n",
      "('Check node: ', ((2, 0, 1, 0, 0, 3, 1, 1, 1),), ' | ', 2.75, ', ', 3.75)\n",
      "('Check node: ', ((2, 0, 1, 0, 0, 4, 1, 0, 1),), ' | ', 2.75, ', ', 3.75)\n",
      "('Check node: ', ((2, 0, 1, 1, 0, 4, 0, 0, 1),), ' | ', 2.75, ', ', 3.75)\n",
      "('Check node: ', ((3, 0, 1, 1, 0, 3, 0, 0, 1),), ' | ', 2.75, ', ', 3.75)\n",
      "('Check node: ', ((1, 0, 1, 0, 0, 4, 1, 1, 1),), ' | ', 2.75, ', ', 3.75)\n",
      "('Check node: ', ((2, 0, 1, 1, 0, 3, 0, 1, 1),), ' | ', 2.75, ', ', 3.75)\n",
      "('Check node: ', ((2, 0, 1, 0, 0, 4, 1, 0, 1),), ' | ', 2.75, ', ', 3.75)\n",
      "('Check node: ', ((3, 0, 1, 0, 0, 3, 1, 0, 1),), ' | ', 2.75, ', ', 3.75)\n",
      "('Check node: ', ((2, 0, 1, 0, 0, 3, 1, 1, 1),), ' | ', 2.75, ', ', 3.75)\n",
      "('Check node: ', ((2, 0, 1, 0, 0, 4, 1, 0, 1),), ' | ', 2.75, ', ', 3.75)\n",
      "('Check node: ', ((3, 0, 1, 0, 0, 3, 0, 1, 1),), ' | ', 3.0, ', ', 4.0)\n",
      "('Check node: ', ((3, 0, 1, 0, 0, 4, 0, 0, 1),), ' | ', 3.0, ', ', 4.0)\n",
      "('Check node: ', ((4, 0, 1, 0, 0, 3, 0, 0, 1),), ' | ', 3.0, ', ', 4.0)\n",
      "('Check node: ', ((3, 0, 1, 0, 0, 4, 0, 0, 1),), ' | ', 3.0, ', ', 4.0)\n",
      "('Check node: ', ((3, 0, 1, 0, 0, 3, 0, 1, 1),), ' | ', 3.0, ', ', 4.0)\n",
      "('Check node: ', ((2, 0, 1, 0, 0, 4, 0, 1, 1),), ' | ', 3.0, ', ', 4.0)\n",
      "('Check node: ', ((3, 0, 1, 0, 0, 3, 0, 1, 1),), ' | ', 3.0, ', ', 4.0)\n",
      "('Check node: ', ((3, 0, 1, 0, 0, 4, 0, 0, 1),), ' | ', 3.0, ', ', 4.0)\n",
      "('Check node: ', ((1, 0, 1, 0, 0, 3, 4, 0, 1),), ' | ', 3.0, ', ', 4.1111111111111107)\n",
      "('Check node: ', ((1, 0, 1, 1, 0, 3, 3, 0, 1),), ' | ', 3.0, ', ', 4.1111111111111107)\n",
      "('Check node: ', ((1, 0, 1, 2, 0, 3, 2, 0, 1),), ' | ', 3.0, ', ', 4.1111111111111107)\n",
      "('Check node: ', ((1, 0, 1, 3, 0, 3, 1, 0, 1),), ' | ', 3.0, ', ', 4.1111111111111107)\n",
      "('Check node: ', ((1, 0, 1, 1, 0, 3, 3, 0, 1),), ' | ', 3.0, ', ', 4.1111111111111107)\n",
      "('Check node: ', ((1, 0, 1, 2, 0, 3, 2, 0, 1),), ' | ', 3.0, ', ', 4.1111111111111107)\n",
      "('Check node: ', ((1, 0, 1, 2, 0, 3, 2, 0, 1),), ' | ', 3.0, ', ', 4.1111111111111107)\n",
      "('Check node: ', ((1, 0, 1, 3, 0, 3, 1, 0, 1),), ' | ', 3.0, ', ', 4.1111111111111107)\n",
      "('Check node: ', ((1, 0, 1, 1, 0, 3, 3, 0, 1),), ' | ', 3.0, ', ', 4.1111111111111107)\n",
      "('Check node: ', ((1, 0, 1, 2, 0, 3, 2, 0, 1),), ' | ', 3.0, ', ', 4.1111111111111107)\n",
      "('Check node: ', ((1, 0, 1, 4, 0, 3, 0, 0, 1),), ' | ', 3.0, ', ', 4.1111111111111107)\n",
      "('Check node: ', ((1, 0, 1, 2, 0, 3, 2, 0, 1),), ' | ', 3.0, ', ', 4.1111111111111107)\n",
      "('Check node: ', ((1, 0, 1, 3, 0, 3, 1, 0, 1),), ' | ', 3.0, ', ', 4.1111111111111107)\n",
      "('Check node: ', ((1, 0, 1, 1, 0, 3, 3, 0, 1),), ' | ', 3.0, ', ', 4.1111111111111107)\n",
      "('Check node: ', ((1, 0, 1, 2, 0, 3, 2, 0, 1),), ' | ', 3.0, ', ', 4.1111111111111107)\n",
      "('Check node: ', ((1, 0, 1, 3, 0, 3, 1, 0, 1),), ' | ', 3.0, ', ', 4.1111111111111107)\n",
      "('Check node: ', ((1, 0, 1, 1, 0, 3, 2, 1, 1),), ' | ', 3.25, ', ', 4.3611111111111107)\n",
      "('Check node: ', ((2, 0, 1, 1, 0, 3, 2, 0, 1),), ' | ', 3.25, ', ', 4.3611111111111107)\n",
      "('Check node: ', ((1, 0, 1, 0, 0, 4, 3, 0, 1),), ' | ', 3.25, ', ', 4.3611111111111107)\n",
      "('Check node: ', ((1, 0, 1, 1, 0, 3, 2, 1, 1),), ' | ', 3.25, ', ', 4.3611111111111107)\n",
      "('Check node: ', ((2, 0, 1, 2, 0, 3, 1, 0, 1),), ' | ', 3.25, ', ', 4.3611111111111107)\n",
      "('Check node: ', ((1, 0, 1, 0, 0, 3, 3, 1, 1),), ' | ', 3.25, ', ', 4.3611111111111107)\n",
      "('Check node: ', ((2, 0, 1, 1, 0, 3, 2, 0, 1),), ' | ', 3.25, ', ', 4.3611111111111107)\n",
      "('Check node: ', ((1, 0, 1, 2, 0, 3, 1, 1, 1),), ' | ', 3.25, ', ', 4.3611111111111107)\n",
      "('Check node: ', ((2, 0, 1, 2, 0, 3, 1, 0, 1),), ' | ', 3.25, ', ', 4.3611111111111107)\n",
      "('Check node: ', ((1, 0, 1, 2, 0, 3, 1, 1, 1),), ' | ', 3.25, ', ', 4.3611111111111107)\n",
      "('Check node: ', ((1, 0, 1, 0, 0, 4, 3, 0, 1),), ' | ', 3.25, ', ', 4.3611111111111107)\n",
      "('Check node: ', ((1, 0, 1, 0, 0, 4, 3, 0, 1),), ' | ', 3.25, ', ', 4.3611111111111107)\n",
      "('Check node: ', ((2, 0, 1, 0, 0, 3, 3, 0, 1),), ' | ', 3.25, ', ', 4.3611111111111107)\n",
      "('Check node: ', ((1, 0, 1, 2, 0, 4, 1, 0, 1),), ' | ', 3.25, ', ', 4.3611111111111107)\n",
      "('Check node: ', ((2, 0, 1, 2, 0, 3, 1, 0, 1),), ' | ', 3.25, ', ', 4.3611111111111107)\n",
      "('Check node: ', ((1, 0, 1, 2, 0, 4, 1, 0, 1),), ' | ', 3.25, ', ', 4.3611111111111107)\n",
      "('Check node: ', ((1, 0, 1, 1, 0, 4, 2, 0, 1),), ' | ', 3.25, ', ', 4.3611111111111107)\n",
      "('Check node: ', ((1, 0, 1, 2, 0, 3, 1, 1, 1),), ' | ', 3.25, ', ', 4.3611111111111107)\n",
      "('Check node: ', ((2, 0, 1, 1, 0, 3, 2, 0, 1),), ' | ', 3.25, ', ', 4.3611111111111107)\n",
      "('Check node: ', ((1, 0, 1, 2, 0, 4, 1, 0, 1),), ' | ', 3.25, ', ', 4.3611111111111107)\n",
      "('Check node: ', ((2, 0, 1, 1, 0, 3, 2, 0, 1),), ' | ', 3.25, ', ', 4.3611111111111107)\n",
      "('Check node: ', ((1, 0, 1, 2, 0, 3, 1, 1, 1),), ' | ', 3.25, ', ', 4.3611111111111107)\n",
      "('Check node: ', ((2, 0, 1, 2, 0, 3, 1, 0, 1),), ' | ', 3.25, ', ', 4.3611111111111107)\n",
      "('Check node: ', ((2, 0, 1, 2, 0, 3, 1, 0, 1),), ' | ', 3.25, ', ', 4.3611111111111107)\n",
      "('Check node: ', ((1, 0, 1, 1, 0, 3, 2, 1, 1),), ' | ', 3.25, ', ', 4.3611111111111107)\n",
      "('Check node: ', ((1, 0, 1, 1, 0, 4, 2, 0, 1),), ' | ', 3.25, ', ', 4.3611111111111107)\n",
      "('Check node: ', ((1, 0, 1, 1, 0, 4, 2, 0, 1),), ' | ', 3.25, ', ', 4.3611111111111107)\n",
      "('Check node: ', ((2, 0, 1, 0, 0, 3, 3, 0, 1),), ' | ', 3.25, ', ', 4.3611111111111107)\n",
      "('Check node: ', ((1, 0, 1, 1, 0, 4, 2, 0, 1),), ' | ', 3.25, ', ', 4.3611111111111107)\n",
      "('Check node: ', ((2, 0, 1, 1, 0, 3, 2, 0, 1),), ' | ', 3.25, ', ', 4.3611111111111107)\n",
      "('Check node: ', ((1, 0, 1, 1, 0, 4, 2, 0, 1),), ' | ', 3.25, ', ', 4.3611111111111107)\n",
      "('Check node: ', ((2, 0, 1, 1, 0, 3, 2, 0, 1),), ' | ', 3.25, ', ', 4.3611111111111107)\n",
      "('Check node: ', ((2, 0, 1, 1, 0, 3, 2, 0, 1),), ' | ', 3.25, ', ', 4.3611111111111107)\n",
      "('Check node: ', ((2, 0, 1, 2, 0, 3, 1, 0, 1),), ' | ', 3.25, ', ', 4.3611111111111107)\n",
      "('Check node: ', ((2, 0, 1, 2, 0, 3, 1, 0, 1),), ' | ', 3.25, ', ', 4.3611111111111107)\n",
      "('Check node: ', ((1, 0, 1, 3, 0, 4, 0, 0, 1),), ' | ', 3.25, ', ', 4.3611111111111107)\n",
      "('Check node: ', ((2, 0, 1, 1, 0, 3, 2, 0, 1),), ' | ', 3.25, ', ', 4.3611111111111107)\n",
      "('Check node: ', ((1, 0, 1, 1, 0, 3, 2, 1, 1),), ' | ', 3.25, ', ', 4.3611111111111107)\n",
      "('Check node: ', ((2, 0, 1, 2, 0, 3, 1, 0, 1),), ' | ', 3.25, ', ', 4.3611111111111107)\n",
      "('Check node: ', ((2, 0, 1, 3, 0, 3, 0, 0, 1),), ' | ', 3.25, ', ', 4.3611111111111107)\n",
      "('Check node: ', ((2, 0, 1, 0, 0, 3, 3, 0, 1),), ' | ', 3.25, ', ', 4.3611111111111107)\n",
      "('Check node: ', ((1, 0, 1, 0, 0, 3, 3, 1, 1),), ' | ', 3.25, ', ', 4.3611111111111107)\n",
      "('Check node: ', ((2, 0, 1, 1, 0, 3, 2, 0, 1),), ' | ', 3.25, ', ', 4.3611111111111107)\n",
      "('Check node: ', ((1, 0, 1, 2, 0, 4, 1, 0, 1),), ' | ', 3.25, ', ', 4.3611111111111107)\n",
      "('Check node: ', ((2, 0, 1, 2, 0, 3, 1, 0, 1),), ' | ', 3.25, ', ', 4.3611111111111107)\n",
      "('Check node: ', ((1, 0, 1, 2, 0, 4, 1, 0, 1),), ' | ', 3.25, ', ', 4.3611111111111107)\n",
      "('Check node: ', ((2, 0, 1, 3, 0, 3, 0, 0, 1),), ' | ', 3.25, ', ', 4.3611111111111107)\n",
      "('Check node: ', ((2, 0, 1, 2, 0, 3, 1, 0, 1),), ' | ', 3.25, ', ', 4.3611111111111107)\n",
      "('Check node: ', ((1, 0, 1, 2, 0, 4, 1, 0, 1),), ' | ', 3.25, ', ', 4.3611111111111107)\n",
      "('Check node: ', ((1, 0, 1, 1, 0, 3, 2, 1, 1),), ' | ', 3.25, ', ', 4.3611111111111107)\n",
      "('Check node: ', ((1, 0, 1, 2, 0, 4, 1, 0, 1),), ' | ', 3.25, ', ', 4.3611111111111107)\n",
      "('Check node: ', ((1, 0, 1, 1, 0, 4, 2, 0, 1),), ' | ', 3.25, ', ', 4.3611111111111107)\n",
      "('Check node: ', ((1, 0, 1, 2, 0, 3, 1, 1, 1),), ' | ', 3.25, ', ', 4.3611111111111107)\n",
      "('Check node: ', ((1, 0, 1, 1, 0, 4, 2, 0, 1),), ' | ', 3.25, ', ', 4.3611111111111107)\n",
      "('Check node: ', ((2, 0, 1, 1, 0, 3, 2, 0, 1),), ' | ', 3.25, ', ', 4.3611111111111107)\n",
      "('Check node: ', ((2, 0, 1, 1, 0, 3, 2, 0, 1),), ' | ', 3.25, ', ', 4.3611111111111107)\n",
      "('Check node: ', ((2, 0, 1, 2, 0, 3, 1, 0, 1),), ' | ', 3.25, ', ', 4.3611111111111107)\n",
      "('Check node: ', ((1, 0, 1, 0, 0, 4, 3, 0, 1),), ' | ', 3.25, ', ', 4.3611111111111107)\n",
      "('Check node: ', ((1, 0, 1, 0, 0, 3, 3, 1, 1),), ' | ', 3.25, ', ', 4.3611111111111107)\n",
      "('Check node: ', ((1, 0, 1, 2, 0, 4, 1, 0, 1),), ' | ', 3.25, ', ', 4.3611111111111107)\n",
      "('Check node: ', ((1, 0, 1, 1, 0, 3, 2, 1, 1),), ' | ', 3.25, ', ', 4.3611111111111107)\n",
      "('Check node: ', ((1, 0, 1, 2, 0, 3, 1, 1, 1),), ' | ', 3.25, ', ', 4.3611111111111107)\n",
      "('Check node: ', ((1, 0, 1, 3, 0, 4, 0, 0, 1),), ' | ', 3.25, ', ', 4.3611111111111107)\n",
      "('Check node: ', ((1, 0, 1, 2, 0, 4, 1, 0, 1),), ' | ', 3.25, ', ', 4.3611111111111107)\n",
      "('Check node: ', ((1, 0, 1, 1, 0, 4, 2, 0, 1),), ' | ', 3.25, ', ', 4.3611111111111107)\n",
      "('Check node: ', ((1, 0, 1, 3, 0, 4, 0, 0, 1),), ' | ', 3.25, ', ', 4.3611111111111107)\n",
      "('Check node: ', ((1, 0, 1, 2, 0, 3, 1, 1, 1),), ' | ', 3.25, ', ', 4.3611111111111107)\n",
      "('Check node: ', ((1, 0, 1, 1, 0, 3, 2, 1, 1),), ' | ', 3.25, ', ', 4.3611111111111107)\n",
      "('Check node: ', ((1, 0, 1, 2, 0, 3, 1, 1, 1),), ' | ', 3.25, ', ', 4.3611111111111107)\n",
      "('Check node: ', ((1, 0, 1, 1, 0, 3, 2, 1, 1),), ' | ', 3.25, ', ', 4.3611111111111107)\n",
      "('Check node: ', ((1, 0, 1, 1, 0, 3, 2, 1, 1),), ' | ', 3.25, ', ', 4.3611111111111107)\n",
      "('Check node: ', ((1, 0, 1, 2, 0, 3, 1, 1, 1),), ' | ', 3.25, ', ', 4.3611111111111107)\n",
      "('Check node: ', ((1, 0, 1, 2, 0, 4, 1, 0, 1),), ' | ', 3.25, ', ', 4.3611111111111107)\n",
      "('Check node: ', ((1, 0, 1, 1, 0, 4, 2, 0, 1),), ' | ', 3.25, ', ', 4.3611111111111107)\n",
      "('Check node: ', ((1, 0, 1, 3, 0, 3, 0, 1, 1),), ' | ', 3.25, ', ', 4.3611111111111107)\n",
      "('Check node: ', ((1, 0, 1, 1, 0, 3, 2, 1, 1),), ' | ', 3.25, ', ', 4.3611111111111107)\n",
      "('Check node: ', ((1, 0, 1, 2, 0, 3, 1, 1, 1),), ' | ', 3.25, ', ', 4.3611111111111107)\n",
      "('Check node: ', ((1, 0, 1, 2, 0, 3, 1, 1, 1),), ' | ', 3.25, ', ', 4.3611111111111107)\n",
      "('Check node: ', ((1, 0, 1, 2, 0, 3, 1, 1, 1),), ' | ', 3.25, ', ', 4.3611111111111107)\n",
      "('Check node: ', ((1, 0, 1, 1, 0, 4, 2, 0, 1),), ' | ', 3.25, ', ', 4.3611111111111107)\n",
      "('Check node: ', ((2, 0, 1, 3, 0, 3, 0, 0, 1),), ' | ', 3.25, ', ', 4.3611111111111107)\n",
      "('Check node: ', ((1, 0, 1, 0, 0, 3, 3, 1, 1),), ' | ', 3.25, ', ', 4.3611111111111107)\n",
      "('Check node: ', ((1, 0, 1, 2, 0, 4, 1, 0, 1),), ' | ', 3.25, ', ', 4.3611111111111107)\n",
      "('Check node: ', ((1, 0, 1, 1, 0, 4, 2, 0, 1),), ' | ', 3.25, ', ', 4.3611111111111107)\n",
      "('Check node: ', ((1, 0, 1, 2, 0, 4, 1, 0, 1),), ' | ', 3.25, ', ', 4.3611111111111107)\n",
      "('Check node: ', ((1, 0, 1, 3, 0, 4, 0, 0, 1),), ' | ', 3.25, ', ', 4.3611111111111107)\n",
      "('Check node: ', ((1, 0, 1, 1, 0, 3, 2, 1, 1),), ' | ', 3.25, ', ', 4.3611111111111107)\n",
      "('Check node: ', ((1, 0, 1, 1, 0, 3, 2, 1, 1),), ' | ', 3.25, ', ', 4.3611111111111107)\n",
      "('Check node: ', ((1, 0, 1, 3, 0, 3, 0, 1, 1),), ' | ', 3.25, ', ', 4.3611111111111107)\n",
      "('Check node: ', ((2, 0, 1, 2, 0, 3, 1, 0, 1),), ' | ', 3.25, ', ', 4.3611111111111107)\n",
      "('Check node: ', ((2, 0, 1, 3, 0, 3, 0, 0, 1),), ' | ', 3.25, ', ', 4.3611111111111107)\n",
      "('Check node: ', ((2, 0, 1, 0, 0, 3, 3, 0, 1),), ' | ', 3.25, ', ', 4.3611111111111107)\n",
      "('Check node: ', ((2, 0, 1, 1, 0, 3, 2, 0, 1),), ' | ', 3.25, ', ', 4.3611111111111107)\n",
      "('Check node: ', ((1, 0, 1, 1, 0, 4, 2, 0, 1),), ' | ', 3.25, ', ', 4.3611111111111107)\n",
      "('Check node: ', ((2, 0, 1, 0, 0, 4, 2, 0, 1),), ' | ', 3.5, ', ', 4.6111111111111107)\n",
      "('Check node: ', ((2, 0, 1, 1, 0, 4, 1, 0, 1),), ' | ', 3.5, ', ', 4.6111111111111107)\n",
      "('Check node: ', ((2, 0, 1, 2, 0, 4, 0, 0, 1),), ' | ', 3.5, ', ', 4.6111111111111107)\n",
      "('Check node: ', ((2, 0, 1, 1, 0, 4, 1, 0, 1),), ' | ', 3.5, ', ', 4.6111111111111107)\n",
      "('Check node: ', ((3, 0, 1, 1, 0, 3, 1, 0, 1),), ' | ', 3.5, ', ', 4.6111111111111107)\n",
      "('Check node: ', ((2, 0, 1, 1, 0, 3, 1, 1, 1),), ' | ', 3.5, ', ', 4.6111111111111107)\n",
      "('Check node: ', ((2, 0, 1, 0, 0, 3, 2, 1, 1),), ' | ', 3.5, ', ', 4.6111111111111107)\n",
      "('Check node: ', ((2, 0, 1, 2, 0, 4, 0, 0, 1),), ' | ', 3.5, ', ', 4.6111111111111107)\n",
      "('Check node: ', ((2, 0, 1, 1, 0, 4, 1, 0, 1),), ' | ', 3.5, ', ', 4.6111111111111107)\n",
      "('Check node: ', ((2, 0, 1, 1, 0, 3, 1, 1, 1),), ' | ', 3.5, ', ', 4.6111111111111107)\n",
      "('Check node: ', ((2, 0, 1, 1, 0, 3, 1, 1, 1),), ' | ', 3.5, ', ', 4.6111111111111107)\n",
      "('Check node: ', ((3, 0, 1, 1, 0, 3, 1, 0, 1),), ' | ', 3.5, ', ', 4.6111111111111107)\n",
      "('Check node: ', ((2, 0, 1, 2, 0, 4, 0, 0, 1),), ' | ', 3.5, ', ', 4.6111111111111107)\n",
      "('Check node: ', ((2, 0, 1, 1, 0, 3, 1, 1, 1),), ' | ', 3.5, ', ', 4.6111111111111107)\n",
      "('Check node: ', ((2, 0, 1, 0, 0, 3, 2, 1, 1),), ' | ', 3.5, ', ', 4.6111111111111107)\n",
      "('Check node: ', ((3, 0, 1, 2, 0, 3, 0, 0, 1),), ' | ', 3.5, ', ', 4.6111111111111107)\n",
      "('Check node: ', ((2, 0, 1, 1, 0, 3, 1, 1, 1),), ' | ', 3.5, ', ', 4.6111111111111107)\n",
      "('Check node: ', ((2, 0, 1, 2, 0, 4, 0, 0, 1),), ' | ', 3.5, ', ', 4.6111111111111107)\n",
      "('Check node: ', ((2, 0, 1, 1, 0, 3, 1, 1, 1),), ' | ', 3.5, ', ', 4.6111111111111107)\n",
      "('Check node: ', ((2, 0, 1, 1, 0, 4, 1, 0, 1),), ' | ', 3.5, ', ', 4.6111111111111107)\n",
      "('Check node: ', ((2, 0, 1, 1, 0, 4, 1, 0, 1),), ' | ', 3.5, ', ', 4.6111111111111107)\n",
      "('Check node: ', ((2, 0, 1, 2, 0, 3, 0, 1, 1),), ' | ', 3.5, ', ', 4.6111111111111107)\n",
      "('Check node: ', ((2, 0, 1, 1, 0, 3, 1, 1, 1),), ' | ', 3.5, ', ', 4.6111111111111107)\n",
      "('Check node: ', ((2, 0, 1, 1, 0, 3, 1, 1, 1),), ' | ', 3.5, ', ', 4.6111111111111107)\n",
      "('Check node: ', ((2, 0, 1, 1, 0, 4, 1, 0, 1),), ' | ', 3.5, ', ', 4.6111111111111107)\n",
      "('Check node: ', ((2, 0, 1, 0, 0, 3, 2, 1, 1),), ' | ', 3.5, ', ', 4.6111111111111107)\n",
      "('Check node: ', ((2, 0, 1, 1, 0, 3, 1, 1, 1),), ' | ', 3.5, ', ', 4.6111111111111107)\n",
      "('Check node: ', ((2, 0, 1, 1, 0, 4, 1, 0, 1),), ' | ', 3.5, ', ', 4.6111111111111107)\n",
      "('Check node: ', ((3, 0, 1, 1, 0, 3, 1, 0, 1),), ' | ', 3.5, ', ', 4.6111111111111107)\n",
      "('Check node: ', ((3, 0, 1, 1, 0, 3, 1, 0, 1),), ' | ', 3.5, ', ', 4.6111111111111107)\n",
      "('Check node: ', ((2, 0, 1, 0, 0, 4, 2, 0, 1),), ' | ', 3.5, ', ', 4.6111111111111107)\n",
      "('Check node: ', ((3, 0, 1, 2, 0, 3, 0, 0, 1),), ' | ', 3.5, ', ', 4.6111111111111107)\n",
      "('Check node: ', ((2, 0, 1, 2, 0, 3, 0, 1, 1),), ' | ', 3.5, ', ', 4.6111111111111107)\n",
      "('Check node: ', ((2, 0, 1, 2, 0, 4, 0, 0, 1),), ' | ', 3.5, ', ', 4.6111111111111107)\n",
      "('Check node: ', ((3, 0, 1, 0, 0, 3, 2, 0, 1),), ' | ', 3.5, ', ', 4.6111111111111107)\n",
      "('Check node: ', ((2, 0, 1, 2, 0, 3, 0, 1, 1),), ' | ', 3.5, ', ', 4.6111111111111107)\n",
      "('Check node: ', ((3, 0, 1, 1, 0, 3, 1, 0, 1),), ' | ', 3.5, ', ', 4.6111111111111107)\n",
      "('Check node: ', ((2, 0, 1, 1, 0, 4, 1, 0, 1),), ' | ', 3.5, ', ', 4.6111111111111107)\n",
      "('Check node: ', ((3, 0, 1, 1, 0, 3, 1, 0, 1),), ' | ', 3.5, ', ', 4.6111111111111107)\n",
      "('Check node: ', ((2, 0, 1, 0, 0, 4, 2, 0, 1),), ' | ', 3.5, ', ', 4.6111111111111107)\n",
      "('Check node: ', ((2, 0, 1, 0, 0, 4, 2, 0, 1),), ' | ', 3.5, ', ', 4.6111111111111107)\n",
      "('Check node: ', ((3, 0, 1, 0, 0, 3, 2, 0, 1),), ' | ', 3.5, ', ', 4.6111111111111107)\n",
      "('Check node: ', ((3, 0, 1, 0, 0, 3, 2, 0, 1),), ' | ', 3.5, ', ', 4.6111111111111107)\n",
      "('Check node: ', ((2, 0, 1, 1, 0, 4, 1, 0, 1),), ' | ', 3.5, ', ', 4.6111111111111107)\n",
      "('Check node: ', ((3, 0, 1, 1, 0, 3, 1, 0, 1),), ' | ', 3.5, ', ', 4.6111111111111107)\n",
      "('Check node: ', ((2, 0, 1, 1, 0, 4, 1, 0, 1),), ' | ', 3.5, ', ', 4.6111111111111107)\n",
      "('Check node: ', ((3, 0, 1, 1, 0, 3, 1, 0, 1),), ' | ', 3.5, ', ', 4.6111111111111107)\n",
      "('Check node: ', ((2, 0, 1, 0, 0, 4, 2, 0, 1),), ' | ', 3.5, ', ', 4.6111111111111107)\n",
      "('Check node: ', ((2, 0, 1, 0, 0, 3, 2, 1, 1),), ' | ', 3.5, ', ', 4.6111111111111107)\n",
      "('Check node: ', ((3, 0, 1, 0, 0, 3, 2, 0, 1),), ' | ', 3.5, ', ', 4.6111111111111107)\n",
      "('Check node: ', ((2, 0, 1, 2, 0, 4, 0, 0, 1),), ' | ', 3.5, ', ', 4.6111111111111107)\n",
      "('Check node: ', ((3, 0, 1, 2, 0, 3, 0, 0, 1),), ' | ', 3.5, ', ', 4.6111111111111107)\n",
      "('Check node: ', ((2, 0, 1, 1, 0, 4, 1, 0, 1),), ' | ', 3.5, ', ', 4.6111111111111107)\n",
      "('Check node: ', ((2, 0, 1, 1, 0, 3, 1, 1, 1),), ' | ', 3.5, ', ', 4.6111111111111107)\n",
      "('Check node: ', ((2, 0, 1, 1, 0, 4, 1, 0, 1),), ' | ', 3.5, ', ', 4.6111111111111107)\n",
      "('Check node: ', ((2, 0, 1, 1, 0, 3, 1, 1, 1),), ' | ', 3.5, ', ', 4.6111111111111107)\n",
      "('Check node: ', ((2, 0, 1, 1, 0, 4, 1, 0, 1),), ' | ', 3.5, ', ', 4.6111111111111107)\n",
      "('Check node: ', ((3, 0, 1, 1, 0, 3, 1, 0, 1),), ' | ', 3.5, ', ', 4.6111111111111107)\n",
      "('Check node: ', ((2, 0, 1, 0, 0, 3, 2, 1, 1),), ' | ', 3.5, ', ', 4.6111111111111107)\n",
      "('Check node: ', ((2, 0, 1, 2, 0, 3, 0, 1, 1),), ' | ', 3.5, ', ', 4.6111111111111107)\n",
      "('Check node: ', ((2, 0, 1, 1, 0, 4, 1, 0, 1),), ' | ', 3.5, ', ', 4.6111111111111107)\n",
      "('Check node: ', ((2, 0, 1, 1, 0, 4, 1, 0, 1),), ' | ', 3.5, ', ', 4.6111111111111107)\n",
      "('Check node: ', ((2, 0, 1, 0, 0, 4, 2, 0, 1),), ' | ', 3.5, ', ', 4.6111111111111107)\n",
      "('Check node: ', ((2, 0, 1, 1, 0, 4, 1, 0, 1),), ' | ', 3.5, ', ', 4.6111111111111107)\n",
      "('Check node: ', ((2, 0, 1, 0, 0, 3, 2, 1, 1),), ' | ', 3.5, ', ', 4.6111111111111107)\n",
      "('Check node: ', ((2, 0, 1, 1, 0, 3, 1, 1, 1),), ' | ', 3.5, ', ', 4.6111111111111107)\n",
      "('Check node: ', ((2, 0, 1, 1, 0, 3, 1, 1, 1),), ' | ', 3.5, ', ', 4.6111111111111107)\n",
      "('Check node: ', ((2, 0, 1, 1, 0, 4, 1, 0, 1),), ' | ', 3.5, ', ', 4.6111111111111107)\n",
      "('Check node: ', ((3, 0, 1, 1, 0, 3, 1, 0, 1),), ' | ', 3.5, ', ', 4.6111111111111107)\n",
      "('Check node: ', ((2, 0, 1, 2, 0, 4, 0, 0, 1),), ' | ', 3.5, ', ', 4.6111111111111107)\n",
      "('Check node: ', ((2, 0, 1, 0, 0, 4, 2, 0, 1),), ' | ', 3.5, ', ', 4.6111111111111107)\n",
      "('Check node: ', ((2, 0, 1, 0, 0, 4, 2, 0, 1),), ' | ', 3.5, ', ', 4.6111111111111107)\n",
      "('Check node: ', ((2, 0, 1, 1, 0, 3, 1, 1, 1),), ' | ', 3.5, ', ', 4.6111111111111107)\n",
      "('Check node: ', ((2, 0, 1, 2, 0, 4, 0, 0, 1),), ' | ', 3.5, ', ', 4.6111111111111107)\n",
      "('Check node: ', ((2, 0, 1, 1, 0, 3, 1, 1, 1),), ' | ', 3.5, ', ', 4.6111111111111107)\n",
      "('Check node: ', ((2, 0, 1, 0, 0, 3, 2, 1, 1),), ' | ', 3.5, ', ', 4.6111111111111107)\n",
      "('Check node: ', ((2, 0, 1, 0, 0, 3, 2, 1, 1),), ' | ', 3.5, ', ', 4.6111111111111107)\n",
      "('Check node: ', ((2, 0, 1, 1, 0, 3, 1, 1, 1),), ' | ', 3.5, ', ', 4.6111111111111107)\n",
      "('Check node: ', ((2, 0, 1, 0, 0, 3, 2, 1, 1),), ' | ', 3.5, ', ', 4.6111111111111107)\n",
      "('Check node: ', ((2, 0, 1, 0, 0, 4, 2, 0, 1),), ' | ', 3.5, ', ', 4.6111111111111107)\n",
      "('Check node: ', ((2, 0, 1, 1, 0, 4, 1, 0, 1),), ' | ', 3.5, ', ', 4.6111111111111107)\n",
      "('Check node: ', ((2, 0, 1, 1, 0, 3, 1, 1, 1),), ' | ', 3.5, ', ', 4.6111111111111107)\n",
      "('Check node: ', ((2, 0, 1, 0, 0, 4, 2, 0, 1),), ' | ', 3.5, ', ', 4.6111111111111107)\n",
      "('Check node: ', ((2, 0, 1, 0, 0, 3, 2, 1, 1),), ' | ', 3.5, ', ', 4.6111111111111107)\n",
      "('Check node: ', ((2, 0, 1, 2, 0, 3, 0, 1, 1),), ' | ', 3.5, ', ', 4.6111111111111107)\n",
      "('Check node: ', ((2, 0, 1, 2, 0, 3, 0, 1, 1),), ' | ', 3.5, ', ', 4.6111111111111107)\n",
      "('Check node: ', ((2, 0, 1, 1, 0, 3, 1, 1, 1),), ' | ', 3.5, ', ', 4.6111111111111107)\n",
      "('Check node: ', ((2, 0, 1, 1, 0, 3, 1, 1, 1),), ' | ', 3.5, ', ', 4.6111111111111107)\n",
      "('Check node: ', ((2, 0, 1, 1, 0, 3, 1, 1, 1),), ' | ', 3.5, ', ', 4.6111111111111107)\n",
      "('Check node: ', ((3, 0, 1, 2, 0, 3, 0, 0, 1),), ' | ', 3.5, ', ', 4.6111111111111107)\n",
      "('Check node: ', ((2, 0, 1, 1, 0, 4, 1, 0, 1),), ' | ', 3.5, ', ', 4.6111111111111107)\n",
      "('Check node: ', ((2, 0, 1, 0, 0, 4, 2, 0, 1),), ' | ', 3.5, ', ', 4.6111111111111107)\n",
      "('Check node: ', ((2, 0, 1, 1, 0, 4, 1, 0, 1),), ' | ', 3.5, ', ', 4.6111111111111107)\n",
      "('Check node: ', ((2, 0, 1, 1, 0, 3, 1, 1, 1),), ' | ', 3.5, ', ', 4.6111111111111107)\n",
      "('Check node: ', ((2, 0, 1, 1, 0, 4, 1, 0, 1),), ' | ', 3.5, ', ', 4.6111111111111107)\n",
      "('Check node: ', ((2, 0, 1, 0, 0, 3, 2, 1, 1),), ' | ', 3.5, ', ', 4.6111111111111107)\n",
      "('Check node: ', ((2, 0, 1, 2, 0, 4, 0, 0, 1),), ' | ', 3.5, ', ', 4.6111111111111107)\n",
      "('Check node: ', ((2, 0, 1, 2, 0, 3, 0, 1, 1),), ' | ', 3.5, ', ', 4.6111111111111107)\n",
      "('Check node: ', ((2, 0, 1, 1, 0, 4, 1, 0, 1),), ' | ', 3.5, ', ', 4.6111111111111107)\n",
      "('Check node: ', ((3, 0, 1, 2, 0, 3, 0, 0, 1),), ' | ', 3.5, ', ', 4.6111111111111107)\n",
      "('Check node: ', ((2, 0, 1, 2, 0, 4, 0, 0, 1),), ' | ', 3.5, ', ', 4.6111111111111107)\n",
      "('Check node: ', ((2, 0, 1, 0, 0, 3, 2, 1, 1),), ' | ', 3.5, ', ', 4.6111111111111107)\n",
      "('Check node: ', ((2, 0, 1, 1, 0, 3, 1, 1, 1),), ' | ', 3.5, ', ', 4.6111111111111107)\n",
      "('Check node: ', ((3, 0, 1, 2, 0, 3, 0, 0, 1),), ' | ', 3.5, ', ', 4.6111111111111107)\n",
      "('Check node: ', ((2, 0, 1, 1, 0, 4, 1, 0, 1),), ' | ', 3.5, ', ', 4.6111111111111107)\n",
      "('Check node: ', ((2, 0, 1, 2, 0, 3, 0, 1, 1),), ' | ', 3.5, ', ', 4.6111111111111107)\n",
      "('Check node: ', ((3, 0, 1, 1, 0, 3, 1, 0, 1),), ' | ', 3.5, ', ', 4.6111111111111107)\n",
      "('Check node: ', ((2, 0, 1, 1, 0, 3, 1, 1, 1),), ' | ', 3.5, ', ', 4.6111111111111107)\n",
      "('Check node: ', ((2, 0, 1, 0, 0, 4, 2, 0, 1),), ' | ', 3.5, ', ', 4.6111111111111107)\n",
      "('Check node: ', ((3, 0, 1, 0, 0, 3, 2, 0, 1),), ' | ', 3.5, ', ', 4.6111111111111107)\n",
      "('Check node: ', ((3, 0, 1, 1, 0, 3, 1, 0, 1),), ' | ', 3.5, ', ', 4.6111111111111107)\n",
      "('Check node: ', ((3, 0, 1, 0, 0, 3, 2, 0, 1),), ' | ', 3.5, ', ', 4.6111111111111107)\n",
      "('Check node: ', ((2, 0, 1, 1, 0, 4, 1, 0, 1),), ' | ', 3.5, ', ', 4.6111111111111107)\n",
      "('Check node: ', ((2, 0, 1, 2, 0, 3, 0, 1, 1),), ' | ', 3.5, ', ', 4.6111111111111107)\n",
      "('Check node: ', ((3, 0, 1, 1, 0, 3, 0, 1, 1),), ' | ', 3.75, ', ', 4.8611111111111107)\n",
      "('Check node: ', ((4, 0, 1, 1, 0, 3, 0, 0, 1),), ' | ', 3.75, ', ', 4.8611111111111107)\n",
      "('Check node: ', ((3, 0, 1, 1, 0, 4, 0, 0, 1),), ' | ', 3.75, ', ', 4.8611111111111107)\n",
      "('Check node: ', ((3, 0, 1, 0, 0, 4, 1, 0, 1),), ' | ', 3.75, ', ', 4.8611111111111107)\n",
      "('Check node: ', ((3, 0, 1, 0, 0, 3, 1, 1, 1),), ' | ', 3.75, ', ', 4.8611111111111107)\n",
      "('Check node: ', ((3, 0, 1, 1, 0, 4, 0, 0, 1),), ' | ', 3.75, ', ', 4.8611111111111107)\n",
      "('Check node: ', ((3, 0, 1, 0, 0, 3, 1, 1, 1),), ' | ', 3.75, ', ', 4.8611111111111107)\n",
      "('Check node: ', ((3, 0, 1, 1, 0, 3, 0, 1, 1),), ' | ', 3.75, ', ', 4.8611111111111107)\n",
      "('Check node: ', ((3, 0, 1, 0, 0, 3, 1, 1, 1),), ' | ', 3.75, ', ', 4.8611111111111107)\n",
      "('Check node: ', ((3, 0, 1, 1, 0, 4, 0, 0, 1),), ' | ', 3.75, ', ', 4.8611111111111107)\n",
      "('Check node: ', ((4, 0, 1, 1, 0, 3, 0, 0, 1),), ' | ', 3.75, ', ', 4.8611111111111107)\n",
      "('Check node: ', ((3, 0, 1, 1, 0, 4, 0, 0, 1),), ' | ', 3.75, ', ', 4.8611111111111107)\n",
      "('Check node: ', ((3, 0, 1, 1, 0, 3, 0, 1, 1),), ' | ', 3.75, ', ', 4.8611111111111107)\n",
      "('Check node: ', ((3, 0, 1, 0, 0, 3, 1, 1, 1),), ' | ', 3.75, ', ', 4.8611111111111107)\n",
      "('Check node: ', ((3, 0, 1, 0, 0, 4, 1, 0, 1),), ' | ', 3.75, ', ', 4.8611111111111107)\n",
      "('Check node: ', ((3, 0, 1, 0, 0, 4, 1, 0, 1),), ' | ', 3.75, ', ', 4.8611111111111107)\n",
      "('Check node: ', ((3, 0, 1, 0, 0, 3, 1, 1, 1),), ' | ', 3.75, ', ', 4.8611111111111107)\n",
      "('Check node: ', ((3, 0, 1, 1, 0, 3, 0, 1, 1),), ' | ', 3.75, ', ', 4.8611111111111107)\n",
      "('Check node: ', ((3, 0, 1, 0, 0, 3, 1, 1, 1),), ' | ', 3.75, ', ', 4.8611111111111107)\n",
      "('Check node: ', ((3, 0, 1, 0, 0, 4, 1, 0, 1),), ' | ', 3.75, ', ', 4.8611111111111107)\n",
      "('Check node: ', ((3, 0, 1, 0, 0, 4, 1, 0, 1),), ' | ', 3.75, ', ', 4.8611111111111107)\n",
      "('Check node: ', ((4, 0, 1, 0, 0, 3, 1, 0, 1),), ' | ', 3.75, ', ', 4.8611111111111107)\n",
      "('Check node: ', ((3, 0, 1, 0, 0, 4, 1, 0, 1),), ' | ', 3.75, ', ', 4.8611111111111107)\n",
      "('Check node: ', ((3, 0, 1, 1, 0, 4, 0, 0, 1),), ' | ', 3.75, ', ', 4.8611111111111107)\n",
      "('Check node: ', ((4, 0, 1, 1, 0, 3, 0, 0, 1),), ' | ', 3.75, ', ', 4.8611111111111107)\n",
      "('Check node: ', ((3, 0, 1, 1, 0, 4, 0, 0, 1),), ' | ', 3.75, ', ', 4.8611111111111107)\n",
      "('Check node: ', ((3, 0, 1, 0, 0, 3, 1, 1, 1),), ' | ', 3.75, ', ', 4.8611111111111107)\n",
      "('Check node: ', ((3, 0, 1, 0, 0, 4, 1, 0, 1),), ' | ', 3.75, ', ', 4.8611111111111107)\n",
      "('Check node: ', ((4, 0, 1, 0, 0, 3, 1, 0, 1),), ' | ', 3.75, ', ', 4.8611111111111107)\n",
      "('Check node: ', ((3, 0, 1, 1, 0, 3, 0, 1, 1),), ' | ', 3.75, ', ', 4.8611111111111107)\n",
      "('Check node: ', ((3, 0, 1, 0, 0, 4, 1, 0, 1),), ' | ', 3.75, ', ', 4.8611111111111107)\n",
      "('Check node: ', ((3, 0, 1, 1, 0, 3, 0, 1, 1),), ' | ', 3.75, ', ', 4.8611111111111107)\n",
      "('Check node: ', ((3, 0, 1, 1, 0, 3, 0, 1, 1),), ' | ', 3.75, ', ', 4.8611111111111107)\n",
      "('Check node: ', ((3, 0, 1, 0, 0, 3, 1, 1, 1),), ' | ', 3.75, ', ', 4.8611111111111107)\n",
      "('Check node: ', ((3, 0, 1, 0, 0, 3, 1, 1, 1),), ' | ', 3.75, ', ', 4.8611111111111107)\n",
      "('Check node: ', ((4, 0, 1, 0, 0, 3, 1, 0, 1),), ' | ', 3.75, ', ', 4.8611111111111107)\n",
      "('Check node: ', ((3, 0, 1, 0, 0, 4, 1, 0, 1),), ' | ', 3.75, ', ', 4.8611111111111107)\n",
      "('Check node: ', ((3, 0, 1, 0, 0, 3, 1, 1, 1),), ' | ', 3.75, ', ', 4.8611111111111107)\n",
      "('Check node: ', ((3, 0, 1, 1, 0, 3, 0, 1, 1),), ' | ', 3.75, ', ', 4.8611111111111107)\n",
      "('Check node: ', ((4, 0, 1, 1, 0, 3, 0, 0, 1),), ' | ', 3.75, ', ', 4.8611111111111107)\n",
      "('Check node: ', ((3, 0, 1, 1, 0, 4, 0, 0, 1),), ' | ', 3.75, ', ', 4.8611111111111107)\n",
      "('Check node: ', ((3, 0, 1, 1, 0, 3, 0, 1, 1),), ' | ', 3.75, ', ', 4.8611111111111107)\n",
      "('Check node: ', ((3, 0, 1, 0, 0, 4, 1, 0, 1),), ' | ', 3.75, ', ', 4.8611111111111107)\n",
      "('Check node: ', ((3, 0, 1, 0, 0, 3, 1, 1, 1),), ' | ', 3.75, ', ', 4.8611111111111107)\n",
      "('Check node: ', ((3, 0, 1, 0, 0, 4, 1, 0, 1),), ' | ', 3.75, ', ', 4.8611111111111107)\n",
      "('Check node: ', ((4, 0, 1, 0, 0, 3, 1, 0, 1),), ' | ', 3.75, ', ', 4.8611111111111107)\n",
      "('Check node: ', ((1, 0, 1, 3, 0, 3, 2, 0, 1),), ' | ', 3.75, ', ', 4.9722222222222223)\n",
      "('Check node: ', ((1, 0, 1, 3, 0, 3, 2, 0, 1),), ' | ', 3.75, ', ', 4.9722222222222223)\n",
      "('Check node: ', ((1, 0, 1, 3, 0, 3, 2, 0, 1),), ' | ', 3.75, ', ', 4.9722222222222223)\n",
      "('Check node: ', ((1, 0, 1, 1, 0, 3, 4, 0, 1),), ' | ', 3.75, ', ', 4.9722222222222223)\n",
      "('Check node: ', ((1, 0, 1, 2, 0, 3, 3, 0, 1),), ' | ', 3.75, ', ', 4.9722222222222223)\n",
      "('Check node: ', ((1, 0, 1, 1, 0, 3, 4, 0, 1),), ' | ', 3.75, ', ', 4.9722222222222223)\n",
      "('Check node: ', ((1, 0, 1, 4, 0, 3, 1, 0, 1),), ' | ', 3.75, ', ', 4.9722222222222223)\n",
      "('Check node: ', ((1, 0, 1, 2, 0, 3, 3, 0, 1),), ' | ', 3.75, ', ', 4.9722222222222223)\n",
      "('Check node: ', ((1, 0, 1, 4, 0, 3, 1, 0, 1),), ' | ', 3.75, ', ', 4.9722222222222223)\n",
      "('Check node: ', ((1, 0, 1, 2, 0, 3, 3, 0, 1),), ' | ', 3.75, ', ', 4.9722222222222223)\n",
      "('Check node: ', ((1, 0, 1, 3, 0, 3, 2, 0, 1),), ' | ', 3.75, ', ', 4.9722222222222223)\n",
      "('Check node: ', ((1, 0, 1, 3, 0, 3, 2, 0, 1),), ' | ', 3.75, ', ', 4.9722222222222223)\n",
      "('Check node: ', ((1, 0, 1, 2, 0, 3, 3, 0, 1),), ' | ', 3.75, ', ', 4.9722222222222223)\n",
      "('Check node: ', ((1, 0, 1, 4, 0, 3, 1, 0, 1),), ' | ', 3.75, ', ', 4.9722222222222223)\n",
      "('Check node: ', ((1, 0, 1, 2, 0, 3, 3, 0, 1),), ' | ', 3.75, ', ', 4.9722222222222223)\n",
      "('Check node: ', ((1, 0, 1, 3, 0, 3, 2, 0, 1),), ' | ', 3.75, ', ', 4.9722222222222223)\n",
      "('Check node: ', ((1, 0, 1, 5, 0, 3, 0, 0, 1),), ' | ', 3.75, ', ', 4.9722222222222223)\n",
      "('Check node: ', ((1, 0, 1, 3, 0, 3, 2, 0, 1),), ' | ', 3.75, ', ', 4.9722222222222223)\n",
      "('Check node: ', ((1, 0, 1, 1, 0, 3, 4, 0, 1),), ' | ', 3.75, ', ', 4.9722222222222223)\n",
      "('Check node: ', ((1, 0, 1, 2, 0, 3, 3, 0, 1),), ' | ', 3.75, ', ', 4.9722222222222223)\n",
      "('Check node: ', ((1, 0, 1, 4, 0, 3, 1, 0, 1),), ' | ', 3.75, ', ', 4.9722222222222223)\n",
      "('Check node: ', ((1, 0, 1, 3, 0, 3, 2, 0, 1),), ' | ', 3.75, ', ', 4.9722222222222223)\n",
      "('Check node: ', ((1, 0, 1, 2, 0, 3, 3, 0, 1),), ' | ', 3.75, ', ', 4.9722222222222223)\n",
      "('Check node: ', ((1, 0, 1, 3, 0, 3, 2, 0, 1),), ' | ', 3.75, ', ', 4.9722222222222223)\n",
      "('Check node: ', ((1, 0, 1, 1, 0, 3, 4, 0, 1),), ' | ', 3.75, ', ', 4.9722222222222223)\n",
      "('Check node: ', ((1, 0, 1, 2, 0, 3, 3, 0, 1),), ' | ', 3.75, ', ', 4.9722222222222223)\n",
      "('Check node: ', ((1, 0, 1, 4, 0, 3, 1, 0, 1),), ' | ', 3.75, ', ', 4.9722222222222223)\n",
      "('Check node: ', ((1, 0, 1, 2, 0, 3, 3, 0, 1),), ' | ', 3.75, ', ', 4.9722222222222223)\n",
      "('Check node: ', ((1, 0, 1, 3, 0, 3, 2, 0, 1),), ' | ', 3.75, ', ', 4.9722222222222223)\n",
      "('Check node: ', ((1, 0, 1, 2, 0, 3, 3, 0, 1),), ' | ', 3.75, ', ', 4.9722222222222223)\n",
      "('Check node: ', ((1, 0, 1, 0, 0, 3, 5, 0, 1),), ' | ', 3.75, ', ', 4.9722222222222223)\n",
      "('Check node: ', ((1, 0, 1, 1, 0, 3, 4, 0, 1),), ' | ', 3.75, ', ', 4.9722222222222223)\n",
      "('Check node: ', ((4, 0, 1, 0, 0, 3, 0, 1, 1),), ' | ', 4.0, ', ', 5.1111111111111107)\n",
      "('Check node: ', ((4, 0, 1, 0, 0, 3, 0, 1, 1),), ' | ', 4.0, ', ', 5.1111111111111107)\n",
      "('Check node: ', ((4, 0, 1, 0, 0, 4, 0, 0, 1),), ' | ', 4.0, ', ', 5.1111111111111107)\n",
      "('Check node: ', ((5, 0, 1, 0, 0, 3, 0, 0, 1),), ' | ', 4.0, ', ', 5.1111111111111107)\n",
      "('Check node: ', ((4, 0, 1, 0, 0, 4, 0, 0, 1),), ' | ', 4.0, ', ', 5.1111111111111107)\n",
      "('Check node: ', ((4, 0, 1, 0, 0, 3, 0, 1, 1),), ' | ', 4.0, ', ', 5.1111111111111107)\n",
      "('Check node: ', ((1, 0, 1, 0, 0, 3, 4, 1, 1),), ' | ', 4.0, ', ', 5.2222222222222223)\n",
      "('Check node: ', ((1, 0, 1, 0, 0, 4, 4, 0, 1),), ' | ', 4.0, ', ', 5.2222222222222223)\n",
      "('Check node: ', ((2, 0, 1, 2, 0, 3, 2, 0, 1),), ' | ', 4.0, ', ', 5.2222222222222223)\n",
      "('Check node: ', ((1, 0, 1, 1, 0, 3, 3, 1, 1),), ' | ', 4.0, ', ', 5.2222222222222223)\n",
      "('Check node: ', ((1, 0, 1, 1, 0, 4, 3, 0, 1),), ' | ', 4.0, ', ', 5.2222222222222223)\n",
      "('Check node: ', ((1, 0, 1, 2, 0, 3, 2, 1, 1),), ' | ', 4.0, ', ', 5.2222222222222223)\n",
      "('Check node: ', ((2, 0, 1, 2, 0, 3, 2, 0, 1),), ' | ', 4.0, ', ', 5.2222222222222223)\n",
      "('Check node: ', ((2, 0, 1, 1, 0, 3, 3, 0, 1),), ' | ', 4.0, ', ', 5.2222222222222223)\n",
      "('Check node: ', ((1, 0, 1, 1, 0, 3, 3, 1, 1),), ' | ', 4.0, ', ', 5.2222222222222223)\n",
      "('Check node: ', ((2, 0, 1, 2, 0, 3, 2, 0, 1),), ' | ', 4.0, ', ', 5.2222222222222223)\n",
      "('Check node: ', ((1, 0, 1, 1, 0, 3, 3, 1, 1),), ' | ', 4.0, ', ', 5.2222222222222223)\n",
      "('Check node: ', ((1, 0, 1, 2, 0, 4, 2, 0, 1),), ' | ', 4.0, ', ', 5.2222222222222223)\n",
      "('Check node: ', ((1, 0, 1, 0, 0, 4, 4, 0, 1),), ' | ', 4.0, ', ', 5.2222222222222223)\n",
      "('Check node: ', ((2, 0, 1, 1, 0, 3, 3, 0, 1),), ' | ', 4.0, ', ', 5.2222222222222223)\n",
      "('Check node: ', ((1, 0, 1, 2, 0, 3, 2, 1, 1),), ' | ', 4.0, ', ', 5.2222222222222223)\n",
      "('Check node: ', ((1, 0, 1, 0, 0, 3, 4, 1, 1),), ' | ', 4.0, ', ', 5.2222222222222223)\n",
      "('Check node: ', ((2, 0, 1, 2, 0, 3, 2, 0, 1),), ' | ', 4.0, ', ', 5.2222222222222223)\n",
      "('Check node: ', ((2, 0, 1, 1, 0, 3, 3, 0, 1),), ' | ', 4.0, ', ', 5.2222222222222223)\n",
      "('Check node: ', ((2, 0, 1, 1, 0, 3, 3, 0, 1),), ' | ', 4.0, ', ', 5.2222222222222223)\n",
      "('Check node: ', ((2, 0, 1, 2, 0, 3, 2, 0, 1),), ' | ', 4.0, ', ', 5.2222222222222223)\n",
      "('Check node: ', ((1, 0, 1, 0, 0, 4, 4, 0, 1),), ' | ', 4.0, ', ', 5.2222222222222223)\n",
      "('Check node: ', ((1, 0, 1, 2, 0, 3, 2, 1, 1),), ' | ', 4.0, ', ', 5.2222222222222223)\n",
      "('Check node: ', ((1, 0, 1, 2, 0, 4, 2, 0, 1),), ' | ', 4.0, ', ', 5.2222222222222223)\n",
      "('Check node: ', ((2, 0, 1, 0, 0, 3, 4, 0, 1),), ' | ', 4.0, ', ', 5.2222222222222223)\n",
      "('Check node: ', ((2, 0, 1, 3, 0, 3, 1, 0, 1),), ' | ', 4.0, ', ', 5.2222222222222223)\n",
      "('Check node: ', ((1, 0, 1, 1, 0, 4, 3, 0, 1),), ' | ', 4.0, ', ', 5.2222222222222223)\n",
      "('Check node: ', ((2, 0, 1, 2, 0, 3, 2, 0, 1),), ' | ', 4.0, ', ', 5.2222222222222223)\n",
      "('Check node: ', ((2, 0, 1, 2, 0, 3, 2, 0, 1),), ' | ', 4.0, ', ', 5.2222222222222223)\n",
      "('Check node: ', ((2, 0, 1, 1, 0, 3, 3, 0, 1),), ' | ', 4.0, ', ', 5.2222222222222223)\n",
      "('Check node: ', ((1, 0, 1, 1, 0, 3, 3, 1, 1),), ' | ', 4.0, ', ', 5.2222222222222223)\n",
      "('Check node: ', ((2, 0, 1, 1, 0, 3, 3, 0, 1),), ' | ', 4.0, ', ', 5.2222222222222223)\n",
      "('Check node: ', ((1, 0, 1, 2, 0, 4, 2, 0, 1),), ' | ', 4.0, ', ', 5.2222222222222223)\n",
      "('Check node: ', ((1, 0, 1, 2, 0, 4, 2, 0, 1),), ' | ', 4.0, ', ', 5.2222222222222223)\n",
      "('Check node: ', ((2, 0, 1, 2, 0, 3, 2, 0, 1),), ' | ', 4.0, ', ', 5.2222222222222223)\n",
      "('Check node: ', ((1, 0, 1, 1, 0, 4, 3, 0, 1),), ' | ', 4.0, ', ', 5.2222222222222223)\n",
      "('Check node: ', ((2, 0, 1, 3, 0, 3, 1, 0, 1),), ' | ', 4.0, ', ', 5.2222222222222223)\n",
      "('Check node: ', ((2, 0, 1, 2, 0, 3, 2, 0, 1),), ' | ', 4.0, ', ', 5.2222222222222223)\n",
      "('Check node: ', ((2, 0, 1, 0, 0, 3, 4, 0, 1),), ' | ', 4.0, ', ', 5.2222222222222223)\n",
      "('Check node: ', ((2, 0, 1, 1, 0, 3, 3, 0, 1),), ' | ', 4.0, ', ', 5.2222222222222223)\n",
      "('Check node: ', ((1, 0, 1, 2, 0, 3, 2, 1, 1),), ' | ', 4.0, ', ', 5.2222222222222223)\n",
      "('Check node: ', ((1, 0, 1, 1, 0, 4, 3, 0, 1),), ' | ', 4.0, ', ', 5.2222222222222223)\n",
      "('Check node: ', ((2, 0, 1, 3, 0, 3, 1, 0, 1),), ' | ', 4.0, ', ', 5.2222222222222223)\n",
      "('Check node: ', ((2, 0, 1, 1, 0, 3, 3, 0, 1),), ' | ', 4.0, ', ', 5.2222222222222223)\n",
      "('Check node: ', ((2, 0, 1, 2, 0, 3, 2, 0, 1),), ' | ', 4.0, ', ', 5.2222222222222223)\n",
      "('Check node: ', ((2, 0, 1, 2, 0, 3, 2, 0, 1),), ' | ', 4.0, ', ', 5.2222222222222223)\n",
      "('Check node: ', ((2, 0, 1, 1, 0, 3, 3, 0, 1),), ' | ', 4.0, ', ', 5.2222222222222223)\n",
      "('Check node: ', ((2, 0, 1, 1, 0, 3, 3, 0, 1),), ' | ', 4.0, ', ', 5.2222222222222223)\n",
      "('Check node: ', ((1, 0, 1, 2, 0, 4, 2, 0, 1),), ' | ', 4.0, ', ', 5.2222222222222223)\n",
      "('Check node: ', ((1, 0, 1, 2, 0, 3, 2, 1, 1),), ' | ', 4.0, ', ', 5.2222222222222223)\n",
      "('Check node: ', ((1, 0, 1, 1, 0, 4, 3, 0, 1),), ' | ', 4.0, ', ', 5.2222222222222223)\n",
      "('Check node: ', ((2, 0, 1, 3, 0, 3, 1, 0, 1),), ' | ', 4.0, ', ', 5.2222222222222223)\n",
      "('Check node: ', ((2, 0, 1, 4, 0, 3, 0, 0, 1),), ' | ', 4.0, ', ', 5.2222222222222223)\n",
      "('Check node: ', ((2, 0, 1, 2, 0, 3, 2, 0, 1),), ' | ', 4.0, ', ', 5.2222222222222223)\n",
      "('Check node: ', ((2, 0, 1, 3, 0, 3, 1, 0, 1),), ' | ', 4.0, ', ', 5.2222222222222223)\n",
      "('Check node: ', ((2, 0, 1, 1, 0, 3, 3, 0, 1),), ' | ', 4.0, ', ', 5.2222222222222223)\n",
      "('Check node: ', ((2, 0, 1, 0, 0, 3, 4, 0, 1),), ' | ', 4.0, ', ', 5.2222222222222223)\n",
      "('Check node: ', ((2, 0, 1, 4, 0, 3, 0, 0, 1),), ' | ', 4.0, ', ', 5.2222222222222223)\n",
      "('Check node: ', ((2, 0, 1, 0, 0, 3, 4, 0, 1),), ' | ', 4.0, ', ', 5.2222222222222223)\n",
      "('Check node: ', ((2, 0, 1, 3, 0, 3, 1, 0, 1),), ' | ', 4.0, ', ', 5.2222222222222223)\n",
      "('Check node: ', ((2, 0, 1, 4, 0, 3, 0, 0, 1),), ' | ', 4.0, ', ', 5.2222222222222223)\n",
      "('Check node: ', ((2, 0, 1, 3, 0, 3, 1, 0, 1),), ' | ', 4.0, ', ', 5.2222222222222223)\n",
      "('Check node: ', ((2, 0, 1, 3, 0, 3, 1, 0, 1),), ' | ', 4.0, ', ', 5.2222222222222223)\n",
      "('Check node: ', ((1, 0, 1, 2, 0, 4, 2, 0, 1),), ' | ', 4.0, ', ', 5.2222222222222223)\n",
      "('Check node: ', ((2, 0, 1, 2, 0, 3, 2, 0, 1),), ' | ', 4.0, ', ', 5.2222222222222223)\n",
      "('Check node: ', ((2, 0, 1, 2, 0, 3, 2, 0, 1),), ' | ', 4.0, ', ', 5.2222222222222223)\n"
     ]
    },
    {
     "ename": "KeyboardInterrupt",
     "evalue": "",
     "output_type": "error",
     "traceback": [
      "\u001b[0;31m\u001b[0m",
      "\u001b[0;31mKeyboardInterrupt\u001b[0mTraceback (most recent call last)",
      "\u001b[0;32m<ipython-input-523-562f76c91376>\u001b[0m in \u001b[0;36m<module>\u001b[0;34m()\u001b[0m\n\u001b[1;32m     15\u001b[0m                           goal_score=goal_score)\n\u001b[1;32m     16\u001b[0m     \u001b[0mtic\u001b[0m \u001b[0;34m=\u001b[0m \u001b[0mtime\u001b[0m\u001b[0;34m(\u001b[0m\u001b[0;34m)\u001b[0m\u001b[0;34m\u001b[0m\u001b[0m\n\u001b[0;32m---> 17\u001b[0;31m     \u001b[0mresult\u001b[0m \u001b[0;34m=\u001b[0m \u001b[0mastar_search\u001b[0m\u001b[0;34m(\u001b[0m\u001b[0mp\u001b[0m\u001b[0;34m,\u001b[0m \u001b[0mfinal_heuristic_fn\u001b[0m\u001b[0;34m,\u001b[0m \u001b[0mverbose\u001b[0m\u001b[0;34m=\u001b[0m\u001b[0mTrue\u001b[0m\u001b[0;34m)\u001b[0m\u001b[0;34m\u001b[0m\u001b[0m\n\u001b[0m\u001b[1;32m     18\u001b[0m     \u001b[0;32mif\u001b[0m \u001b[0mresult\u001b[0m \u001b[0;32mis\u001b[0m \u001b[0;32mnot\u001b[0m \u001b[0mNone\u001b[0m\u001b[0;34m:\u001b[0m\u001b[0;34m\u001b[0m\u001b[0m\n\u001b[1;32m     19\u001b[0m         \u001b[0;32mprint\u001b[0m\u001b[0;34m(\u001b[0m\u001b[0;34m\"- Got a result\"\u001b[0m\u001b[0;34m)\u001b[0m\u001b[0;34m\u001b[0m\u001b[0m\n",
      "\u001b[0;32m/home/osboxes/Documents/TDS/Santas-Uncertain-Bags/notebooks/search.pyc\u001b[0m in \u001b[0;36mastar_search\u001b[0;34m(problem, heuristic, **kwargs)\u001b[0m\n\u001b[1;32m    145\u001b[0m \u001b[0;32mdef\u001b[0m \u001b[0mastar_search\u001b[0m\u001b[0;34m(\u001b[0m\u001b[0mproblem\u001b[0m\u001b[0;34m,\u001b[0m \u001b[0mheuristic\u001b[0m\u001b[0;34m,\u001b[0m \u001b[0;34m**\u001b[0m\u001b[0mkwargs\u001b[0m\u001b[0;34m)\u001b[0m\u001b[0;34m:\u001b[0m\u001b[0;34m\u001b[0m\u001b[0m\n\u001b[1;32m    146\u001b[0m     \u001b[0mcostfn\u001b[0m \u001b[0;34m=\u001b[0m \u001b[0;32mlambda\u001b[0m \u001b[0mnode\u001b[0m\u001b[0;34m:\u001b[0m \u001b[0mnode\u001b[0m\u001b[0;34m.\u001b[0m\u001b[0mpath_cost\u001b[0m \u001b[0;34m+\u001b[0m \u001b[0mheuristic\u001b[0m\u001b[0;34m(\u001b[0m\u001b[0mnode\u001b[0m\u001b[0;34m.\u001b[0m\u001b[0mstate\u001b[0m\u001b[0;34m)\u001b[0m\u001b[0;34m\u001b[0m\u001b[0m\n\u001b[0;32m--> 147\u001b[0;31m     \u001b[0;32mreturn\u001b[0m \u001b[0muniform_cost_search\u001b[0m\u001b[0;34m(\u001b[0m\u001b[0mproblem\u001b[0m\u001b[0;34m,\u001b[0m \u001b[0mcostfn\u001b[0m\u001b[0;34m,\u001b[0m \u001b[0;34m**\u001b[0m\u001b[0mkwargs\u001b[0m\u001b[0;34m)\u001b[0m\u001b[0;34m\u001b[0m\u001b[0m\n\u001b[0m\u001b[1;32m    148\u001b[0m \u001b[0;34m\u001b[0m\u001b[0m\n\u001b[1;32m    149\u001b[0m \u001b[0;34m\u001b[0m\u001b[0m\n",
      "\u001b[0;32m/home/osboxes/Documents/TDS/Santas-Uncertain-Bags/notebooks/search.pyc\u001b[0m in \u001b[0;36muniform_cost_search\u001b[0;34m(problem, costfn, **kwargs)\u001b[0m\n\u001b[1;32m    138\u001b[0m             \u001b[0mchild\u001b[0m \u001b[0;34m=\u001b[0m \u001b[0mnode\u001b[0m\u001b[0;34m.\u001b[0m\u001b[0mchild\u001b[0m\u001b[0;34m(\u001b[0m\u001b[0mproblem\u001b[0m\u001b[0;34m,\u001b[0m \u001b[0maction\u001b[0m\u001b[0;34m)\u001b[0m\u001b[0;34m\u001b[0m\u001b[0m\n\u001b[1;32m    139\u001b[0m             \u001b[0;32mif\u001b[0m \u001b[0mchild\u001b[0m\u001b[0;34m.\u001b[0m\u001b[0mstate\u001b[0m \u001b[0;32mnot\u001b[0m \u001b[0;32min\u001b[0m \u001b[0mexplored\u001b[0m \u001b[0;32mand\u001b[0m \u001b[0mchild\u001b[0m \u001b[0;32mnot\u001b[0m \u001b[0;32min\u001b[0m \u001b[0mfrontier\u001b[0m\u001b[0;34m:\u001b[0m\u001b[0;34m\u001b[0m\u001b[0m\n\u001b[0;32m--> 140\u001b[0;31m                 \u001b[0mfrontier\u001b[0m\u001b[0;34m.\u001b[0m\u001b[0madd\u001b[0m\u001b[0;34m(\u001b[0m\u001b[0mchild\u001b[0m\u001b[0;34m)\u001b[0m\u001b[0;34m\u001b[0m\u001b[0m\n\u001b[0m\u001b[1;32m    141\u001b[0m             \u001b[0;32melif\u001b[0m \u001b[0mchild\u001b[0m \u001b[0;32min\u001b[0m \u001b[0mfrontier\u001b[0m \u001b[0;32mand\u001b[0m \u001b[0mfrontier\u001b[0m\u001b[0;34m.\u001b[0m\u001b[0mcost\u001b[0m\u001b[0;34m[\u001b[0m\u001b[0mchild\u001b[0m\u001b[0;34m]\u001b[0m \u001b[0;34m<\u001b[0m \u001b[0mchild\u001b[0m\u001b[0;34m.\u001b[0m\u001b[0mpath_cost\u001b[0m\u001b[0;34m:\u001b[0m\u001b[0;34m\u001b[0m\u001b[0m\n\u001b[1;32m    142\u001b[0m                 \u001b[0mfrontier\u001b[0m\u001b[0;34m.\u001b[0m\u001b[0mreplace\u001b[0m\u001b[0;34m(\u001b[0m\u001b[0mchild\u001b[0m\u001b[0;34m)\u001b[0m\u001b[0;34m\u001b[0m\u001b[0m\n",
      "\u001b[0;32m/home/osboxes/Documents/TDS/Santas-Uncertain-Bags/notebooks/search.pyc\u001b[0m in \u001b[0;36madd\u001b[0;34m(self, node)\u001b[0m\n\u001b[1;32m     47\u001b[0m     \u001b[0;32mdef\u001b[0m \u001b[0madd\u001b[0m\u001b[0;34m(\u001b[0m\u001b[0mself\u001b[0m\u001b[0;34m,\u001b[0m \u001b[0mnode\u001b[0m\u001b[0;34m)\u001b[0m\u001b[0;34m:\u001b[0m\u001b[0;34m\u001b[0m\u001b[0m\n\u001b[1;32m     48\u001b[0m         \u001b[0;34m\"\"\"Add node to the frontier.\"\"\"\u001b[0m\u001b[0;34m\u001b[0m\u001b[0m\n\u001b[0;32m---> 49\u001b[0;31m         \u001b[0mcost\u001b[0m \u001b[0;34m=\u001b[0m \u001b[0mself\u001b[0m\u001b[0;34m.\u001b[0m\u001b[0mcostfn\u001b[0m\u001b[0;34m(\u001b[0m\u001b[0mnode\u001b[0m\u001b[0;34m)\u001b[0m\u001b[0;34m\u001b[0m\u001b[0m\n\u001b[0m\u001b[1;32m     50\u001b[0m         \u001b[0mheapq\u001b[0m\u001b[0;34m.\u001b[0m\u001b[0mheappush\u001b[0m\u001b[0;34m(\u001b[0m\u001b[0mself\u001b[0m\u001b[0;34m.\u001b[0m\u001b[0mheap\u001b[0m\u001b[0;34m,\u001b[0m \u001b[0;34m(\u001b[0m\u001b[0mcost\u001b[0m\u001b[0;34m,\u001b[0m \u001b[0mnode\u001b[0m\u001b[0;34m)\u001b[0m\u001b[0;34m)\u001b[0m\u001b[0;34m\u001b[0m\u001b[0m\n\u001b[1;32m     51\u001b[0m         \u001b[0mself\u001b[0m\u001b[0;34m.\u001b[0m\u001b[0mstates\u001b[0m\u001b[0;34m[\u001b[0m\u001b[0mnode\u001b[0m\u001b[0;34m.\u001b[0m\u001b[0mstate\u001b[0m\u001b[0;34m]\u001b[0m \u001b[0;34m=\u001b[0m \u001b[0mnode\u001b[0m\u001b[0;34m\u001b[0m\u001b[0m\n",
      "\u001b[0;32m/home/osboxes/Documents/TDS/Santas-Uncertain-Bags/notebooks/search.pyc\u001b[0m in \u001b[0;36m<lambda>\u001b[0;34m(node)\u001b[0m\n\u001b[1;32m    144\u001b[0m \u001b[0;34m\u001b[0m\u001b[0m\n\u001b[1;32m    145\u001b[0m \u001b[0;32mdef\u001b[0m \u001b[0mastar_search\u001b[0m\u001b[0;34m(\u001b[0m\u001b[0mproblem\u001b[0m\u001b[0;34m,\u001b[0m \u001b[0mheuristic\u001b[0m\u001b[0;34m,\u001b[0m \u001b[0;34m**\u001b[0m\u001b[0mkwargs\u001b[0m\u001b[0;34m)\u001b[0m\u001b[0;34m:\u001b[0m\u001b[0;34m\u001b[0m\u001b[0m\n\u001b[0;32m--> 146\u001b[0;31m     \u001b[0mcostfn\u001b[0m \u001b[0;34m=\u001b[0m \u001b[0;32mlambda\u001b[0m \u001b[0mnode\u001b[0m\u001b[0;34m:\u001b[0m \u001b[0mnode\u001b[0m\u001b[0;34m.\u001b[0m\u001b[0mpath_cost\u001b[0m \u001b[0;34m+\u001b[0m \u001b[0mheuristic\u001b[0m\u001b[0;34m(\u001b[0m\u001b[0mnode\u001b[0m\u001b[0;34m.\u001b[0m\u001b[0mstate\u001b[0m\u001b[0;34m)\u001b[0m\u001b[0;34m\u001b[0m\u001b[0m\n\u001b[0m\u001b[1;32m    147\u001b[0m     \u001b[0;32mreturn\u001b[0m \u001b[0muniform_cost_search\u001b[0m\u001b[0;34m(\u001b[0m\u001b[0mproblem\u001b[0m\u001b[0;34m,\u001b[0m \u001b[0mcostfn\u001b[0m\u001b[0;34m,\u001b[0m \u001b[0;34m**\u001b[0m\u001b[0mkwargs\u001b[0m\u001b[0;34m)\u001b[0m\u001b[0;34m\u001b[0m\u001b[0m\n\u001b[1;32m    148\u001b[0m \u001b[0;34m\u001b[0m\u001b[0m\n",
      "\u001b[0;32m<ipython-input-517-32e7204dc84a>\u001b[0m in \u001b[0;36mfinal_heuristic_fn\u001b[0;34m(state)\u001b[0m\n\u001b[1;32m     42\u001b[0m \u001b[0;34m\u001b[0m\u001b[0m\n\u001b[1;32m     43\u001b[0m \u001b[0;32mdef\u001b[0m \u001b[0mfinal_heuristic_fn\u001b[0m\u001b[0;34m(\u001b[0m\u001b[0mstate\u001b[0m\u001b[0;34m)\u001b[0m\u001b[0;34m:\u001b[0m\u001b[0;34m\u001b[0m\u001b[0m\n\u001b[0;32m---> 44\u001b[0;31m     \u001b[0mres\u001b[0m \u001b[0;34m=\u001b[0m \u001b[0mnp\u001b[0m\u001b[0;34m.\u001b[0m\u001b[0mmax\u001b[0m\u001b[0;34m(\u001b[0m\u001b[0mnp\u001b[0m\u001b[0;34m.\u001b[0m\u001b[0marray\u001b[0m\u001b[0;34m(\u001b[0m\u001b[0;34m[\u001b[0m\u001b[0mh12\u001b[0m\u001b[0;34m(\u001b[0m\u001b[0mstate\u001b[0m\u001b[0;34m)\u001b[0m\u001b[0;34m,\u001b[0m \u001b[0mh3\u001b[0m\u001b[0;34m(\u001b[0m\u001b[0mstate\u001b[0m\u001b[0;34m)\u001b[0m\u001b[0;34m,\u001b[0m \u001b[0mh5\u001b[0m\u001b[0;34m(\u001b[0m\u001b[0mstate\u001b[0m\u001b[0;34m)\u001b[0m\u001b[0;34m,\u001b[0m \u001b[0mh7\u001b[0m\u001b[0;34m(\u001b[0m\u001b[0mstate\u001b[0m\u001b[0;34m)\u001b[0m\u001b[0;34m]\u001b[0m\u001b[0;34m)\u001b[0m\u001b[0;34m)\u001b[0m\u001b[0;34m\u001b[0m\u001b[0m\n\u001b[0m\u001b[1;32m     45\u001b[0m \u001b[0;31m#     res = (h12(state) + h5(state) + h6(state) + h7(state))/max_weight\u001b[0m\u001b[0;34m\u001b[0m\u001b[0;34m\u001b[0m\u001b[0m\n\u001b[1;32m     46\u001b[0m \u001b[0;31m#     print (\"final_heuristic_fn : \", res, state)\u001b[0m\u001b[0;34m\u001b[0m\u001b[0;34m\u001b[0m\u001b[0m\n",
      "\u001b[0;32m<ipython-input-517-32e7204dc84a>\u001b[0m in \u001b[0;36mh12\u001b[0;34m(state)\u001b[0m\n\u001b[1;32m      8\u001b[0m \u001b[0;31m#     h1 = abs(goal_score - h1) / n_bags\u001b[0m\u001b[0;34m\u001b[0m\u001b[0;34m\u001b[0m\u001b[0m\n\u001b[1;32m      9\u001b[0m \u001b[0;31m#     return max(h1, h2)\u001b[0m\u001b[0;34m\u001b[0m\u001b[0;34m\u001b[0m\u001b[0m\n\u001b[0;32m---> 10\u001b[0;31m     \u001b[0;32mreturn\u001b[0m \u001b[0;34m(\u001b[0m\u001b[0mgoal_score\u001b[0m \u001b[0;34m-\u001b[0m \u001b[0mscore\u001b[0m\u001b[0;34m(\u001b[0m\u001b[0mstate\u001b[0m\u001b[0;34m)\u001b[0m\u001b[0;34m)\u001b[0m\u001b[0;34m**\u001b[0m\u001b[0;36m2\u001b[0m\u001b[0;34m/\u001b[0m\u001b[0mgoal_score\u001b[0m\u001b[0;34m**\u001b[0m\u001b[0;36m2\u001b[0m\u001b[0;34m\u001b[0m\u001b[0m\n\u001b[0m\u001b[1;32m     11\u001b[0m \u001b[0;34m\u001b[0m\u001b[0m\n\u001b[1;32m     12\u001b[0m \u001b[0;34m\u001b[0m\u001b[0m\n",
      "\u001b[0;32m<ipython-input-7-b8d13d9f8b07>\u001b[0m in \u001b[0;36mscore\u001b[0;34m(state, count)\u001b[0m\n\u001b[1;32m      4\u001b[0m         \u001b[0mscore\u001b[0m \u001b[0;34m=\u001b[0m \u001b[0;36m0\u001b[0m\u001b[0;34m\u001b[0m\u001b[0m\n\u001b[1;32m      5\u001b[0m         \u001b[0;32mfor\u001b[0m \u001b[0mbag\u001b[0m \u001b[0;32min\u001b[0m \u001b[0mstate\u001b[0m\u001b[0;34m:\u001b[0m\u001b[0;34m\u001b[0m\u001b[0m\n\u001b[0;32m----> 6\u001b[0;31m             \u001b[0mtotal_weight_\u001b[0m \u001b[0;34m=\u001b[0m \u001b[0mbag_weight\u001b[0m\u001b[0;34m(\u001b[0m\u001b[0mbag\u001b[0m\u001b[0;34m,\u001b[0m \u001b[0mn1\u001b[0m\u001b[0;34m=\u001b[0m\u001b[0;36m1\u001b[0m\u001b[0;34m)\u001b[0m\u001b[0;34m\u001b[0m\u001b[0m\n\u001b[0m\u001b[1;32m      7\u001b[0m             \u001b[0;32mif\u001b[0m \u001b[0mtotal_weight_\u001b[0m \u001b[0;34m<\u001b[0m \u001b[0mmax_weight\u001b[0m\u001b[0;34m:\u001b[0m\u001b[0;34m\u001b[0m\u001b[0m\n\u001b[1;32m      8\u001b[0m                 \u001b[0mscore\u001b[0m \u001b[0;34m+=\u001b[0m \u001b[0mtotal_weight_\u001b[0m\u001b[0;34m\u001b[0m\u001b[0m\n",
      "\u001b[0;32m<ipython-input-6-b42ad23d3494>\u001b[0m in \u001b[0;36mbag_weight\u001b[0;34m(bag, n1)\u001b[0m\n\u001b[1;32m      3\u001b[0m     \u001b[0;32mfor\u001b[0m \u001b[0mindex\u001b[0m\u001b[0;34m,\u001b[0m \u001b[0mcount\u001b[0m \u001b[0;32min\u001b[0m \u001b[0menumerate\u001b[0m\u001b[0;34m(\u001b[0m\u001b[0mbag\u001b[0m\u001b[0;34m)\u001b[0m\u001b[0;34m:\u001b[0m\u001b[0;34m\u001b[0m\u001b[0m\n\u001b[1;32m      4\u001b[0m         \u001b[0;32mfor\u001b[0m \u001b[0mi\u001b[0m \u001b[0;32min\u001b[0m \u001b[0mrange\u001b[0m\u001b[0;34m(\u001b[0m\u001b[0mcount\u001b[0m\u001b[0;34m)\u001b[0m\u001b[0;34m:\u001b[0m\u001b[0;34m\u001b[0m\u001b[0m\n\u001b[0;32m----> 5\u001b[0;31m             \u001b[0mweight\u001b[0m \u001b[0;34m+=\u001b[0m \u001b[0mweight_fn\u001b[0m\u001b[0;34m(\u001b[0m\u001b[0mindex\u001b[0m\u001b[0;34m,\u001b[0m \u001b[0mn1\u001b[0m\u001b[0;34m)\u001b[0m\u001b[0;34m\u001b[0m\u001b[0m\n\u001b[0m\u001b[1;32m      6\u001b[0m     \u001b[0;32mreturn\u001b[0m \u001b[0mweight\u001b[0m\u001b[0;34m\u001b[0m\u001b[0m\n",
      "\u001b[0;32m/home/osboxes/Documents/TDS/Santas-Uncertain-Bags/common/utils.pyc\u001b[0m in \u001b[0;36mweight3\u001b[0;34m(index, count)\u001b[0m\n\u001b[1;32m     79\u001b[0m     \u001b[0;32mfor\u001b[0m \u001b[0mc\u001b[0m \u001b[0;32min\u001b[0m \u001b[0mrange\u001b[0m\u001b[0;34m(\u001b[0m\u001b[0mcount\u001b[0m\u001b[0;34m)\u001b[0m\u001b[0;34m:\u001b[0m\u001b[0;34m\u001b[0m\u001b[0m\n\u001b[1;32m     80\u001b[0m         \u001b[0mw\u001b[0m\u001b[0;34m.\u001b[0m\u001b[0mappend\u001b[0m\u001b[0;34m(\u001b[0m\u001b[0mweight_by_index\u001b[0m\u001b[0;34m(\u001b[0m\u001b[0mindex\u001b[0m\u001b[0;34m)\u001b[0m\u001b[0;34m)\u001b[0m\u001b[0;34m\u001b[0m\u001b[0m\n\u001b[0;32m---> 81\u001b[0;31m     \u001b[0;32mreturn\u001b[0m \u001b[0mnp\u001b[0m\u001b[0;34m.\u001b[0m\u001b[0mmean\u001b[0m\u001b[0;34m(\u001b[0m\u001b[0mw\u001b[0m\u001b[0;34m)\u001b[0m\u001b[0;34m\u001b[0m\u001b[0m\n\u001b[0m",
      "\u001b[0;32m/home/osboxes/Documents/TDS/venv/local/lib/python2.7/site-packages/numpy/core/fromnumeric.pyc\u001b[0m in \u001b[0;36mmean\u001b[0;34m(a, axis, dtype, out, keepdims)\u001b[0m\n\u001b[1;32m   2940\u001b[0m \u001b[0;34m\u001b[0m\u001b[0m\n\u001b[1;32m   2941\u001b[0m     return _methods._mean(a, axis=axis, dtype=dtype,\n\u001b[0;32m-> 2942\u001b[0;31m                             out=out, **kwargs)\n\u001b[0m\u001b[1;32m   2943\u001b[0m \u001b[0;34m\u001b[0m\u001b[0m\n\u001b[1;32m   2944\u001b[0m \u001b[0;34m\u001b[0m\u001b[0m\n",
      "\u001b[0;32m/home/osboxes/Documents/TDS/venv/local/lib/python2.7/site-packages/numpy/core/_methods.pyc\u001b[0m in \u001b[0;36m_mean\u001b[0;34m(a, axis, dtype, out, keepdims)\u001b[0m\n\u001b[1;32m     54\u001b[0m     \u001b[0marr\u001b[0m \u001b[0;34m=\u001b[0m \u001b[0masanyarray\u001b[0m\u001b[0;34m(\u001b[0m\u001b[0ma\u001b[0m\u001b[0;34m)\u001b[0m\u001b[0;34m\u001b[0m\u001b[0m\n\u001b[1;32m     55\u001b[0m \u001b[0;34m\u001b[0m\u001b[0m\n\u001b[0;32m---> 56\u001b[0;31m     \u001b[0mrcount\u001b[0m \u001b[0;34m=\u001b[0m \u001b[0m_count_reduce_items\u001b[0m\u001b[0;34m(\u001b[0m\u001b[0marr\u001b[0m\u001b[0;34m,\u001b[0m \u001b[0maxis\u001b[0m\u001b[0;34m)\u001b[0m\u001b[0;34m\u001b[0m\u001b[0m\n\u001b[0m\u001b[1;32m     57\u001b[0m     \u001b[0;31m# Make this warning show up first\u001b[0m\u001b[0;34m\u001b[0m\u001b[0;34m\u001b[0m\u001b[0m\n\u001b[1;32m     58\u001b[0m     \u001b[0;32mif\u001b[0m \u001b[0mrcount\u001b[0m \u001b[0;34m==\u001b[0m \u001b[0;36m0\u001b[0m\u001b[0;34m:\u001b[0m\u001b[0;34m\u001b[0m\u001b[0m\n",
      "\u001b[0;32m/home/osboxes/Documents/TDS/venv/local/lib/python2.7/site-packages/numpy/core/_methods.pyc\u001b[0m in \u001b[0;36m_count_reduce_items\u001b[0;34m(arr, axis)\u001b[0m\n\u001b[1;32m     43\u001b[0m \u001b[0;32mdef\u001b[0m \u001b[0m_count_reduce_items\u001b[0m\u001b[0;34m(\u001b[0m\u001b[0marr\u001b[0m\u001b[0;34m,\u001b[0m \u001b[0maxis\u001b[0m\u001b[0;34m)\u001b[0m\u001b[0;34m:\u001b[0m\u001b[0;34m\u001b[0m\u001b[0m\n\u001b[1;32m     44\u001b[0m     \u001b[0;32mif\u001b[0m \u001b[0maxis\u001b[0m \u001b[0;32mis\u001b[0m \u001b[0mNone\u001b[0m\u001b[0;34m:\u001b[0m\u001b[0;34m\u001b[0m\u001b[0m\n\u001b[0;32m---> 45\u001b[0;31m         \u001b[0maxis\u001b[0m \u001b[0;34m=\u001b[0m \u001b[0mtuple\u001b[0m\u001b[0;34m(\u001b[0m\u001b[0mrange\u001b[0m\u001b[0;34m(\u001b[0m\u001b[0marr\u001b[0m\u001b[0;34m.\u001b[0m\u001b[0mndim\u001b[0m\u001b[0;34m)\u001b[0m\u001b[0;34m)\u001b[0m\u001b[0;34m\u001b[0m\u001b[0m\n\u001b[0m\u001b[1;32m     46\u001b[0m     \u001b[0;32mif\u001b[0m \u001b[0;32mnot\u001b[0m \u001b[0misinstance\u001b[0m\u001b[0;34m(\u001b[0m\u001b[0maxis\u001b[0m\u001b[0;34m,\u001b[0m \u001b[0mtuple\u001b[0m\u001b[0;34m)\u001b[0m\u001b[0;34m:\u001b[0m\u001b[0;34m\u001b[0m\u001b[0m\n\u001b[1;32m     47\u001b[0m         \u001b[0maxis\u001b[0m \u001b[0;34m=\u001b[0m \u001b[0;34m(\u001b[0m\u001b[0maxis\u001b[0m\u001b[0;34m,\u001b[0m\u001b[0;34m)\u001b[0m\u001b[0;34m\u001b[0m\u001b[0m\n",
      "\u001b[0;31mKeyboardInterrupt\u001b[0m: "
     ]
    }
   ],
   "source": [
    "gifts_to_remove = 2\n",
    "empty_state = tuple([tuple([0]*n_types)]*n_bags)\n",
    "state=(total_state[-1],) if len(total_state) > 0 else empty_state\n",
    "\n",
    "while n_bags * counter < total_n_bags:\n",
    "    \n",
    "    print(\"Filled bags : \", n_bags * counter, \"/\", total_n_bags)\n",
    "    p = SantasBagsProblem(initial=tuple(state),\n",
    "                          gift_types=gift_types, \n",
    "                          available_gifts=ag,\n",
    "                          max_weight=max_weight,    \n",
    "                          type_cost=type_cost,\n",
    "                          weight_fn=weight_fn,\n",
    "                          bag_weight_fn=bag_weight,\n",
    "                          goal_score=goal_score)\n",
    "    tic = time()\n",
    "    result = astar_search(p, final_heuristic_fn, verbose=True)\n",
    "    if result is not None:\n",
    "        print(\"- Got a result\")\n",
    "        update_available_gifts(ag, result.state)\n",
    "        if len(found_goal_states) == 0 or found_goal_states[-1] != result.state:\n",
    "            found_goal_states.append(result.state)\n",
    "        total_state += result.state\n",
    "        counter += 1\n",
    "        state=(total_state[-1],)\n",
    "    else:\n",
    "        print(\"-- Result is none | len(found_goal_states)=\", len(found_goal_states))\n",
    "        if len(found_goal_states) > 0:\n",
    "            state=found_goal_states.pop()\n",
    "            print(\"--- Restart from : \", state)\n",
    "        else:\n",
    "            if state != empty_state:\n",
    "                state=remove_gifts(state)\n",
    "            else:\n",
    "                alpha -= 0.05\n",
    "                goal_score = n_bags*max_weight*alpha\n",
    "                print(\">>> Goal score changed: \", goal_score)    \n",
    "        \n",
    "    if counter > 0 and (n_bags * counter % 20) == 0:\n",
    "        s = score(total_state)\n",
    "        print(\">>> Current score: \", s, s * (total_n_bags) / (n_bags * counter) )\n",
    "        \n",
    "    if counter > 0 and (n_bags * counter % 30) == 0:\n",
    "        print(\">>> Currently available gifts : \", [(k,ag[k]) for k in gift_types])\n",
    "        \n",
    "    print(\"- Elapsed: \", time() - tic)"
   ]
  },
  {
   "cell_type": "code",
   "execution_count": 500,
   "metadata": {
    "collapsed": false,
    "scrolled": true
   },
   "outputs": [
    {
     "data": {
      "text/plain": [
       "[('ball', 1078),\n",
       " ('bike', 500),\n",
       " ('blocks', 0),\n",
       " ('book', 867),\n",
       " ('coal', 166),\n",
       " ('doll', 664),\n",
       " ('gloves', 89),\n",
       " ('horse', 1000),\n",
       " ('train', 999)]"
      ]
     },
     "execution_count": 500,
     "metadata": {},
     "output_type": "execute_result"
    }
   ],
   "source": [
    "[(k,ag[k]) for k in gift_types]"
   ]
  },
  {
   "cell_type": "code",
   "execution_count": 246,
   "metadata": {
    "collapsed": false,
    "scrolled": true
   },
   "outputs": [
    {
     "data": {
      "text/plain": [
       "(0, [])"
      ]
     },
     "execution_count": 246,
     "metadata": {},
     "output_type": "execute_result"
    }
   ],
   "source": [
    "len(total_state), total_state"
   ]
  },
  {
   "cell_type": "code",
   "execution_count": 269,
   "metadata": {
    "collapsed": false
   },
   "outputs": [
    {
     "data": {
      "text/plain": [
       "(30920.446246334373, 35572.765198530171)"
      ]
     },
     "execution_count": 269,
     "metadata": {},
     "output_type": "execute_result"
    }
   ],
   "source": [
    "score(total_state), score(total_state) * (total_n_bags) / (n_bags * counter)"
   ]
  },
  {
   "cell_type": "code",
   "execution_count": 888,
   "metadata": {
    "collapsed": false,
    "scrolled": true
   },
   "outputs": [],
   "source": [
    "def to_submission(state, available_gifts, gift_types):\n",
    "    n_gifts = [available_gifts[t] for t in gift_types]\n",
    "    output = []\n",
    "    for bag in state:\n",
    "        o = []\n",
    "        for index, count in enumerate(bag):   \n",
    "            gift_type = gift_types[index]\n",
    "            for i in range(count):\n",
    "                v = n_gifts[index] - 1\n",
    "                assert v >= 0, \"Gift index is negative\"\n",
    "                o.append(gift_type + '_%i' % v)\n",
    "                n_gifts[index] -= 1\n",
    "        output.append(o)  \n",
    "    return output\n",
    "        \n",
    "submission = to_submission(total_state, available_gifts, gift_types)\n",
    "# print(submission)"
   ]
  },
  {
   "cell_type": "code",
   "execution_count": 886,
   "metadata": {
    "collapsed": false
   },
   "outputs": [],
   "source": [
    "from datetime import datetime\n",
    "submission_file = '../results/submission_' + \\\n",
    "                  str(datetime.now().strftime(\"%Y-%m-%d-%H-%M\")) + \\\n",
    "                  '.csv'"
   ]
  },
  {
   "cell_type": "code",
   "execution_count": 887,
   "metadata": {
    "collapsed": false
   },
   "outputs": [],
   "source": [
    "def write_submission(state, filename):\n",
    "    with open(filename, 'w') as w:\n",
    "        w.write(\"Gifts\\n\")\n",
    "        for bag in state:\n",
    "            w.write(' '.join(bag) + '\\n')\n",
    "    \n",
    "write_submission(submission, submission_file)"
   ]
  },
  {
   "cell_type": "code",
   "execution_count": null,
   "metadata": {
    "collapsed": true
   },
   "outputs": [],
   "source": []
  }
 ],
 "metadata": {
  "kernelspec": {
   "display_name": "Python 2",
   "language": "python",
   "name": "python2"
  },
  "language_info": {
   "codemirror_mode": {
    "name": "ipython",
    "version": 2
   },
   "file_extension": ".py",
   "mimetype": "text/x-python",
   "name": "python",
   "nbconvert_exporter": "python",
   "pygments_lexer": "ipython2",
   "version": "2.7.12"
  }
 },
 "nbformat": 4,
 "nbformat_minor": 0
}
